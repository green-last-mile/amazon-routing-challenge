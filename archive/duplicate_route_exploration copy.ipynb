{
 "cells": [
  {
   "cell_type": "code",
   "execution_count": 1,
   "metadata": {},
   "outputs": [],
   "source": [
    "import sys\n",
    "import pathlib\n",
    "import os\n",
    "\n",
    "def find_root(path):\n",
    "    if os.path.split(path)[-1] != \"amazon-routing-challenge\":\n",
    "        return find_root(os.path.split(path)[0])\n",
    "    return path\n",
    "\n",
    "\n",
    "ROOT = find_root(pathlib.Path().absolute())\n",
    "sys.path.append(ROOT)\n"
   ]
  },
  {
   "cell_type": "code",
   "execution_count": 2,
   "metadata": {},
   "outputs": [],
   "source": [
    "\n",
    "import json\n",
    "import pandas as pd\n",
    "import plotly.graph_objects as go\n",
    "from dotenv import load_dotenv\n",
    "\n",
    "_ = load_dotenv()\n"
   ]
  },
  {
   "cell_type": "code",
   "execution_count": 3,
   "metadata": {},
   "outputs": [],
   "source": [
    "data_path = os.path.join(\n",
    "    ROOT,\n",
    "    \"data\",\n",
    "    \"almrrc2021-data-training\",\n",
    "    \"model_build_inputs\",\n",
    ")\n"
   ]
  },
  {
   "cell_type": "markdown",
   "metadata": {},
   "source": [
    "## Open the Package Data"
   ]
  },
  {
   "cell_type": "code",
   "execution_count": 4,
   "metadata": {},
   "outputs": [],
   "source": [
    "with open(os.path.join(data_path, \"package_data.json\"), 'r') as f:\n",
    "    package_data = json.load(f)"
   ]
  },
  {
   "cell_type": "markdown",
   "metadata": {},
   "source": [
    "## Create the Route DataFrame\n"
   ]
  },
  {
   "cell_type": "code",
   "execution_count": 5,
   "metadata": {},
   "outputs": [],
   "source": [
    "with open(os.path.join(data_path, \"route_data.json\"), \"r\") as f:\n",
    "    route_data = json.load(f)\n"
   ]
  },
  {
   "cell_type": "code",
   "execution_count": 6,
   "metadata": {},
   "outputs": [
    {
     "data": {
      "text/plain": [
       "6112"
      ]
     },
     "execution_count": 6,
     "metadata": {},
     "output_type": "execute_result"
    }
   ],
   "source": [
    "len(route_data)"
   ]
  },
  {
   "cell_type": "code",
   "execution_count": 7,
   "metadata": {},
   "outputs": [],
   "source": [
    "route_df = pd.DataFrame.from_records(\n",
    "    (\n",
    "        {\n",
    "            \"stop_id\": k,\n",
    "            \"route_id\": route_id,\n",
    "            \"station_code\": route_data[route_id][\"station_code\"],\n",
    "            \"departure_datetime\": route_data[route_id][\"date_YYYY_MM_DD\"] + \" \" + route_data[route_id][\"departure_time_utc\"],\n",
    "            \"executor_capacity_cm3\": route_data[route_id][\"executor_capacity_cm3\"],\n",
    "            \"route_score\": route_data[route_id][\"route_score\"],\n",
    "            **v,\n",
    "        }\n",
    "        for route_id in route_data.keys()\n",
    "        for k, v in route_data[route_id][\"stops\"].items()\n",
    "    )\n",
    ")\n"
   ]
  },
  {
   "cell_type": "markdown",
   "metadata": {},
   "source": [
    "## Open the Sequence Data"
   ]
  },
  {
   "cell_type": "code",
   "execution_count": 8,
   "metadata": {},
   "outputs": [],
   "source": [
    "with open(os.path.join(data_path, \"actual_sequences.json\"), \"r\") as f:\n",
    "    actual_sequences = json.load(f)"
   ]
  },
  {
   "cell_type": "code",
   "execution_count": 9,
   "metadata": {},
   "outputs": [],
   "source": [
    "# actual_sequences[\"RouteID_00143bdd-0a6b-49ec-bb35-36593d303e77\"]['actual']"
   ]
  },
  {
   "cell_type": "markdown",
   "metadata": {},
   "source": [
    "## Investigate the Stations\n"
   ]
  },
  {
   "cell_type": "code",
   "execution_count": 10,
   "metadata": {},
   "outputs": [
    {
     "data": {
      "text/plain": [
       "array(['DLA3', 'DSE4', 'DSE5', 'DLA9', 'DLA7', 'DCH4', 'DBO2', 'DBO3',\n",
       "       'DLA8', 'DLA5', 'DCH3', 'DCH1', 'DAU1', 'DCH2', 'DLA4', 'DSE2',\n",
       "       'DBO1'], dtype=object)"
      ]
     },
     "execution_count": 10,
     "metadata": {},
     "output_type": "execute_result"
    }
   ],
   "source": [
    "route_df[\"station_code\"].unique()\n"
   ]
  },
  {
   "cell_type": "markdown",
   "metadata": {},
   "source": [
    "## Number of Routes Missing Zone ID\n"
   ]
  },
  {
   "cell_type": "markdown",
   "metadata": {},
   "source": [
    "All papers (except 1) solve by replacing missing Zone ID with euclidean distance nearest zone id\n"
   ]
  },
  {
   "cell_type": "code",
   "execution_count": 11,
   "metadata": {},
   "outputs": [
    {
     "data": {
      "text/plain": [
       "4484"
      ]
     },
     "execution_count": 11,
     "metadata": {},
     "output_type": "execute_result"
    }
   ],
   "source": [
    "bad_routes = route_df.loc[\n",
    "    ((route_df.zone_id.isna()) & (route_df.type != \"Station\"))\n",
    "    | (route_df.lat.isna() | route_df.lng.isna())\n",
    "    | (route_df.route_score != \"High\")\n",
    "].route_id.unique()\n",
    "len(bad_routes)\n"
   ]
  },
  {
   "cell_type": "code",
   "execution_count": 12,
   "metadata": {},
   "outputs": [
    {
     "data": {
      "text/plain": [
       "1628"
      ]
     },
     "execution_count": 12,
     "metadata": {},
     "output_type": "execute_result"
    }
   ],
   "source": [
    "good_route_df = route_df.loc[~route_df.route_id.isin(bad_routes)].copy()\n",
    "len(good_route_df.route_id.unique())"
   ]
  },
  {
   "cell_type": "code",
   "execution_count": 13,
   "metadata": {},
   "outputs": [
    {
     "data": {
      "text/html": [
       "<div>\n",
       "<style scoped>\n",
       "    .dataframe tbody tr th:only-of-type {\n",
       "        vertical-align: middle;\n",
       "    }\n",
       "\n",
       "    .dataframe tbody tr th {\n",
       "        vertical-align: top;\n",
       "    }\n",
       "\n",
       "    .dataframe thead th {\n",
       "        text-align: right;\n",
       "    }\n",
       "</style>\n",
       "<table border=\"1\" class=\"dataframe\">\n",
       "  <thead>\n",
       "    <tr style=\"text-align: right;\">\n",
       "      <th></th>\n",
       "      <th></th>\n",
       "      <th>route_id</th>\n",
       "    </tr>\n",
       "    <tr>\n",
       "      <th>lat</th>\n",
       "      <th>lng</th>\n",
       "      <th></th>\n",
       "    </tr>\n",
       "  </thead>\n",
       "  <tbody>\n",
       "    <tr>\n",
       "      <th>30.129045</th>\n",
       "      <th>-97.967559</th>\n",
       "      <td>1</td>\n",
       "    </tr>\n",
       "    <tr>\n",
       "      <th>30.129676</th>\n",
       "      <th>-97.963750</th>\n",
       "      <td>1</td>\n",
       "    </tr>\n",
       "    <tr>\n",
       "      <th>30.130242</th>\n",
       "      <th>-97.956682</th>\n",
       "      <td>1</td>\n",
       "    </tr>\n",
       "    <tr>\n",
       "      <th>30.130253</th>\n",
       "      <th>-97.956702</th>\n",
       "      <td>1</td>\n",
       "    </tr>\n",
       "    <tr>\n",
       "      <th>30.131237</th>\n",
       "      <th>-97.970785</th>\n",
       "      <td>1</td>\n",
       "    </tr>\n",
       "  </tbody>\n",
       "</table>\n",
       "</div>"
      ],
      "text/plain": [
       "                      route_id\n",
       "lat       lng                 \n",
       "30.129045 -97.967559         1\n",
       "30.129676 -97.963750         1\n",
       "30.130242 -97.956682         1\n",
       "30.130253 -97.956702         1\n",
       "30.131237 -97.970785         1"
      ]
     },
     "execution_count": 13,
     "metadata": {},
     "output_type": "execute_result"
    }
   ],
   "source": [
    "_dup_stops = good_route_df.groupby([\"lat\", \"lng\"]).agg({\"route_id\": \"nunique\"})\n",
    "_dup_stops.head()"
   ]
  },
  {
   "cell_type": "code",
   "execution_count": 14,
   "metadata": {},
   "outputs": [
    {
     "data": {
      "text/html": [
       "<div>\n",
       "<style scoped>\n",
       "    .dataframe tbody tr th:only-of-type {\n",
       "        vertical-align: middle;\n",
       "    }\n",
       "\n",
       "    .dataframe tbody tr th {\n",
       "        vertical-align: top;\n",
       "    }\n",
       "\n",
       "    .dataframe thead th {\n",
       "        text-align: right;\n",
       "    }\n",
       "</style>\n",
       "<table border=\"1\" class=\"dataframe\">\n",
       "  <thead>\n",
       "    <tr style=\"text-align: right;\">\n",
       "      <th></th>\n",
       "      <th></th>\n",
       "      <th>route_id</th>\n",
       "    </tr>\n",
       "    <tr>\n",
       "      <th>lat</th>\n",
       "      <th>lng</th>\n",
       "      <th></th>\n",
       "    </tr>\n",
       "  </thead>\n",
       "  <tbody>\n",
       "    <tr>\n",
       "      <th>30.136697</th>\n",
       "      <th>-97.960858</th>\n",
       "      <td>2</td>\n",
       "    </tr>\n",
       "    <tr>\n",
       "      <th>30.152007</th>\n",
       "      <th>-97.950174</th>\n",
       "      <td>2</td>\n",
       "    </tr>\n",
       "    <tr>\n",
       "      <th>30.152088</th>\n",
       "      <th>-97.938182</th>\n",
       "      <td>2</td>\n",
       "    </tr>\n",
       "    <tr>\n",
       "      <th>30.152178</th>\n",
       "      <th>-97.935603</th>\n",
       "      <td>2</td>\n",
       "    </tr>\n",
       "    <tr>\n",
       "      <th>30.152222</th>\n",
       "      <th>-97.943326</th>\n",
       "      <td>2</td>\n",
       "    </tr>\n",
       "    <tr>\n",
       "      <th>...</th>\n",
       "      <th>...</th>\n",
       "      <td>...</td>\n",
       "    </tr>\n",
       "    <tr>\n",
       "      <th>47.952122</th>\n",
       "      <th>-122.232850</th>\n",
       "      <td>2</td>\n",
       "    </tr>\n",
       "    <tr>\n",
       "      <th>47.954786</th>\n",
       "      <th>-122.229638</th>\n",
       "      <td>2</td>\n",
       "    </tr>\n",
       "    <tr>\n",
       "      <th>47.956335</th>\n",
       "      <th>-122.233446</th>\n",
       "      <td>2</td>\n",
       "    </tr>\n",
       "    <tr>\n",
       "      <th>47.956545</th>\n",
       "      <th>-122.235289</th>\n",
       "      <td>2</td>\n",
       "    </tr>\n",
       "    <tr>\n",
       "      <th>47.968105</th>\n",
       "      <th>-122.231067</th>\n",
       "      <td>2</td>\n",
       "    </tr>\n",
       "  </tbody>\n",
       "</table>\n",
       "<p>16130 rows × 1 columns</p>\n",
       "</div>"
      ],
      "text/plain": [
       "                       route_id\n",
       "lat       lng                  \n",
       "30.136697 -97.960858          2\n",
       "30.152007 -97.950174          2\n",
       "30.152088 -97.938182          2\n",
       "30.152178 -97.935603          2\n",
       "30.152222 -97.943326          2\n",
       "...                         ...\n",
       "47.952122 -122.232850         2\n",
       "47.954786 -122.229638         2\n",
       "47.956335 -122.233446         2\n",
       "47.956545 -122.235289         2\n",
       "47.968105 -122.231067         2\n",
       "\n",
       "[16130 rows x 1 columns]"
      ]
     },
     "execution_count": 14,
     "metadata": {},
     "output_type": "execute_result"
    }
   ],
   "source": [
    "_dup_stops.loc[(_dup_stops.route_id > 1)]"
   ]
  },
  {
   "cell_type": "markdown",
   "metadata": {},
   "source": [
    "### Calculate the Datetime Specifics"
   ]
  },
  {
   "cell_type": "code",
   "execution_count": 15,
   "metadata": {},
   "outputs": [
    {
     "data": {
      "text/plain": [
       "(Timestamp('2018-07-19 14:53:32'), Timestamp('2018-08-26 16:14:30'))"
      ]
     },
     "execution_count": 15,
     "metadata": {},
     "output_type": "execute_result"
    }
   ],
   "source": [
    "good_route_df.departure_datetime = pd.to_datetime(good_route_df.departure_datetime)\n",
    "# good_route_df.sort_values(by=\"departure_datetime\", inplace=True)\n",
    "good_route_df.departure_datetime.min(), good_route_df.departure_datetime.max()"
   ]
  },
  {
   "cell_type": "markdown",
   "metadata": {},
   "source": [
    "### Plotting where the Stations are at\n"
   ]
  },
  {
   "cell_type": "code",
   "execution_count": 16,
   "metadata": {},
   "outputs": [
    {
     "data": {
      "application/vnd.plotly.v1+json": {
       "config": {
        "plotlyServerURL": "https://plot.ly"
       },
       "data": [
        {
         "lat": [
          34.00736899999999
         ],
         "lon": [
          -118.14392700000003
         ],
         "marker": {
          "size": 10
         },
         "mode": "markers",
         "name": "DLA3",
         "text": [
          "DLA3",
          "DLA3",
          "DLA3",
          "DLA3",
          "DLA3",
          "DLA3",
          "DLA3",
          "DLA3",
          "DLA3",
          "DLA3",
          "DLA3",
          "DLA3",
          "DLA3",
          "DLA3",
          "DLA3",
          "DLA3",
          "DLA3",
          "DLA3",
          "DLA3",
          "DLA3",
          "DLA3",
          "DLA3",
          "DLA3",
          "DLA3",
          "DLA3",
          "DLA3",
          "DLA3",
          "DLA3",
          "DLA3",
          "DLA3",
          "DLA3",
          "DLA3",
          "DLA3",
          "DLA3",
          "DLA3",
          "DLA3",
          "DLA3",
          "DLA3",
          "DLA3",
          "DLA3",
          "DLA3",
          "DLA3",
          "DLA3",
          "DLA3",
          "DLA3",
          "DLA3",
          "DLA3",
          "DLA3",
          "DLA3",
          "DLA3",
          "DLA3",
          "DLA3",
          "DLA3",
          "DLA3",
          "DLA3",
          "DLA3",
          "DLA3",
          "DLA3",
          "DLA3",
          "DLA3",
          "DLA3",
          "DLA3",
          "DLA3",
          "DLA3",
          "DLA3",
          "DLA3",
          "DLA3",
          "DLA3",
          "DLA3",
          "DLA3",
          "DLA3",
          "DLA3",
          "DLA3",
          "DLA3",
          "DLA3",
          "DLA3",
          "DLA3",
          "DLA3",
          "DLA3",
          "DLA3",
          "DLA3",
          "DLA3",
          "DLA3",
          "DLA3",
          "DLA3",
          "DLA3",
          "DLA3",
          "DLA3",
          "DLA3",
          "DLA3",
          "DLA3",
          "DLA3",
          "DLA3",
          "DLA3",
          "DLA3",
          "DLA3",
          "DLA3",
          "DLA3",
          "DLA3",
          "DLA3",
          "DLA3",
          "DLA3",
          "DLA3",
          "DLA3",
          "DLA3",
          "DLA3",
          "DLA3",
          "DLA3",
          "DLA3",
          "DLA3",
          "DLA3",
          "DLA3",
          "DLA3",
          "DLA3",
          "DLA3",
          "DLA3",
          "DLA3",
          "DLA3",
          "DLA3",
          "DLA3"
         ],
         "textfont": {
          "family": "sans serif",
          "size": 22
         },
         "type": "scattermapbox"
        },
        {
         "lat": [
          47.937343999999996
         ],
         "lon": [
          -122.24495199999998
         ],
         "marker": {
          "size": 10
         },
         "mode": "markers",
         "name": "DSE4",
         "text": [
          "DSE4",
          "DSE4",
          "DSE4",
          "DSE4",
          "DSE4",
          "DSE4",
          "DSE4",
          "DSE4",
          "DSE4",
          "DSE4",
          "DSE4",
          "DSE4",
          "DSE4",
          "DSE4",
          "DSE4",
          "DSE4",
          "DSE4",
          "DSE4",
          "DSE4",
          "DSE4",
          "DSE4",
          "DSE4",
          "DSE4",
          "DSE4",
          "DSE4",
          "DSE4",
          "DSE4",
          "DSE4",
          "DSE4",
          "DSE4",
          "DSE4",
          "DSE4",
          "DSE4",
          "DSE4",
          "DSE4",
          "DSE4",
          "DSE4",
          "DSE4",
          "DSE4",
          "DSE4",
          "DSE4",
          "DSE4",
          "DSE4",
          "DSE4",
          "DSE4",
          "DSE4",
          "DSE4",
          "DSE4",
          "DSE4",
          "DSE4",
          "DSE4",
          "DSE4",
          "DSE4",
          "DSE4",
          "DSE4",
          "DSE4",
          "DSE4",
          "DSE4",
          "DSE4",
          "DSE4",
          "DSE4",
          "DSE4",
          "DSE4",
          "DSE4",
          "DSE4",
          "DSE4",
          "DSE4",
          "DSE4",
          "DSE4",
          "DSE4",
          "DSE4",
          "DSE4",
          "DSE4",
          "DSE4",
          "DSE4",
          "DSE4",
          "DSE4",
          "DSE4",
          "DSE4",
          "DSE4",
          "DSE4",
          "DSE4",
          "DSE4",
          "DSE4",
          "DSE4",
          "DSE4",
          "DSE4",
          "DSE4",
          "DSE4",
          "DSE4",
          "DSE4",
          "DSE4",
          "DSE4",
          "DSE4",
          "DSE4",
          "DSE4",
          "DSE4",
          "DSE4",
          "DSE4",
          "DSE4",
          "DSE4",
          "DSE4",
          "DSE4",
          "DSE4",
          "DSE4",
          "DSE4",
          "DSE4",
          "DSE4",
          "DSE4",
          "DSE4",
          "DSE4",
          "DSE4",
          "DSE4",
          "DSE4",
          "DSE4",
          "DSE4",
          "DSE4",
          "DSE4",
          "DSE4",
          "DSE4",
          "DSE4",
          "DSE4",
          "DSE4",
          "DSE4",
          "DSE4",
          "DSE4",
          "DSE4",
          "DSE4",
          "DSE4",
          "DSE4",
          "DSE4",
          "DSE4",
          "DSE4",
          "DSE4",
          "DSE4",
          "DSE4",
          "DSE4",
          "DSE4",
          "DSE4",
          "DSE4",
          "DSE4",
          "DSE4",
          "DSE4",
          "DSE4",
          "DSE4",
          "DSE4",
          "DSE4",
          "DSE4",
          "DSE4",
          "DSE4",
          "DSE4",
          "DSE4"
         ],
         "textfont": {
          "family": "sans serif",
          "size": 22
         },
         "type": "scattermapbox"
        },
        {
         "lat": [
          47.46494499999997
         ],
         "lon": [
          -122.23107300000002
         ],
         "marker": {
          "size": 10
         },
         "mode": "markers",
         "name": "DSE5",
         "text": [
          "DSE5",
          "DSE5",
          "DSE5",
          "DSE5",
          "DSE5",
          "DSE5",
          "DSE5",
          "DSE5",
          "DSE5",
          "DSE5",
          "DSE5",
          "DSE5",
          "DSE5",
          "DSE5",
          "DSE5",
          "DSE5",
          "DSE5",
          "DSE5",
          "DSE5",
          "DSE5",
          "DSE5",
          "DSE5",
          "DSE5",
          "DSE5",
          "DSE5",
          "DSE5",
          "DSE5",
          "DSE5",
          "DSE5",
          "DSE5",
          "DSE5",
          "DSE5",
          "DSE5",
          "DSE5",
          "DSE5",
          "DSE5",
          "DSE5",
          "DSE5",
          "DSE5",
          "DSE5",
          "DSE5",
          "DSE5",
          "DSE5",
          "DSE5",
          "DSE5",
          "DSE5",
          "DSE5",
          "DSE5",
          "DSE5",
          "DSE5",
          "DSE5",
          "DSE5",
          "DSE5",
          "DSE5",
          "DSE5",
          "DSE5",
          "DSE5",
          "DSE5",
          "DSE5",
          "DSE5",
          "DSE5",
          "DSE5",
          "DSE5",
          "DSE5",
          "DSE5",
          "DSE5",
          "DSE5",
          "DSE5",
          "DSE5",
          "DSE5",
          "DSE5",
          "DSE5",
          "DSE5",
          "DSE5",
          "DSE5",
          "DSE5",
          "DSE5",
          "DSE5",
          "DSE5",
          "DSE5",
          "DSE5",
          "DSE5",
          "DSE5",
          "DSE5",
          "DSE5",
          "DSE5",
          "DSE5",
          "DSE5",
          "DSE5",
          "DSE5",
          "DSE5",
          "DSE5",
          "DSE5",
          "DSE5",
          "DSE5",
          "DSE5",
          "DSE5",
          "DSE5",
          "DSE5",
          "DSE5",
          "DSE5",
          "DSE5",
          "DSE5",
          "DSE5",
          "DSE5",
          "DSE5",
          "DSE5",
          "DSE5",
          "DSE5",
          "DSE5",
          "DSE5",
          "DSE5",
          "DSE5",
          "DSE5",
          "DSE5",
          "DSE5",
          "DSE5",
          "DSE5",
          "DSE5",
          "DSE5",
          "DSE5",
          "DSE5",
          "DSE5",
          "DSE5",
          "DSE5",
          "DSE5",
          "DSE5"
         ],
         "textfont": {
          "family": "sans serif",
          "size": 22
         },
         "type": "scattermapbox"
        },
        {
         "lat": [
          33.688122
         ],
         "lon": [
          -117.84717800000001
         ],
         "marker": {
          "size": 10
         },
         "mode": "markers",
         "name": "DLA9",
         "text": [
          "DLA9",
          "DLA9",
          "DLA9",
          "DLA9",
          "DLA9",
          "DLA9",
          "DLA9",
          "DLA9",
          "DLA9",
          "DLA9",
          "DLA9",
          "DLA9",
          "DLA9",
          "DLA9",
          "DLA9",
          "DLA9",
          "DLA9",
          "DLA9",
          "DLA9",
          "DLA9",
          "DLA9",
          "DLA9",
          "DLA9",
          "DLA9",
          "DLA9",
          "DLA9",
          "DLA9",
          "DLA9",
          "DLA9",
          "DLA9",
          "DLA9",
          "DLA9",
          "DLA9",
          "DLA9",
          "DLA9",
          "DLA9",
          "DLA9",
          "DLA9",
          "DLA9",
          "DLA9",
          "DLA9",
          "DLA9",
          "DLA9",
          "DLA9",
          "DLA9",
          "DLA9",
          "DLA9",
          "DLA9",
          "DLA9",
          "DLA9",
          "DLA9",
          "DLA9",
          "DLA9",
          "DLA9",
          "DLA9",
          "DLA9",
          "DLA9",
          "DLA9",
          "DLA9",
          "DLA9",
          "DLA9",
          "DLA9",
          "DLA9",
          "DLA9",
          "DLA9",
          "DLA9",
          "DLA9",
          "DLA9",
          "DLA9",
          "DLA9",
          "DLA9",
          "DLA9",
          "DLA9",
          "DLA9",
          "DLA9",
          "DLA9",
          "DLA9",
          "DLA9",
          "DLA9",
          "DLA9",
          "DLA9",
          "DLA9",
          "DLA9",
          "DLA9",
          "DLA9",
          "DLA9",
          "DLA9",
          "DLA9",
          "DLA9",
          "DLA9",
          "DLA9",
          "DLA9",
          "DLA9",
          "DLA9",
          "DLA9",
          "DLA9",
          "DLA9",
          "DLA9",
          "DLA9",
          "DLA9",
          "DLA9",
          "DLA9",
          "DLA9",
          "DLA9",
          "DLA9",
          "DLA9",
          "DLA9",
          "DLA9",
          "DLA9",
          "DLA9",
          "DLA9",
          "DLA9",
          "DLA9",
          "DLA9",
          "DLA9",
          "DLA9",
          "DLA9",
          "DLA9",
          "DLA9",
          "DLA9",
          "DLA9",
          "DLA9",
          "DLA9",
          "DLA9",
          "DLA9",
          "DLA9",
          "DLA9",
          "DLA9",
          "DLA9",
          "DLA9",
          "DLA9",
          "DLA9",
          "DLA9",
          "DLA9",
          "DLA9",
          "DLA9",
          "DLA9",
          "DLA9",
          "DLA9",
          "DLA9",
          "DLA9",
          "DLA9",
          "DLA9",
          "DLA9",
          "DLA9",
          "DLA9",
          "DLA9",
          "DLA9",
          "DLA9",
          "DLA9",
          "DLA9",
          "DLA9",
          "DLA9",
          "DLA9",
          "DLA9",
          "DLA9",
          "DLA9",
          "DLA9",
          "DLA9",
          "DLA9",
          "DLA9",
          "DLA9",
          "DLA9",
          "DLA9",
          "DLA9",
          "DLA9",
          "DLA9",
          "DLA9",
          "DLA9",
          "DLA9",
          "DLA9",
          "DLA9",
          "DLA9",
          "DLA9",
          "DLA9",
          "DLA9",
          "DLA9",
          "DLA9",
          "DLA9",
          "DLA9",
          "DLA9",
          "DLA9",
          "DLA9",
          "DLA9",
          "DLA9",
          "DLA9",
          "DLA9",
          "DLA9",
          "DLA9",
          "DLA9",
          "DLA9",
          "DLA9",
          "DLA9",
          "DLA9",
          "DLA9",
          "DLA9",
          "DLA9",
          "DLA9",
          "DLA9",
          "DLA9",
          "DLA9",
          "DLA9",
          "DLA9",
          "DLA9",
          "DLA9",
          "DLA9",
          "DLA9",
          "DLA9",
          "DLA9",
          "DLA9",
          "DLA9",
          "DLA9",
          "DLA9",
          "DLA9",
          "DLA9",
          "DLA9",
          "DLA9",
          "DLA9",
          "DLA9",
          "DLA9",
          "DLA9",
          "DLA9",
          "DLA9",
          "DLA9",
          "DLA9",
          "DLA9",
          "DLA9",
          "DLA9",
          "DLA9",
          "DLA9",
          "DLA9",
          "DLA9",
          "DLA9",
          "DLA9",
          "DLA9",
          "DLA9",
          "DLA9",
          "DLA9",
          "DLA9",
          "DLA9",
          "DLA9",
          "DLA9",
          "DLA9",
          "DLA9",
          "DLA9",
          "DLA9",
          "DLA9",
          "DLA9",
          "DLA9",
          "DLA9",
          "DLA9",
          "DLA9",
          "DLA9",
          "DLA9",
          "DLA9",
          "DLA9",
          "DLA9",
          "DLA9",
          "DLA9",
          "DLA9",
          "DLA9",
          "DLA9",
          "DLA9",
          "DLA9",
          "DLA9",
          "DLA9",
          "DLA9",
          "DLA9",
          "DLA9",
          "DLA9",
          "DLA9",
          "DLA9",
          "DLA9",
          "DLA9",
          "DLA9"
         ],
         "textfont": {
          "family": "sans serif",
          "size": 22
         },
         "type": "scattermapbox"
        },
        {
         "lat": [
          33.965477
         ],
         "lon": [
          -117.65330300000001
         ],
         "marker": {
          "size": 10
         },
         "mode": "markers",
         "name": "DLA7",
         "text": [
          "DLA7",
          "DLA7",
          "DLA7",
          "DLA7",
          "DLA7",
          "DLA7",
          "DLA7",
          "DLA7",
          "DLA7",
          "DLA7",
          "DLA7",
          "DLA7",
          "DLA7",
          "DLA7",
          "DLA7",
          "DLA7",
          "DLA7",
          "DLA7",
          "DLA7",
          "DLA7",
          "DLA7",
          "DLA7",
          "DLA7",
          "DLA7",
          "DLA7",
          "DLA7",
          "DLA7",
          "DLA7",
          "DLA7",
          "DLA7",
          "DLA7",
          "DLA7",
          "DLA7",
          "DLA7",
          "DLA7",
          "DLA7",
          "DLA7",
          "DLA7",
          "DLA7",
          "DLA7",
          "DLA7",
          "DLA7",
          "DLA7",
          "DLA7",
          "DLA7",
          "DLA7",
          "DLA7",
          "DLA7",
          "DLA7",
          "DLA7",
          "DLA7",
          "DLA7",
          "DLA7",
          "DLA7",
          "DLA7",
          "DLA7",
          "DLA7",
          "DLA7",
          "DLA7",
          "DLA7",
          "DLA7",
          "DLA7",
          "DLA7",
          "DLA7",
          "DLA7",
          "DLA7",
          "DLA7",
          "DLA7",
          "DLA7",
          "DLA7",
          "DLA7",
          "DLA7",
          "DLA7",
          "DLA7",
          "DLA7",
          "DLA7",
          "DLA7",
          "DLA7",
          "DLA7",
          "DLA7",
          "DLA7",
          "DLA7",
          "DLA7",
          "DLA7",
          "DLA7",
          "DLA7",
          "DLA7",
          "DLA7",
          "DLA7",
          "DLA7",
          "DLA7",
          "DLA7",
          "DLA7",
          "DLA7",
          "DLA7",
          "DLA7",
          "DLA7",
          "DLA7",
          "DLA7",
          "DLA7",
          "DLA7",
          "DLA7",
          "DLA7",
          "DLA7",
          "DLA7",
          "DLA7",
          "DLA7",
          "DLA7",
          "DLA7",
          "DLA7",
          "DLA7",
          "DLA7",
          "DLA7",
          "DLA7",
          "DLA7",
          "DLA7",
          "DLA7",
          "DLA7",
          "DLA7",
          "DLA7",
          "DLA7",
          "DLA7",
          "DLA7",
          "DLA7",
          "DLA7",
          "DLA7",
          "DLA7",
          "DLA7",
          "DLA7",
          "DLA7",
          "DLA7",
          "DLA7",
          "DLA7",
          "DLA7",
          "DLA7",
          "DLA7",
          "DLA7",
          "DLA7",
          "DLA7",
          "DLA7",
          "DLA7",
          "DLA7",
          "DLA7",
          "DLA7",
          "DLA7",
          "DLA7",
          "DLA7",
          "DLA7",
          "DLA7",
          "DLA7",
          "DLA7",
          "DLA7",
          "DLA7",
          "DLA7",
          "DLA7",
          "DLA7",
          "DLA7",
          "DLA7",
          "DLA7",
          "DLA7",
          "DLA7",
          "DLA7",
          "DLA7",
          "DLA7",
          "DLA7",
          "DLA7",
          "DLA7",
          "DLA7",
          "DLA7",
          "DLA7",
          "DLA7",
          "DLA7",
          "DLA7",
          "DLA7",
          "DLA7",
          "DLA7",
          "DLA7",
          "DLA7",
          "DLA7",
          "DLA7",
          "DLA7",
          "DLA7",
          "DLA7",
          "DLA7",
          "DLA7",
          "DLA7",
          "DLA7",
          "DLA7",
          "DLA7",
          "DLA7",
          "DLA7",
          "DLA7",
          "DLA7",
          "DLA7",
          "DLA7",
          "DLA7",
          "DLA7",
          "DLA7",
          "DLA7",
          "DLA7",
          "DLA7",
          "DLA7",
          "DLA7",
          "DLA7",
          "DLA7",
          "DLA7",
          "DLA7",
          "DLA7",
          "DLA7",
          "DLA7",
          "DLA7",
          "DLA7",
          "DLA7",
          "DLA7",
          "DLA7",
          "DLA7",
          "DLA7",
          "DLA7",
          "DLA7",
          "DLA7",
          "DLA7",
          "DLA7",
          "DLA7",
          "DLA7",
          "DLA7",
          "DLA7",
          "DLA7",
          "DLA7",
          "DLA7",
          "DLA7",
          "DLA7",
          "DLA7",
          "DLA7",
          "DLA7",
          "DLA7",
          "DLA7",
          "DLA7",
          "DLA7",
          "DLA7",
          "DLA7",
          "DLA7",
          "DLA7",
          "DLA7",
          "DLA7",
          "DLA7",
          "DLA7",
          "DLA7"
         ],
         "textfont": {
          "family": "sans serif",
          "size": 22
         },
         "type": "scattermapbox"
        },
        {
         "lat": [
          42.233353000000015
         ],
         "lon": [
          -71.14161700000004
         ],
         "marker": {
          "size": 10
         },
         "mode": "markers",
         "name": "DBO2",
         "text": [
          "DBO2",
          "DBO2",
          "DBO2",
          "DBO2",
          "DBO2",
          "DBO2",
          "DBO2",
          "DBO2",
          "DBO2",
          "DBO2",
          "DBO2",
          "DBO2",
          "DBO2",
          "DBO2",
          "DBO2",
          "DBO2",
          "DBO2",
          "DBO2",
          "DBO2",
          "DBO2",
          "DBO2",
          "DBO2",
          "DBO2",
          "DBO2",
          "DBO2",
          "DBO2",
          "DBO2",
          "DBO2",
          "DBO2",
          "DBO2",
          "DBO2",
          "DBO2",
          "DBO2",
          "DBO2",
          "DBO2",
          "DBO2",
          "DBO2",
          "DBO2"
         ],
         "textfont": {
          "family": "sans serif",
          "size": 22
         },
         "type": "scattermapbox"
        },
        {
         "lat": [
          34.23485000000001
         ],
         "lon": [
          -118.58421
         ],
         "marker": {
          "size": 10
         },
         "mode": "markers",
         "name": "DLA4",
         "text": [
          "DLA4",
          "DLA4",
          "DLA4",
          "DLA4",
          "DLA4",
          "DLA4",
          "DLA4",
          "DLA4",
          "DLA4",
          "DLA4",
          "DLA4",
          "DLA4",
          "DLA4",
          "DLA4",
          "DLA4",
          "DLA4",
          "DLA4",
          "DLA4",
          "DLA4",
          "DLA4",
          "DLA4",
          "DLA4",
          "DLA4",
          "DLA4",
          "DLA4",
          "DLA4",
          "DLA4",
          "DLA4",
          "DLA4",
          "DLA4",
          "DLA4",
          "DLA4",
          "DLA4",
          "DLA4",
          "DLA4",
          "DLA4",
          "DLA4",
          "DLA4",
          "DLA4",
          "DLA4",
          "DLA4",
          "DLA4",
          "DLA4",
          "DLA4",
          "DLA4",
          "DLA4",
          "DLA4"
         ],
         "textfont": {
          "family": "sans serif",
          "size": 22
         },
         "type": "scattermapbox"
        },
        {
         "lat": [
          33.918699
         ],
         "lon": [
          -118.324843
         ],
         "marker": {
          "size": 10
         },
         "mode": "markers",
         "name": "DLA8",
         "text": [
          "DLA8",
          "DLA8",
          "DLA8",
          "DLA8",
          "DLA8",
          "DLA8",
          "DLA8",
          "DLA8",
          "DLA8",
          "DLA8",
          "DLA8",
          "DLA8",
          "DLA8",
          "DLA8",
          "DLA8",
          "DLA8",
          "DLA8",
          "DLA8",
          "DLA8",
          "DLA8",
          "DLA8",
          "DLA8",
          "DLA8",
          "DLA8",
          "DLA8",
          "DLA8",
          "DLA8",
          "DLA8",
          "DLA8",
          "DLA8",
          "DLA8",
          "DLA8",
          "DLA8",
          "DLA8",
          "DLA8",
          "DLA8",
          "DLA8",
          "DLA8",
          "DLA8",
          "DLA8",
          "DLA8",
          "DLA8",
          "DLA8",
          "DLA8",
          "DLA8",
          "DLA8",
          "DLA8",
          "DLA8",
          "DLA8",
          "DLA8",
          "DLA8",
          "DLA8",
          "DLA8",
          "DLA8",
          "DLA8",
          "DLA8",
          "DLA8",
          "DLA8",
          "DLA8",
          "DLA8",
          "DLA8",
          "DLA8",
          "DLA8",
          "DLA8",
          "DLA8",
          "DLA8",
          "DLA8",
          "DLA8",
          "DLA8",
          "DLA8",
          "DLA8",
          "DLA8",
          "DLA8",
          "DLA8",
          "DLA8",
          "DLA8",
          "DLA8",
          "DLA8",
          "DLA8",
          "DLA8",
          "DLA8",
          "DLA8",
          "DLA8",
          "DLA8",
          "DLA8",
          "DLA8",
          "DLA8",
          "DLA8",
          "DLA8",
          "DLA8",
          "DLA8",
          "DLA8",
          "DLA8",
          "DLA8",
          "DLA8",
          "DLA8",
          "DLA8",
          "DLA8",
          "DLA8",
          "DLA8",
          "DLA8",
          "DLA8",
          "DLA8",
          "DLA8",
          "DLA8",
          "DLA8",
          "DLA8",
          "DLA8",
          "DLA8",
          "DLA8",
          "DLA8",
          "DLA8",
          "DLA8",
          "DLA8",
          "DLA8",
          "DLA8",
          "DLA8",
          "DLA8",
          "DLA8",
          "DLA8",
          "DLA8",
          "DLA8",
          "DLA8",
          "DLA8",
          "DLA8",
          "DLA8",
          "DLA8",
          "DLA8",
          "DLA8",
          "DLA8",
          "DLA8",
          "DLA8",
          "DLA8",
          "DLA8",
          "DLA8",
          "DLA8",
          "DLA8",
          "DLA8",
          "DLA8",
          "DLA8",
          "DLA8",
          "DLA8",
          "DLA8",
          "DLA8",
          "DLA8",
          "DLA8",
          "DLA8",
          "DLA8",
          "DLA8",
          "DLA8",
          "DLA8",
          "DLA8",
          "DLA8"
         ],
         "textfont": {
          "family": "sans serif",
          "size": 22
         },
         "type": "scattermapbox"
        },
        {
         "lat": [
          47.54217
         ],
         "lon": [
          -122.32804899999998
         ],
         "marker": {
          "size": 10
         },
         "mode": "markers",
         "name": "DSE2",
         "text": [
          "DSE2",
          "DSE2",
          "DSE2",
          "DSE2",
          "DSE2",
          "DSE2",
          "DSE2",
          "DSE2",
          "DSE2",
          "DSE2",
          "DSE2",
          "DSE2",
          "DSE2",
          "DSE2",
          "DSE2",
          "DSE2",
          "DSE2",
          "DSE2",
          "DSE2",
          "DSE2",
          "DSE2",
          "DSE2",
          "DSE2",
          "DSE2",
          "DSE2",
          "DSE2",
          "DSE2",
          "DSE2",
          "DSE2",
          "DSE2",
          "DSE2",
          "DSE2",
          "DSE2",
          "DSE2",
          "DSE2",
          "DSE2",
          "DSE2",
          "DSE2",
          "DSE2",
          "DSE2",
          "DSE2",
          "DSE2",
          "DSE2",
          "DSE2",
          "DSE2",
          "DSE2",
          "DSE2",
          "DSE2",
          "DSE2",
          "DSE2",
          "DSE2",
          "DSE2",
          "DSE2",
          "DSE2",
          "DSE2",
          "DSE2",
          "DSE2",
          "DSE2",
          "DSE2",
          "DSE2",
          "DSE2",
          "DSE2",
          "DSE2",
          "DSE2"
         ],
         "textfont": {
          "family": "sans serif",
          "size": 22
         },
         "type": "scattermapbox"
        },
        {
         "lat": [
          30.445235999999998
         ],
         "lon": [
          -97.70941800000003
         ],
         "marker": {
          "size": 10
         },
         "mode": "markers",
         "name": "DAU1",
         "text": [
          "DAU1",
          "DAU1",
          "DAU1",
          "DAU1",
          "DAU1",
          "DAU1",
          "DAU1",
          "DAU1",
          "DAU1",
          "DAU1",
          "DAU1",
          "DAU1",
          "DAU1",
          "DAU1",
          "DAU1",
          "DAU1",
          "DAU1",
          "DAU1",
          "DAU1",
          "DAU1",
          "DAU1",
          "DAU1",
          "DAU1",
          "DAU1",
          "DAU1",
          "DAU1",
          "DAU1",
          "DAU1",
          "DAU1",
          "DAU1",
          "DAU1",
          "DAU1",
          "DAU1",
          "DAU1",
          "DAU1",
          "DAU1",
          "DAU1",
          "DAU1",
          "DAU1",
          "DAU1",
          "DAU1",
          "DAU1",
          "DAU1",
          "DAU1",
          "DAU1",
          "DAU1",
          "DAU1",
          "DAU1",
          "DAU1",
          "DAU1",
          "DAU1",
          "DAU1",
          "DAU1",
          "DAU1",
          "DAU1",
          "DAU1",
          "DAU1",
          "DAU1",
          "DAU1",
          "DAU1",
          "DAU1",
          "DAU1",
          "DAU1",
          "DAU1",
          "DAU1",
          "DAU1"
         ],
         "textfont": {
          "family": "sans serif",
          "size": 22
         },
         "type": "scattermapbox"
        },
        {
         "lat": [
          41.840375
         ],
         "lon": [
          -87.68373599999998
         ],
         "marker": {
          "size": 10
         },
         "mode": "markers",
         "name": "DCH1",
         "text": [
          "DCH1",
          "DCH1",
          "DCH1",
          "DCH1",
          "DCH1",
          "DCH1",
          "DCH1",
          "DCH1",
          "DCH1",
          "DCH1",
          "DCH1",
          "DCH1",
          "DCH1",
          "DCH1",
          "DCH1",
          "DCH1",
          "DCH1",
          "DCH1",
          "DCH1",
          "DCH1",
          "DCH1",
          "DCH1",
          "DCH1",
          "DCH1",
          "DCH1",
          "DCH1",
          "DCH1",
          "DCH1",
          "DCH1",
          "DCH1",
          "DCH1",
          "DCH1",
          "DCH1",
          "DCH1",
          "DCH1",
          "DCH1",
          "DCH1",
          "DCH1",
          "DCH1",
          "DCH1",
          "DCH1",
          "DCH1",
          "DCH1",
          "DCH1",
          "DCH1",
          "DCH1",
          "DCH1",
          "DCH1",
          "DCH1",
          "DCH1",
          "DCH1",
          "DCH1",
          "DCH1",
          "DCH1",
          "DCH1",
          "DCH1"
         ],
         "textfont": {
          "family": "sans serif",
          "size": 22
         },
         "type": "scattermapbox"
        },
        {
         "lat": [
          42.254346000000005
         ],
         "lon": [
          -87.98569699999999
         ],
         "marker": {
          "size": 10
         },
         "mode": "markers",
         "name": "DCH4",
         "text": [
          "DCH4",
          "DCH4",
          "DCH4",
          "DCH4",
          "DCH4",
          "DCH4",
          "DCH4",
          "DCH4",
          "DCH4",
          "DCH4",
          "DCH4",
          "DCH4",
          "DCH4",
          "DCH4",
          "DCH4",
          "DCH4",
          "DCH4",
          "DCH4",
          "DCH4",
          "DCH4",
          "DCH4",
          "DCH4",
          "DCH4",
          "DCH4",
          "DCH4",
          "DCH4",
          "DCH4",
          "DCH4",
          "DCH4",
          "DCH4",
          "DCH4",
          "DCH4",
          "DCH4",
          "DCH4",
          "DCH4",
          "DCH4",
          "DCH4",
          "DCH4",
          "DCH4",
          "DCH4",
          "DCH4",
          "DCH4",
          "DCH4",
          "DCH4",
          "DCH4",
          "DCH4",
          "DCH4",
          "DCH4",
          "DCH4",
          "DCH4",
          "DCH4",
          "DCH4",
          "DCH4",
          "DCH4",
          "DCH4",
          "DCH4",
          "DCH4",
          "DCH4",
          "DCH4",
          "DCH4",
          "DCH4",
          "DCH4",
          "DCH4",
          "DCH4",
          "DCH4",
          "DCH4"
         ],
         "textfont": {
          "family": "sans serif",
          "size": 22
         },
         "type": "scattermapbox"
        },
        {
         "lat": [
          42.03136799999999
         ],
         "lon": [
          -87.77659599999998
         ],
         "marker": {
          "size": 10
         },
         "mode": "markers",
         "name": "DCH2",
         "text": [
          "DCH2",
          "DCH2",
          "DCH2",
          "DCH2",
          "DCH2",
          "DCH2",
          "DCH2",
          "DCH2",
          "DCH2",
          "DCH2",
          "DCH2",
          "DCH2",
          "DCH2",
          "DCH2",
          "DCH2",
          "DCH2",
          "DCH2",
          "DCH2",
          "DCH2",
          "DCH2",
          "DCH2",
          "DCH2",
          "DCH2",
          "DCH2",
          "DCH2",
          "DCH2",
          "DCH2",
          "DCH2",
          "DCH2",
          "DCH2",
          "DCH2",
          "DCH2",
          "DCH2",
          "DCH2",
          "DCH2",
          "DCH2",
          "DCH2",
          "DCH2",
          "DCH2",
          "DCH2",
          "DCH2",
          "DCH2",
          "DCH2",
          "DCH2",
          "DCH2",
          "DCH2",
          "DCH2",
          "DCH2",
          "DCH2",
          "DCH2",
          "DCH2",
          "DCH2"
         ],
         "textfont": {
          "family": "sans serif",
          "size": 22
         },
         "type": "scattermapbox"
        },
        {
         "lat": [
          42.39437499999999
         ],
         "lon": [
          -71.05555500000001
         ],
         "marker": {
          "size": 10
         },
         "mode": "markers",
         "name": "DBO1",
         "text": [
          "DBO1",
          "DBO1",
          "DBO1",
          "DBO1",
          "DBO1",
          "DBO1",
          "DBO1",
          "DBO1",
          "DBO1",
          "DBO1",
          "DBO1",
          "DBO1"
         ],
         "textfont": {
          "family": "sans serif",
          "size": 22
         },
         "type": "scattermapbox"
        },
        {
         "lat": [
          42.13989099999999
         ],
         "lon": [
          -71.49434600000001
         ],
         "marker": {
          "size": 10
         },
         "mode": "markers",
         "name": "DBO3",
         "text": [
          "DBO3",
          "DBO3",
          "DBO3",
          "DBO3",
          "DBO3",
          "DBO3",
          "DBO3",
          "DBO3",
          "DBO3",
          "DBO3",
          "DBO3",
          "DBO3",
          "DBO3",
          "DBO3",
          "DBO3",
          "DBO3",
          "DBO3",
          "DBO3",
          "DBO3",
          "DBO3",
          "DBO3",
          "DBO3",
          "DBO3",
          "DBO3",
          "DBO3",
          "DBO3",
          "DBO3",
          "DBO3",
          "DBO3",
          "DBO3",
          "DBO3",
          "DBO3",
          "DBO3",
          "DBO3",
          "DBO3",
          "DBO3",
          "DBO3",
          "DBO3",
          "DBO3",
          "DBO3",
          "DBO3",
          "DBO3",
          "DBO3",
          "DBO3",
          "DBO3",
          "DBO3",
          "DBO3",
          "DBO3",
          "DBO3",
          "DBO3",
          "DBO3",
          "DBO3",
          "DBO3",
          "DBO3",
          "DBO3",
          "DBO3",
          "DBO3",
          "DBO3",
          "DBO3",
          "DBO3",
          "DBO3",
          "DBO3",
          "DBO3",
          "DBO3",
          "DBO3",
          "DBO3"
         ],
         "textfont": {
          "family": "sans serif",
          "size": 22
         },
         "type": "scattermapbox"
        },
        {
         "lat": [
          41.80329499999999
         ],
         "lon": [
          -88.09725900000001
         ],
         "marker": {
          "size": 10
         },
         "mode": "markers",
         "name": "DCH3",
         "text": [
          "DCH3",
          "DCH3",
          "DCH3",
          "DCH3",
          "DCH3",
          "DCH3",
          "DCH3",
          "DCH3",
          "DCH3",
          "DCH3",
          "DCH3",
          "DCH3",
          "DCH3",
          "DCH3",
          "DCH3",
          "DCH3",
          "DCH3",
          "DCH3",
          "DCH3",
          "DCH3",
          "DCH3",
          "DCH3",
          "DCH3",
          "DCH3",
          "DCH3",
          "DCH3",
          "DCH3",
          "DCH3",
          "DCH3",
          "DCH3",
          "DCH3",
          "DCH3",
          "DCH3",
          "DCH3",
          "DCH3",
          "DCH3",
          "DCH3",
          "DCH3",
          "DCH3",
          "DCH3",
          "DCH3",
          "DCH3",
          "DCH3"
         ],
         "textfont": {
          "family": "sans serif",
          "size": 22
         },
         "type": "scattermapbox"
        },
        {
         "lat": [
          33.93786500000001
         ],
         "lon": [
          -117.29737999999999
         ],
         "marker": {
          "size": 10
         },
         "mode": "markers",
         "name": "DLA5",
         "text": [
          "DLA5",
          "DLA5",
          "DLA5",
          "DLA5",
          "DLA5",
          "DLA5",
          "DLA5",
          "DLA5",
          "DLA5",
          "DLA5",
          "DLA5",
          "DLA5",
          "DLA5",
          "DLA5",
          "DLA5",
          "DLA5",
          "DLA5",
          "DLA5",
          "DLA5",
          "DLA5",
          "DLA5",
          "DLA5",
          "DLA5",
          "DLA5",
          "DLA5",
          "DLA5",
          "DLA5",
          "DLA5",
          "DLA5",
          "DLA5",
          "DLA5",
          "DLA5",
          "DLA5",
          "DLA5",
          "DLA5",
          "DLA5",
          "DLA5",
          "DLA5",
          "DLA5",
          "DLA5",
          "DLA5",
          "DLA5",
          "DLA5",
          "DLA5"
         ],
         "textfont": {
          "family": "sans serif",
          "size": 22
         },
         "type": "scattermapbox"
        }
       ],
       "layout": {
        "height": 600,
        "hovermode": "closest",
        "mapbox": {
         "accesstoken": "pk.eyJ1IjoibWF4LXNjaHJhZGVyIiwiYSI6ImNrOHQxZ2s3bDAwdXQzbG81NjZpZm96bDEifQ.etUi4OK4ozzaP_P8foZn_A",
         "bearing": 0,
         "center": {
          "lat": 38.33103055405406,
          "lon": -110.69461645454545
         },
         "pitch": 0,
         "style": "mapbox://styles/max-schrader/ck8t1cmmc02wk1it9rv28iyte",
         "zoom": 2
        },
        "template": {
         "data": {
          "bar": [
           {
            "error_x": {
             "color": "#2a3f5f"
            },
            "error_y": {
             "color": "#2a3f5f"
            },
            "marker": {
             "line": {
              "color": "#E5ECF6",
              "width": 0.5
             },
             "pattern": {
              "fillmode": "overlay",
              "size": 10,
              "solidity": 0.2
             }
            },
            "type": "bar"
           }
          ],
          "barpolar": [
           {
            "marker": {
             "line": {
              "color": "#E5ECF6",
              "width": 0.5
             },
             "pattern": {
              "fillmode": "overlay",
              "size": 10,
              "solidity": 0.2
             }
            },
            "type": "barpolar"
           }
          ],
          "carpet": [
           {
            "aaxis": {
             "endlinecolor": "#2a3f5f",
             "gridcolor": "white",
             "linecolor": "white",
             "minorgridcolor": "white",
             "startlinecolor": "#2a3f5f"
            },
            "baxis": {
             "endlinecolor": "#2a3f5f",
             "gridcolor": "white",
             "linecolor": "white",
             "minorgridcolor": "white",
             "startlinecolor": "#2a3f5f"
            },
            "type": "carpet"
           }
          ],
          "choropleth": [
           {
            "colorbar": {
             "outlinewidth": 0,
             "ticks": ""
            },
            "type": "choropleth"
           }
          ],
          "contour": [
           {
            "colorbar": {
             "outlinewidth": 0,
             "ticks": ""
            },
            "colorscale": [
             [
              0,
              "#0d0887"
             ],
             [
              0.1111111111111111,
              "#46039f"
             ],
             [
              0.2222222222222222,
              "#7201a8"
             ],
             [
              0.3333333333333333,
              "#9c179e"
             ],
             [
              0.4444444444444444,
              "#bd3786"
             ],
             [
              0.5555555555555556,
              "#d8576b"
             ],
             [
              0.6666666666666666,
              "#ed7953"
             ],
             [
              0.7777777777777778,
              "#fb9f3a"
             ],
             [
              0.8888888888888888,
              "#fdca26"
             ],
             [
              1,
              "#f0f921"
             ]
            ],
            "type": "contour"
           }
          ],
          "contourcarpet": [
           {
            "colorbar": {
             "outlinewidth": 0,
             "ticks": ""
            },
            "type": "contourcarpet"
           }
          ],
          "heatmap": [
           {
            "colorbar": {
             "outlinewidth": 0,
             "ticks": ""
            },
            "colorscale": [
             [
              0,
              "#0d0887"
             ],
             [
              0.1111111111111111,
              "#46039f"
             ],
             [
              0.2222222222222222,
              "#7201a8"
             ],
             [
              0.3333333333333333,
              "#9c179e"
             ],
             [
              0.4444444444444444,
              "#bd3786"
             ],
             [
              0.5555555555555556,
              "#d8576b"
             ],
             [
              0.6666666666666666,
              "#ed7953"
             ],
             [
              0.7777777777777778,
              "#fb9f3a"
             ],
             [
              0.8888888888888888,
              "#fdca26"
             ],
             [
              1,
              "#f0f921"
             ]
            ],
            "type": "heatmap"
           }
          ],
          "heatmapgl": [
           {
            "colorbar": {
             "outlinewidth": 0,
             "ticks": ""
            },
            "colorscale": [
             [
              0,
              "#0d0887"
             ],
             [
              0.1111111111111111,
              "#46039f"
             ],
             [
              0.2222222222222222,
              "#7201a8"
             ],
             [
              0.3333333333333333,
              "#9c179e"
             ],
             [
              0.4444444444444444,
              "#bd3786"
             ],
             [
              0.5555555555555556,
              "#d8576b"
             ],
             [
              0.6666666666666666,
              "#ed7953"
             ],
             [
              0.7777777777777778,
              "#fb9f3a"
             ],
             [
              0.8888888888888888,
              "#fdca26"
             ],
             [
              1,
              "#f0f921"
             ]
            ],
            "type": "heatmapgl"
           }
          ],
          "histogram": [
           {
            "marker": {
             "pattern": {
              "fillmode": "overlay",
              "size": 10,
              "solidity": 0.2
             }
            },
            "type": "histogram"
           }
          ],
          "histogram2d": [
           {
            "colorbar": {
             "outlinewidth": 0,
             "ticks": ""
            },
            "colorscale": [
             [
              0,
              "#0d0887"
             ],
             [
              0.1111111111111111,
              "#46039f"
             ],
             [
              0.2222222222222222,
              "#7201a8"
             ],
             [
              0.3333333333333333,
              "#9c179e"
             ],
             [
              0.4444444444444444,
              "#bd3786"
             ],
             [
              0.5555555555555556,
              "#d8576b"
             ],
             [
              0.6666666666666666,
              "#ed7953"
             ],
             [
              0.7777777777777778,
              "#fb9f3a"
             ],
             [
              0.8888888888888888,
              "#fdca26"
             ],
             [
              1,
              "#f0f921"
             ]
            ],
            "type": "histogram2d"
           }
          ],
          "histogram2dcontour": [
           {
            "colorbar": {
             "outlinewidth": 0,
             "ticks": ""
            },
            "colorscale": [
             [
              0,
              "#0d0887"
             ],
             [
              0.1111111111111111,
              "#46039f"
             ],
             [
              0.2222222222222222,
              "#7201a8"
             ],
             [
              0.3333333333333333,
              "#9c179e"
             ],
             [
              0.4444444444444444,
              "#bd3786"
             ],
             [
              0.5555555555555556,
              "#d8576b"
             ],
             [
              0.6666666666666666,
              "#ed7953"
             ],
             [
              0.7777777777777778,
              "#fb9f3a"
             ],
             [
              0.8888888888888888,
              "#fdca26"
             ],
             [
              1,
              "#f0f921"
             ]
            ],
            "type": "histogram2dcontour"
           }
          ],
          "mesh3d": [
           {
            "colorbar": {
             "outlinewidth": 0,
             "ticks": ""
            },
            "type": "mesh3d"
           }
          ],
          "parcoords": [
           {
            "line": {
             "colorbar": {
              "outlinewidth": 0,
              "ticks": ""
             }
            },
            "type": "parcoords"
           }
          ],
          "pie": [
           {
            "automargin": true,
            "type": "pie"
           }
          ],
          "scatter": [
           {
            "fillpattern": {
             "fillmode": "overlay",
             "size": 10,
             "solidity": 0.2
            },
            "type": "scatter"
           }
          ],
          "scatter3d": [
           {
            "line": {
             "colorbar": {
              "outlinewidth": 0,
              "ticks": ""
             }
            },
            "marker": {
             "colorbar": {
              "outlinewidth": 0,
              "ticks": ""
             }
            },
            "type": "scatter3d"
           }
          ],
          "scattercarpet": [
           {
            "marker": {
             "colorbar": {
              "outlinewidth": 0,
              "ticks": ""
             }
            },
            "type": "scattercarpet"
           }
          ],
          "scattergeo": [
           {
            "marker": {
             "colorbar": {
              "outlinewidth": 0,
              "ticks": ""
             }
            },
            "type": "scattergeo"
           }
          ],
          "scattergl": [
           {
            "marker": {
             "colorbar": {
              "outlinewidth": 0,
              "ticks": ""
             }
            },
            "type": "scattergl"
           }
          ],
          "scattermapbox": [
           {
            "marker": {
             "colorbar": {
              "outlinewidth": 0,
              "ticks": ""
             }
            },
            "type": "scattermapbox"
           }
          ],
          "scatterpolar": [
           {
            "marker": {
             "colorbar": {
              "outlinewidth": 0,
              "ticks": ""
             }
            },
            "type": "scatterpolar"
           }
          ],
          "scatterpolargl": [
           {
            "marker": {
             "colorbar": {
              "outlinewidth": 0,
              "ticks": ""
             }
            },
            "type": "scatterpolargl"
           }
          ],
          "scatterternary": [
           {
            "marker": {
             "colorbar": {
              "outlinewidth": 0,
              "ticks": ""
             }
            },
            "type": "scatterternary"
           }
          ],
          "surface": [
           {
            "colorbar": {
             "outlinewidth": 0,
             "ticks": ""
            },
            "colorscale": [
             [
              0,
              "#0d0887"
             ],
             [
              0.1111111111111111,
              "#46039f"
             ],
             [
              0.2222222222222222,
              "#7201a8"
             ],
             [
              0.3333333333333333,
              "#9c179e"
             ],
             [
              0.4444444444444444,
              "#bd3786"
             ],
             [
              0.5555555555555556,
              "#d8576b"
             ],
             [
              0.6666666666666666,
              "#ed7953"
             ],
             [
              0.7777777777777778,
              "#fb9f3a"
             ],
             [
              0.8888888888888888,
              "#fdca26"
             ],
             [
              1,
              "#f0f921"
             ]
            ],
            "type": "surface"
           }
          ],
          "table": [
           {
            "cells": {
             "fill": {
              "color": "#EBF0F8"
             },
             "line": {
              "color": "white"
             }
            },
            "header": {
             "fill": {
              "color": "#C8D4E3"
             },
             "line": {
              "color": "white"
             }
            },
            "type": "table"
           }
          ]
         },
         "layout": {
          "annotationdefaults": {
           "arrowcolor": "#2a3f5f",
           "arrowhead": 0,
           "arrowwidth": 1
          },
          "autotypenumbers": "strict",
          "coloraxis": {
           "colorbar": {
            "outlinewidth": 0,
            "ticks": ""
           }
          },
          "colorscale": {
           "diverging": [
            [
             0,
             "#8e0152"
            ],
            [
             0.1,
             "#c51b7d"
            ],
            [
             0.2,
             "#de77ae"
            ],
            [
             0.3,
             "#f1b6da"
            ],
            [
             0.4,
             "#fde0ef"
            ],
            [
             0.5,
             "#f7f7f7"
            ],
            [
             0.6,
             "#e6f5d0"
            ],
            [
             0.7,
             "#b8e186"
            ],
            [
             0.8,
             "#7fbc41"
            ],
            [
             0.9,
             "#4d9221"
            ],
            [
             1,
             "#276419"
            ]
           ],
           "sequential": [
            [
             0,
             "#0d0887"
            ],
            [
             0.1111111111111111,
             "#46039f"
            ],
            [
             0.2222222222222222,
             "#7201a8"
            ],
            [
             0.3333333333333333,
             "#9c179e"
            ],
            [
             0.4444444444444444,
             "#bd3786"
            ],
            [
             0.5555555555555556,
             "#d8576b"
            ],
            [
             0.6666666666666666,
             "#ed7953"
            ],
            [
             0.7777777777777778,
             "#fb9f3a"
            ],
            [
             0.8888888888888888,
             "#fdca26"
            ],
            [
             1,
             "#f0f921"
            ]
           ],
           "sequentialminus": [
            [
             0,
             "#0d0887"
            ],
            [
             0.1111111111111111,
             "#46039f"
            ],
            [
             0.2222222222222222,
             "#7201a8"
            ],
            [
             0.3333333333333333,
             "#9c179e"
            ],
            [
             0.4444444444444444,
             "#bd3786"
            ],
            [
             0.5555555555555556,
             "#d8576b"
            ],
            [
             0.6666666666666666,
             "#ed7953"
            ],
            [
             0.7777777777777778,
             "#fb9f3a"
            ],
            [
             0.8888888888888888,
             "#fdca26"
            ],
            [
             1,
             "#f0f921"
            ]
           ]
          },
          "colorway": [
           "#636efa",
           "#EF553B",
           "#00cc96",
           "#ab63fa",
           "#FFA15A",
           "#19d3f3",
           "#FF6692",
           "#B6E880",
           "#FF97FF",
           "#FECB52"
          ],
          "font": {
           "color": "#2a3f5f"
          },
          "geo": {
           "bgcolor": "white",
           "lakecolor": "white",
           "landcolor": "#E5ECF6",
           "showlakes": true,
           "showland": true,
           "subunitcolor": "white"
          },
          "hoverlabel": {
           "align": "left"
          },
          "hovermode": "closest",
          "mapbox": {
           "style": "light"
          },
          "paper_bgcolor": "white",
          "plot_bgcolor": "#E5ECF6",
          "polar": {
           "angularaxis": {
            "gridcolor": "white",
            "linecolor": "white",
            "ticks": ""
           },
           "bgcolor": "#E5ECF6",
           "radialaxis": {
            "gridcolor": "white",
            "linecolor": "white",
            "ticks": ""
           }
          },
          "scene": {
           "xaxis": {
            "backgroundcolor": "#E5ECF6",
            "gridcolor": "white",
            "gridwidth": 2,
            "linecolor": "white",
            "showbackground": true,
            "ticks": "",
            "zerolinecolor": "white"
           },
           "yaxis": {
            "backgroundcolor": "#E5ECF6",
            "gridcolor": "white",
            "gridwidth": 2,
            "linecolor": "white",
            "showbackground": true,
            "ticks": "",
            "zerolinecolor": "white"
           },
           "zaxis": {
            "backgroundcolor": "#E5ECF6",
            "gridcolor": "white",
            "gridwidth": 2,
            "linecolor": "white",
            "showbackground": true,
            "ticks": "",
            "zerolinecolor": "white"
           }
          },
          "shapedefaults": {
           "line": {
            "color": "#2a3f5f"
           }
          },
          "ternary": {
           "aaxis": {
            "gridcolor": "white",
            "linecolor": "white",
            "ticks": ""
           },
           "baxis": {
            "gridcolor": "white",
            "linecolor": "white",
            "ticks": ""
           },
           "bgcolor": "#E5ECF6",
           "caxis": {
            "gridcolor": "white",
            "linecolor": "white",
            "ticks": ""
           }
          },
          "title": {
           "x": 0.05
          },
          "xaxis": {
           "automargin": true,
           "gridcolor": "white",
           "linecolor": "white",
           "ticks": "",
           "title": {
            "standoff": 15
           },
           "zerolinecolor": "white",
           "zerolinewidth": 2
          },
          "yaxis": {
           "automargin": true,
           "gridcolor": "white",
           "linecolor": "white",
           "ticks": "",
           "title": {
            "standoff": 15
           },
           "zerolinecolor": "white",
           "zerolinewidth": 2
          }
         }
        },
        "width": 1000
       }
      }
     },
     "metadata": {},
     "output_type": "display_data"
    }
   ],
   "source": [
    "fig = go.Figure()\n",
    "\n",
    "_filtered_df = good_route_df.loc[good_route_df[\"type\"] == \"Station\"]\n",
    "\n",
    "\n",
    "for station_code in _filtered_df[\"station_code\"].unique():\n",
    "    _df = _filtered_df.loc[_filtered_df[\"station_code\"] == station_code]\n",
    "    fig.add_trace(\n",
    "        go.Scattermapbox(\n",
    "            name=station_code,\n",
    "            lat=[_df[\"lat\"].mean()],\n",
    "            lon=[_df[\"lng\"].mean()],\n",
    "            mode=\"markers\",\n",
    "            marker=dict(\n",
    "                size=10,\n",
    "            ),\n",
    "            text=_df[\"station_code\"],\n",
    "            textfont=dict(\n",
    "                family=\"sans serif\",\n",
    "                size=22,\n",
    "            ),\n",
    "        )\n",
    "    )\n",
    "\n",
    "fig.update_layout(\n",
    "    # autosize=True,\n",
    "    height=600,\n",
    "    width=1000,\n",
    "    hovermode=\"closest\",\n",
    "    mapbox=go.layout.Mapbox(\n",
    "        accesstoken=os.environ[\"MAPBOX_KEY\"],\n",
    "        style=\"mapbox://styles/max-schrader/ck8t1cmmc02wk1it9rv28iyte\",\n",
    "        # style=\"mapbox://styles/max-schrader/cl6lhvrfw001516pkh3s6iv7l\",\n",
    "        bearing=0,\n",
    "        center=go.layout.mapbox.Center(\n",
    "            lat=_filtered_df[\"lat\"].mean(), lon=_filtered_df[\"lng\"].mean()\n",
    "        ),\n",
    "        pitch=0,\n",
    "        zoom=2,\n",
    "    ),\n",
    "    # margin=go.layout.Margin(l=0, r=0, t=0, b=0),\n",
    ")\n"
   ]
  },
  {
   "cell_type": "markdown",
   "metadata": {},
   "source": [
    "### Creating a Route ID to Station ID Dictionary"
   ]
  },
  {
   "cell_type": "code",
   "execution_count": 17,
   "metadata": {},
   "outputs": [],
   "source": [
    "station_route_id = dict(good_route_df.loc[good_route_df[\"type\"] == \"Station\"][[\"route_id\", \"stop_id\"]].values)"
   ]
  },
  {
   "cell_type": "markdown",
   "metadata": {},
   "source": [
    "## Investigating Duplicate Dropoffs\n"
   ]
  },
  {
   "cell_type": "code",
   "execution_count": 18,
   "metadata": {},
   "outputs": [],
   "source": [
    "good_route_df[\"duplicates\"] = good_route_df.duplicated(\n",
    "    subset=[\"lat\", \"lng\"], keep=False\n",
    ") \n"
   ]
  },
  {
   "cell_type": "code",
   "execution_count": 19,
   "metadata": {},
   "outputs": [],
   "source": [
    "good_route_df[\"duplicates\"] = good_route_df.duplicated(\n",
    "    subset=[\"lat\", \"lng\"], keep=False\n",
    ") #& (good_route_df.type != \"Station\")\n",
    "\n",
    "\n",
    "lat_lon_dup = good_route_df.loc[good_route_df.duplicates].groupby([\"lat\", \"lng\"])['route_id'].unique().reset_index()\n",
    "# lat_lon_dup.iloc[10].route_id"
   ]
  },
  {
   "cell_type": "code",
   "execution_count": 20,
   "metadata": {},
   "outputs": [],
   "source": [
    "lat_lon_dup.route_id = lat_lon_dup.route_id.apply(lambda x: tuple(x))"
   ]
  },
  {
   "cell_type": "code",
   "execution_count": 21,
   "metadata": {},
   "outputs": [
    {
     "data": {
      "text/html": [
       "<div>\n",
       "<style scoped>\n",
       "    .dataframe tbody tr th:only-of-type {\n",
       "        vertical-align: middle;\n",
       "    }\n",
       "\n",
       "    .dataframe tbody tr th {\n",
       "        vertical-align: top;\n",
       "    }\n",
       "\n",
       "    .dataframe thead th {\n",
       "        text-align: right;\n",
       "    }\n",
       "</style>\n",
       "<table border=\"1\" class=\"dataframe\">\n",
       "  <thead>\n",
       "    <tr style=\"text-align: right;\">\n",
       "      <th></th>\n",
       "      <th>lat</th>\n",
       "      <th>lng</th>\n",
       "      <th>route_id</th>\n",
       "    </tr>\n",
       "  </thead>\n",
       "  <tbody>\n",
       "    <tr>\n",
       "      <th>0</th>\n",
       "      <td>30.136697</td>\n",
       "      <td>-97.960858</td>\n",
       "      <td>(RouteID_5ab24a12-62bf-4b91-9b49-3be9c3509b7b,...</td>\n",
       "    </tr>\n",
       "    <tr>\n",
       "      <th>1</th>\n",
       "      <td>30.145343</td>\n",
       "      <td>-97.804156</td>\n",
       "      <td>(RouteID_5d3893c7-c410-486c-8f51-42f70942c376,)</td>\n",
       "    </tr>\n",
       "    <tr>\n",
       "      <th>2</th>\n",
       "      <td>30.152007</td>\n",
       "      <td>-97.950174</td>\n",
       "      <td>(RouteID_5ab24a12-62bf-4b91-9b49-3be9c3509b7b,...</td>\n",
       "    </tr>\n",
       "    <tr>\n",
       "      <th>3</th>\n",
       "      <td>30.152088</td>\n",
       "      <td>-97.938182</td>\n",
       "      <td>(RouteID_59f3a83d-63b5-42fe-a18e-9eb145ef1ca1,...</td>\n",
       "    </tr>\n",
       "    <tr>\n",
       "      <th>4</th>\n",
       "      <td>30.152178</td>\n",
       "      <td>-97.935603</td>\n",
       "      <td>(RouteID_59f3a83d-63b5-42fe-a18e-9eb145ef1ca1,...</td>\n",
       "    </tr>\n",
       "    <tr>\n",
       "      <th>...</th>\n",
       "      <td>...</td>\n",
       "      <td>...</td>\n",
       "      <td>...</td>\n",
       "    </tr>\n",
       "    <tr>\n",
       "      <th>16533</th>\n",
       "      <td>47.952122</td>\n",
       "      <td>-122.232850</td>\n",
       "      <td>(RouteID_09d597c9-ae5c-4fe8-8379-710bf99f3184,...</td>\n",
       "    </tr>\n",
       "    <tr>\n",
       "      <th>16534</th>\n",
       "      <td>47.954786</td>\n",
       "      <td>-122.229638</td>\n",
       "      <td>(RouteID_09d597c9-ae5c-4fe8-8379-710bf99f3184,...</td>\n",
       "    </tr>\n",
       "    <tr>\n",
       "      <th>16535</th>\n",
       "      <td>47.956335</td>\n",
       "      <td>-122.233446</td>\n",
       "      <td>(RouteID_09d597c9-ae5c-4fe8-8379-710bf99f3184,...</td>\n",
       "    </tr>\n",
       "    <tr>\n",
       "      <th>16536</th>\n",
       "      <td>47.956545</td>\n",
       "      <td>-122.235289</td>\n",
       "      <td>(RouteID_09d597c9-ae5c-4fe8-8379-710bf99f3184,...</td>\n",
       "    </tr>\n",
       "    <tr>\n",
       "      <th>16537</th>\n",
       "      <td>47.968105</td>\n",
       "      <td>-122.231067</td>\n",
       "      <td>(RouteID_09d597c9-ae5c-4fe8-8379-710bf99f3184,...</td>\n",
       "    </tr>\n",
       "  </tbody>\n",
       "</table>\n",
       "<p>16538 rows × 3 columns</p>\n",
       "</div>"
      ],
      "text/plain": [
       "             lat         lng  \\\n",
       "0      30.136697  -97.960858   \n",
       "1      30.145343  -97.804156   \n",
       "2      30.152007  -97.950174   \n",
       "3      30.152088  -97.938182   \n",
       "4      30.152178  -97.935603   \n",
       "...          ...         ...   \n",
       "16533  47.952122 -122.232850   \n",
       "16534  47.954786 -122.229638   \n",
       "16535  47.956335 -122.233446   \n",
       "16536  47.956545 -122.235289   \n",
       "16537  47.968105 -122.231067   \n",
       "\n",
       "                                                route_id  \n",
       "0      (RouteID_5ab24a12-62bf-4b91-9b49-3be9c3509b7b,...  \n",
       "1        (RouteID_5d3893c7-c410-486c-8f51-42f70942c376,)  \n",
       "2      (RouteID_5ab24a12-62bf-4b91-9b49-3be9c3509b7b,...  \n",
       "3      (RouteID_59f3a83d-63b5-42fe-a18e-9eb145ef1ca1,...  \n",
       "4      (RouteID_59f3a83d-63b5-42fe-a18e-9eb145ef1ca1,...  \n",
       "...                                                  ...  \n",
       "16533  (RouteID_09d597c9-ae5c-4fe8-8379-710bf99f3184,...  \n",
       "16534  (RouteID_09d597c9-ae5c-4fe8-8379-710bf99f3184,...  \n",
       "16535  (RouteID_09d597c9-ae5c-4fe8-8379-710bf99f3184,...  \n",
       "16536  (RouteID_09d597c9-ae5c-4fe8-8379-710bf99f3184,...  \n",
       "16537  (RouteID_09d597c9-ae5c-4fe8-8379-710bf99f3184,...  \n",
       "\n",
       "[16538 rows x 3 columns]"
      ]
     },
     "execution_count": 21,
     "metadata": {},
     "output_type": "execute_result"
    }
   ],
   "source": [
    "lat_lon_dup"
   ]
  },
  {
   "cell_type": "code",
   "execution_count": 22,
   "metadata": {},
   "outputs": [],
   "source": [
    "lat_lon_map = {}\n",
    "\n",
    "def create_map(row):\n",
    "    for route_id in row.route_id:\n",
    "        if route_id not in lat_lon_map:\n",
    "            lat_lon_map[route_id] = []\n",
    "        lat_lon_map[route_id].append(tuple(row[['lat', 'lng']]))\n",
    "\n",
    "_ = lat_lon_dup.apply(\n",
    "    create_map, axis=1\n",
    ")\n",
    "\n",
    "for route_id in lat_lon_map:\n",
    "    lat_lon_map[route_id] = list(set(lat_lon_map[route_id]))"
   ]
  },
  {
   "cell_type": "markdown",
   "metadata": {},
   "source": [
    "### Create a DataFrame with the matched pairs"
   ]
  },
  {
   "cell_type": "code",
   "execution_count": 24,
   "metadata": {},
   "outputs": [],
   "source": [
    "import itertools"
   ]
  },
  {
   "cell_type": "code",
   "execution_count": 29,
   "metadata": {},
   "outputs": [],
   "source": [
    "match_pairs = []\n",
    "\n",
    "# this isn't computationaly efficient, but it's a small enough dataset that doesn't matter\n",
    "covered_pairs = set()\n",
    "for r_1 in lat_lon_map:\n",
    "    # for r_2 in lat_lon_map:\n",
    "    #     if r_1 != r_2 and (r_1, r_2) not in covered_pairs and (r_2, r_1) not in covered_pairs:\n",
    "    #         covered_pairs.add((r_1, r_2))\n",
    "    #         if match_locations := set(lat_lon_map[r_1]).intersection(lat_lon_map[r_2]):\n",
    "        for match_location in itertools.product(lat_lon_map[r_1], lat_lon_map[r_1]):\n",
    "            if match_location[0] != match_location[1]:\n",
    "                # if (r_1, *match_location) not in match_pairs:\n",
    "                match_pairs.append((r_1, *match_location))\n",
    "                # if (r_2, *match_location) not in match_pairs:\n",
    "                #         match_pairs.append((r_2, *match_location))\n",
    "                    # match_pairs.append((r_1, match_ location))\n",
    "                    # match_pairs.append((r_2, match_location))\n",
    "                \n",
    "    #             # match_pairs.append((r_1, r_2, match_locations))\n",
    "    #             match_pairs.extend((r_1, r_2, l1, l2) for l1, l2 in itertools.combinations(match_locations, 2)) \n",
    "    # lat_lon_map[r_1]"
   ]
  },
  {
   "cell_type": "code",
   "execution_count": 82,
   "metadata": {},
   "outputs": [
    {
     "data": {
      "text/html": [
       "<div>\n",
       "<style scoped>\n",
       "    .dataframe tbody tr th:only-of-type {\n",
       "        vertical-align: middle;\n",
       "    }\n",
       "\n",
       "    .dataframe tbody tr th {\n",
       "        vertical-align: top;\n",
       "    }\n",
       "\n",
       "    .dataframe thead th {\n",
       "        text-align: right;\n",
       "    }\n",
       "</style>\n",
       "<table border=\"1\" class=\"dataframe\">\n",
       "  <thead>\n",
       "    <tr style=\"text-align: right;\">\n",
       "      <th></th>\n",
       "      <th>route_id</th>\n",
       "      <th>from</th>\n",
       "      <th>to</th>\n",
       "    </tr>\n",
       "  </thead>\n",
       "  <tbody>\n",
       "    <tr>\n",
       "      <th>0</th>\n",
       "      <td>RouteID_5ab24a12-62bf-4b91-9b49-3be9c3509b7b</td>\n",
       "      <td>(30.156748, -97.947387)</td>\n",
       "      <td>(30.154643, -97.935299)</td>\n",
       "    </tr>\n",
       "    <tr>\n",
       "      <th>1</th>\n",
       "      <td>RouteID_5ab24a12-62bf-4b91-9b49-3be9c3509b7b</td>\n",
       "      <td>(30.156748, -97.947387)</td>\n",
       "      <td>(30.156254, -97.948389)</td>\n",
       "    </tr>\n",
       "    <tr>\n",
       "      <th>2</th>\n",
       "      <td>RouteID_5ab24a12-62bf-4b91-9b49-3be9c3509b7b</td>\n",
       "      <td>(30.156748, -97.947387)</td>\n",
       "      <td>(30.178509, -97.953482)</td>\n",
       "    </tr>\n",
       "    <tr>\n",
       "      <th>3</th>\n",
       "      <td>RouteID_5ab24a12-62bf-4b91-9b49-3be9c3509b7b</td>\n",
       "      <td>(30.156748, -97.947387)</td>\n",
       "      <td>(30.152222, -97.943326)</td>\n",
       "    </tr>\n",
       "    <tr>\n",
       "      <th>4</th>\n",
       "      <td>RouteID_5ab24a12-62bf-4b91-9b49-3be9c3509b7b</td>\n",
       "      <td>(30.156748, -97.947387)</td>\n",
       "      <td>(30.445236, -97.709418)</td>\n",
       "    </tr>\n",
       "  </tbody>\n",
       "</table>\n",
       "</div>"
      ],
      "text/plain": [
       "                                       route_id                     from  \\\n",
       "0  RouteID_5ab24a12-62bf-4b91-9b49-3be9c3509b7b  (30.156748, -97.947387)   \n",
       "1  RouteID_5ab24a12-62bf-4b91-9b49-3be9c3509b7b  (30.156748, -97.947387)   \n",
       "2  RouteID_5ab24a12-62bf-4b91-9b49-3be9c3509b7b  (30.156748, -97.947387)   \n",
       "3  RouteID_5ab24a12-62bf-4b91-9b49-3be9c3509b7b  (30.156748, -97.947387)   \n",
       "4  RouteID_5ab24a12-62bf-4b91-9b49-3be9c3509b7b  (30.156748, -97.947387)   \n",
       "\n",
       "                        to  \n",
       "0  (30.154643, -97.935299)  \n",
       "1  (30.156254, -97.948389)  \n",
       "2  (30.178509, -97.953482)  \n",
       "3  (30.152222, -97.943326)  \n",
       "4  (30.445236, -97.709418)  "
      ]
     },
     "execution_count": 82,
     "metadata": {},
     "output_type": "execute_result"
    }
   ],
   "source": [
    "_tmp_df.head()"
   ]
  },
  {
   "cell_type": "code",
   "execution_count": 75,
   "metadata": {},
   "outputs": [
    {
     "data": {
      "text/html": [
       "<div>\n",
       "<style scoped>\n",
       "    .dataframe tbody tr th:only-of-type {\n",
       "        vertical-align: middle;\n",
       "    }\n",
       "\n",
       "    .dataframe tbody tr th {\n",
       "        vertical-align: top;\n",
       "    }\n",
       "\n",
       "    .dataframe thead th {\n",
       "        text-align: right;\n",
       "    }\n",
       "</style>\n",
       "<table border=\"1\" class=\"dataframe\">\n",
       "  <thead>\n",
       "    <tr style=\"text-align: right;\">\n",
       "      <th></th>\n",
       "      <th>from</th>\n",
       "      <th>to</th>\n",
       "      <th>route_id</th>\n",
       "    </tr>\n",
       "  </thead>\n",
       "  <tbody>\n",
       "    <tr>\n",
       "      <th>0</th>\n",
       "      <td>(30.136697, -97.960858)</td>\n",
       "      <td>(30.152007, -97.950174)</td>\n",
       "      <td>2</td>\n",
       "    </tr>\n",
       "    <tr>\n",
       "      <th>3</th>\n",
       "      <td>(30.136697, -97.960858)</td>\n",
       "      <td>(30.152222, -97.943326)</td>\n",
       "      <td>2</td>\n",
       "    </tr>\n",
       "    <tr>\n",
       "      <th>8</th>\n",
       "      <td>(30.136697, -97.960858)</td>\n",
       "      <td>(30.156254, -97.948389)</td>\n",
       "      <td>2</td>\n",
       "    </tr>\n",
       "    <tr>\n",
       "      <th>10</th>\n",
       "      <td>(30.136697, -97.960858)</td>\n",
       "      <td>(30.158755, -97.939515)</td>\n",
       "      <td>2</td>\n",
       "    </tr>\n",
       "    <tr>\n",
       "      <th>11</th>\n",
       "      <td>(30.136697, -97.960858)</td>\n",
       "      <td>(30.160057, -97.94169)</td>\n",
       "      <td>2</td>\n",
       "    </tr>\n",
       "  </tbody>\n",
       "</table>\n",
       "</div>"
      ],
      "text/plain": [
       "                       from                       to  route_id\n",
       "0   (30.136697, -97.960858)  (30.152007, -97.950174)         2\n",
       "3   (30.136697, -97.960858)  (30.152222, -97.943326)         2\n",
       "8   (30.136697, -97.960858)  (30.156254, -97.948389)         2\n",
       "10  (30.136697, -97.960858)  (30.158755, -97.939515)         2\n",
       "11  (30.136697, -97.960858)   (30.160057, -97.94169)         2"
      ]
     },
     "execution_count": 75,
     "metadata": {},
     "output_type": "execute_result"
    }
   ],
   "source": [
    "_tmp_df = pd.DataFrame(match_pairs, columns=[\"route_id\", \"from\", \"to\"])\n",
    "_loc_pairs = _tmp_df.groupby([\"from\", \"to\"]).agg({\"route_id\": \"nunique\"}).reset_index()\n",
    "# keep only the ones that have more than one route\n",
    "_loc_pairs = _loc_pairs.loc[_loc_pairs.route_id > 1]\n",
    "_loc_pairs.head()"
   ]
  },
  {
   "cell_type": "code",
   "execution_count": 77,
   "metadata": {},
   "outputs": [],
   "source": [
    "okay_tuples = tuple(tuple(v) for v in _loc_pairs[['to', 'from']].itertuples(index=False))"
   ]
  },
  {
   "cell_type": "code",
   "execution_count": 83,
   "metadata": {},
   "outputs": [],
   "source": [
    "_tmp_df = _tmp_df.loc[_tmp_df[['from', 'to']].apply(tuple, axis=1).isin(okay_tuples)].reset_index(drop=True)"
   ]
  },
  {
   "cell_type": "code",
   "execution_count": null,
   "metadata": {},
   "outputs": [],
   "source": [
    "_tmp_df['tt'] = "
   ]
  },
  {
   "cell_type": "code",
   "execution_count": 22,
   "metadata": {},
   "outputs": [],
   "source": [
    "match_pairs = []\n",
    "\n",
    "# this isn't computationaly efficient, but it's a small enough dataset that doesn't matter\n",
    "covered_pairs = set()\n",
    "for r_1 in lat_lon_map:\n",
    "    for r_2 in lat_lon_map:\n",
    "        if r_1 != r_2 and (r_1, r_2) not in covered_pairs and (r_2, r_1) not in covered_pairs:\n",
    "            covered_pairs.add((r_1, r_2))\n",
    "            if match_locations := set(lat_lon_map[r_1]).intersection(lat_lon_map[r_2]):\n",
    "                match_pairs.extend((r_1, r_2, l1, l2) for l1, l2 in itertools.combinations(match_locations, 2)) "
   ]
  },
  {
   "cell_type": "code",
   "execution_count": 23,
   "metadata": {},
   "outputs": [],
   "source": [
    "tuple_index = pd.MultiIndex.from_tuples(match_pairs, names=[\"route_1\", \"route_2\", \"from\", \"to\"])\n",
    "column_index = pd.MultiIndex.from_product([[\"r1\", \"r2\"], [\"to_id\", \"from_id\", \"tt\", \"is_station\", \"date\"]],)\n",
    "\n",
    "tt_df = pd.DataFrame(index=tuple_index, columns=column_index)\n",
    "tt_df.reset_index(inplace=True)\n",
    "# tt_df"
   ]
  },
  {
   "cell_type": "markdown",
   "metadata": {},
   "source": [
    "#### Add Information to the DF"
   ]
  },
  {
   "cell_type": "code",
   "execution_count": 24,
   "metadata": {},
   "outputs": [],
   "source": [
    "# build a map of id -> lat, lon -> stop_id\n",
    "lat_lon_2_id = {r_id: {\n",
    "    (stop_info['lat'], stop_info['lng']): stop_id for stop_id, stop_info in r_data['stops'].items()\n",
    "} for r_id, r_data in route_data.items()}\n",
    "\n",
    "# build a map of route_id -> depature_datetime\n",
    "route_id_2_departure_datetime = good_route_df.groupby('route_id').first()['departure_datetime'].to_dict()"
   ]
  },
  {
   "cell_type": "code",
   "execution_count": 25,
   "metadata": {},
   "outputs": [],
   "source": [
    "# find the matching stop id for each route\n",
    "def to_stop_id(row, ):\n",
    "    return lat_lon_2_id[row[0]].get(row[1])\n",
    "\n",
    "\n",
    "tt_df[('r1', \"from_id\")] = tt_df[[(\"route_1\", \"\"), (\"from\", \"\")]].apply(to_stop_id, axis=1, raw=True)\n",
    "tt_df[('r1', \"to_id\")] =  tt_df[[(\"route_1\", \"\"), (\"to\", \"\")]].apply(to_stop_id, axis=1, raw=True)\n",
    "tt_df[('r2', \"from_id\")] =  tt_df[[(\"route_2\", \"\"), (\"from\", \"\")]].apply(to_stop_id, axis=1, raw=True)\n",
    "tt_df[('r2', \"to_id\")] =  tt_df[[(\"route_2\", \"\"), (\"to\", \"\")]].apply(to_stop_id, axis=1, raw=True)"
   ]
  },
  {
   "cell_type": "markdown",
   "metadata": {},
   "source": [
    "#### Apply Travel Time"
   ]
  },
  {
   "cell_type": "code",
   "execution_count": 26,
   "metadata": {},
   "outputs": [],
   "source": [
    "\n",
    "tt_json = json.loads(open(os.path.join(data_path, \"travel_times.json\"), \"r\").read())\n"
   ]
  },
  {
   "cell_type": "code",
   "execution_count": 27,
   "metadata": {},
   "outputs": [],
   "source": [
    "\n",
    "# remove ids that are note in route_location_df\n",
    "keep_routes = set(tt_df[(\"route_1\", \"\")].unique()) | set(tt_df[(\"route_2\", \"\")].unique())\n",
    "tt_json = {k: v for k, v in tt_json.items() if k in keep_routes}"
   ]
  },
  {
   "cell_type": "code",
   "execution_count": 28,
   "metadata": {},
   "outputs": [],
   "source": [
    "def add_travel_time(row,):\n",
    "    return tt_json[row[0]][row[2]][row[1]]\n",
    "\n",
    "\n",
    "tt_df[('r1', 'tt')] = tt_df[[('route_1', ''), ('r1', \"to_id\"), ('r1', \"from_id\")]].apply(add_travel_time, axis=1, raw=True).values\n",
    "tt_df[('r2', 'tt')] = tt_df[[('route_2', ''), ('r2', \"to_id\"), ('r2', \"from_id\")]].apply(add_travel_time, axis=1, raw=True).values\n",
    "# tt_df[('r1', 'tt)]] = tt_df[[('route_1', ''), ('r1', \"to_id\"), ('r1', \"from_id\")]].apply(add_travel_time, axis=1, raw=True)"
   ]
  },
  {
   "cell_type": "markdown",
   "metadata": {},
   "source": [
    "#### Add Start Datetime "
   ]
  },
  {
   "cell_type": "code",
   "execution_count": 29,
   "metadata": {},
   "outputs": [],
   "source": [
    "tt_df[('r1', 'date')] = tt_df[('route_1', '')].apply(lambda x: route_id_2_departure_datetime[x])\n",
    "tt_df[('r2', 'date')] = tt_df[('route_2', '')].apply(lambda x: route_id_2_departure_datetime[x])"
   ]
  },
  {
   "cell_type": "markdown",
   "metadata": {},
   "source": [
    "#### Add if Station"
   ]
  },
  {
   "cell_type": "code",
   "execution_count": 30,
   "metadata": {},
   "outputs": [],
   "source": [
    "tt_df[('r1', 'is_station')] = tt_df[[('route_1', ''), ('r1', 'from_id')]].apply(lambda x: x[1] == station_route_id[x[0]], axis=1, raw=True)\n",
    "tt_df[('r2', 'is_station')] = tt_df[[('route_2', ''), ('r2', 'from_id')]].apply(lambda x: x[1] == station_route_id[x[0]], axis=1, raw=True)"
   ]
  },
  {
   "cell_type": "code",
   "execution_count": 31,
   "metadata": {},
   "outputs": [
    {
     "data": {
      "text/plain": [
       "0"
      ]
     },
     "execution_count": 31,
     "metadata": {},
     "output_type": "execute_result"
    }
   ],
   "source": [
    "# check to make sure that station is the same for both\n",
    "sum(tt_df[('r1', 'is_station')] != tt_df[('r2', 'is_station')])"
   ]
  },
  {
   "cell_type": "code",
   "execution_count": 32,
   "metadata": {},
   "outputs": [
    {
     "data": {
      "text/html": [
       "<div>\n",
       "<style scoped>\n",
       "    .dataframe tbody tr th:only-of-type {\n",
       "        vertical-align: middle;\n",
       "    }\n",
       "\n",
       "    .dataframe tbody tr th {\n",
       "        vertical-align: top;\n",
       "    }\n",
       "\n",
       "    .dataframe thead tr th {\n",
       "        text-align: left;\n",
       "    }\n",
       "</style>\n",
       "<table border=\"1\" class=\"dataframe\">\n",
       "  <thead>\n",
       "    <tr>\n",
       "      <th></th>\n",
       "      <th>route_1</th>\n",
       "      <th>route_2</th>\n",
       "      <th>from</th>\n",
       "      <th>to</th>\n",
       "      <th colspan=\"5\" halign=\"left\">r1</th>\n",
       "      <th colspan=\"5\" halign=\"left\">r2</th>\n",
       "      <th>tt_diff</th>\n",
       "    </tr>\n",
       "    <tr>\n",
       "      <th></th>\n",
       "      <th></th>\n",
       "      <th></th>\n",
       "      <th></th>\n",
       "      <th></th>\n",
       "      <th>to_id</th>\n",
       "      <th>from_id</th>\n",
       "      <th>tt</th>\n",
       "      <th>is_station</th>\n",
       "      <th>date</th>\n",
       "      <th>to_id</th>\n",
       "      <th>from_id</th>\n",
       "      <th>tt</th>\n",
       "      <th>is_station</th>\n",
       "      <th>date</th>\n",
       "      <th></th>\n",
       "    </tr>\n",
       "  </thead>\n",
       "  <tbody>\n",
       "    <tr>\n",
       "      <th>477</th>\n",
       "      <td>RouteID_5ab24a12-62bf-4b91-9b49-3be9c3509b7b</td>\n",
       "      <td>RouteID_80e69c6f-0817-46d9-ae76-926d2afc6fa7</td>\n",
       "      <td>(30.161271, -97.9378)</td>\n",
       "      <td>(30.185226, -97.948886)</td>\n",
       "      <td>YX</td>\n",
       "      <td>PT</td>\n",
       "      <td>509.0</td>\n",
       "      <td>False</td>\n",
       "      <td>2018-07-21 15:30:00</td>\n",
       "      <td>CY</td>\n",
       "      <td>HZ</td>\n",
       "      <td>56.9</td>\n",
       "      <td>False</td>\n",
       "      <td>2018-08-01 14:12:20</td>\n",
       "      <td>452.1</td>\n",
       "    </tr>\n",
       "    <tr>\n",
       "      <th>916</th>\n",
       "      <td>RouteID_59f3a83d-63b5-42fe-a18e-9eb145ef1ca1</td>\n",
       "      <td>RouteID_80e69c6f-0817-46d9-ae76-926d2afc6fa7</td>\n",
       "      <td>(30.152505, -97.936925)</td>\n",
       "      <td>(30.161271, -97.9378)</td>\n",
       "      <td>BP</td>\n",
       "      <td>VB</td>\n",
       "      <td>286.6</td>\n",
       "      <td>False</td>\n",
       "      <td>2018-07-22 14:32:00</td>\n",
       "      <td>HZ</td>\n",
       "      <td>DC</td>\n",
       "      <td>721.2</td>\n",
       "      <td>False</td>\n",
       "      <td>2018-08-01 14:12:20</td>\n",
       "      <td>434.6</td>\n",
       "    </tr>\n",
       "    <tr>\n",
       "      <th>467</th>\n",
       "      <td>RouteID_5ab24a12-62bf-4b91-9b49-3be9c3509b7b</td>\n",
       "      <td>RouteID_80e69c6f-0817-46d9-ae76-926d2afc6fa7</td>\n",
       "      <td>(30.161199, -97.941299)</td>\n",
       "      <td>(30.161271, -97.9378)</td>\n",
       "      <td>PT</td>\n",
       "      <td>RS</td>\n",
       "      <td>173.1</td>\n",
       "      <td>False</td>\n",
       "      <td>2018-07-21 15:30:00</td>\n",
       "      <td>HZ</td>\n",
       "      <td>YG</td>\n",
       "      <td>545.4</td>\n",
       "      <td>False</td>\n",
       "      <td>2018-08-01 14:12:20</td>\n",
       "      <td>372.3</td>\n",
       "    </tr>\n",
       "    <tr>\n",
       "      <th>161684</th>\n",
       "      <td>RouteID_2ddf94c5-f531-48b6-9d65-d8cc514285b2</td>\n",
       "      <td>RouteID_c383fc71-1659-4a1e-8421-c8a440d9f0f3</td>\n",
       "      <td>(47.687389, -122.292834)</td>\n",
       "      <td>(47.687208, -122.294943)</td>\n",
       "      <td>BN</td>\n",
       "      <td>EG</td>\n",
       "      <td>404.3</td>\n",
       "      <td>False</td>\n",
       "      <td>2018-08-24 15:36:43</td>\n",
       "      <td>IM</td>\n",
       "      <td>LI</td>\n",
       "      <td>65.7</td>\n",
       "      <td>False</td>\n",
       "      <td>2018-08-17 15:30:28</td>\n",
       "      <td>338.6</td>\n",
       "    </tr>\n",
       "    <tr>\n",
       "      <th>14815</th>\n",
       "      <td>RouteID_1102698e-232b-46cb-b52f-ec3f97a11dbe</td>\n",
       "      <td>RouteID_5461ac15-4445-49d2-997e-29ceb4d32335</td>\n",
       "      <td>(33.634959, -117.754555)</td>\n",
       "      <td>(33.629099, -117.755589)</td>\n",
       "      <td>ZO</td>\n",
       "      <td>FZ</td>\n",
       "      <td>148.3</td>\n",
       "      <td>False</td>\n",
       "      <td>2018-07-20 14:32:08</td>\n",
       "      <td>VF</td>\n",
       "      <td>ZV</td>\n",
       "      <td>458.7</td>\n",
       "      <td>False</td>\n",
       "      <td>2018-08-14 15:00:00</td>\n",
       "      <td>310.4</td>\n",
       "    </tr>\n",
       "    <tr>\n",
       "      <th>...</th>\n",
       "      <td>...</td>\n",
       "      <td>...</td>\n",
       "      <td>...</td>\n",
       "      <td>...</td>\n",
       "      <td>...</td>\n",
       "      <td>...</td>\n",
       "      <td>...</td>\n",
       "      <td>...</td>\n",
       "      <td>...</td>\n",
       "      <td>...</td>\n",
       "      <td>...</td>\n",
       "      <td>...</td>\n",
       "      <td>...</td>\n",
       "      <td>...</td>\n",
       "      <td>...</td>\n",
       "    </tr>\n",
       "    <tr>\n",
       "      <th>61826</th>\n",
       "      <td>RouteID_caad9503-c10a-42c4-b27e-7838c236fafe</td>\n",
       "      <td>RouteID_cbc69890-8d9d-45b2-927a-75ffb82ae25b</td>\n",
       "      <td>(34.001752, -118.438659)</td>\n",
       "      <td>(34.008297, -118.433829)</td>\n",
       "      <td>BL</td>\n",
       "      <td>ZD</td>\n",
       "      <td>268.9</td>\n",
       "      <td>False</td>\n",
       "      <td>2018-08-02 16:21:35</td>\n",
       "      <td>II</td>\n",
       "      <td>AZ</td>\n",
       "      <td>268.9</td>\n",
       "      <td>False</td>\n",
       "      <td>2018-08-05 15:20:05</td>\n",
       "      <td>0.0</td>\n",
       "    </tr>\n",
       "    <tr>\n",
       "      <th>61827</th>\n",
       "      <td>RouteID_caad9503-c10a-42c4-b27e-7838c236fafe</td>\n",
       "      <td>RouteID_cbc69890-8d9d-45b2-927a-75ffb82ae25b</td>\n",
       "      <td>(34.020099, -118.432625)</td>\n",
       "      <td>(34.011189, -118.437637)</td>\n",
       "      <td>TA</td>\n",
       "      <td>ZA</td>\n",
       "      <td>282.3</td>\n",
       "      <td>False</td>\n",
       "      <td>2018-08-02 16:21:35</td>\n",
       "      <td>QO</td>\n",
       "      <td>JG</td>\n",
       "      <td>282.3</td>\n",
       "      <td>False</td>\n",
       "      <td>2018-08-05 15:20:05</td>\n",
       "      <td>0.0</td>\n",
       "    </tr>\n",
       "    <tr>\n",
       "      <th>61828</th>\n",
       "      <td>RouteID_caad9503-c10a-42c4-b27e-7838c236fafe</td>\n",
       "      <td>RouteID_cbc69890-8d9d-45b2-927a-75ffb82ae25b</td>\n",
       "      <td>(34.020099, -118.432625)</td>\n",
       "      <td>(34.008297, -118.433829)</td>\n",
       "      <td>BL</td>\n",
       "      <td>ZA</td>\n",
       "      <td>351.2</td>\n",
       "      <td>False</td>\n",
       "      <td>2018-08-02 16:21:35</td>\n",
       "      <td>II</td>\n",
       "      <td>JG</td>\n",
       "      <td>351.2</td>\n",
       "      <td>False</td>\n",
       "      <td>2018-08-05 15:20:05</td>\n",
       "      <td>0.0</td>\n",
       "    </tr>\n",
       "    <tr>\n",
       "      <th>61829</th>\n",
       "      <td>RouteID_caad9503-c10a-42c4-b27e-7838c236fafe</td>\n",
       "      <td>RouteID_cbc69890-8d9d-45b2-927a-75ffb82ae25b</td>\n",
       "      <td>(34.011189, -118.437637)</td>\n",
       "      <td>(34.008297, -118.433829)</td>\n",
       "      <td>BL</td>\n",
       "      <td>TA</td>\n",
       "      <td>96.3</td>\n",
       "      <td>False</td>\n",
       "      <td>2018-08-02 16:21:35</td>\n",
       "      <td>II</td>\n",
       "      <td>QO</td>\n",
       "      <td>96.3</td>\n",
       "      <td>False</td>\n",
       "      <td>2018-08-05 15:20:05</td>\n",
       "      <td>0.0</td>\n",
       "    </tr>\n",
       "    <tr>\n",
       "      <th>173284</th>\n",
       "      <td>RouteID_09d597c9-ae5c-4fe8-8379-710bf99f3184</td>\n",
       "      <td>RouteID_5e48e4f8-679f-4d50-84b7-0f1ac8849fe3</td>\n",
       "      <td>(47.951349, -122.236071)</td>\n",
       "      <td>(47.938293, -122.213837)</td>\n",
       "      <td>XX</td>\n",
       "      <td>GT</td>\n",
       "      <td>595.0</td>\n",
       "      <td>False</td>\n",
       "      <td>2018-08-22 15:25:17</td>\n",
       "      <td>BB</td>\n",
       "      <td>UR</td>\n",
       "      <td>595.0</td>\n",
       "      <td>False</td>\n",
       "      <td>2018-08-09 14:55:40</td>\n",
       "      <td>0.0</td>\n",
       "    </tr>\n",
       "  </tbody>\n",
       "</table>\n",
       "<p>173285 rows × 15 columns</p>\n",
       "</div>"
      ],
      "text/plain": [
       "                                             route_1  \\\n",
       "                                                       \n",
       "477     RouteID_5ab24a12-62bf-4b91-9b49-3be9c3509b7b   \n",
       "916     RouteID_59f3a83d-63b5-42fe-a18e-9eb145ef1ca1   \n",
       "467     RouteID_5ab24a12-62bf-4b91-9b49-3be9c3509b7b   \n",
       "161684  RouteID_2ddf94c5-f531-48b6-9d65-d8cc514285b2   \n",
       "14815   RouteID_1102698e-232b-46cb-b52f-ec3f97a11dbe   \n",
       "...                                              ...   \n",
       "61826   RouteID_caad9503-c10a-42c4-b27e-7838c236fafe   \n",
       "61827   RouteID_caad9503-c10a-42c4-b27e-7838c236fafe   \n",
       "61828   RouteID_caad9503-c10a-42c4-b27e-7838c236fafe   \n",
       "61829   RouteID_caad9503-c10a-42c4-b27e-7838c236fafe   \n",
       "173284  RouteID_09d597c9-ae5c-4fe8-8379-710bf99f3184   \n",
       "\n",
       "                                             route_2  \\\n",
       "                                                       \n",
       "477     RouteID_80e69c6f-0817-46d9-ae76-926d2afc6fa7   \n",
       "916     RouteID_80e69c6f-0817-46d9-ae76-926d2afc6fa7   \n",
       "467     RouteID_80e69c6f-0817-46d9-ae76-926d2afc6fa7   \n",
       "161684  RouteID_c383fc71-1659-4a1e-8421-c8a440d9f0f3   \n",
       "14815   RouteID_5461ac15-4445-49d2-997e-29ceb4d32335   \n",
       "...                                              ...   \n",
       "61826   RouteID_cbc69890-8d9d-45b2-927a-75ffb82ae25b   \n",
       "61827   RouteID_cbc69890-8d9d-45b2-927a-75ffb82ae25b   \n",
       "61828   RouteID_cbc69890-8d9d-45b2-927a-75ffb82ae25b   \n",
       "61829   RouteID_cbc69890-8d9d-45b2-927a-75ffb82ae25b   \n",
       "173284  RouteID_5e48e4f8-679f-4d50-84b7-0f1ac8849fe3   \n",
       "\n",
       "                            from                        to    r1          \\\n",
       "                                                           to_id from_id   \n",
       "477        (30.161271, -97.9378)   (30.185226, -97.948886)    YX      PT   \n",
       "916      (30.152505, -97.936925)     (30.161271, -97.9378)    BP      VB   \n",
       "467      (30.161199, -97.941299)     (30.161271, -97.9378)    PT      RS   \n",
       "161684  (47.687389, -122.292834)  (47.687208, -122.294943)    BN      EG   \n",
       "14815   (33.634959, -117.754555)  (33.629099, -117.755589)    ZO      FZ   \n",
       "...                          ...                       ...   ...     ...   \n",
       "61826   (34.001752, -118.438659)  (34.008297, -118.433829)    BL      ZD   \n",
       "61827   (34.020099, -118.432625)  (34.011189, -118.437637)    TA      ZA   \n",
       "61828   (34.020099, -118.432625)  (34.008297, -118.433829)    BL      ZA   \n",
       "61829   (34.011189, -118.437637)  (34.008297, -118.433829)    BL      TA   \n",
       "173284  (47.951349, -122.236071)  (47.938293, -122.213837)    XX      GT   \n",
       "\n",
       "                                                r2                            \\\n",
       "           tt is_station                date to_id from_id     tt is_station   \n",
       "477     509.0      False 2018-07-21 15:30:00    CY      HZ   56.9      False   \n",
       "916     286.6      False 2018-07-22 14:32:00    HZ      DC  721.2      False   \n",
       "467     173.1      False 2018-07-21 15:30:00    HZ      YG  545.4      False   \n",
       "161684  404.3      False 2018-08-24 15:36:43    IM      LI   65.7      False   \n",
       "14815   148.3      False 2018-07-20 14:32:08    VF      ZV  458.7      False   \n",
       "...       ...        ...                 ...   ...     ...    ...        ...   \n",
       "61826   268.9      False 2018-08-02 16:21:35    II      AZ  268.9      False   \n",
       "61827   282.3      False 2018-08-02 16:21:35    QO      JG  282.3      False   \n",
       "61828   351.2      False 2018-08-02 16:21:35    II      JG  351.2      False   \n",
       "61829    96.3      False 2018-08-02 16:21:35    II      QO   96.3      False   \n",
       "173284  595.0      False 2018-08-22 15:25:17    BB      UR  595.0      False   \n",
       "\n",
       "                           tt_diff  \n",
       "                      date          \n",
       "477    2018-08-01 14:12:20   452.1  \n",
       "916    2018-08-01 14:12:20   434.6  \n",
       "467    2018-08-01 14:12:20   372.3  \n",
       "161684 2018-08-17 15:30:28   338.6  \n",
       "14815  2018-08-14 15:00:00   310.4  \n",
       "...                    ...     ...  \n",
       "61826  2018-08-05 15:20:05     0.0  \n",
       "61827  2018-08-05 15:20:05     0.0  \n",
       "61828  2018-08-05 15:20:05     0.0  \n",
       "61829  2018-08-05 15:20:05     0.0  \n",
       "173284 2018-08-09 14:55:40     0.0  \n",
       "\n",
       "[173285 rows x 15 columns]"
      ]
     },
     "execution_count": 32,
     "metadata": {},
     "output_type": "execute_result"
    }
   ],
   "source": [
    "tt_df['tt_diff'] = (tt_df[('r1', 'tt')] - tt_df[('r2', 'tt')]).abs()\n",
    "tt_df.sort_values(('tt_diff', ''), ascending=False)"
   ]
  },
  {
   "cell_type": "code",
   "execution_count": 33,
   "metadata": {},
   "outputs": [
    {
     "data": {
      "text/html": [
       "<div>\n",
       "<style scoped>\n",
       "    .dataframe tbody tr th:only-of-type {\n",
       "        vertical-align: middle;\n",
       "    }\n",
       "\n",
       "    .dataframe tbody tr th {\n",
       "        vertical-align: top;\n",
       "    }\n",
       "\n",
       "    .dataframe thead tr th {\n",
       "        text-align: left;\n",
       "    }\n",
       "\n",
       "    .dataframe thead tr:last-of-type th {\n",
       "        text-align: right;\n",
       "    }\n",
       "</style>\n",
       "<table border=\"1\" class=\"dataframe\">\n",
       "  <thead>\n",
       "    <tr>\n",
       "      <th></th>\n",
       "      <th></th>\n",
       "      <th>r1</th>\n",
       "      <th>r2</th>\n",
       "      <th>tt_diff</th>\n",
       "      <th>route_1</th>\n",
       "      <th>route_2</th>\n",
       "    </tr>\n",
       "    <tr>\n",
       "      <th></th>\n",
       "      <th></th>\n",
       "      <th>tt</th>\n",
       "      <th>tt</th>\n",
       "      <th></th>\n",
       "      <th></th>\n",
       "      <th></th>\n",
       "    </tr>\n",
       "    <tr>\n",
       "      <th></th>\n",
       "      <th></th>\n",
       "      <th>mean</th>\n",
       "      <th>mean</th>\n",
       "      <th>mean</th>\n",
       "      <th>nunique</th>\n",
       "      <th>nunique</th>\n",
       "    </tr>\n",
       "    <tr>\n",
       "      <th>(from, )</th>\n",
       "      <th>(to, )</th>\n",
       "      <th></th>\n",
       "      <th></th>\n",
       "      <th></th>\n",
       "      <th></th>\n",
       "      <th></th>\n",
       "    </tr>\n",
       "  </thead>\n",
       "  <tbody>\n",
       "    <tr>\n",
       "      <th rowspan=\"5\" valign=\"top\">(30.136697, -97.960858)</th>\n",
       "      <th>(30.152007, -97.950174)</th>\n",
       "      <td>770.3</td>\n",
       "      <td>770.3</td>\n",
       "      <td>0.0</td>\n",
       "      <td>1</td>\n",
       "      <td>1</td>\n",
       "    </tr>\n",
       "    <tr>\n",
       "      <th>(30.158755, -97.939515)</th>\n",
       "      <td>707.8</td>\n",
       "      <td>707.8</td>\n",
       "      <td>0.0</td>\n",
       "      <td>1</td>\n",
       "      <td>1</td>\n",
       "    </tr>\n",
       "    <tr>\n",
       "      <th>(30.160057, -97.94169)</th>\n",
       "      <td>721.9</td>\n",
       "      <td>721.9</td>\n",
       "      <td>0.0</td>\n",
       "      <td>1</td>\n",
       "      <td>1</td>\n",
       "    </tr>\n",
       "    <tr>\n",
       "      <th>(30.160904, -97.939523)</th>\n",
       "      <td>767.9</td>\n",
       "      <td>767.9</td>\n",
       "      <td>0.0</td>\n",
       "      <td>1</td>\n",
       "      <td>1</td>\n",
       "    </tr>\n",
       "    <tr>\n",
       "      <th>(30.163421, -97.944896)</th>\n",
       "      <td>627.5</td>\n",
       "      <td>627.5</td>\n",
       "      <td>0.0</td>\n",
       "      <td>1</td>\n",
       "      <td>1</td>\n",
       "    </tr>\n",
       "  </tbody>\n",
       "</table>\n",
       "</div>"
      ],
      "text/plain": [
       "                                                    r1     r2 tt_diff route_1  \\\n",
       "                                                    tt     tt                   \n",
       "                                                  mean   mean    mean nunique   \n",
       "(from, )                (to, )                                                  \n",
       "(30.136697, -97.960858) (30.152007, -97.950174)  770.3  770.3     0.0       1   \n",
       "                        (30.158755, -97.939515)  707.8  707.8     0.0       1   \n",
       "                        (30.160057, -97.94169)   721.9  721.9     0.0       1   \n",
       "                        (30.160904, -97.939523)  767.9  767.9     0.0       1   \n",
       "                        (30.163421, -97.944896)  627.5  627.5     0.0       1   \n",
       "\n",
       "                                                route_2  \n",
       "                                                         \n",
       "                                                nunique  \n",
       "(from, )                (to, )                           \n",
       "(30.136697, -97.960858) (30.152007, -97.950174)       1  \n",
       "                        (30.158755, -97.939515)       1  \n",
       "                        (30.160057, -97.94169)        1  \n",
       "                        (30.160904, -97.939523)       1  \n",
       "                        (30.163421, -97.944896)       1  "
      ]
     },
     "execution_count": 33,
     "metadata": {},
     "output_type": "execute_result"
    }
   ],
   "source": [
    "info_df = tt_df.groupby([(\"from\", \"\"), (\"to\", \"\")]).agg({('r1', 'tt'): ('mean',), ('r2', 'tt'): ('mean',), ('tt_diff', ''): 'mean', ('route_1', ''): 'nunique', ('route_2', ''): 'nunique'})\n",
    "info_df.head()"
   ]
  },
  {
   "cell_type": "code",
   "execution_count": 34,
   "metadata": {},
   "outputs": [
    {
     "data": {
      "text/plain": [
       "0.13410526848909204"
      ]
     },
     "execution_count": 34,
     "metadata": {},
     "output_type": "execute_result"
    }
   ],
   "source": [
    "len(info_df.loc[info_df[('tt_diff', '', 'mean')] > 0]) / len(info_df)"
   ]
  },
  {
   "cell_type": "code",
   "execution_count": 67,
   "metadata": {},
   "outputs": [
    {
     "data": {
      "text/plain": [
       "('2018-08-01', '2018-07-21')"
      ]
     },
     "execution_count": 67,
     "metadata": {},
     "output_type": "execute_result"
    }
   ],
   "source": [
    "route_data[\"RouteID_80e69c6f-0817-46d9-ae76-926d2afc6fa7\"]['date_YYYY_MM_DD'], route_data[\"RouteID_5ab24a12-62bf-4b91-9b49-3be9c3509b7b\"]['date_YYYY_MM_DD']"
   ]
  },
  {
   "cell_type": "code",
   "execution_count": 68,
   "metadata": {},
   "outputs": [
    {
     "data": {
      "text/plain": [
       "({'PackageID_5f9292f4-3792-4207-9146-691db8270505': {'scan_status': 'DELIVERED',\n",
       "   'time_window': {'start_time_utc': nan, 'end_time_utc': nan},\n",
       "   'planned_service_time_seconds': 25.0,\n",
       "   'dimensions': {'depth_cm': 27.0, 'height_cm': 6.0, 'width_cm': 24.5}},\n",
       "  'PackageID_e897bba2-6851-490a-9b2b-13f73e1999e3': {'scan_status': 'DELIVERY_ATTEMPTED',\n",
       "   'time_window': {'start_time_utc': nan, 'end_time_utc': nan},\n",
       "   'planned_service_time_seconds': 25.0,\n",
       "   'dimensions': {'depth_cm': 29.0, 'height_cm': 6.6, 'width_cm': 16.3}}},\n",
       " {'PackageID_51c115d3-3b0f-4954-b420-166e60db672b': {'scan_status': 'DELIVERED',\n",
       "   'time_window': {'start_time_utc': nan, 'end_time_utc': nan},\n",
       "   'planned_service_time_seconds': 45.0,\n",
       "   'dimensions': {'depth_cm': 33.8, 'height_cm': 9.4, 'width_cm': 18.5}}})"
      ]
     },
     "execution_count": 68,
     "metadata": {},
     "output_type": "execute_result"
    }
   ],
   "source": [
    "package_data[\"RouteID_80e69c6f-0817-46d9-ae76-926d2afc6fa7\"]['HZ'],\n",
    "\n",
    "# (route_data[\"RouteID_80e69c6f-0817-46d9-ae76-926d2afc6fa7\"]['stops']['HZ'], route_data[\"RouteID_80e69c6f-0817-46d9-ae76-926d2afc6fa7\"]['stops']['CY']), \\\n",
    "#     (route_data[\"RouteID_5ab24a12-62bf-4b91-9b49-3be9c3509b7b\"]['stops']['PT'], route_data[\"RouteID_5ab24a12-62bf-4b91-9b49-3be9c3509b7b\"]['stops']['YX'])"
   ]
  },
  {
   "cell_type": "code",
   "execution_count": 42,
   "metadata": {},
   "outputs": [
    {
     "data": {
      "text/plain": [
       "(56.9, 509.0)"
      ]
     },
     "execution_count": 42,
     "metadata": {},
     "output_type": "execute_result"
    }
   ],
   "source": [
    "tt_json['RouteID_80e69c6f-0817-46d9-ae76-926d2afc6fa7']['HZ']['CY'], tt_json['RouteID_5ab24a12-62bf-4b91-9b49-3be9c3509b7b']['PT']['YX']"
   ]
  },
  {
   "cell_type": "code",
   "execution_count": 36,
   "metadata": {},
   "outputs": [],
   "source": [
    "import openrouteservice as ors\n",
    "\n",
    "ors_client = ors.Client(key=os.environ[\"ORS_KEY\"])\n",
    "\n",
    "\n",
    "def get_ors_travel_time(locations, destination_indexes):\n",
    "    return ors_client.distance_matrix(\n",
    "        locations,\n",
    "        destinations=destination_indexes,\n",
    "        profile=\"driving-hgv\",\n",
    "        metrics=[\"duration\", \"distance\"],\n",
    "    )\n"
   ]
  },
  {
   "cell_type": "code",
   "execution_count": 37,
   "metadata": {},
   "outputs": [],
   "source": [
    "# _r[(\"to\", \"\")][::-1], _r[(\"from\", \"\")][::-1]\n",
    "# https://www.google.com/maps/dir/30.185226,+-97.948886/30.161271,+-97.9378/@30.1844003,-97.954117,3824m/data=!3m1!1e3!4m14!4m13!1m5!1m1!1s0x0:0x58774e0e18241f40!2m2!1d-97.948886!2d30.185226!1m5!1m1!1s0x0:0xc8a5fe56814b73e4!2m2!1d-97.9378!2d30.161271!3e0"
   ]
  },
  {
   "cell_type": "code",
   "execution_count": 38,
   "metadata": {},
   "outputs": [
    {
     "name": "stdout",
     "output_type": "stream",
     "text": [
      "ORS Estimated TT [861.55]\n",
      "ORS Estimated Distance [4030.56]\n",
      "RouteID_5ab24a12-62bf-4b91-9b49-3be9c3509b7b 2018-07-21 15:30:00 535.9 509.0\n",
      "RouteID_80e69c6f-0817-46d9-ae76-926d2afc6fa7 2018-08-01 14:12:20 57.7 56.9\n"
     ]
    },
    {
     "data": {
      "application/vnd.plotly.v1+json": {
       "config": {
        "plotlyServerURL": "https://plot.ly"
       },
       "data": [
        {
         "lat": [
          30.161271,
          30.185226
         ],
         "lon": [
          -97.9378,
          -97.948886
         ],
         "marker": {
          "size": 10
         },
         "mode": "markers+text",
         "name": "RouteID_5ab24a12-62bf-4b91-9b49-3be9c3509b7b",
         "text": [
          "YX",
          "PT"
         ],
         "textfont": {
          "color": "white",
          "family": "sans serif",
          "size": 22
         },
         "type": "scattermapbox"
        }
       ],
       "layout": {
        "height": 600,
        "hovermode": "closest",
        "mapbox": {
         "accesstoken": "pk.eyJ1IjoibWF4LXNjaHJhZGVyIiwiYSI6ImNrOHQxZ2s3bDAwdXQzbG81NjZpZm96bDEifQ.etUi4OK4ozzaP_P8foZn_A",
         "bearing": 0,
         "center": {
          "lat": 38.880121574745694,
          "lon": -105.34294931025056
         },
         "pitch": 0,
         "style": "mapbox://styles/max-schrader/cl6lhvrfw001516pkh3s6iv7l",
         "zoom": 5
        },
        "template": {
         "data": {
          "bar": [
           {
            "error_x": {
             "color": "#2a3f5f"
            },
            "error_y": {
             "color": "#2a3f5f"
            },
            "marker": {
             "line": {
              "color": "#E5ECF6",
              "width": 0.5
             },
             "pattern": {
              "fillmode": "overlay",
              "size": 10,
              "solidity": 0.2
             }
            },
            "type": "bar"
           }
          ],
          "barpolar": [
           {
            "marker": {
             "line": {
              "color": "#E5ECF6",
              "width": 0.5
             },
             "pattern": {
              "fillmode": "overlay",
              "size": 10,
              "solidity": 0.2
             }
            },
            "type": "barpolar"
           }
          ],
          "carpet": [
           {
            "aaxis": {
             "endlinecolor": "#2a3f5f",
             "gridcolor": "white",
             "linecolor": "white",
             "minorgridcolor": "white",
             "startlinecolor": "#2a3f5f"
            },
            "baxis": {
             "endlinecolor": "#2a3f5f",
             "gridcolor": "white",
             "linecolor": "white",
             "minorgridcolor": "white",
             "startlinecolor": "#2a3f5f"
            },
            "type": "carpet"
           }
          ],
          "choropleth": [
           {
            "colorbar": {
             "outlinewidth": 0,
             "ticks": ""
            },
            "type": "choropleth"
           }
          ],
          "contour": [
           {
            "colorbar": {
             "outlinewidth": 0,
             "ticks": ""
            },
            "colorscale": [
             [
              0,
              "#0d0887"
             ],
             [
              0.1111111111111111,
              "#46039f"
             ],
             [
              0.2222222222222222,
              "#7201a8"
             ],
             [
              0.3333333333333333,
              "#9c179e"
             ],
             [
              0.4444444444444444,
              "#bd3786"
             ],
             [
              0.5555555555555556,
              "#d8576b"
             ],
             [
              0.6666666666666666,
              "#ed7953"
             ],
             [
              0.7777777777777778,
              "#fb9f3a"
             ],
             [
              0.8888888888888888,
              "#fdca26"
             ],
             [
              1,
              "#f0f921"
             ]
            ],
            "type": "contour"
           }
          ],
          "contourcarpet": [
           {
            "colorbar": {
             "outlinewidth": 0,
             "ticks": ""
            },
            "type": "contourcarpet"
           }
          ],
          "heatmap": [
           {
            "colorbar": {
             "outlinewidth": 0,
             "ticks": ""
            },
            "colorscale": [
             [
              0,
              "#0d0887"
             ],
             [
              0.1111111111111111,
              "#46039f"
             ],
             [
              0.2222222222222222,
              "#7201a8"
             ],
             [
              0.3333333333333333,
              "#9c179e"
             ],
             [
              0.4444444444444444,
              "#bd3786"
             ],
             [
              0.5555555555555556,
              "#d8576b"
             ],
             [
              0.6666666666666666,
              "#ed7953"
             ],
             [
              0.7777777777777778,
              "#fb9f3a"
             ],
             [
              0.8888888888888888,
              "#fdca26"
             ],
             [
              1,
              "#f0f921"
             ]
            ],
            "type": "heatmap"
           }
          ],
          "heatmapgl": [
           {
            "colorbar": {
             "outlinewidth": 0,
             "ticks": ""
            },
            "colorscale": [
             [
              0,
              "#0d0887"
             ],
             [
              0.1111111111111111,
              "#46039f"
             ],
             [
              0.2222222222222222,
              "#7201a8"
             ],
             [
              0.3333333333333333,
              "#9c179e"
             ],
             [
              0.4444444444444444,
              "#bd3786"
             ],
             [
              0.5555555555555556,
              "#d8576b"
             ],
             [
              0.6666666666666666,
              "#ed7953"
             ],
             [
              0.7777777777777778,
              "#fb9f3a"
             ],
             [
              0.8888888888888888,
              "#fdca26"
             ],
             [
              1,
              "#f0f921"
             ]
            ],
            "type": "heatmapgl"
           }
          ],
          "histogram": [
           {
            "marker": {
             "pattern": {
              "fillmode": "overlay",
              "size": 10,
              "solidity": 0.2
             }
            },
            "type": "histogram"
           }
          ],
          "histogram2d": [
           {
            "colorbar": {
             "outlinewidth": 0,
             "ticks": ""
            },
            "colorscale": [
             [
              0,
              "#0d0887"
             ],
             [
              0.1111111111111111,
              "#46039f"
             ],
             [
              0.2222222222222222,
              "#7201a8"
             ],
             [
              0.3333333333333333,
              "#9c179e"
             ],
             [
              0.4444444444444444,
              "#bd3786"
             ],
             [
              0.5555555555555556,
              "#d8576b"
             ],
             [
              0.6666666666666666,
              "#ed7953"
             ],
             [
              0.7777777777777778,
              "#fb9f3a"
             ],
             [
              0.8888888888888888,
              "#fdca26"
             ],
             [
              1,
              "#f0f921"
             ]
            ],
            "type": "histogram2d"
           }
          ],
          "histogram2dcontour": [
           {
            "colorbar": {
             "outlinewidth": 0,
             "ticks": ""
            },
            "colorscale": [
             [
              0,
              "#0d0887"
             ],
             [
              0.1111111111111111,
              "#46039f"
             ],
             [
              0.2222222222222222,
              "#7201a8"
             ],
             [
              0.3333333333333333,
              "#9c179e"
             ],
             [
              0.4444444444444444,
              "#bd3786"
             ],
             [
              0.5555555555555556,
              "#d8576b"
             ],
             [
              0.6666666666666666,
              "#ed7953"
             ],
             [
              0.7777777777777778,
              "#fb9f3a"
             ],
             [
              0.8888888888888888,
              "#fdca26"
             ],
             [
              1,
              "#f0f921"
             ]
            ],
            "type": "histogram2dcontour"
           }
          ],
          "mesh3d": [
           {
            "colorbar": {
             "outlinewidth": 0,
             "ticks": ""
            },
            "type": "mesh3d"
           }
          ],
          "parcoords": [
           {
            "line": {
             "colorbar": {
              "outlinewidth": 0,
              "ticks": ""
             }
            },
            "type": "parcoords"
           }
          ],
          "pie": [
           {
            "automargin": true,
            "type": "pie"
           }
          ],
          "scatter": [
           {
            "fillpattern": {
             "fillmode": "overlay",
             "size": 10,
             "solidity": 0.2
            },
            "type": "scatter"
           }
          ],
          "scatter3d": [
           {
            "line": {
             "colorbar": {
              "outlinewidth": 0,
              "ticks": ""
             }
            },
            "marker": {
             "colorbar": {
              "outlinewidth": 0,
              "ticks": ""
             }
            },
            "type": "scatter3d"
           }
          ],
          "scattercarpet": [
           {
            "marker": {
             "colorbar": {
              "outlinewidth": 0,
              "ticks": ""
             }
            },
            "type": "scattercarpet"
           }
          ],
          "scattergeo": [
           {
            "marker": {
             "colorbar": {
              "outlinewidth": 0,
              "ticks": ""
             }
            },
            "type": "scattergeo"
           }
          ],
          "scattergl": [
           {
            "marker": {
             "colorbar": {
              "outlinewidth": 0,
              "ticks": ""
             }
            },
            "type": "scattergl"
           }
          ],
          "scattermapbox": [
           {
            "marker": {
             "colorbar": {
              "outlinewidth": 0,
              "ticks": ""
             }
            },
            "type": "scattermapbox"
           }
          ],
          "scatterpolar": [
           {
            "marker": {
             "colorbar": {
              "outlinewidth": 0,
              "ticks": ""
             }
            },
            "type": "scatterpolar"
           }
          ],
          "scatterpolargl": [
           {
            "marker": {
             "colorbar": {
              "outlinewidth": 0,
              "ticks": ""
             }
            },
            "type": "scatterpolargl"
           }
          ],
          "scatterternary": [
           {
            "marker": {
             "colorbar": {
              "outlinewidth": 0,
              "ticks": ""
             }
            },
            "type": "scatterternary"
           }
          ],
          "surface": [
           {
            "colorbar": {
             "outlinewidth": 0,
             "ticks": ""
            },
            "colorscale": [
             [
              0,
              "#0d0887"
             ],
             [
              0.1111111111111111,
              "#46039f"
             ],
             [
              0.2222222222222222,
              "#7201a8"
             ],
             [
              0.3333333333333333,
              "#9c179e"
             ],
             [
              0.4444444444444444,
              "#bd3786"
             ],
             [
              0.5555555555555556,
              "#d8576b"
             ],
             [
              0.6666666666666666,
              "#ed7953"
             ],
             [
              0.7777777777777778,
              "#fb9f3a"
             ],
             [
              0.8888888888888888,
              "#fdca26"
             ],
             [
              1,
              "#f0f921"
             ]
            ],
            "type": "surface"
           }
          ],
          "table": [
           {
            "cells": {
             "fill": {
              "color": "#EBF0F8"
             },
             "line": {
              "color": "white"
             }
            },
            "header": {
             "fill": {
              "color": "#C8D4E3"
             },
             "line": {
              "color": "white"
             }
            },
            "type": "table"
           }
          ]
         },
         "layout": {
          "annotationdefaults": {
           "arrowcolor": "#2a3f5f",
           "arrowhead": 0,
           "arrowwidth": 1
          },
          "autotypenumbers": "strict",
          "coloraxis": {
           "colorbar": {
            "outlinewidth": 0,
            "ticks": ""
           }
          },
          "colorscale": {
           "diverging": [
            [
             0,
             "#8e0152"
            ],
            [
             0.1,
             "#c51b7d"
            ],
            [
             0.2,
             "#de77ae"
            ],
            [
             0.3,
             "#f1b6da"
            ],
            [
             0.4,
             "#fde0ef"
            ],
            [
             0.5,
             "#f7f7f7"
            ],
            [
             0.6,
             "#e6f5d0"
            ],
            [
             0.7,
             "#b8e186"
            ],
            [
             0.8,
             "#7fbc41"
            ],
            [
             0.9,
             "#4d9221"
            ],
            [
             1,
             "#276419"
            ]
           ],
           "sequential": [
            [
             0,
             "#0d0887"
            ],
            [
             0.1111111111111111,
             "#46039f"
            ],
            [
             0.2222222222222222,
             "#7201a8"
            ],
            [
             0.3333333333333333,
             "#9c179e"
            ],
            [
             0.4444444444444444,
             "#bd3786"
            ],
            [
             0.5555555555555556,
             "#d8576b"
            ],
            [
             0.6666666666666666,
             "#ed7953"
            ],
            [
             0.7777777777777778,
             "#fb9f3a"
            ],
            [
             0.8888888888888888,
             "#fdca26"
            ],
            [
             1,
             "#f0f921"
            ]
           ],
           "sequentialminus": [
            [
             0,
             "#0d0887"
            ],
            [
             0.1111111111111111,
             "#46039f"
            ],
            [
             0.2222222222222222,
             "#7201a8"
            ],
            [
             0.3333333333333333,
             "#9c179e"
            ],
            [
             0.4444444444444444,
             "#bd3786"
            ],
            [
             0.5555555555555556,
             "#d8576b"
            ],
            [
             0.6666666666666666,
             "#ed7953"
            ],
            [
             0.7777777777777778,
             "#fb9f3a"
            ],
            [
             0.8888888888888888,
             "#fdca26"
            ],
            [
             1,
             "#f0f921"
            ]
           ]
          },
          "colorway": [
           "#636efa",
           "#EF553B",
           "#00cc96",
           "#ab63fa",
           "#FFA15A",
           "#19d3f3",
           "#FF6692",
           "#B6E880",
           "#FF97FF",
           "#FECB52"
          ],
          "font": {
           "color": "#2a3f5f"
          },
          "geo": {
           "bgcolor": "white",
           "lakecolor": "white",
           "landcolor": "#E5ECF6",
           "showlakes": true,
           "showland": true,
           "subunitcolor": "white"
          },
          "hoverlabel": {
           "align": "left"
          },
          "hovermode": "closest",
          "mapbox": {
           "style": "light"
          },
          "paper_bgcolor": "white",
          "plot_bgcolor": "#E5ECF6",
          "polar": {
           "angularaxis": {
            "gridcolor": "white",
            "linecolor": "white",
            "ticks": ""
           },
           "bgcolor": "#E5ECF6",
           "radialaxis": {
            "gridcolor": "white",
            "linecolor": "white",
            "ticks": ""
           }
          },
          "scene": {
           "xaxis": {
            "backgroundcolor": "#E5ECF6",
            "gridcolor": "white",
            "gridwidth": 2,
            "linecolor": "white",
            "showbackground": true,
            "ticks": "",
            "zerolinecolor": "white"
           },
           "yaxis": {
            "backgroundcolor": "#E5ECF6",
            "gridcolor": "white",
            "gridwidth": 2,
            "linecolor": "white",
            "showbackground": true,
            "ticks": "",
            "zerolinecolor": "white"
           },
           "zaxis": {
            "backgroundcolor": "#E5ECF6",
            "gridcolor": "white",
            "gridwidth": 2,
            "linecolor": "white",
            "showbackground": true,
            "ticks": "",
            "zerolinecolor": "white"
           }
          },
          "shapedefaults": {
           "line": {
            "color": "#2a3f5f"
           }
          },
          "ternary": {
           "aaxis": {
            "gridcolor": "white",
            "linecolor": "white",
            "ticks": ""
           },
           "baxis": {
            "gridcolor": "white",
            "linecolor": "white",
            "ticks": ""
           },
           "bgcolor": "#E5ECF6",
           "caxis": {
            "gridcolor": "white",
            "linecolor": "white",
            "ticks": ""
           }
          },
          "title": {
           "x": 0.05
          },
          "xaxis": {
           "automargin": true,
           "gridcolor": "white",
           "linecolor": "white",
           "ticks": "",
           "title": {
            "standoff": 15
           },
           "zerolinecolor": "white",
           "zerolinewidth": 2
          },
          "yaxis": {
           "automargin": true,
           "gridcolor": "white",
           "linecolor": "white",
           "ticks": "",
           "title": {
            "standoff": 15
           },
           "zerolinecolor": "white",
           "zerolinewidth": 2
          }
         }
        },
        "width": 1000
       }
      }
     },
     "metadata": {},
     "output_type": "display_data"
    },
    {
     "name": "stdout",
     "output_type": "stream",
     "text": [
      "----------------------------------------------------\n",
      "\n",
      "\n",
      "ORS Estimated TT [418.58]\n",
      "ORS Estimated Distance [1824.59]\n",
      "RouteID_59f3a83d-63b5-42fe-a18e-9eb145ef1ca1 2018-07-22 14:32:00 288.0 286.6\n",
      "RouteID_80e69c6f-0817-46d9-ae76-926d2afc6fa7 2018-08-01 14:12:20 296.3 721.2\n"
     ]
    },
    {
     "data": {
      "application/vnd.plotly.v1+json": {
       "config": {
        "plotlyServerURL": "https://plot.ly"
       },
       "data": [
        {
         "lat": [
          30.161271,
          30.152505
         ],
         "lon": [
          -97.9378,
          -97.936925
         ],
         "marker": {
          "size": 10
         },
         "mode": "markers+text",
         "name": "RouteID_59f3a83d-63b5-42fe-a18e-9eb145ef1ca1",
         "text": [
          "BP",
          "VB"
         ],
         "textfont": {
          "color": "white",
          "family": "sans serif",
          "size": 22
         },
         "type": "scattermapbox"
        }
       ],
       "layout": {
        "height": 600,
        "hovermode": "closest",
        "mapbox": {
         "accesstoken": "pk.eyJ1IjoibWF4LXNjaHJhZGVyIiwiYSI6ImNrOHQxZ2s3bDAwdXQzbG81NjZpZm96bDEifQ.etUi4OK4ozzaP_P8foZn_A",
         "bearing": 0,
         "center": {
          "lat": 38.880121574745694,
          "lon": -105.34294931025056
         },
         "pitch": 0,
         "style": "mapbox://styles/max-schrader/cl6lhvrfw001516pkh3s6iv7l",
         "zoom": 5
        },
        "template": {
         "data": {
          "bar": [
           {
            "error_x": {
             "color": "#2a3f5f"
            },
            "error_y": {
             "color": "#2a3f5f"
            },
            "marker": {
             "line": {
              "color": "#E5ECF6",
              "width": 0.5
             },
             "pattern": {
              "fillmode": "overlay",
              "size": 10,
              "solidity": 0.2
             }
            },
            "type": "bar"
           }
          ],
          "barpolar": [
           {
            "marker": {
             "line": {
              "color": "#E5ECF6",
              "width": 0.5
             },
             "pattern": {
              "fillmode": "overlay",
              "size": 10,
              "solidity": 0.2
             }
            },
            "type": "barpolar"
           }
          ],
          "carpet": [
           {
            "aaxis": {
             "endlinecolor": "#2a3f5f",
             "gridcolor": "white",
             "linecolor": "white",
             "minorgridcolor": "white",
             "startlinecolor": "#2a3f5f"
            },
            "baxis": {
             "endlinecolor": "#2a3f5f",
             "gridcolor": "white",
             "linecolor": "white",
             "minorgridcolor": "white",
             "startlinecolor": "#2a3f5f"
            },
            "type": "carpet"
           }
          ],
          "choropleth": [
           {
            "colorbar": {
             "outlinewidth": 0,
             "ticks": ""
            },
            "type": "choropleth"
           }
          ],
          "contour": [
           {
            "colorbar": {
             "outlinewidth": 0,
             "ticks": ""
            },
            "colorscale": [
             [
              0,
              "#0d0887"
             ],
             [
              0.1111111111111111,
              "#46039f"
             ],
             [
              0.2222222222222222,
              "#7201a8"
             ],
             [
              0.3333333333333333,
              "#9c179e"
             ],
             [
              0.4444444444444444,
              "#bd3786"
             ],
             [
              0.5555555555555556,
              "#d8576b"
             ],
             [
              0.6666666666666666,
              "#ed7953"
             ],
             [
              0.7777777777777778,
              "#fb9f3a"
             ],
             [
              0.8888888888888888,
              "#fdca26"
             ],
             [
              1,
              "#f0f921"
             ]
            ],
            "type": "contour"
           }
          ],
          "contourcarpet": [
           {
            "colorbar": {
             "outlinewidth": 0,
             "ticks": ""
            },
            "type": "contourcarpet"
           }
          ],
          "heatmap": [
           {
            "colorbar": {
             "outlinewidth": 0,
             "ticks": ""
            },
            "colorscale": [
             [
              0,
              "#0d0887"
             ],
             [
              0.1111111111111111,
              "#46039f"
             ],
             [
              0.2222222222222222,
              "#7201a8"
             ],
             [
              0.3333333333333333,
              "#9c179e"
             ],
             [
              0.4444444444444444,
              "#bd3786"
             ],
             [
              0.5555555555555556,
              "#d8576b"
             ],
             [
              0.6666666666666666,
              "#ed7953"
             ],
             [
              0.7777777777777778,
              "#fb9f3a"
             ],
             [
              0.8888888888888888,
              "#fdca26"
             ],
             [
              1,
              "#f0f921"
             ]
            ],
            "type": "heatmap"
           }
          ],
          "heatmapgl": [
           {
            "colorbar": {
             "outlinewidth": 0,
             "ticks": ""
            },
            "colorscale": [
             [
              0,
              "#0d0887"
             ],
             [
              0.1111111111111111,
              "#46039f"
             ],
             [
              0.2222222222222222,
              "#7201a8"
             ],
             [
              0.3333333333333333,
              "#9c179e"
             ],
             [
              0.4444444444444444,
              "#bd3786"
             ],
             [
              0.5555555555555556,
              "#d8576b"
             ],
             [
              0.6666666666666666,
              "#ed7953"
             ],
             [
              0.7777777777777778,
              "#fb9f3a"
             ],
             [
              0.8888888888888888,
              "#fdca26"
             ],
             [
              1,
              "#f0f921"
             ]
            ],
            "type": "heatmapgl"
           }
          ],
          "histogram": [
           {
            "marker": {
             "pattern": {
              "fillmode": "overlay",
              "size": 10,
              "solidity": 0.2
             }
            },
            "type": "histogram"
           }
          ],
          "histogram2d": [
           {
            "colorbar": {
             "outlinewidth": 0,
             "ticks": ""
            },
            "colorscale": [
             [
              0,
              "#0d0887"
             ],
             [
              0.1111111111111111,
              "#46039f"
             ],
             [
              0.2222222222222222,
              "#7201a8"
             ],
             [
              0.3333333333333333,
              "#9c179e"
             ],
             [
              0.4444444444444444,
              "#bd3786"
             ],
             [
              0.5555555555555556,
              "#d8576b"
             ],
             [
              0.6666666666666666,
              "#ed7953"
             ],
             [
              0.7777777777777778,
              "#fb9f3a"
             ],
             [
              0.8888888888888888,
              "#fdca26"
             ],
             [
              1,
              "#f0f921"
             ]
            ],
            "type": "histogram2d"
           }
          ],
          "histogram2dcontour": [
           {
            "colorbar": {
             "outlinewidth": 0,
             "ticks": ""
            },
            "colorscale": [
             [
              0,
              "#0d0887"
             ],
             [
              0.1111111111111111,
              "#46039f"
             ],
             [
              0.2222222222222222,
              "#7201a8"
             ],
             [
              0.3333333333333333,
              "#9c179e"
             ],
             [
              0.4444444444444444,
              "#bd3786"
             ],
             [
              0.5555555555555556,
              "#d8576b"
             ],
             [
              0.6666666666666666,
              "#ed7953"
             ],
             [
              0.7777777777777778,
              "#fb9f3a"
             ],
             [
              0.8888888888888888,
              "#fdca26"
             ],
             [
              1,
              "#f0f921"
             ]
            ],
            "type": "histogram2dcontour"
           }
          ],
          "mesh3d": [
           {
            "colorbar": {
             "outlinewidth": 0,
             "ticks": ""
            },
            "type": "mesh3d"
           }
          ],
          "parcoords": [
           {
            "line": {
             "colorbar": {
              "outlinewidth": 0,
              "ticks": ""
             }
            },
            "type": "parcoords"
           }
          ],
          "pie": [
           {
            "automargin": true,
            "type": "pie"
           }
          ],
          "scatter": [
           {
            "fillpattern": {
             "fillmode": "overlay",
             "size": 10,
             "solidity": 0.2
            },
            "type": "scatter"
           }
          ],
          "scatter3d": [
           {
            "line": {
             "colorbar": {
              "outlinewidth": 0,
              "ticks": ""
             }
            },
            "marker": {
             "colorbar": {
              "outlinewidth": 0,
              "ticks": ""
             }
            },
            "type": "scatter3d"
           }
          ],
          "scattercarpet": [
           {
            "marker": {
             "colorbar": {
              "outlinewidth": 0,
              "ticks": ""
             }
            },
            "type": "scattercarpet"
           }
          ],
          "scattergeo": [
           {
            "marker": {
             "colorbar": {
              "outlinewidth": 0,
              "ticks": ""
             }
            },
            "type": "scattergeo"
           }
          ],
          "scattergl": [
           {
            "marker": {
             "colorbar": {
              "outlinewidth": 0,
              "ticks": ""
             }
            },
            "type": "scattergl"
           }
          ],
          "scattermapbox": [
           {
            "marker": {
             "colorbar": {
              "outlinewidth": 0,
              "ticks": ""
             }
            },
            "type": "scattermapbox"
           }
          ],
          "scatterpolar": [
           {
            "marker": {
             "colorbar": {
              "outlinewidth": 0,
              "ticks": ""
             }
            },
            "type": "scatterpolar"
           }
          ],
          "scatterpolargl": [
           {
            "marker": {
             "colorbar": {
              "outlinewidth": 0,
              "ticks": ""
             }
            },
            "type": "scatterpolargl"
           }
          ],
          "scatterternary": [
           {
            "marker": {
             "colorbar": {
              "outlinewidth": 0,
              "ticks": ""
             }
            },
            "type": "scatterternary"
           }
          ],
          "surface": [
           {
            "colorbar": {
             "outlinewidth": 0,
             "ticks": ""
            },
            "colorscale": [
             [
              0,
              "#0d0887"
             ],
             [
              0.1111111111111111,
              "#46039f"
             ],
             [
              0.2222222222222222,
              "#7201a8"
             ],
             [
              0.3333333333333333,
              "#9c179e"
             ],
             [
              0.4444444444444444,
              "#bd3786"
             ],
             [
              0.5555555555555556,
              "#d8576b"
             ],
             [
              0.6666666666666666,
              "#ed7953"
             ],
             [
              0.7777777777777778,
              "#fb9f3a"
             ],
             [
              0.8888888888888888,
              "#fdca26"
             ],
             [
              1,
              "#f0f921"
             ]
            ],
            "type": "surface"
           }
          ],
          "table": [
           {
            "cells": {
             "fill": {
              "color": "#EBF0F8"
             },
             "line": {
              "color": "white"
             }
            },
            "header": {
             "fill": {
              "color": "#C8D4E3"
             },
             "line": {
              "color": "white"
             }
            },
            "type": "table"
           }
          ]
         },
         "layout": {
          "annotationdefaults": {
           "arrowcolor": "#2a3f5f",
           "arrowhead": 0,
           "arrowwidth": 1
          },
          "autotypenumbers": "strict",
          "coloraxis": {
           "colorbar": {
            "outlinewidth": 0,
            "ticks": ""
           }
          },
          "colorscale": {
           "diverging": [
            [
             0,
             "#8e0152"
            ],
            [
             0.1,
             "#c51b7d"
            ],
            [
             0.2,
             "#de77ae"
            ],
            [
             0.3,
             "#f1b6da"
            ],
            [
             0.4,
             "#fde0ef"
            ],
            [
             0.5,
             "#f7f7f7"
            ],
            [
             0.6,
             "#e6f5d0"
            ],
            [
             0.7,
             "#b8e186"
            ],
            [
             0.8,
             "#7fbc41"
            ],
            [
             0.9,
             "#4d9221"
            ],
            [
             1,
             "#276419"
            ]
           ],
           "sequential": [
            [
             0,
             "#0d0887"
            ],
            [
             0.1111111111111111,
             "#46039f"
            ],
            [
             0.2222222222222222,
             "#7201a8"
            ],
            [
             0.3333333333333333,
             "#9c179e"
            ],
            [
             0.4444444444444444,
             "#bd3786"
            ],
            [
             0.5555555555555556,
             "#d8576b"
            ],
            [
             0.6666666666666666,
             "#ed7953"
            ],
            [
             0.7777777777777778,
             "#fb9f3a"
            ],
            [
             0.8888888888888888,
             "#fdca26"
            ],
            [
             1,
             "#f0f921"
            ]
           ],
           "sequentialminus": [
            [
             0,
             "#0d0887"
            ],
            [
             0.1111111111111111,
             "#46039f"
            ],
            [
             0.2222222222222222,
             "#7201a8"
            ],
            [
             0.3333333333333333,
             "#9c179e"
            ],
            [
             0.4444444444444444,
             "#bd3786"
            ],
            [
             0.5555555555555556,
             "#d8576b"
            ],
            [
             0.6666666666666666,
             "#ed7953"
            ],
            [
             0.7777777777777778,
             "#fb9f3a"
            ],
            [
             0.8888888888888888,
             "#fdca26"
            ],
            [
             1,
             "#f0f921"
            ]
           ]
          },
          "colorway": [
           "#636efa",
           "#EF553B",
           "#00cc96",
           "#ab63fa",
           "#FFA15A",
           "#19d3f3",
           "#FF6692",
           "#B6E880",
           "#FF97FF",
           "#FECB52"
          ],
          "font": {
           "color": "#2a3f5f"
          },
          "geo": {
           "bgcolor": "white",
           "lakecolor": "white",
           "landcolor": "#E5ECF6",
           "showlakes": true,
           "showland": true,
           "subunitcolor": "white"
          },
          "hoverlabel": {
           "align": "left"
          },
          "hovermode": "closest",
          "mapbox": {
           "style": "light"
          },
          "paper_bgcolor": "white",
          "plot_bgcolor": "#E5ECF6",
          "polar": {
           "angularaxis": {
            "gridcolor": "white",
            "linecolor": "white",
            "ticks": ""
           },
           "bgcolor": "#E5ECF6",
           "radialaxis": {
            "gridcolor": "white",
            "linecolor": "white",
            "ticks": ""
           }
          },
          "scene": {
           "xaxis": {
            "backgroundcolor": "#E5ECF6",
            "gridcolor": "white",
            "gridwidth": 2,
            "linecolor": "white",
            "showbackground": true,
            "ticks": "",
            "zerolinecolor": "white"
           },
           "yaxis": {
            "backgroundcolor": "#E5ECF6",
            "gridcolor": "white",
            "gridwidth": 2,
            "linecolor": "white",
            "showbackground": true,
            "ticks": "",
            "zerolinecolor": "white"
           },
           "zaxis": {
            "backgroundcolor": "#E5ECF6",
            "gridcolor": "white",
            "gridwidth": 2,
            "linecolor": "white",
            "showbackground": true,
            "ticks": "",
            "zerolinecolor": "white"
           }
          },
          "shapedefaults": {
           "line": {
            "color": "#2a3f5f"
           }
          },
          "ternary": {
           "aaxis": {
            "gridcolor": "white",
            "linecolor": "white",
            "ticks": ""
           },
           "baxis": {
            "gridcolor": "white",
            "linecolor": "white",
            "ticks": ""
           },
           "bgcolor": "#E5ECF6",
           "caxis": {
            "gridcolor": "white",
            "linecolor": "white",
            "ticks": ""
           }
          },
          "title": {
           "x": 0.05
          },
          "xaxis": {
           "automargin": true,
           "gridcolor": "white",
           "linecolor": "white",
           "ticks": "",
           "title": {
            "standoff": 15
           },
           "zerolinecolor": "white",
           "zerolinewidth": 2
          },
          "yaxis": {
           "automargin": true,
           "gridcolor": "white",
           "linecolor": "white",
           "ticks": "",
           "title": {
            "standoff": 15
           },
           "zerolinecolor": "white",
           "zerolinewidth": 2
          }
         }
        },
        "width": 1000
       }
      }
     },
     "metadata": {},
     "output_type": "display_data"
    },
    {
     "name": "stdout",
     "output_type": "stream",
     "text": [
      "----------------------------------------------------\n",
      "\n",
      "\n",
      "ORS Estimated TT [213.57]\n",
      "ORS Estimated Distance [889.89]\n",
      "RouteID_5ab24a12-62bf-4b91-9b49-3be9c3509b7b 2018-07-21 15:30:00 149.3 173.1\n",
      "RouteID_80e69c6f-0817-46d9-ae76-926d2afc6fa7 2018-08-01 14:12:20 145.4 545.4\n"
     ]
    },
    {
     "data": {
      "application/vnd.plotly.v1+json": {
       "config": {
        "plotlyServerURL": "https://plot.ly"
       },
       "data": [
        {
         "lat": [
          30.161271,
          30.161199
         ],
         "lon": [
          -97.9378,
          -97.941299
         ],
         "marker": {
          "size": 10
         },
         "mode": "markers+text",
         "name": "RouteID_5ab24a12-62bf-4b91-9b49-3be9c3509b7b",
         "text": [
          "PT",
          "RS"
         ],
         "textfont": {
          "color": "white",
          "family": "sans serif",
          "size": 22
         },
         "type": "scattermapbox"
        }
       ],
       "layout": {
        "height": 600,
        "hovermode": "closest",
        "mapbox": {
         "accesstoken": "pk.eyJ1IjoibWF4LXNjaHJhZGVyIiwiYSI6ImNrOHQxZ2s3bDAwdXQzbG81NjZpZm96bDEifQ.etUi4OK4ozzaP_P8foZn_A",
         "bearing": 0,
         "center": {
          "lat": 38.880121574745694,
          "lon": -105.34294931025056
         },
         "pitch": 0,
         "style": "mapbox://styles/max-schrader/cl6lhvrfw001516pkh3s6iv7l",
         "zoom": 5
        },
        "template": {
         "data": {
          "bar": [
           {
            "error_x": {
             "color": "#2a3f5f"
            },
            "error_y": {
             "color": "#2a3f5f"
            },
            "marker": {
             "line": {
              "color": "#E5ECF6",
              "width": 0.5
             },
             "pattern": {
              "fillmode": "overlay",
              "size": 10,
              "solidity": 0.2
             }
            },
            "type": "bar"
           }
          ],
          "barpolar": [
           {
            "marker": {
             "line": {
              "color": "#E5ECF6",
              "width": 0.5
             },
             "pattern": {
              "fillmode": "overlay",
              "size": 10,
              "solidity": 0.2
             }
            },
            "type": "barpolar"
           }
          ],
          "carpet": [
           {
            "aaxis": {
             "endlinecolor": "#2a3f5f",
             "gridcolor": "white",
             "linecolor": "white",
             "minorgridcolor": "white",
             "startlinecolor": "#2a3f5f"
            },
            "baxis": {
             "endlinecolor": "#2a3f5f",
             "gridcolor": "white",
             "linecolor": "white",
             "minorgridcolor": "white",
             "startlinecolor": "#2a3f5f"
            },
            "type": "carpet"
           }
          ],
          "choropleth": [
           {
            "colorbar": {
             "outlinewidth": 0,
             "ticks": ""
            },
            "type": "choropleth"
           }
          ],
          "contour": [
           {
            "colorbar": {
             "outlinewidth": 0,
             "ticks": ""
            },
            "colorscale": [
             [
              0,
              "#0d0887"
             ],
             [
              0.1111111111111111,
              "#46039f"
             ],
             [
              0.2222222222222222,
              "#7201a8"
             ],
             [
              0.3333333333333333,
              "#9c179e"
             ],
             [
              0.4444444444444444,
              "#bd3786"
             ],
             [
              0.5555555555555556,
              "#d8576b"
             ],
             [
              0.6666666666666666,
              "#ed7953"
             ],
             [
              0.7777777777777778,
              "#fb9f3a"
             ],
             [
              0.8888888888888888,
              "#fdca26"
             ],
             [
              1,
              "#f0f921"
             ]
            ],
            "type": "contour"
           }
          ],
          "contourcarpet": [
           {
            "colorbar": {
             "outlinewidth": 0,
             "ticks": ""
            },
            "type": "contourcarpet"
           }
          ],
          "heatmap": [
           {
            "colorbar": {
             "outlinewidth": 0,
             "ticks": ""
            },
            "colorscale": [
             [
              0,
              "#0d0887"
             ],
             [
              0.1111111111111111,
              "#46039f"
             ],
             [
              0.2222222222222222,
              "#7201a8"
             ],
             [
              0.3333333333333333,
              "#9c179e"
             ],
             [
              0.4444444444444444,
              "#bd3786"
             ],
             [
              0.5555555555555556,
              "#d8576b"
             ],
             [
              0.6666666666666666,
              "#ed7953"
             ],
             [
              0.7777777777777778,
              "#fb9f3a"
             ],
             [
              0.8888888888888888,
              "#fdca26"
             ],
             [
              1,
              "#f0f921"
             ]
            ],
            "type": "heatmap"
           }
          ],
          "heatmapgl": [
           {
            "colorbar": {
             "outlinewidth": 0,
             "ticks": ""
            },
            "colorscale": [
             [
              0,
              "#0d0887"
             ],
             [
              0.1111111111111111,
              "#46039f"
             ],
             [
              0.2222222222222222,
              "#7201a8"
             ],
             [
              0.3333333333333333,
              "#9c179e"
             ],
             [
              0.4444444444444444,
              "#bd3786"
             ],
             [
              0.5555555555555556,
              "#d8576b"
             ],
             [
              0.6666666666666666,
              "#ed7953"
             ],
             [
              0.7777777777777778,
              "#fb9f3a"
             ],
             [
              0.8888888888888888,
              "#fdca26"
             ],
             [
              1,
              "#f0f921"
             ]
            ],
            "type": "heatmapgl"
           }
          ],
          "histogram": [
           {
            "marker": {
             "pattern": {
              "fillmode": "overlay",
              "size": 10,
              "solidity": 0.2
             }
            },
            "type": "histogram"
           }
          ],
          "histogram2d": [
           {
            "colorbar": {
             "outlinewidth": 0,
             "ticks": ""
            },
            "colorscale": [
             [
              0,
              "#0d0887"
             ],
             [
              0.1111111111111111,
              "#46039f"
             ],
             [
              0.2222222222222222,
              "#7201a8"
             ],
             [
              0.3333333333333333,
              "#9c179e"
             ],
             [
              0.4444444444444444,
              "#bd3786"
             ],
             [
              0.5555555555555556,
              "#d8576b"
             ],
             [
              0.6666666666666666,
              "#ed7953"
             ],
             [
              0.7777777777777778,
              "#fb9f3a"
             ],
             [
              0.8888888888888888,
              "#fdca26"
             ],
             [
              1,
              "#f0f921"
             ]
            ],
            "type": "histogram2d"
           }
          ],
          "histogram2dcontour": [
           {
            "colorbar": {
             "outlinewidth": 0,
             "ticks": ""
            },
            "colorscale": [
             [
              0,
              "#0d0887"
             ],
             [
              0.1111111111111111,
              "#46039f"
             ],
             [
              0.2222222222222222,
              "#7201a8"
             ],
             [
              0.3333333333333333,
              "#9c179e"
             ],
             [
              0.4444444444444444,
              "#bd3786"
             ],
             [
              0.5555555555555556,
              "#d8576b"
             ],
             [
              0.6666666666666666,
              "#ed7953"
             ],
             [
              0.7777777777777778,
              "#fb9f3a"
             ],
             [
              0.8888888888888888,
              "#fdca26"
             ],
             [
              1,
              "#f0f921"
             ]
            ],
            "type": "histogram2dcontour"
           }
          ],
          "mesh3d": [
           {
            "colorbar": {
             "outlinewidth": 0,
             "ticks": ""
            },
            "type": "mesh3d"
           }
          ],
          "parcoords": [
           {
            "line": {
             "colorbar": {
              "outlinewidth": 0,
              "ticks": ""
             }
            },
            "type": "parcoords"
           }
          ],
          "pie": [
           {
            "automargin": true,
            "type": "pie"
           }
          ],
          "scatter": [
           {
            "fillpattern": {
             "fillmode": "overlay",
             "size": 10,
             "solidity": 0.2
            },
            "type": "scatter"
           }
          ],
          "scatter3d": [
           {
            "line": {
             "colorbar": {
              "outlinewidth": 0,
              "ticks": ""
             }
            },
            "marker": {
             "colorbar": {
              "outlinewidth": 0,
              "ticks": ""
             }
            },
            "type": "scatter3d"
           }
          ],
          "scattercarpet": [
           {
            "marker": {
             "colorbar": {
              "outlinewidth": 0,
              "ticks": ""
             }
            },
            "type": "scattercarpet"
           }
          ],
          "scattergeo": [
           {
            "marker": {
             "colorbar": {
              "outlinewidth": 0,
              "ticks": ""
             }
            },
            "type": "scattergeo"
           }
          ],
          "scattergl": [
           {
            "marker": {
             "colorbar": {
              "outlinewidth": 0,
              "ticks": ""
             }
            },
            "type": "scattergl"
           }
          ],
          "scattermapbox": [
           {
            "marker": {
             "colorbar": {
              "outlinewidth": 0,
              "ticks": ""
             }
            },
            "type": "scattermapbox"
           }
          ],
          "scatterpolar": [
           {
            "marker": {
             "colorbar": {
              "outlinewidth": 0,
              "ticks": ""
             }
            },
            "type": "scatterpolar"
           }
          ],
          "scatterpolargl": [
           {
            "marker": {
             "colorbar": {
              "outlinewidth": 0,
              "ticks": ""
             }
            },
            "type": "scatterpolargl"
           }
          ],
          "scatterternary": [
           {
            "marker": {
             "colorbar": {
              "outlinewidth": 0,
              "ticks": ""
             }
            },
            "type": "scatterternary"
           }
          ],
          "surface": [
           {
            "colorbar": {
             "outlinewidth": 0,
             "ticks": ""
            },
            "colorscale": [
             [
              0,
              "#0d0887"
             ],
             [
              0.1111111111111111,
              "#46039f"
             ],
             [
              0.2222222222222222,
              "#7201a8"
             ],
             [
              0.3333333333333333,
              "#9c179e"
             ],
             [
              0.4444444444444444,
              "#bd3786"
             ],
             [
              0.5555555555555556,
              "#d8576b"
             ],
             [
              0.6666666666666666,
              "#ed7953"
             ],
             [
              0.7777777777777778,
              "#fb9f3a"
             ],
             [
              0.8888888888888888,
              "#fdca26"
             ],
             [
              1,
              "#f0f921"
             ]
            ],
            "type": "surface"
           }
          ],
          "table": [
           {
            "cells": {
             "fill": {
              "color": "#EBF0F8"
             },
             "line": {
              "color": "white"
             }
            },
            "header": {
             "fill": {
              "color": "#C8D4E3"
             },
             "line": {
              "color": "white"
             }
            },
            "type": "table"
           }
          ]
         },
         "layout": {
          "annotationdefaults": {
           "arrowcolor": "#2a3f5f",
           "arrowhead": 0,
           "arrowwidth": 1
          },
          "autotypenumbers": "strict",
          "coloraxis": {
           "colorbar": {
            "outlinewidth": 0,
            "ticks": ""
           }
          },
          "colorscale": {
           "diverging": [
            [
             0,
             "#8e0152"
            ],
            [
             0.1,
             "#c51b7d"
            ],
            [
             0.2,
             "#de77ae"
            ],
            [
             0.3,
             "#f1b6da"
            ],
            [
             0.4,
             "#fde0ef"
            ],
            [
             0.5,
             "#f7f7f7"
            ],
            [
             0.6,
             "#e6f5d0"
            ],
            [
             0.7,
             "#b8e186"
            ],
            [
             0.8,
             "#7fbc41"
            ],
            [
             0.9,
             "#4d9221"
            ],
            [
             1,
             "#276419"
            ]
           ],
           "sequential": [
            [
             0,
             "#0d0887"
            ],
            [
             0.1111111111111111,
             "#46039f"
            ],
            [
             0.2222222222222222,
             "#7201a8"
            ],
            [
             0.3333333333333333,
             "#9c179e"
            ],
            [
             0.4444444444444444,
             "#bd3786"
            ],
            [
             0.5555555555555556,
             "#d8576b"
            ],
            [
             0.6666666666666666,
             "#ed7953"
            ],
            [
             0.7777777777777778,
             "#fb9f3a"
            ],
            [
             0.8888888888888888,
             "#fdca26"
            ],
            [
             1,
             "#f0f921"
            ]
           ],
           "sequentialminus": [
            [
             0,
             "#0d0887"
            ],
            [
             0.1111111111111111,
             "#46039f"
            ],
            [
             0.2222222222222222,
             "#7201a8"
            ],
            [
             0.3333333333333333,
             "#9c179e"
            ],
            [
             0.4444444444444444,
             "#bd3786"
            ],
            [
             0.5555555555555556,
             "#d8576b"
            ],
            [
             0.6666666666666666,
             "#ed7953"
            ],
            [
             0.7777777777777778,
             "#fb9f3a"
            ],
            [
             0.8888888888888888,
             "#fdca26"
            ],
            [
             1,
             "#f0f921"
            ]
           ]
          },
          "colorway": [
           "#636efa",
           "#EF553B",
           "#00cc96",
           "#ab63fa",
           "#FFA15A",
           "#19d3f3",
           "#FF6692",
           "#B6E880",
           "#FF97FF",
           "#FECB52"
          ],
          "font": {
           "color": "#2a3f5f"
          },
          "geo": {
           "bgcolor": "white",
           "lakecolor": "white",
           "landcolor": "#E5ECF6",
           "showlakes": true,
           "showland": true,
           "subunitcolor": "white"
          },
          "hoverlabel": {
           "align": "left"
          },
          "hovermode": "closest",
          "mapbox": {
           "style": "light"
          },
          "paper_bgcolor": "white",
          "plot_bgcolor": "#E5ECF6",
          "polar": {
           "angularaxis": {
            "gridcolor": "white",
            "linecolor": "white",
            "ticks": ""
           },
           "bgcolor": "#E5ECF6",
           "radialaxis": {
            "gridcolor": "white",
            "linecolor": "white",
            "ticks": ""
           }
          },
          "scene": {
           "xaxis": {
            "backgroundcolor": "#E5ECF6",
            "gridcolor": "white",
            "gridwidth": 2,
            "linecolor": "white",
            "showbackground": true,
            "ticks": "",
            "zerolinecolor": "white"
           },
           "yaxis": {
            "backgroundcolor": "#E5ECF6",
            "gridcolor": "white",
            "gridwidth": 2,
            "linecolor": "white",
            "showbackground": true,
            "ticks": "",
            "zerolinecolor": "white"
           },
           "zaxis": {
            "backgroundcolor": "#E5ECF6",
            "gridcolor": "white",
            "gridwidth": 2,
            "linecolor": "white",
            "showbackground": true,
            "ticks": "",
            "zerolinecolor": "white"
           }
          },
          "shapedefaults": {
           "line": {
            "color": "#2a3f5f"
           }
          },
          "ternary": {
           "aaxis": {
            "gridcolor": "white",
            "linecolor": "white",
            "ticks": ""
           },
           "baxis": {
            "gridcolor": "white",
            "linecolor": "white",
            "ticks": ""
           },
           "bgcolor": "#E5ECF6",
           "caxis": {
            "gridcolor": "white",
            "linecolor": "white",
            "ticks": ""
           }
          },
          "title": {
           "x": 0.05
          },
          "xaxis": {
           "automargin": true,
           "gridcolor": "white",
           "linecolor": "white",
           "ticks": "",
           "title": {
            "standoff": 15
           },
           "zerolinecolor": "white",
           "zerolinewidth": 2
          },
          "yaxis": {
           "automargin": true,
           "gridcolor": "white",
           "linecolor": "white",
           "ticks": "",
           "title": {
            "standoff": 15
           },
           "zerolinecolor": "white",
           "zerolinewidth": 2
          }
         }
        },
        "width": 1000
       }
      }
     },
     "metadata": {},
     "output_type": "display_data"
    },
    {
     "name": "stdout",
     "output_type": "stream",
     "text": [
      "----------------------------------------------------\n",
      "\n",
      "\n",
      "ORS Estimated TT [42.89]\n",
      "ORS Estimated Distance [178.7]\n",
      "RouteID_2ddf94c5-f531-48b6-9d65-d8cc514285b2 2018-08-24 15:36:43 409.3 404.3\n",
      "RouteID_c383fc71-1659-4a1e-8421-c8a440d9f0f3 2018-08-17 15:30:28 52.5 65.7\n"
     ]
    },
    {
     "data": {
      "application/vnd.plotly.v1+json": {
       "config": {
        "plotlyServerURL": "https://plot.ly"
       },
       "data": [
        {
         "lat": [
          47.687208,
          47.687389
         ],
         "lon": [
          -122.294943,
          -122.292834
         ],
         "marker": {
          "size": 10
         },
         "mode": "markers+text",
         "name": "RouteID_2ddf94c5-f531-48b6-9d65-d8cc514285b2",
         "text": [
          "BN",
          "EG"
         ],
         "textfont": {
          "color": "white",
          "family": "sans serif",
          "size": 22
         },
         "type": "scattermapbox"
        }
       ],
       "layout": {
        "height": 600,
        "hovermode": "closest",
        "mapbox": {
         "accesstoken": "pk.eyJ1IjoibWF4LXNjaHJhZGVyIiwiYSI6ImNrOHQxZ2s3bDAwdXQzbG81NjZpZm96bDEifQ.etUi4OK4ozzaP_P8foZn_A",
         "bearing": 0,
         "center": {
          "lat": 38.880121574745694,
          "lon": -105.34294931025056
         },
         "pitch": 0,
         "style": "mapbox://styles/max-schrader/cl6lhvrfw001516pkh3s6iv7l",
         "zoom": 5
        },
        "template": {
         "data": {
          "bar": [
           {
            "error_x": {
             "color": "#2a3f5f"
            },
            "error_y": {
             "color": "#2a3f5f"
            },
            "marker": {
             "line": {
              "color": "#E5ECF6",
              "width": 0.5
             },
             "pattern": {
              "fillmode": "overlay",
              "size": 10,
              "solidity": 0.2
             }
            },
            "type": "bar"
           }
          ],
          "barpolar": [
           {
            "marker": {
             "line": {
              "color": "#E5ECF6",
              "width": 0.5
             },
             "pattern": {
              "fillmode": "overlay",
              "size": 10,
              "solidity": 0.2
             }
            },
            "type": "barpolar"
           }
          ],
          "carpet": [
           {
            "aaxis": {
             "endlinecolor": "#2a3f5f",
             "gridcolor": "white",
             "linecolor": "white",
             "minorgridcolor": "white",
             "startlinecolor": "#2a3f5f"
            },
            "baxis": {
             "endlinecolor": "#2a3f5f",
             "gridcolor": "white",
             "linecolor": "white",
             "minorgridcolor": "white",
             "startlinecolor": "#2a3f5f"
            },
            "type": "carpet"
           }
          ],
          "choropleth": [
           {
            "colorbar": {
             "outlinewidth": 0,
             "ticks": ""
            },
            "type": "choropleth"
           }
          ],
          "contour": [
           {
            "colorbar": {
             "outlinewidth": 0,
             "ticks": ""
            },
            "colorscale": [
             [
              0,
              "#0d0887"
             ],
             [
              0.1111111111111111,
              "#46039f"
             ],
             [
              0.2222222222222222,
              "#7201a8"
             ],
             [
              0.3333333333333333,
              "#9c179e"
             ],
             [
              0.4444444444444444,
              "#bd3786"
             ],
             [
              0.5555555555555556,
              "#d8576b"
             ],
             [
              0.6666666666666666,
              "#ed7953"
             ],
             [
              0.7777777777777778,
              "#fb9f3a"
             ],
             [
              0.8888888888888888,
              "#fdca26"
             ],
             [
              1,
              "#f0f921"
             ]
            ],
            "type": "contour"
           }
          ],
          "contourcarpet": [
           {
            "colorbar": {
             "outlinewidth": 0,
             "ticks": ""
            },
            "type": "contourcarpet"
           }
          ],
          "heatmap": [
           {
            "colorbar": {
             "outlinewidth": 0,
             "ticks": ""
            },
            "colorscale": [
             [
              0,
              "#0d0887"
             ],
             [
              0.1111111111111111,
              "#46039f"
             ],
             [
              0.2222222222222222,
              "#7201a8"
             ],
             [
              0.3333333333333333,
              "#9c179e"
             ],
             [
              0.4444444444444444,
              "#bd3786"
             ],
             [
              0.5555555555555556,
              "#d8576b"
             ],
             [
              0.6666666666666666,
              "#ed7953"
             ],
             [
              0.7777777777777778,
              "#fb9f3a"
             ],
             [
              0.8888888888888888,
              "#fdca26"
             ],
             [
              1,
              "#f0f921"
             ]
            ],
            "type": "heatmap"
           }
          ],
          "heatmapgl": [
           {
            "colorbar": {
             "outlinewidth": 0,
             "ticks": ""
            },
            "colorscale": [
             [
              0,
              "#0d0887"
             ],
             [
              0.1111111111111111,
              "#46039f"
             ],
             [
              0.2222222222222222,
              "#7201a8"
             ],
             [
              0.3333333333333333,
              "#9c179e"
             ],
             [
              0.4444444444444444,
              "#bd3786"
             ],
             [
              0.5555555555555556,
              "#d8576b"
             ],
             [
              0.6666666666666666,
              "#ed7953"
             ],
             [
              0.7777777777777778,
              "#fb9f3a"
             ],
             [
              0.8888888888888888,
              "#fdca26"
             ],
             [
              1,
              "#f0f921"
             ]
            ],
            "type": "heatmapgl"
           }
          ],
          "histogram": [
           {
            "marker": {
             "pattern": {
              "fillmode": "overlay",
              "size": 10,
              "solidity": 0.2
             }
            },
            "type": "histogram"
           }
          ],
          "histogram2d": [
           {
            "colorbar": {
             "outlinewidth": 0,
             "ticks": ""
            },
            "colorscale": [
             [
              0,
              "#0d0887"
             ],
             [
              0.1111111111111111,
              "#46039f"
             ],
             [
              0.2222222222222222,
              "#7201a8"
             ],
             [
              0.3333333333333333,
              "#9c179e"
             ],
             [
              0.4444444444444444,
              "#bd3786"
             ],
             [
              0.5555555555555556,
              "#d8576b"
             ],
             [
              0.6666666666666666,
              "#ed7953"
             ],
             [
              0.7777777777777778,
              "#fb9f3a"
             ],
             [
              0.8888888888888888,
              "#fdca26"
             ],
             [
              1,
              "#f0f921"
             ]
            ],
            "type": "histogram2d"
           }
          ],
          "histogram2dcontour": [
           {
            "colorbar": {
             "outlinewidth": 0,
             "ticks": ""
            },
            "colorscale": [
             [
              0,
              "#0d0887"
             ],
             [
              0.1111111111111111,
              "#46039f"
             ],
             [
              0.2222222222222222,
              "#7201a8"
             ],
             [
              0.3333333333333333,
              "#9c179e"
             ],
             [
              0.4444444444444444,
              "#bd3786"
             ],
             [
              0.5555555555555556,
              "#d8576b"
             ],
             [
              0.6666666666666666,
              "#ed7953"
             ],
             [
              0.7777777777777778,
              "#fb9f3a"
             ],
             [
              0.8888888888888888,
              "#fdca26"
             ],
             [
              1,
              "#f0f921"
             ]
            ],
            "type": "histogram2dcontour"
           }
          ],
          "mesh3d": [
           {
            "colorbar": {
             "outlinewidth": 0,
             "ticks": ""
            },
            "type": "mesh3d"
           }
          ],
          "parcoords": [
           {
            "line": {
             "colorbar": {
              "outlinewidth": 0,
              "ticks": ""
             }
            },
            "type": "parcoords"
           }
          ],
          "pie": [
           {
            "automargin": true,
            "type": "pie"
           }
          ],
          "scatter": [
           {
            "fillpattern": {
             "fillmode": "overlay",
             "size": 10,
             "solidity": 0.2
            },
            "type": "scatter"
           }
          ],
          "scatter3d": [
           {
            "line": {
             "colorbar": {
              "outlinewidth": 0,
              "ticks": ""
             }
            },
            "marker": {
             "colorbar": {
              "outlinewidth": 0,
              "ticks": ""
             }
            },
            "type": "scatter3d"
           }
          ],
          "scattercarpet": [
           {
            "marker": {
             "colorbar": {
              "outlinewidth": 0,
              "ticks": ""
             }
            },
            "type": "scattercarpet"
           }
          ],
          "scattergeo": [
           {
            "marker": {
             "colorbar": {
              "outlinewidth": 0,
              "ticks": ""
             }
            },
            "type": "scattergeo"
           }
          ],
          "scattergl": [
           {
            "marker": {
             "colorbar": {
              "outlinewidth": 0,
              "ticks": ""
             }
            },
            "type": "scattergl"
           }
          ],
          "scattermapbox": [
           {
            "marker": {
             "colorbar": {
              "outlinewidth": 0,
              "ticks": ""
             }
            },
            "type": "scattermapbox"
           }
          ],
          "scatterpolar": [
           {
            "marker": {
             "colorbar": {
              "outlinewidth": 0,
              "ticks": ""
             }
            },
            "type": "scatterpolar"
           }
          ],
          "scatterpolargl": [
           {
            "marker": {
             "colorbar": {
              "outlinewidth": 0,
              "ticks": ""
             }
            },
            "type": "scatterpolargl"
           }
          ],
          "scatterternary": [
           {
            "marker": {
             "colorbar": {
              "outlinewidth": 0,
              "ticks": ""
             }
            },
            "type": "scatterternary"
           }
          ],
          "surface": [
           {
            "colorbar": {
             "outlinewidth": 0,
             "ticks": ""
            },
            "colorscale": [
             [
              0,
              "#0d0887"
             ],
             [
              0.1111111111111111,
              "#46039f"
             ],
             [
              0.2222222222222222,
              "#7201a8"
             ],
             [
              0.3333333333333333,
              "#9c179e"
             ],
             [
              0.4444444444444444,
              "#bd3786"
             ],
             [
              0.5555555555555556,
              "#d8576b"
             ],
             [
              0.6666666666666666,
              "#ed7953"
             ],
             [
              0.7777777777777778,
              "#fb9f3a"
             ],
             [
              0.8888888888888888,
              "#fdca26"
             ],
             [
              1,
              "#f0f921"
             ]
            ],
            "type": "surface"
           }
          ],
          "table": [
           {
            "cells": {
             "fill": {
              "color": "#EBF0F8"
             },
             "line": {
              "color": "white"
             }
            },
            "header": {
             "fill": {
              "color": "#C8D4E3"
             },
             "line": {
              "color": "white"
             }
            },
            "type": "table"
           }
          ]
         },
         "layout": {
          "annotationdefaults": {
           "arrowcolor": "#2a3f5f",
           "arrowhead": 0,
           "arrowwidth": 1
          },
          "autotypenumbers": "strict",
          "coloraxis": {
           "colorbar": {
            "outlinewidth": 0,
            "ticks": ""
           }
          },
          "colorscale": {
           "diverging": [
            [
             0,
             "#8e0152"
            ],
            [
             0.1,
             "#c51b7d"
            ],
            [
             0.2,
             "#de77ae"
            ],
            [
             0.3,
             "#f1b6da"
            ],
            [
             0.4,
             "#fde0ef"
            ],
            [
             0.5,
             "#f7f7f7"
            ],
            [
             0.6,
             "#e6f5d0"
            ],
            [
             0.7,
             "#b8e186"
            ],
            [
             0.8,
             "#7fbc41"
            ],
            [
             0.9,
             "#4d9221"
            ],
            [
             1,
             "#276419"
            ]
           ],
           "sequential": [
            [
             0,
             "#0d0887"
            ],
            [
             0.1111111111111111,
             "#46039f"
            ],
            [
             0.2222222222222222,
             "#7201a8"
            ],
            [
             0.3333333333333333,
             "#9c179e"
            ],
            [
             0.4444444444444444,
             "#bd3786"
            ],
            [
             0.5555555555555556,
             "#d8576b"
            ],
            [
             0.6666666666666666,
             "#ed7953"
            ],
            [
             0.7777777777777778,
             "#fb9f3a"
            ],
            [
             0.8888888888888888,
             "#fdca26"
            ],
            [
             1,
             "#f0f921"
            ]
           ],
           "sequentialminus": [
            [
             0,
             "#0d0887"
            ],
            [
             0.1111111111111111,
             "#46039f"
            ],
            [
             0.2222222222222222,
             "#7201a8"
            ],
            [
             0.3333333333333333,
             "#9c179e"
            ],
            [
             0.4444444444444444,
             "#bd3786"
            ],
            [
             0.5555555555555556,
             "#d8576b"
            ],
            [
             0.6666666666666666,
             "#ed7953"
            ],
            [
             0.7777777777777778,
             "#fb9f3a"
            ],
            [
             0.8888888888888888,
             "#fdca26"
            ],
            [
             1,
             "#f0f921"
            ]
           ]
          },
          "colorway": [
           "#636efa",
           "#EF553B",
           "#00cc96",
           "#ab63fa",
           "#FFA15A",
           "#19d3f3",
           "#FF6692",
           "#B6E880",
           "#FF97FF",
           "#FECB52"
          ],
          "font": {
           "color": "#2a3f5f"
          },
          "geo": {
           "bgcolor": "white",
           "lakecolor": "white",
           "landcolor": "#E5ECF6",
           "showlakes": true,
           "showland": true,
           "subunitcolor": "white"
          },
          "hoverlabel": {
           "align": "left"
          },
          "hovermode": "closest",
          "mapbox": {
           "style": "light"
          },
          "paper_bgcolor": "white",
          "plot_bgcolor": "#E5ECF6",
          "polar": {
           "angularaxis": {
            "gridcolor": "white",
            "linecolor": "white",
            "ticks": ""
           },
           "bgcolor": "#E5ECF6",
           "radialaxis": {
            "gridcolor": "white",
            "linecolor": "white",
            "ticks": ""
           }
          },
          "scene": {
           "xaxis": {
            "backgroundcolor": "#E5ECF6",
            "gridcolor": "white",
            "gridwidth": 2,
            "linecolor": "white",
            "showbackground": true,
            "ticks": "",
            "zerolinecolor": "white"
           },
           "yaxis": {
            "backgroundcolor": "#E5ECF6",
            "gridcolor": "white",
            "gridwidth": 2,
            "linecolor": "white",
            "showbackground": true,
            "ticks": "",
            "zerolinecolor": "white"
           },
           "zaxis": {
            "backgroundcolor": "#E5ECF6",
            "gridcolor": "white",
            "gridwidth": 2,
            "linecolor": "white",
            "showbackground": true,
            "ticks": "",
            "zerolinecolor": "white"
           }
          },
          "shapedefaults": {
           "line": {
            "color": "#2a3f5f"
           }
          },
          "ternary": {
           "aaxis": {
            "gridcolor": "white",
            "linecolor": "white",
            "ticks": ""
           },
           "baxis": {
            "gridcolor": "white",
            "linecolor": "white",
            "ticks": ""
           },
           "bgcolor": "#E5ECF6",
           "caxis": {
            "gridcolor": "white",
            "linecolor": "white",
            "ticks": ""
           }
          },
          "title": {
           "x": 0.05
          },
          "xaxis": {
           "automargin": true,
           "gridcolor": "white",
           "linecolor": "white",
           "ticks": "",
           "title": {
            "standoff": 15
           },
           "zerolinecolor": "white",
           "zerolinewidth": 2
          },
          "yaxis": {
           "automargin": true,
           "gridcolor": "white",
           "linecolor": "white",
           "ticks": "",
           "title": {
            "standoff": 15
           },
           "zerolinecolor": "white",
           "zerolinewidth": 2
          }
         }
        },
        "width": 1000
       }
      }
     },
     "metadata": {},
     "output_type": "display_data"
    },
    {
     "name": "stdout",
     "output_type": "stream",
     "text": [
      "----------------------------------------------------\n",
      "\n",
      "\n",
      "ORS Estimated TT [150.05]\n",
      "ORS Estimated Distance [1863.69]\n",
      "RouteID_1102698e-232b-46cb-b52f-ec3f97a11dbe 2018-07-20 14:32:08 155.5 148.3\n",
      "RouteID_5461ac15-4445-49d2-997e-29ceb4d32335 2018-08-14 15:00:00 210.4 458.7\n"
     ]
    },
    {
     "data": {
      "application/vnd.plotly.v1+json": {
       "config": {
        "plotlyServerURL": "https://plot.ly"
       },
       "data": [
        {
         "lat": [
          33.634959,
          33.629099
         ],
         "lon": [
          -117.754555,
          -117.755589
         ],
         "marker": {
          "size": 10
         },
         "mode": "markers+text",
         "name": "RouteID_1102698e-232b-46cb-b52f-ec3f97a11dbe",
         "text": [
          "ZO",
          "FZ"
         ],
         "textfont": {
          "color": "white",
          "family": "sans serif",
          "size": 22
         },
         "type": "scattermapbox"
        }
       ],
       "layout": {
        "height": 600,
        "hovermode": "closest",
        "mapbox": {
         "accesstoken": "pk.eyJ1IjoibWF4LXNjaHJhZGVyIiwiYSI6ImNrOHQxZ2s3bDAwdXQzbG81NjZpZm96bDEifQ.etUi4OK4ozzaP_P8foZn_A",
         "bearing": 0,
         "center": {
          "lat": 38.880121574745694,
          "lon": -105.34294931025056
         },
         "pitch": 0,
         "style": "mapbox://styles/max-schrader/cl6lhvrfw001516pkh3s6iv7l",
         "zoom": 5
        },
        "template": {
         "data": {
          "bar": [
           {
            "error_x": {
             "color": "#2a3f5f"
            },
            "error_y": {
             "color": "#2a3f5f"
            },
            "marker": {
             "line": {
              "color": "#E5ECF6",
              "width": 0.5
             },
             "pattern": {
              "fillmode": "overlay",
              "size": 10,
              "solidity": 0.2
             }
            },
            "type": "bar"
           }
          ],
          "barpolar": [
           {
            "marker": {
             "line": {
              "color": "#E5ECF6",
              "width": 0.5
             },
             "pattern": {
              "fillmode": "overlay",
              "size": 10,
              "solidity": 0.2
             }
            },
            "type": "barpolar"
           }
          ],
          "carpet": [
           {
            "aaxis": {
             "endlinecolor": "#2a3f5f",
             "gridcolor": "white",
             "linecolor": "white",
             "minorgridcolor": "white",
             "startlinecolor": "#2a3f5f"
            },
            "baxis": {
             "endlinecolor": "#2a3f5f",
             "gridcolor": "white",
             "linecolor": "white",
             "minorgridcolor": "white",
             "startlinecolor": "#2a3f5f"
            },
            "type": "carpet"
           }
          ],
          "choropleth": [
           {
            "colorbar": {
             "outlinewidth": 0,
             "ticks": ""
            },
            "type": "choropleth"
           }
          ],
          "contour": [
           {
            "colorbar": {
             "outlinewidth": 0,
             "ticks": ""
            },
            "colorscale": [
             [
              0,
              "#0d0887"
             ],
             [
              0.1111111111111111,
              "#46039f"
             ],
             [
              0.2222222222222222,
              "#7201a8"
             ],
             [
              0.3333333333333333,
              "#9c179e"
             ],
             [
              0.4444444444444444,
              "#bd3786"
             ],
             [
              0.5555555555555556,
              "#d8576b"
             ],
             [
              0.6666666666666666,
              "#ed7953"
             ],
             [
              0.7777777777777778,
              "#fb9f3a"
             ],
             [
              0.8888888888888888,
              "#fdca26"
             ],
             [
              1,
              "#f0f921"
             ]
            ],
            "type": "contour"
           }
          ],
          "contourcarpet": [
           {
            "colorbar": {
             "outlinewidth": 0,
             "ticks": ""
            },
            "type": "contourcarpet"
           }
          ],
          "heatmap": [
           {
            "colorbar": {
             "outlinewidth": 0,
             "ticks": ""
            },
            "colorscale": [
             [
              0,
              "#0d0887"
             ],
             [
              0.1111111111111111,
              "#46039f"
             ],
             [
              0.2222222222222222,
              "#7201a8"
             ],
             [
              0.3333333333333333,
              "#9c179e"
             ],
             [
              0.4444444444444444,
              "#bd3786"
             ],
             [
              0.5555555555555556,
              "#d8576b"
             ],
             [
              0.6666666666666666,
              "#ed7953"
             ],
             [
              0.7777777777777778,
              "#fb9f3a"
             ],
             [
              0.8888888888888888,
              "#fdca26"
             ],
             [
              1,
              "#f0f921"
             ]
            ],
            "type": "heatmap"
           }
          ],
          "heatmapgl": [
           {
            "colorbar": {
             "outlinewidth": 0,
             "ticks": ""
            },
            "colorscale": [
             [
              0,
              "#0d0887"
             ],
             [
              0.1111111111111111,
              "#46039f"
             ],
             [
              0.2222222222222222,
              "#7201a8"
             ],
             [
              0.3333333333333333,
              "#9c179e"
             ],
             [
              0.4444444444444444,
              "#bd3786"
             ],
             [
              0.5555555555555556,
              "#d8576b"
             ],
             [
              0.6666666666666666,
              "#ed7953"
             ],
             [
              0.7777777777777778,
              "#fb9f3a"
             ],
             [
              0.8888888888888888,
              "#fdca26"
             ],
             [
              1,
              "#f0f921"
             ]
            ],
            "type": "heatmapgl"
           }
          ],
          "histogram": [
           {
            "marker": {
             "pattern": {
              "fillmode": "overlay",
              "size": 10,
              "solidity": 0.2
             }
            },
            "type": "histogram"
           }
          ],
          "histogram2d": [
           {
            "colorbar": {
             "outlinewidth": 0,
             "ticks": ""
            },
            "colorscale": [
             [
              0,
              "#0d0887"
             ],
             [
              0.1111111111111111,
              "#46039f"
             ],
             [
              0.2222222222222222,
              "#7201a8"
             ],
             [
              0.3333333333333333,
              "#9c179e"
             ],
             [
              0.4444444444444444,
              "#bd3786"
             ],
             [
              0.5555555555555556,
              "#d8576b"
             ],
             [
              0.6666666666666666,
              "#ed7953"
             ],
             [
              0.7777777777777778,
              "#fb9f3a"
             ],
             [
              0.8888888888888888,
              "#fdca26"
             ],
             [
              1,
              "#f0f921"
             ]
            ],
            "type": "histogram2d"
           }
          ],
          "histogram2dcontour": [
           {
            "colorbar": {
             "outlinewidth": 0,
             "ticks": ""
            },
            "colorscale": [
             [
              0,
              "#0d0887"
             ],
             [
              0.1111111111111111,
              "#46039f"
             ],
             [
              0.2222222222222222,
              "#7201a8"
             ],
             [
              0.3333333333333333,
              "#9c179e"
             ],
             [
              0.4444444444444444,
              "#bd3786"
             ],
             [
              0.5555555555555556,
              "#d8576b"
             ],
             [
              0.6666666666666666,
              "#ed7953"
             ],
             [
              0.7777777777777778,
              "#fb9f3a"
             ],
             [
              0.8888888888888888,
              "#fdca26"
             ],
             [
              1,
              "#f0f921"
             ]
            ],
            "type": "histogram2dcontour"
           }
          ],
          "mesh3d": [
           {
            "colorbar": {
             "outlinewidth": 0,
             "ticks": ""
            },
            "type": "mesh3d"
           }
          ],
          "parcoords": [
           {
            "line": {
             "colorbar": {
              "outlinewidth": 0,
              "ticks": ""
             }
            },
            "type": "parcoords"
           }
          ],
          "pie": [
           {
            "automargin": true,
            "type": "pie"
           }
          ],
          "scatter": [
           {
            "fillpattern": {
             "fillmode": "overlay",
             "size": 10,
             "solidity": 0.2
            },
            "type": "scatter"
           }
          ],
          "scatter3d": [
           {
            "line": {
             "colorbar": {
              "outlinewidth": 0,
              "ticks": ""
             }
            },
            "marker": {
             "colorbar": {
              "outlinewidth": 0,
              "ticks": ""
             }
            },
            "type": "scatter3d"
           }
          ],
          "scattercarpet": [
           {
            "marker": {
             "colorbar": {
              "outlinewidth": 0,
              "ticks": ""
             }
            },
            "type": "scattercarpet"
           }
          ],
          "scattergeo": [
           {
            "marker": {
             "colorbar": {
              "outlinewidth": 0,
              "ticks": ""
             }
            },
            "type": "scattergeo"
           }
          ],
          "scattergl": [
           {
            "marker": {
             "colorbar": {
              "outlinewidth": 0,
              "ticks": ""
             }
            },
            "type": "scattergl"
           }
          ],
          "scattermapbox": [
           {
            "marker": {
             "colorbar": {
              "outlinewidth": 0,
              "ticks": ""
             }
            },
            "type": "scattermapbox"
           }
          ],
          "scatterpolar": [
           {
            "marker": {
             "colorbar": {
              "outlinewidth": 0,
              "ticks": ""
             }
            },
            "type": "scatterpolar"
           }
          ],
          "scatterpolargl": [
           {
            "marker": {
             "colorbar": {
              "outlinewidth": 0,
              "ticks": ""
             }
            },
            "type": "scatterpolargl"
           }
          ],
          "scatterternary": [
           {
            "marker": {
             "colorbar": {
              "outlinewidth": 0,
              "ticks": ""
             }
            },
            "type": "scatterternary"
           }
          ],
          "surface": [
           {
            "colorbar": {
             "outlinewidth": 0,
             "ticks": ""
            },
            "colorscale": [
             [
              0,
              "#0d0887"
             ],
             [
              0.1111111111111111,
              "#46039f"
             ],
             [
              0.2222222222222222,
              "#7201a8"
             ],
             [
              0.3333333333333333,
              "#9c179e"
             ],
             [
              0.4444444444444444,
              "#bd3786"
             ],
             [
              0.5555555555555556,
              "#d8576b"
             ],
             [
              0.6666666666666666,
              "#ed7953"
             ],
             [
              0.7777777777777778,
              "#fb9f3a"
             ],
             [
              0.8888888888888888,
              "#fdca26"
             ],
             [
              1,
              "#f0f921"
             ]
            ],
            "type": "surface"
           }
          ],
          "table": [
           {
            "cells": {
             "fill": {
              "color": "#EBF0F8"
             },
             "line": {
              "color": "white"
             }
            },
            "header": {
             "fill": {
              "color": "#C8D4E3"
             },
             "line": {
              "color": "white"
             }
            },
            "type": "table"
           }
          ]
         },
         "layout": {
          "annotationdefaults": {
           "arrowcolor": "#2a3f5f",
           "arrowhead": 0,
           "arrowwidth": 1
          },
          "autotypenumbers": "strict",
          "coloraxis": {
           "colorbar": {
            "outlinewidth": 0,
            "ticks": ""
           }
          },
          "colorscale": {
           "diverging": [
            [
             0,
             "#8e0152"
            ],
            [
             0.1,
             "#c51b7d"
            ],
            [
             0.2,
             "#de77ae"
            ],
            [
             0.3,
             "#f1b6da"
            ],
            [
             0.4,
             "#fde0ef"
            ],
            [
             0.5,
             "#f7f7f7"
            ],
            [
             0.6,
             "#e6f5d0"
            ],
            [
             0.7,
             "#b8e186"
            ],
            [
             0.8,
             "#7fbc41"
            ],
            [
             0.9,
             "#4d9221"
            ],
            [
             1,
             "#276419"
            ]
           ],
           "sequential": [
            [
             0,
             "#0d0887"
            ],
            [
             0.1111111111111111,
             "#46039f"
            ],
            [
             0.2222222222222222,
             "#7201a8"
            ],
            [
             0.3333333333333333,
             "#9c179e"
            ],
            [
             0.4444444444444444,
             "#bd3786"
            ],
            [
             0.5555555555555556,
             "#d8576b"
            ],
            [
             0.6666666666666666,
             "#ed7953"
            ],
            [
             0.7777777777777778,
             "#fb9f3a"
            ],
            [
             0.8888888888888888,
             "#fdca26"
            ],
            [
             1,
             "#f0f921"
            ]
           ],
           "sequentialminus": [
            [
             0,
             "#0d0887"
            ],
            [
             0.1111111111111111,
             "#46039f"
            ],
            [
             0.2222222222222222,
             "#7201a8"
            ],
            [
             0.3333333333333333,
             "#9c179e"
            ],
            [
             0.4444444444444444,
             "#bd3786"
            ],
            [
             0.5555555555555556,
             "#d8576b"
            ],
            [
             0.6666666666666666,
             "#ed7953"
            ],
            [
             0.7777777777777778,
             "#fb9f3a"
            ],
            [
             0.8888888888888888,
             "#fdca26"
            ],
            [
             1,
             "#f0f921"
            ]
           ]
          },
          "colorway": [
           "#636efa",
           "#EF553B",
           "#00cc96",
           "#ab63fa",
           "#FFA15A",
           "#19d3f3",
           "#FF6692",
           "#B6E880",
           "#FF97FF",
           "#FECB52"
          ],
          "font": {
           "color": "#2a3f5f"
          },
          "geo": {
           "bgcolor": "white",
           "lakecolor": "white",
           "landcolor": "#E5ECF6",
           "showlakes": true,
           "showland": true,
           "subunitcolor": "white"
          },
          "hoverlabel": {
           "align": "left"
          },
          "hovermode": "closest",
          "mapbox": {
           "style": "light"
          },
          "paper_bgcolor": "white",
          "plot_bgcolor": "#E5ECF6",
          "polar": {
           "angularaxis": {
            "gridcolor": "white",
            "linecolor": "white",
            "ticks": ""
           },
           "bgcolor": "#E5ECF6",
           "radialaxis": {
            "gridcolor": "white",
            "linecolor": "white",
            "ticks": ""
           }
          },
          "scene": {
           "xaxis": {
            "backgroundcolor": "#E5ECF6",
            "gridcolor": "white",
            "gridwidth": 2,
            "linecolor": "white",
            "showbackground": true,
            "ticks": "",
            "zerolinecolor": "white"
           },
           "yaxis": {
            "backgroundcolor": "#E5ECF6",
            "gridcolor": "white",
            "gridwidth": 2,
            "linecolor": "white",
            "showbackground": true,
            "ticks": "",
            "zerolinecolor": "white"
           },
           "zaxis": {
            "backgroundcolor": "#E5ECF6",
            "gridcolor": "white",
            "gridwidth": 2,
            "linecolor": "white",
            "showbackground": true,
            "ticks": "",
            "zerolinecolor": "white"
           }
          },
          "shapedefaults": {
           "line": {
            "color": "#2a3f5f"
           }
          },
          "ternary": {
           "aaxis": {
            "gridcolor": "white",
            "linecolor": "white",
            "ticks": ""
           },
           "baxis": {
            "gridcolor": "white",
            "linecolor": "white",
            "ticks": ""
           },
           "bgcolor": "#E5ECF6",
           "caxis": {
            "gridcolor": "white",
            "linecolor": "white",
            "ticks": ""
           }
          },
          "title": {
           "x": 0.05
          },
          "xaxis": {
           "automargin": true,
           "gridcolor": "white",
           "linecolor": "white",
           "ticks": "",
           "title": {
            "standoff": 15
           },
           "zerolinecolor": "white",
           "zerolinewidth": 2
          },
          "yaxis": {
           "automargin": true,
           "gridcolor": "white",
           "linecolor": "white",
           "ticks": "",
           "title": {
            "standoff": 15
           },
           "zerolinecolor": "white",
           "zerolinewidth": 2
          }
         }
        },
        "width": 1000
       }
      }
     },
     "metadata": {},
     "output_type": "display_data"
    },
    {
     "name": "stdout",
     "output_type": "stream",
     "text": [
      "----------------------------------------------------\n",
      "\n",
      "\n"
     ]
    }
   ],
   "source": [
    "\n",
    "def make_fig(trace):\n",
    "\n",
    "    fig = go.Figure()\n",
    "\n",
    "    fig.update_layout(\n",
    "        # autosize=True,\n",
    "        # showlegend=False,\n",
    "        height=600,\n",
    "        width=1000,\n",
    "        hovermode=\"closest\",\n",
    "        mapbox=go.layout.Mapbox(\n",
    "            accesstoken=os.environ[\"MAPBOX_KEY\"],\n",
    "            # style=\"mapbox://styles/max-schrader/ck8t1cmmc02wk1it9rv28iyte\",\n",
    "            style=\"mapbox://styles/max-schrader/cl6lhvrfw001516pkh3s6iv7l\",\n",
    "            bearing=0,\n",
    "            center=go.layout.mapbox.Center(\n",
    "                lat=route_df[\"lat\"].mean(), lon=route_df[\"lng\"].mean()\n",
    "            ),\n",
    "            pitch=0,\n",
    "            zoom=5,\n",
    "        ),\n",
    "        # margin=go.layout.Margin(l=0, r=0, t=0, b=0),\n",
    "    )\n",
    "\n",
    "    fig.add_trace(\n",
    "        trace\n",
    "    )\n",
    "\n",
    "    return fig\n",
    "\n",
    "\n",
    "for j in range(5):\n",
    "    i = 0\n",
    "    _r = tt_df.sort_values(('tt_diff', ''), ascending=False).iloc[j]\n",
    "    for r_id, r_stops in [[_r.route_1.values[0], (_r[('r1', 'to_id')], _r[('r1', 'from_id')])], [_r.route_2.values[0], (_r[('r2', 'to_id')], _r[('r2', 'from_id')])]]:\n",
    "        _df = route_df.loc[(route_df.route_id == r_id) & (route_df.stop_id.isin(r_stops))]\n",
    "        if i == 0:\n",
    "            res = get_ors_travel_time([_r[(\"to\", \"\")][::-1], _r[(\"from\", \"\")][::-1]], [1])\n",
    "            print(\"ORS Estimated TT\", res['durations'][0])\n",
    "            print(\"ORS Estimated Distance\", res['distances'][0])\n",
    "            i += 1\n",
    "            fig = make_fig(\n",
    "            go.Scattermapbox(\n",
    "                name=r_id,\n",
    "                lat=_df[\"lat\"],\n",
    "                lon=_df[\"lng\"],\n",
    "                mode=\"markers+text\",\n",
    "                marker=dict(\n",
    "                    size=10,\n",
    "                ),\n",
    "                text=r_stops,\n",
    "                textfont=dict(\n",
    "                    family=\"sans serif\",\n",
    "                    size=22,\n",
    "                    # weight=5,\n",
    "                    color=\"white\"\n",
    "                ),\n",
    "            )\n",
    "            )\n",
    "        print(r_id, _df.departure_datetime.unique()[0], tt_json[r_id][r_stops[0]][r_stops[1]], tt_json[r_id][r_stops[1]][r_stops[0]])\n",
    "    fig.show()\n",
    "\n",
    "    print(\"----------------------------------------------------\\n\\n\")\n",
    "\n"
   ]
  },
  {
   "cell_type": "code",
   "execution_count": 39,
   "metadata": {},
   "outputs": [
    {
     "data": {
      "text/html": [
       "<div>\n",
       "<style scoped>\n",
       "    .dataframe tbody tr th:only-of-type {\n",
       "        vertical-align: middle;\n",
       "    }\n",
       "\n",
       "    .dataframe tbody tr th {\n",
       "        vertical-align: top;\n",
       "    }\n",
       "\n",
       "    .dataframe thead th {\n",
       "        text-align: right;\n",
       "    }\n",
       "</style>\n",
       "<table border=\"1\" class=\"dataframe\">\n",
       "  <thead>\n",
       "    <tr style=\"text-align: right;\">\n",
       "      <th></th>\n",
       "      <th></th>\n",
       "      <th>max</th>\n",
       "      <th>count</th>\n",
       "      <th>std</th>\n",
       "      <th>mean</th>\n",
       "    </tr>\n",
       "    <tr>\n",
       "      <th>(from, )</th>\n",
       "      <th>(to, )</th>\n",
       "      <th></th>\n",
       "      <th></th>\n",
       "      <th></th>\n",
       "      <th></th>\n",
       "    </tr>\n",
       "  </thead>\n",
       "  <tbody>\n",
       "    <tr>\n",
       "      <th>(47.464945, -122.231073)</th>\n",
       "      <th>(47.517331, -122.367252)</th>\n",
       "      <td>0.0</td>\n",
       "      <td>28</td>\n",
       "      <td>0.000000</td>\n",
       "      <td>0.000000</td>\n",
       "    </tr>\n",
       "    <tr>\n",
       "      <th rowspan=\"3\" valign=\"top\">(47.937344, -122.244952)</th>\n",
       "      <th>(47.681563, -122.317502)</th>\n",
       "      <td>36.0</td>\n",
       "      <td>28</td>\n",
       "      <td>17.904509</td>\n",
       "      <td>14.142857</td>\n",
       "    </tr>\n",
       "    <tr>\n",
       "      <th>(47.675995, -122.298414)</th>\n",
       "      <td>2.2</td>\n",
       "      <td>21</td>\n",
       "      <td>1.018402</td>\n",
       "      <td>0.628571</td>\n",
       "    </tr>\n",
       "    <tr>\n",
       "      <th>(47.671002, -122.292604)</th>\n",
       "      <td>0.0</td>\n",
       "      <td>15</td>\n",
       "      <td>0.000000</td>\n",
       "      <td>0.000000</td>\n",
       "    </tr>\n",
       "    <tr>\n",
       "      <th>(47.464945, -122.231073)</th>\n",
       "      <th>(47.51147, -122.374978)</th>\n",
       "      <td>6.9</td>\n",
       "      <td>15</td>\n",
       "      <td>3.366855</td>\n",
       "      <td>2.300000</td>\n",
       "    </tr>\n",
       "    <tr>\n",
       "      <th>...</th>\n",
       "      <th>...</th>\n",
       "      <td>...</td>\n",
       "      <td>...</td>\n",
       "      <td>...</td>\n",
       "      <td>...</td>\n",
       "    </tr>\n",
       "    <tr>\n",
       "      <th rowspan=\"4\" valign=\"top\">(33.965477, -117.653303)</th>\n",
       "      <th>(33.894791, -117.505634)</th>\n",
       "      <td>0.0</td>\n",
       "      <td>1</td>\n",
       "      <td>NaN</td>\n",
       "      <td>0.000000</td>\n",
       "    </tr>\n",
       "    <tr>\n",
       "      <th>(33.894764, -117.867973)</th>\n",
       "      <td>0.0</td>\n",
       "      <td>1</td>\n",
       "      <td>NaN</td>\n",
       "      <td>0.000000</td>\n",
       "    </tr>\n",
       "    <tr>\n",
       "      <th>(33.894702, -117.877765)</th>\n",
       "      <td>0.0</td>\n",
       "      <td>1</td>\n",
       "      <td>NaN</td>\n",
       "      <td>0.000000</td>\n",
       "    </tr>\n",
       "    <tr>\n",
       "      <th>(33.894697, -117.551099)</th>\n",
       "      <td>2.7</td>\n",
       "      <td>1</td>\n",
       "      <td>NaN</td>\n",
       "      <td>2.700000</td>\n",
       "    </tr>\n",
       "    <tr>\n",
       "      <th>(47.937344, -122.244952)</th>\n",
       "      <th>(47.968105, -122.231067)</th>\n",
       "      <td>0.0</td>\n",
       "      <td>1</td>\n",
       "      <td>NaN</td>\n",
       "      <td>0.000000</td>\n",
       "    </tr>\n",
       "  </tbody>\n",
       "</table>\n",
       "<p>9018 rows × 4 columns</p>\n",
       "</div>"
      ],
      "text/plain": [
       "                                                    max  count        std  \\\n",
       "(from, )                 (to, )                                             \n",
       "(47.464945, -122.231073) (47.517331, -122.367252)   0.0     28   0.000000   \n",
       "(47.937344, -122.244952) (47.681563, -122.317502)  36.0     28  17.904509   \n",
       "                         (47.675995, -122.298414)   2.2     21   1.018402   \n",
       "                         (47.671002, -122.292604)   0.0     15   0.000000   \n",
       "(47.464945, -122.231073) (47.51147, -122.374978)    6.9     15   3.366855   \n",
       "...                                                 ...    ...        ...   \n",
       "(33.965477, -117.653303) (33.894791, -117.505634)   0.0      1        NaN   \n",
       "                         (33.894764, -117.867973)   0.0      1        NaN   \n",
       "                         (33.894702, -117.877765)   0.0      1        NaN   \n",
       "                         (33.894697, -117.551099)   2.7      1        NaN   \n",
       "(47.937344, -122.244952) (47.968105, -122.231067)   0.0      1        NaN   \n",
       "\n",
       "                                                        mean  \n",
       "(from, )                 (to, )                               \n",
       "(47.464945, -122.231073) (47.517331, -122.367252)   0.000000  \n",
       "(47.937344, -122.244952) (47.681563, -122.317502)  14.142857  \n",
       "                         (47.675995, -122.298414)   0.628571  \n",
       "                         (47.671002, -122.292604)   0.000000  \n",
       "(47.464945, -122.231073) (47.51147, -122.374978)    2.300000  \n",
       "...                                                      ...  \n",
       "(33.965477, -117.653303) (33.894791, -117.505634)   0.000000  \n",
       "                         (33.894764, -117.867973)   0.000000  \n",
       "                         (33.894702, -117.877765)   0.000000  \n",
       "                         (33.894697, -117.551099)   2.700000  \n",
       "(47.937344, -122.244952) (47.968105, -122.231067)   0.000000  \n",
       "\n",
       "[9018 rows x 4 columns]"
      ]
     },
     "execution_count": 39,
     "metadata": {},
     "output_type": "execute_result"
    }
   ],
   "source": [
    "tt_df.loc[tt_df[('r1', 'is_station')]].groupby([(\"from\", \"\"), (\"to\", \"\")])['tt_diff'].agg(('max', 'count', 'std', 'mean')).sort_values(('count'), ascending=False)"
   ]
  },
  {
   "cell_type": "code",
   "execution_count": 40,
   "metadata": {},
   "outputs": [
    {
     "data": {
      "text/plain": [
       "array(['2018-08-19T13:39:27.000000000', '2018-08-17T13:37:03.000000000',\n",
       "       '2018-08-25T14:14:04.000000000', '2018-08-16T13:57:20.000000000',\n",
       "       '2018-08-09T15:04:55.000000000', '2018-08-12T13:38:17.000000000',\n",
       "       '2018-08-20T13:53:16.000000000'], dtype='datetime64[ns]')"
      ]
     },
     "execution_count": 40,
     "metadata": {},
     "output_type": "execute_result"
    }
   ],
   "source": [
    "tt_df.loc[(tt_df[(\"from\", \"\")] == (47.464945, -122.231073)) & (tt_df[(\"to\", \"\")] == (47.517331, -122.367252)), ('r1', 'date')].unique()"
   ]
  },
  {
   "cell_type": "code",
   "execution_count": 41,
   "metadata": {},
   "outputs": [
    {
     "data": {
      "text/plain": [
       "{'durations': [[1479.18], [0.0]],\n",
       " 'distances': [[16799.52], [0.0]],\n",
       " 'destinations': [{'location': [-122.23167, 47.464705],\n",
       "   'snapped_distance': 52.22}],\n",
       " 'sources': [{'location': [-122.367296, 47.517332], 'snapped_distance': 3.29},\n",
       "  {'location': [-122.23167, 47.464705], 'snapped_distance': 52.22}],\n",
       " 'metadata': {'attribution': 'openrouteservice.org | OpenStreetMap contributors',\n",
       "  'service': 'matrix',\n",
       "  'timestamp': 1660671815050,\n",
       "  'query': {'locations': [[-122.367252, 47.517331], [-122.231073, 47.464945]],\n",
       "   'profile': 'driving-hgv',\n",
       "   'responseType': 'json',\n",
       "   'metricsStrings': ['DISTANCE', 'DURATION'],\n",
       "   'destinations': ['1'],\n",
       "   'metrics': ['duration', 'distance']},\n",
       "  'engine': {'version': '6.7.0',\n",
       "   'build_date': '2022-02-18T19:37:41Z',\n",
       "   'graph_date': '2022-08-01T21:12:42Z'}}}"
      ]
     },
     "execution_count": 41,
     "metadata": {},
     "output_type": "execute_result"
    }
   ],
   "source": [
    "get_ors_travel_time([(47.517331, -122.367252)[::-1], (47.464945, -122.231073)[::-1]], [1])"
   ]
  }
 ],
 "metadata": {
  "kernelspec": {
   "display_name": "Python 3.9.10 64-bit ('airport-harper-sumo')",
   "language": "python",
   "name": "python3"
  },
  "language_info": {
   "codemirror_mode": {
    "name": "ipython",
    "version": 3
   },
   "file_extension": ".py",
   "mimetype": "text/x-python",
   "name": "python",
   "nbconvert_exporter": "python",
   "pygments_lexer": "ipython3",
   "version": "3.9.10"
  },
  "vscode": {
   "interpreter": {
    "hash": "d4e2f986950c568193e98ea937a3c3ca76d11bb59ba8dfd907e0c5dd0c77470f"
   }
  }
 },
 "nbformat": 4,
 "nbformat_minor": 2
}
