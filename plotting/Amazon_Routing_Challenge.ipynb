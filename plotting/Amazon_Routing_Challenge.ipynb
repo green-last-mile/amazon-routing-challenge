{
 "cells": [
  {
   "cell_type": "markdown",
   "metadata": {},
   "source": [
    "# ALMRRC2021 Data Exploration"
   ]
  },
  {
   "cell_type": "markdown",
   "metadata": {},
   "source": [
    "## Imports"
   ]
  },
  {
   "cell_type": "code",
   "execution_count": 3,
   "metadata": {},
   "outputs": [],
   "source": [
    "import os\n",
    "import json\n",
    "import time\n",
    "import random\n",
    "\n",
    "\n",
    "import pandas as pd\n",
    "import numpy as np\n",
    "import plotly.graph_objects as go\n",
    "import utm\n",
    "from dotenv import load_dotenv\n",
    "\n",
    "load_dotenv()\n",
    "\n",
    "# local\n",
    "from almrcc_score import score\n",
    "\n"
   ]
  },
  {
   "cell_type": "code",
   "execution_count": 4,
   "metadata": {},
   "outputs": [],
   "source": [
    "LOCAL = True\n",
    "\n",
    "if LOCAL:\n",
    "    # only unix\n",
    "    PATH = !pwd\n",
    "    PATH = PATH[0]\n",
    "\n",
    "    path='../data/almrrc2021-data-training/model_build_inputs_10_percent'\n",
    "    def get_file(file_name,  ) -> str:\n",
    "        with open(os.path.join(path, file_name), \"r\") as f:\n",
    "            return f.read()\n",
    "\n",
    "else:\n",
    "    from google.cloud import storage\n",
    "\n",
    "    client = storage.Client()\n",
    "    bucket = client.get_bucket('research-data-staging')\n",
    "    \n",
    "\n",
    "    path = 'almrrc2021-data-training/model_build_inputs_10_percent'\n",
    "    def get_file(file_name,) -> str:\n",
    "        return bucket.blob(os.path.join(path, file_name)).download_as_string().decode('utf-8')\n",
    "\n",
    "\n"
   ]
  },
  {
   "cell_type": "markdown",
   "metadata": {},
   "source": [
    "## Read in the JSON"
   ]
  },
  {
   "cell_type": "code",
   "execution_count": 5,
   "metadata": {},
   "outputs": [],
   "source": [
    "route_data = json.loads(\n",
    "    get_file(file_name=\"route_data.json\")\n",
    ")\n",
    "time_data = json.loads(\n",
    "    get_file(file_name=\"travel_times.json\")\n",
    ")\n",
    "package_data = json.loads(\n",
    "    get_file(file_name=\"package_data.json\")\n",
    ")\n",
    "actual_sequence = json.loads(\n",
    "    get_file(file_name=\"actual_sequences.json\")\n",
    ")\n"
   ]
  },
  {
   "cell_type": "markdown",
   "metadata": {},
   "source": [
    "### Find a Route ID Present in All Data"
   ]
  },
  {
   "cell_type": "code",
   "execution_count": 28,
   "metadata": {},
   "outputs": [
    {
     "name": "stdout",
     "output_type": "stream",
     "text": [
      "RouteID_91b46004-2e9f-4df1-a3f8-ab49128126f1\n"
     ]
    }
   ],
   "source": [
    "for k in list(route_data.keys())[random.randint(0, len(route_data.keys())-1):]:\n",
    "    if all(k in _d.keys() for _d in [route_data, time_data, package_data, actual_sequence]):\n",
    "        print(k)\n",
    "        GLOBAL_ROUTE_ID = k\n",
    "        break"
   ]
  },
  {
   "cell_type": "markdown",
   "metadata": {},
   "source": [
    "## Convert the JSON data to a pandas dataframe"
   ]
  },
  {
   "cell_type": "code",
   "execution_count": 10,
   "metadata": {},
   "outputs": [],
   "source": [
    "route_df = pd.DataFrame.from_records(\n",
    "    (\n",
    "        {\n",
    "            \"stop_id\": k,\n",
    "            \"route_id\": route_id,\n",
    "            **v,\n",
    "        }\n",
    "        for route_id in route_data.keys()\n",
    "        for k, v in route_data[route_id][\"stops\"].items()\n",
    "    )\n",
    ")\n"
   ]
  },
  {
   "cell_type": "code",
   "execution_count": 11,
   "metadata": {},
   "outputs": [],
   "source": [
    "travel_times = pd.DataFrame.from_records(\n",
    "    {\"stop_id\": k, \"time\": v, \"route_id\": route_id}\n",
    "    for route_id, time_data in time_data.items()\n",
    "    for k, v in time_data.items()\n",
    ")\n"
   ]
  },
  {
   "cell_type": "markdown",
   "metadata": {},
   "source": [
    "## Create the Travel Time Matrices for Each Route"
   ]
  },
  {
   "cell_type": "code",
   "execution_count": 12,
   "metadata": {},
   "outputs": [],
   "source": [
    "def _add_row(x, square_df) -> None:\n",
    "    square_df.loc[x[\"stop_id\"], list(x[\"time\"].keys())] = list(x[\"time\"].values())\n",
    "\n",
    "\n",
    "travel_times[\"time_matrix\"] = \"\"\n",
    "df_map = {}\n",
    "lat_long_map = {}\n",
    "route_df_grouper = route_df.groupby(\"route_id\")\n",
    "# actual_sequence_grouper = actual_sequence.groupby(\"route_id\")\n",
    "\n",
    "for r_id, _df in travel_times.groupby(\"route_id\"):\n",
    "    # get the actual sequence for this route\n",
    "    _actual = actual_sequence.get(r_id)\n",
    "    # create a square matrix of all the stop ids\n",
    "    _square_df = pd.DataFrame(index=_df.stop_id.unique(), columns=_df.stop_id.unique())\n",
    "    # convert the json travel time format to  a matrix\n",
    "    _df.apply(_add_row, axis=1, square_df=_square_df)\n",
    "    # sort the matrix by moving the depot to the top\n",
    "    df_map[r_id] = _square_df.sort_index(key=lambda x: x.map(_actual['actual'])).sort_index(axis=1, key=lambda x: x.map(_actual['actual']))\n",
    "    # create a map to get the lat long for each stop\n",
    "    lat_long_map[r_id] = (\n",
    "        route_df_grouper.get_group(r_id)[[\"stop_id\", \"lat\", \"lng\"]]\n",
    "        .set_index(\"stop_id\")\n",
    "        .to_dict(\"index\")\n",
    "    )\n",
    "\n",
    "# drop all but the first row of the matrix \n",
    "travel_times = travel_times.groupby(\"route_id\").first()\n",
    "travel_times.drop([\"stop_id\", \"time\"], axis=1, inplace=True)\n"
   ]
  },
  {
   "cell_type": "code",
   "execution_count": 13,
   "metadata": {},
   "outputs": [],
   "source": [
    "travel_times[\"time_matrix\"] = travel_times.index.map(df_map)\n",
    "travel_times[\"lat_lon_map\"] = travel_times.index.map(lat_long_map)\n"
   ]
  },
  {
   "cell_type": "markdown",
   "metadata": {},
   "source": [
    "## Find Optimal Path using Amazon Travel Times\n",
    "\n",
    "Using Google's OR Tools\n"
   ]
  },
  {
   "cell_type": "code",
   "execution_count": 29,
   "metadata": {},
   "outputs": [
    {
     "name": "stdout",
     "output_type": "stream",
     "text": [
      "Objective: 9145 miles\n",
      "Route for vehicle 0:\n",
      " 0 -> 36 -> 35 -> 34 -> 33 -> 32 -> 31 -> 30 -> 29 -> 28 -> 27 -> 26 -> 49 -> 50 -> 48 -> 60 -> 61 -> 66 -> 65 -> 62 -> 64 -> 63 -> 17 -> 20 -> 19 -> 16 -> 15 -> 14 -> 13 -> 53 -> 54 -> 52 -> 51 -> 47 -> 56 -> 55 -> 57 -> 58 -> 67 -> 78 -> 79 -> 81 -> 82 -> 83 -> 89 -> 92 -> 93 -> 94 -> 96 -> 95 -> 90 -> 88 -> 69 -> 72 -> 71 -> 84 -> 85 -> 12 -> 73 -> 74 -> 75 -> 76 -> 70 -> 77 -> 80 -> 68 -> 87 -> 86 -> 91 -> 127 -> 128 -> 126 -> 121 -> 123 -> 122 -> 124 -> 125 -> 120 -> 119 -> 118 -> 117 -> 114 -> 113 -> 108 -> 109 -> 110 -> 111 -> 112 -> 107 -> 105 -> 100 -> 103 -> 102 -> 101 -> 116 -> 98 -> 115 -> 99 -> 104 -> 106 -> 97 -> 9 -> 10 -> 8 -> 3 -> 1 -> 2 -> 4 -> 5 -> 6 -> 7 -> 11 -> 21 -> 22 -> 23 -> 24 -> 25 -> 18 -> 59 -> 39 -> 37 -> 38 -> 40 -> 46 -> 45 -> 44 -> 43 -> 42 -> 41 -> 0\n",
      "\n"
     ]
    }
   ],
   "source": [
    "\"\"\"Simple Travelling Salesperson Problem (TSP) between cities.\"\"\"\n",
    "\n",
    "from ortools.constraint_solver import routing_enums_pb2\n",
    "from ortools.constraint_solver import pywrapcp\n",
    "\n",
    "\n",
    "def create_data_model(tt_matrix):\n",
    "    \"\"\"Stores the data for the problem.\"\"\"\n",
    "    return {\n",
    "        \"distance_matrix\": tt_matrix,\n",
    "        \"num_vehicles\": 1,\n",
    "        \"depot\": 0,\n",
    "    }\n",
    "\n",
    "\n",
    "def get_sequence(manager, routing, solution) -> list:\n",
    "    \"\"\"Prints solution on console.\"\"\"\n",
    "    index = routing.Start(0)\n",
    "    sequence = []\n",
    "    while not routing.IsEnd(index):\n",
    "        sequence.append(manager.IndexToNode(index))\n",
    "        index = solution.Value(routing.NextVar(index))\n",
    "    sequence.append(manager.IndexToNode(index))\n",
    "    return sequence\n",
    "\n",
    "\n",
    "def print_solution(manager, routing, solution):\n",
    "    \"\"\"Prints solution on console.\"\"\"\n",
    "    print(f\"Objective: {solution.ObjectiveValue()} miles\")\n",
    "    index = routing.Start(0)\n",
    "    plan_output = \"Route for vehicle 0:\\n\"\n",
    "    route_distance = 0\n",
    "    while not routing.IsEnd(index):\n",
    "        plan_output += f\" {manager.IndexToNode(index)} ->\"\n",
    "        previous_index = index\n",
    "        index = solution.Value(routing.NextVar(index))\n",
    "        route_distance += routing.GetArcCostForVehicle(previous_index, index, 0)\n",
    "    plan_output += f\" {manager.IndexToNode(index)}\\n\"\n",
    "    print(plan_output)\n",
    "    plan_output += f\"Route distance: {route_distance}miles\\n\"\n",
    "\n",
    "\n",
    "def or_route(tt_matrix):\n",
    "    \"\"\"Entry point of the program.\"\"\"\n",
    "    # Instantiate the data problem.\n",
    "    data = create_data_model(tt_matrix)\n",
    "\n",
    "    # Create the routing index manager.\n",
    "    manager = pywrapcp.RoutingIndexManager(\n",
    "        len(data[\"distance_matrix\"]), data[\"num_vehicles\"], data[\"depot\"]\n",
    "    )\n",
    "\n",
    "    # Create Routing Model.\n",
    "    routing = pywrapcp.RoutingModel(manager)\n",
    "\n",
    "    def distance_callback(from_index, to_index):\n",
    "        \"\"\"Returns the distance between the two nodes.\"\"\"\n",
    "        # Convert from routing variable Index to distance matrix NodeIndex.\n",
    "        from_node = manager.IndexToNode(from_index)\n",
    "        to_node = manager.IndexToNode(to_index)\n",
    "        return data[\"distance_matrix\"][from_node][to_node]\n",
    "\n",
    "    transit_callback_index = routing.RegisterTransitCallback(distance_callback)\n",
    "\n",
    "    # Define cost of each arc.\n",
    "    routing.SetArcCostEvaluatorOfAllVehicles(transit_callback_index)\n",
    "\n",
    "    # Setting first solution heuristic.\n",
    "    search_parameters = pywrapcp.DefaultRoutingSearchParameters()\n",
    "    search_parameters.first_solution_strategy = (\n",
    "        routing_enums_pb2.FirstSolutionStrategy.PATH_CHEAPEST_ARC\n",
    "    )\n",
    "\n",
    "    # Solve the problem.\n",
    "    solution = routing.SolveWithParameters(search_parameters)\n",
    "\n",
    "    # Print solution on console.\n",
    "    if solution:\n",
    "        print_solution(manager, routing, solution)\n",
    "    \n",
    "    return get_sequence(manager, routing, solution)\n",
    "\n",
    "\n",
    "sol = or_route(travel_times.loc[\n",
    "    GLOBAL_ROUTE_ID, \"time_matrix\"\n",
    "].values)\n"
   ]
  },
  {
   "cell_type": "markdown",
   "metadata": {},
   "source": [
    "## Pull OpenRouteService Travel Times"
   ]
  },
  {
   "cell_type": "code",
   "execution_count": 30,
   "metadata": {},
   "outputs": [],
   "source": [
    "import openrouteservice as ors\n",
    "ors_client = ors.Client(key=os.environ[\"ORS_KEY\"])\n",
    "\n",
    "def get_ors_travel_time(locations):\n",
    "    return ors_client.distance_matrix(locations, profile='driving-hgv', metrics=['duration'])"
   ]
  },
  {
   "cell_type": "code",
   "execution_count": 31,
   "metadata": {},
   "outputs": [],
   "source": [
    "mapper = travel_times.loc[\n",
    "    GLOBAL_ROUTE_ID, 'lat_lon_map'\n",
    "]\n",
    "\n",
    "\n",
    "ordered_index = travel_times.loc[\n",
    "        GLOBAL_ROUTE_ID, \"time_matrix\"\n",
    "    ].index\n",
    "\n",
    "ors_tt_df = travel_times.loc[\n",
    "        GLOBAL_ROUTE_ID, \"time_matrix\"\n",
    "    ].copy()\n",
    "\n",
    "\n",
    "location_pairs = ordered_index.map(lambda x: (mapper[x]['lng'], mapper[x]['lat'])).values.tolist()\n",
    "\n",
    "\n",
    "# chunk the location pairs into groups of 50, as the maximum allowed is 3500 in a pull, \n",
    "chunk_size = 50\n",
    "\n",
    "chunked_arrays = np.array_split(location_pairs, len(location_pairs) // chunk_size + 1)\n",
    "# preserve the indexes as well\n",
    "chunked_indices = np.array_split(ordered_index, len(ordered_index) // chunk_size + 1)\n",
    "\n",
    "for chunk_location, chunk_ind in zip(chunked_arrays, chunked_indices):\n",
    "    assert len(chunk_location) == len(chunk_ind)\n",
    "    res = get_ors_travel_time(chunk_location.tolist())\n",
    "    ors_tt_df.loc[chunk_ind, chunk_ind] = res['durations']\n",
    "    time.sleep(random.random() * 0.5)\n",
    "\n",
    "# location_combinations = list(itertools.product(location_pairs, repeat=2))"
   ]
  },
  {
   "cell_type": "code",
   "execution_count": 32,
   "metadata": {},
   "outputs": [
    {
     "name": "stdout",
     "output_type": "stream",
     "text": [
      "Objective: 7739 miles\n",
      "Route for vehicle 0:\n",
      " 0 -> 59 -> 40 -> 45 -> 46 -> 44 -> 43 -> 42 -> 41 -> 38 -> 37 -> 39 -> 36 -> 35 -> 34 -> 33 -> 32 -> 31 -> 30 -> 29 -> 28 -> 27 -> 26 -> 25 -> 24 -> 23 -> 22 -> 21 -> 20 -> 19 -> 18 -> 17 -> 16 -> 15 -> 13 -> 14 -> 61 -> 60 -> 49 -> 48 -> 50 -> 47 -> 51 -> 52 -> 53 -> 54 -> 56 -> 55 -> 57 -> 58 -> 66 -> 65 -> 64 -> 63 -> 62 -> 67 -> 80 -> 78 -> 79 -> 81 -> 68 -> 82 -> 83 -> 88 -> 89 -> 90 -> 92 -> 93 -> 94 -> 95 -> 96 -> 91 -> 128 -> 127 -> 86 -> 87 -> 69 -> 70 -> 77 -> 76 -> 75 -> 74 -> 73 -> 72 -> 71 -> 84 -> 85 -> 12 -> 8 -> 2 -> 3 -> 7 -> 6 -> 11 -> 5 -> 4 -> 1 -> 9 -> 10 -> 113 -> 114 -> 112 -> 111 -> 110 -> 109 -> 108 -> 107 -> 97 -> 106 -> 105 -> 104 -> 103 -> 101 -> 102 -> 100 -> 99 -> 116 -> 98 -> 115 -> 117 -> 119 -> 123 -> 122 -> 125 -> 124 -> 121 -> 120 -> 118 -> 126 -> 0\n",
      "\n"
     ]
    }
   ],
   "source": [
    "ors_sol = or_route(ors_tt_df.values)"
   ]
  },
  {
   "cell_type": "markdown",
   "metadata": {},
   "source": [
    "### Map the Sequence Idx to the Stop Ids"
   ]
  },
  {
   "cell_type": "code",
   "execution_count": 33,
   "metadata": {},
   "outputs": [],
   "source": [
    "seq_names = travel_times.loc[\n",
    "    GLOBAL_ROUTE_ID, \"time_matrix\"\n",
    "].index\n",
    "\n",
    "seq_ors = ors_tt_df.index\n",
    "\n",
    "# create a simple df of the actual sequence\n",
    "sequence_df = pd.DataFrame(index=actual_sequence[GLOBAL_ROUTE_ID]['actual'].values(), data=actual_sequence[GLOBAL_ROUTE_ID]['actual'].keys(), columns=['actual'])\n",
    "sequence_df.sort_index(inplace=True)\n",
    "\n",
    "# write the ortools solution to the dataframe.\n",
    "sequence_df['ortools'] = pd.DataFrame(index=range(len(sol)), data=[seq_names[i] for i in sol])\n",
    "sequence_df['ors_ortools'] = pd.DataFrame(index=range(len(ors_sol)), data=[seq_ors[i] for i in ors_sol])"
   ]
  },
  {
   "cell_type": "markdown",
   "metadata": {},
   "source": [
    "### Plot the Sequences\n",
    "\n",
    "This is not a meaningful way to plot..."
   ]
  },
  {
   "cell_type": "code",
   "execution_count": 34,
   "metadata": {},
   "outputs": [
    {
     "data": {
      "application/vnd.plotly.v1+json": {
       "config": {
        "plotlyServerURL": "https://plot.ly"
       },
       "data": [
        {
         "mode": "lines",
         "name": "actual",
         "type": "scatter",
         "x": [
          0,
          1,
          2,
          3,
          4,
          5,
          6,
          7,
          8,
          9,
          10,
          11,
          12,
          13,
          14,
          15,
          16,
          17,
          18,
          19,
          20,
          21,
          22,
          23,
          24,
          25,
          26,
          27,
          28,
          29,
          30,
          31,
          32,
          33,
          34,
          35,
          36,
          37,
          38,
          39,
          40,
          41,
          42,
          43,
          44,
          45,
          46,
          47,
          48,
          49,
          50,
          51,
          52,
          53,
          54,
          55,
          56,
          57,
          58,
          59,
          60,
          61,
          62,
          63,
          64,
          65,
          66,
          67,
          68,
          69,
          70,
          71,
          72,
          73,
          74,
          75,
          76,
          77,
          78,
          79,
          80,
          81,
          82,
          83,
          84,
          85,
          86,
          87,
          88,
          89,
          90,
          91,
          92,
          93,
          94,
          95,
          96,
          97,
          98,
          99,
          100,
          101,
          102,
          103,
          104,
          105,
          106,
          107,
          108,
          109,
          110,
          111,
          112,
          113,
          114,
          115,
          116,
          117,
          118,
          119,
          120,
          121,
          122,
          123,
          124,
          125,
          126,
          127,
          128
         ],
         "y": [
          "PU",
          "UQ",
          "SP",
          "KI",
          "ZT",
          "EW",
          "MZ",
          "XD",
          "UX",
          "CI",
          "OT",
          "UW",
          "DX",
          "CC",
          "TR",
          "PY",
          "JH",
          "NE",
          "IN",
          "HL",
          "ZH",
          "ML",
          "GG",
          "NS",
          "VM",
          "QX",
          "GL",
          "BF",
          "TG",
          "CV",
          "JZ",
          "MX",
          "GY",
          "MJ",
          "WI",
          "ZG",
          "UG",
          "QY",
          "RV",
          "LF",
          "QB",
          "AC",
          "FG",
          "KZ",
          "UL",
          "KN",
          "YI",
          "RI",
          "IZ",
          "TZ",
          "FH",
          "EK",
          "VZ",
          "FO",
          "OG",
          "RC",
          "KQ",
          "XH",
          "LQ",
          "UU",
          "CQ",
          "FM",
          "MS",
          "JU",
          "YC",
          "PO",
          "QC",
          "VV",
          "ST",
          "YF",
          "XO",
          "TT",
          "HS",
          "ZJ",
          "OW",
          "CL",
          "UK",
          "LN",
          "GB",
          "FR",
          "DR",
          "JK",
          "GW",
          "YX",
          "LG",
          "XC",
          "JA",
          "BA",
          "QK",
          "VJ",
          "TJ",
          "FL",
          "AY",
          "RY",
          "XS",
          "HH",
          "ZD",
          "HU",
          "WA",
          "LA",
          "ZF",
          "VW",
          "WS",
          "OH",
          "CJ",
          "XL",
          "SJ",
          "EP",
          "YY",
          "NI",
          "GA",
          "ZV",
          "XN",
          "JW",
          "VK",
          "WL",
          "HA",
          "NH",
          "TL",
          "ON",
          "BQ",
          "WM",
          "BB",
          "YR",
          "SQ",
          "MV",
          "SG",
          "JE",
          "ME"
         ]
        },
        {
         "mode": "lines",
         "name": "ortools",
         "type": "scatter",
         "x": [
          0,
          1,
          2,
          3,
          4,
          5,
          6,
          7,
          8,
          9,
          10,
          11,
          12,
          13,
          14,
          15,
          16,
          17,
          18,
          19,
          20,
          21,
          22,
          23,
          24,
          25,
          26,
          27,
          28,
          29,
          30,
          31,
          32,
          33,
          34,
          35,
          36,
          37,
          38,
          39,
          40,
          41,
          42,
          43,
          44,
          45,
          46,
          47,
          48,
          49,
          50,
          51,
          52,
          53,
          54,
          55,
          56,
          57,
          58,
          59,
          60,
          61,
          62,
          63,
          64,
          65,
          66,
          67,
          68,
          69,
          70,
          71,
          72,
          73,
          74,
          75,
          76,
          77,
          78,
          79,
          80,
          81,
          82,
          83,
          84,
          85,
          86,
          87,
          88,
          89,
          90,
          91,
          92,
          93,
          94,
          95,
          96,
          97,
          98,
          99,
          100,
          101,
          102,
          103,
          104,
          105,
          106,
          107,
          108,
          109,
          110,
          111,
          112,
          113,
          114,
          115,
          116,
          117,
          118,
          119,
          120,
          121,
          122,
          123,
          124,
          125,
          126,
          127,
          128
         ],
         "y": [
          "PU",
          "UG",
          "ZG",
          "WI",
          "MJ",
          "GY",
          "MX",
          "JZ",
          "CV",
          "TG",
          "BF",
          "GL",
          "TZ",
          "FH",
          "IZ",
          "CQ",
          "FM",
          "QC",
          "PO",
          "MS",
          "YC",
          "JU",
          "NE",
          "ZH",
          "HL",
          "JH",
          "PY",
          "TR",
          "CC",
          "FO",
          "OG",
          "VZ",
          "EK",
          "RI",
          "KQ",
          "RC",
          "XH",
          "LQ",
          "VV",
          "GB",
          "FR",
          "JK",
          "GW",
          "YX",
          "VJ",
          "AY",
          "RY",
          "XS",
          "ZD",
          "HH",
          "TJ",
          "QK",
          "YF",
          "HS",
          "TT",
          "LG",
          "XC",
          "DX",
          "ZJ",
          "OW",
          "CL",
          "UK",
          "XO",
          "LN",
          "DR",
          "ST",
          "BA",
          "JA",
          "FL",
          "JE",
          "ME",
          "SG",
          "WM",
          "YR",
          "BB",
          "SQ",
          "MV",
          "BQ",
          "ON",
          "TL",
          "NH",
          "VK",
          "JW",
          "YY",
          "NI",
          "GA",
          "ZV",
          "XN",
          "EP",
          "XL",
          "ZF",
          "OH",
          "WS",
          "VW",
          "HA",
          "WA",
          "WL",
          "LA",
          "CJ",
          "SJ",
          "HU",
          "CI",
          "OT",
          "UX",
          "KI",
          "UQ",
          "SP",
          "ZT",
          "EW",
          "MZ",
          "XD",
          "UW",
          "ML",
          "GG",
          "NS",
          "VM",
          "QX",
          "IN",
          "UU",
          "LF",
          "QY",
          "RV",
          "QB",
          "YI",
          "KN",
          "UL",
          "KZ",
          "FG",
          "AC"
         ]
        },
        {
         "mode": "lines",
         "name": "ors_ortools",
         "type": "scatter",
         "x": [
          0,
          1,
          2,
          3,
          4,
          5,
          6,
          7,
          8,
          9,
          10,
          11,
          12,
          13,
          14,
          15,
          16,
          17,
          18,
          19,
          20,
          21,
          22,
          23,
          24,
          25,
          26,
          27,
          28,
          29,
          30,
          31,
          32,
          33,
          34,
          35,
          36,
          37,
          38,
          39,
          40,
          41,
          42,
          43,
          44,
          45,
          46,
          47,
          48,
          49,
          50,
          51,
          52,
          53,
          54,
          55,
          56,
          57,
          58,
          59,
          60,
          61,
          62,
          63,
          64,
          65,
          66,
          67,
          68,
          69,
          70,
          71,
          72,
          73,
          74,
          75,
          76,
          77,
          78,
          79,
          80,
          81,
          82,
          83,
          84,
          85,
          86,
          87,
          88,
          89,
          90,
          91,
          92,
          93,
          94,
          95,
          96,
          97,
          98,
          99,
          100,
          101,
          102,
          103,
          104,
          105,
          106,
          107,
          108,
          109,
          110,
          111,
          112,
          113,
          114,
          115,
          116,
          117,
          118,
          119,
          120,
          121,
          122,
          123,
          124,
          125,
          126,
          127,
          128
         ],
         "y": [
          "PU",
          "UU",
          "QB",
          "KN",
          "YI",
          "UL",
          "KZ",
          "FG",
          "AC",
          "RV",
          "QY",
          "LF",
          "UG",
          "ZG",
          "WI",
          "MJ",
          "GY",
          "MX",
          "JZ",
          "CV",
          "TG",
          "BF",
          "GL",
          "QX",
          "VM",
          "NS",
          "GG",
          "ML",
          "ZH",
          "HL",
          "IN",
          "NE",
          "JH",
          "PY",
          "CC",
          "TR",
          "FM",
          "CQ",
          "TZ",
          "IZ",
          "FH",
          "RI",
          "EK",
          "VZ",
          "FO",
          "OG",
          "KQ",
          "RC",
          "XH",
          "LQ",
          "QC",
          "PO",
          "YC",
          "JU",
          "MS",
          "VV",
          "DR",
          "GB",
          "FR",
          "JK",
          "ST",
          "GW",
          "YX",
          "QK",
          "VJ",
          "TJ",
          "AY",
          "RY",
          "XS",
          "HH",
          "ZD",
          "FL",
          "ME",
          "JE",
          "JA",
          "BA",
          "YF",
          "XO",
          "LN",
          "UK",
          "CL",
          "OW",
          "ZJ",
          "HS",
          "TT",
          "LG",
          "XC",
          "DX",
          "UX",
          "SP",
          "KI",
          "XD",
          "MZ",
          "UW",
          "EW",
          "ZT",
          "UQ",
          "CI",
          "OT",
          "JW",
          "VK",
          "XN",
          "ZV",
          "GA",
          "NI",
          "YY",
          "EP",
          "HU",
          "SJ",
          "XL",
          "CJ",
          "OH",
          "VW",
          "WS",
          "ZF",
          "LA",
          "HA",
          "WA",
          "WL",
          "NH",
          "ON",
          "YR",
          "BB",
          "MV",
          "SQ",
          "WM",
          "BQ",
          "TL",
          "SG"
         ]
        }
       ],
       "layout": {
        "template": {
         "data": {
          "bar": [
           {
            "error_x": {
             "color": "#2a3f5f"
            },
            "error_y": {
             "color": "#2a3f5f"
            },
            "marker": {
             "line": {
              "color": "#E5ECF6",
              "width": 0.5
             },
             "pattern": {
              "fillmode": "overlay",
              "size": 10,
              "solidity": 0.2
             }
            },
            "type": "bar"
           }
          ],
          "barpolar": [
           {
            "marker": {
             "line": {
              "color": "#E5ECF6",
              "width": 0.5
             },
             "pattern": {
              "fillmode": "overlay",
              "size": 10,
              "solidity": 0.2
             }
            },
            "type": "barpolar"
           }
          ],
          "carpet": [
           {
            "aaxis": {
             "endlinecolor": "#2a3f5f",
             "gridcolor": "white",
             "linecolor": "white",
             "minorgridcolor": "white",
             "startlinecolor": "#2a3f5f"
            },
            "baxis": {
             "endlinecolor": "#2a3f5f",
             "gridcolor": "white",
             "linecolor": "white",
             "minorgridcolor": "white",
             "startlinecolor": "#2a3f5f"
            },
            "type": "carpet"
           }
          ],
          "choropleth": [
           {
            "colorbar": {
             "outlinewidth": 0,
             "ticks": ""
            },
            "type": "choropleth"
           }
          ],
          "contour": [
           {
            "colorbar": {
             "outlinewidth": 0,
             "ticks": ""
            },
            "colorscale": [
             [
              0,
              "#0d0887"
             ],
             [
              0.1111111111111111,
              "#46039f"
             ],
             [
              0.2222222222222222,
              "#7201a8"
             ],
             [
              0.3333333333333333,
              "#9c179e"
             ],
             [
              0.4444444444444444,
              "#bd3786"
             ],
             [
              0.5555555555555556,
              "#d8576b"
             ],
             [
              0.6666666666666666,
              "#ed7953"
             ],
             [
              0.7777777777777778,
              "#fb9f3a"
             ],
             [
              0.8888888888888888,
              "#fdca26"
             ],
             [
              1,
              "#f0f921"
             ]
            ],
            "type": "contour"
           }
          ],
          "contourcarpet": [
           {
            "colorbar": {
             "outlinewidth": 0,
             "ticks": ""
            },
            "type": "contourcarpet"
           }
          ],
          "heatmap": [
           {
            "colorbar": {
             "outlinewidth": 0,
             "ticks": ""
            },
            "colorscale": [
             [
              0,
              "#0d0887"
             ],
             [
              0.1111111111111111,
              "#46039f"
             ],
             [
              0.2222222222222222,
              "#7201a8"
             ],
             [
              0.3333333333333333,
              "#9c179e"
             ],
             [
              0.4444444444444444,
              "#bd3786"
             ],
             [
              0.5555555555555556,
              "#d8576b"
             ],
             [
              0.6666666666666666,
              "#ed7953"
             ],
             [
              0.7777777777777778,
              "#fb9f3a"
             ],
             [
              0.8888888888888888,
              "#fdca26"
             ],
             [
              1,
              "#f0f921"
             ]
            ],
            "type": "heatmap"
           }
          ],
          "heatmapgl": [
           {
            "colorbar": {
             "outlinewidth": 0,
             "ticks": ""
            },
            "colorscale": [
             [
              0,
              "#0d0887"
             ],
             [
              0.1111111111111111,
              "#46039f"
             ],
             [
              0.2222222222222222,
              "#7201a8"
             ],
             [
              0.3333333333333333,
              "#9c179e"
             ],
             [
              0.4444444444444444,
              "#bd3786"
             ],
             [
              0.5555555555555556,
              "#d8576b"
             ],
             [
              0.6666666666666666,
              "#ed7953"
             ],
             [
              0.7777777777777778,
              "#fb9f3a"
             ],
             [
              0.8888888888888888,
              "#fdca26"
             ],
             [
              1,
              "#f0f921"
             ]
            ],
            "type": "heatmapgl"
           }
          ],
          "histogram": [
           {
            "marker": {
             "pattern": {
              "fillmode": "overlay",
              "size": 10,
              "solidity": 0.2
             }
            },
            "type": "histogram"
           }
          ],
          "histogram2d": [
           {
            "colorbar": {
             "outlinewidth": 0,
             "ticks": ""
            },
            "colorscale": [
             [
              0,
              "#0d0887"
             ],
             [
              0.1111111111111111,
              "#46039f"
             ],
             [
              0.2222222222222222,
              "#7201a8"
             ],
             [
              0.3333333333333333,
              "#9c179e"
             ],
             [
              0.4444444444444444,
              "#bd3786"
             ],
             [
              0.5555555555555556,
              "#d8576b"
             ],
             [
              0.6666666666666666,
              "#ed7953"
             ],
             [
              0.7777777777777778,
              "#fb9f3a"
             ],
             [
              0.8888888888888888,
              "#fdca26"
             ],
             [
              1,
              "#f0f921"
             ]
            ],
            "type": "histogram2d"
           }
          ],
          "histogram2dcontour": [
           {
            "colorbar": {
             "outlinewidth": 0,
             "ticks": ""
            },
            "colorscale": [
             [
              0,
              "#0d0887"
             ],
             [
              0.1111111111111111,
              "#46039f"
             ],
             [
              0.2222222222222222,
              "#7201a8"
             ],
             [
              0.3333333333333333,
              "#9c179e"
             ],
             [
              0.4444444444444444,
              "#bd3786"
             ],
             [
              0.5555555555555556,
              "#d8576b"
             ],
             [
              0.6666666666666666,
              "#ed7953"
             ],
             [
              0.7777777777777778,
              "#fb9f3a"
             ],
             [
              0.8888888888888888,
              "#fdca26"
             ],
             [
              1,
              "#f0f921"
             ]
            ],
            "type": "histogram2dcontour"
           }
          ],
          "mesh3d": [
           {
            "colorbar": {
             "outlinewidth": 0,
             "ticks": ""
            },
            "type": "mesh3d"
           }
          ],
          "parcoords": [
           {
            "line": {
             "colorbar": {
              "outlinewidth": 0,
              "ticks": ""
             }
            },
            "type": "parcoords"
           }
          ],
          "pie": [
           {
            "automargin": true,
            "type": "pie"
           }
          ],
          "scatter": [
           {
            "fillpattern": {
             "fillmode": "overlay",
             "size": 10,
             "solidity": 0.2
            },
            "type": "scatter"
           }
          ],
          "scatter3d": [
           {
            "line": {
             "colorbar": {
              "outlinewidth": 0,
              "ticks": ""
             }
            },
            "marker": {
             "colorbar": {
              "outlinewidth": 0,
              "ticks": ""
             }
            },
            "type": "scatter3d"
           }
          ],
          "scattercarpet": [
           {
            "marker": {
             "colorbar": {
              "outlinewidth": 0,
              "ticks": ""
             }
            },
            "type": "scattercarpet"
           }
          ],
          "scattergeo": [
           {
            "marker": {
             "colorbar": {
              "outlinewidth": 0,
              "ticks": ""
             }
            },
            "type": "scattergeo"
           }
          ],
          "scattergl": [
           {
            "marker": {
             "colorbar": {
              "outlinewidth": 0,
              "ticks": ""
             }
            },
            "type": "scattergl"
           }
          ],
          "scattermapbox": [
           {
            "marker": {
             "colorbar": {
              "outlinewidth": 0,
              "ticks": ""
             }
            },
            "type": "scattermapbox"
           }
          ],
          "scatterpolar": [
           {
            "marker": {
             "colorbar": {
              "outlinewidth": 0,
              "ticks": ""
             }
            },
            "type": "scatterpolar"
           }
          ],
          "scatterpolargl": [
           {
            "marker": {
             "colorbar": {
              "outlinewidth": 0,
              "ticks": ""
             }
            },
            "type": "scatterpolargl"
           }
          ],
          "scatterternary": [
           {
            "marker": {
             "colorbar": {
              "outlinewidth": 0,
              "ticks": ""
             }
            },
            "type": "scatterternary"
           }
          ],
          "surface": [
           {
            "colorbar": {
             "outlinewidth": 0,
             "ticks": ""
            },
            "colorscale": [
             [
              0,
              "#0d0887"
             ],
             [
              0.1111111111111111,
              "#46039f"
             ],
             [
              0.2222222222222222,
              "#7201a8"
             ],
             [
              0.3333333333333333,
              "#9c179e"
             ],
             [
              0.4444444444444444,
              "#bd3786"
             ],
             [
              0.5555555555555556,
              "#d8576b"
             ],
             [
              0.6666666666666666,
              "#ed7953"
             ],
             [
              0.7777777777777778,
              "#fb9f3a"
             ],
             [
              0.8888888888888888,
              "#fdca26"
             ],
             [
              1,
              "#f0f921"
             ]
            ],
            "type": "surface"
           }
          ],
          "table": [
           {
            "cells": {
             "fill": {
              "color": "#EBF0F8"
             },
             "line": {
              "color": "white"
             }
            },
            "header": {
             "fill": {
              "color": "#C8D4E3"
             },
             "line": {
              "color": "white"
             }
            },
            "type": "table"
           }
          ]
         },
         "layout": {
          "annotationdefaults": {
           "arrowcolor": "#2a3f5f",
           "arrowhead": 0,
           "arrowwidth": 1
          },
          "autotypenumbers": "strict",
          "coloraxis": {
           "colorbar": {
            "outlinewidth": 0,
            "ticks": ""
           }
          },
          "colorscale": {
           "diverging": [
            [
             0,
             "#8e0152"
            ],
            [
             0.1,
             "#c51b7d"
            ],
            [
             0.2,
             "#de77ae"
            ],
            [
             0.3,
             "#f1b6da"
            ],
            [
             0.4,
             "#fde0ef"
            ],
            [
             0.5,
             "#f7f7f7"
            ],
            [
             0.6,
             "#e6f5d0"
            ],
            [
             0.7,
             "#b8e186"
            ],
            [
             0.8,
             "#7fbc41"
            ],
            [
             0.9,
             "#4d9221"
            ],
            [
             1,
             "#276419"
            ]
           ],
           "sequential": [
            [
             0,
             "#0d0887"
            ],
            [
             0.1111111111111111,
             "#46039f"
            ],
            [
             0.2222222222222222,
             "#7201a8"
            ],
            [
             0.3333333333333333,
             "#9c179e"
            ],
            [
             0.4444444444444444,
             "#bd3786"
            ],
            [
             0.5555555555555556,
             "#d8576b"
            ],
            [
             0.6666666666666666,
             "#ed7953"
            ],
            [
             0.7777777777777778,
             "#fb9f3a"
            ],
            [
             0.8888888888888888,
             "#fdca26"
            ],
            [
             1,
             "#f0f921"
            ]
           ],
           "sequentialminus": [
            [
             0,
             "#0d0887"
            ],
            [
             0.1111111111111111,
             "#46039f"
            ],
            [
             0.2222222222222222,
             "#7201a8"
            ],
            [
             0.3333333333333333,
             "#9c179e"
            ],
            [
             0.4444444444444444,
             "#bd3786"
            ],
            [
             0.5555555555555556,
             "#d8576b"
            ],
            [
             0.6666666666666666,
             "#ed7953"
            ],
            [
             0.7777777777777778,
             "#fb9f3a"
            ],
            [
             0.8888888888888888,
             "#fdca26"
            ],
            [
             1,
             "#f0f921"
            ]
           ]
          },
          "colorway": [
           "#636efa",
           "#EF553B",
           "#00cc96",
           "#ab63fa",
           "#FFA15A",
           "#19d3f3",
           "#FF6692",
           "#B6E880",
           "#FF97FF",
           "#FECB52"
          ],
          "font": {
           "color": "#2a3f5f"
          },
          "geo": {
           "bgcolor": "white",
           "lakecolor": "white",
           "landcolor": "#E5ECF6",
           "showlakes": true,
           "showland": true,
           "subunitcolor": "white"
          },
          "hoverlabel": {
           "align": "left"
          },
          "hovermode": "closest",
          "mapbox": {
           "style": "light"
          },
          "paper_bgcolor": "white",
          "plot_bgcolor": "#E5ECF6",
          "polar": {
           "angularaxis": {
            "gridcolor": "white",
            "linecolor": "white",
            "ticks": ""
           },
           "bgcolor": "#E5ECF6",
           "radialaxis": {
            "gridcolor": "white",
            "linecolor": "white",
            "ticks": ""
           }
          },
          "scene": {
           "xaxis": {
            "backgroundcolor": "#E5ECF6",
            "gridcolor": "white",
            "gridwidth": 2,
            "linecolor": "white",
            "showbackground": true,
            "ticks": "",
            "zerolinecolor": "white"
           },
           "yaxis": {
            "backgroundcolor": "#E5ECF6",
            "gridcolor": "white",
            "gridwidth": 2,
            "linecolor": "white",
            "showbackground": true,
            "ticks": "",
            "zerolinecolor": "white"
           },
           "zaxis": {
            "backgroundcolor": "#E5ECF6",
            "gridcolor": "white",
            "gridwidth": 2,
            "linecolor": "white",
            "showbackground": true,
            "ticks": "",
            "zerolinecolor": "white"
           }
          },
          "shapedefaults": {
           "line": {
            "color": "#2a3f5f"
           }
          },
          "ternary": {
           "aaxis": {
            "gridcolor": "white",
            "linecolor": "white",
            "ticks": ""
           },
           "baxis": {
            "gridcolor": "white",
            "linecolor": "white",
            "ticks": ""
           },
           "bgcolor": "#E5ECF6",
           "caxis": {
            "gridcolor": "white",
            "linecolor": "white",
            "ticks": ""
           }
          },
          "title": {
           "x": 0.05
          },
          "xaxis": {
           "automargin": true,
           "gridcolor": "white",
           "linecolor": "white",
           "ticks": "",
           "title": {
            "standoff": 15
           },
           "zerolinecolor": "white",
           "zerolinewidth": 2
          },
          "yaxis": {
           "automargin": true,
           "gridcolor": "white",
           "linecolor": "white",
           "ticks": "",
           "title": {
            "standoff": 15
           },
           "zerolinecolor": "white",
           "zerolinewidth": 2
          }
         }
        }
       }
      }
     },
     "metadata": {},
     "output_type": "display_data"
    }
   ],
   "source": [
    "_df = _df.sort_index()\n",
    "\n",
    "fig = go.Figure(data=[go.Scatter(x=sequence_df.index, y=sequence_df.actual, mode='lines', name=\"actual\")])\n",
    "fig.add_trace(\n",
    "    go.Scatter(x=sequence_df.index, y=sequence_df.ortools, mode='lines', name='ortools')\n",
    ")\n",
    "fig.add_trace(\n",
    "    go.Scatter(x=sequence_df.index, y=sequence_df.ors_ortools, mode='lines', name='ors_ortools')\n",
    ")\n",
    "\n",
    "fig.show()"
   ]
  },
  {
   "cell_type": "markdown",
   "metadata": {},
   "source": [
    "### Score the OR Tools solution, accoring to Amazon's algorithm"
   ]
  },
  {
   "cell_type": "code",
   "execution_count": 35,
   "metadata": {},
   "outputs": [
    {
     "data": {
      "text/plain": [
       "0.26906561140111984"
      ]
     },
     "execution_count": 35,
     "metadata": {},
     "output_type": "execute_result"
    }
   ],
   "source": [
    "score(\n",
    "    sequence_df.ortools.values.tolist(),\n",
    "    sequence_df.actual.values.tolist(),\n",
    "    time_data[GLOBAL_ROUTE_ID]\n",
    ")"
   ]
  },
  {
   "cell_type": "markdown",
   "metadata": {},
   "source": [
    "### Score the OR Tools solution w/ ORS TT Matrix, accoring to Amazon's algorithm"
   ]
  },
  {
   "cell_type": "code",
   "execution_count": 36,
   "metadata": {},
   "outputs": [
    {
     "data": {
      "text/plain": [
       "0.0734948762155341"
      ]
     },
     "execution_count": 36,
     "metadata": {},
     "output_type": "execute_result"
    }
   ],
   "source": [
    "score(\n",
    "    sequence_df.ors_ortools.values.tolist(),\n",
    "    sequence_df.actual.values.tolist(),\n",
    "    time_data[GLOBAL_ROUTE_ID]\n",
    ")"
   ]
  },
  {
   "cell_type": "code",
   "execution_count": 37,
   "metadata": {},
   "outputs": [],
   "source": [
    "mapper = travel_times.loc[\n",
    "    GLOBAL_ROUTE_ID, 'lat_lon_map'\n",
    "]\n",
    "\n",
    "for sol_type in ['ortools', 'actual', 'ors_ortools']:\n",
    "    sequence_df[f'{sol_type}_lat'] = sequence_df[sol_type].map(lambda x: mapper[x]['lat'])\n",
    "    sequence_df[f'{sol_type}_lon'] = sequence_df[sol_type].map(lambda x: mapper[x]['lng'])\n",
    "\n",
    "    # get UTM x/y \n",
    "    x, y, _, _ = utm.from_latlon(sequence_df[f'{sol_type}_lat'].values, sequence_df[f'{sol_type}_lon'].values)\n",
    "    sequence_df[f'{sol_type}_utm_x'] = x\n",
    "    sequence_df[f'{sol_type}_utm_y'] = y\n",
    "\n"
   ]
  },
  {
   "cell_type": "code",
   "execution_count": 38,
   "metadata": {},
   "outputs": [
    {
     "data": {
      "application/vnd.plotly.v1+json": {
       "config": {
        "plotlyServerURL": "https://plot.ly"
       },
       "data": [
        {
         "hoverinfo": "text",
         "lat": [
          33.688122,
          33.701217,
          33.700404,
          33.70026,
          33.700416,
          33.699631,
          33.699051,
          33.699787,
          33.699773,
          33.699406,
          33.69958,
          33.698572,
          33.69748,
          33.700365,
          33.700085,
          33.70143,
          33.700992,
          33.701027,
          33.700671,
          33.700167,
          33.700465,
          33.700111,
          33.699758,
          33.699084,
          33.699223,
          33.69946,
          33.699912,
          33.699044,
          33.698811,
          33.700773,
          33.700585,
          33.699419,
          33.698438,
          33.698499,
          33.698136,
          33.697676,
          33.696722,
          33.696822,
          33.696976,
          33.698247,
          33.696386,
          33.696054,
          33.69553,
          33.695126,
          33.695687,
          33.696117,
          33.695691,
          33.697261,
          33.697719,
          33.698739,
          33.698034,
          33.695949,
          33.695962,
          33.696174,
          33.696469,
          33.696213,
          33.69642,
          33.696636,
          33.697332,
          33.698993,
          33.69866,
          33.698277,
          33.698043,
          33.699325,
          33.698996,
          33.698522,
          33.698225,
          33.698163,
          33.695692,
          33.696365,
          33.697341,
          33.697053,
          33.697386,
          33.69748,
          33.698287,
          33.698719,
          33.698307,
          33.697917,
          33.69679,
          33.69664,
          33.695761,
          33.696365,
          33.695759,
          33.694984,
          33.69676,
          33.697295,
          33.694776,
          33.694687,
          33.694121,
          33.693516,
          33.694411,
          33.694056,
          33.692714,
          33.693255,
          33.693568,
          33.693435,
          33.692919,
          33.699181,
          33.696805,
          33.697313,
          33.697891,
          33.698838,
          33.699133,
          33.697697,
          33.697907,
          33.698144,
          33.698602,
          33.699812,
          33.702769,
          33.703835,
          33.70321,
          33.702904,
          33.70217,
          33.69999,
          33.700073,
          33.697627,
          33.697026,
          33.698299,
          33.69965,
          33.70013,
          33.70017,
          33.699352,
          33.698956,
          33.69862,
          33.699326,
          33.699345,
          33.694807,
          33.694998,
          33.695009
         ],
         "line": {
          "width": 4
         },
         "lon": [
          -117.847178,
          -117.715081,
          -117.71615,
          -117.716533,
          -117.717427,
          -117.717711,
          -117.716971,
          -117.716993,
          -117.716154,
          -117.715758,
          -117.715581,
          -117.716875,
          -117.716411,
          -117.722441,
          -117.722027,
          -117.72218,
          -117.723709,
          -117.724273,
          -117.72493,
          -117.724568,
          -117.724253,
          -117.723347,
          -117.723231,
          -117.723369,
          -117.724538,
          -117.724887,
          -117.727216,
          -117.728193,
          -117.728645,
          -117.728426,
          -117.728753,
          -117.728693,
          -117.730265,
          -117.729391,
          -117.730206,
          -117.729143,
          -117.729916,
          -117.732407,
          -117.731203,
          -117.731085,
          -117.730924,
          -117.730658,
          -117.730663,
          -117.731006,
          -117.732198,
          -117.73261,
          -117.732679,
          -117.727156,
          -117.725359,
          -117.725651,
          -117.725801,
          -117.727433,
          -117.726672,
          -117.725343,
          -117.725632,
          -117.724084,
          -117.724259,
          -117.723242,
          -117.724196,
          -117.726002,
          -117.724734,
          -117.724189,
          -117.721818,
          -117.72054,
          -117.720866,
          -117.722445,
          -117.722741,
          -117.720737,
          -117.718171,
          -117.717885,
          -117.718101,
          -117.717198,
          -117.717273,
          -117.716969,
          -117.718118,
          -117.718733,
          -117.719528,
          -117.718541,
          -117.719938,
          -117.721427,
          -117.719658,
          -117.719313,
          -117.718875,
          -117.719055,
          -117.716759,
          -117.716595,
          -117.716438,
          -117.717057,
          -117.716148,
          -117.716135,
          -117.715302,
          -117.715021,
          -117.715226,
          -117.714293,
          -117.714304,
          -117.713809,
          -117.713745,
          -117.713988,
          -117.712607,
          -117.713637,
          -117.714222,
          -117.713727,
          -117.71348,
          -117.713777,
          -117.714732,
          -117.715862,
          -117.714998,
          -117.714323,
          -117.713395,
          -117.71421,
          -117.714018,
          -117.714444,
          -117.713339,
          -117.71054,
          -117.71066,
          -117.712708,
          -117.712912,
          -117.712306,
          -117.71267,
          -117.712246,
          -117.711688,
          -117.711561,
          -117.711329,
          -117.710877,
          -117.711394,
          -117.710998,
          -117.701055,
          -117.715256,
          -117.715097
         ],
         "marker": {
          "size": [
           0,
           0.1,
           0.2,
           0.3,
           0.4,
           0.5,
           0.6,
           0.7,
           0.8,
           0.9,
           1,
           1.1,
           1.2,
           1.3,
           1.4,
           1.5,
           1.6,
           1.7,
           1.8,
           1.9,
           2,
           2.1,
           2.2,
           2.3,
           2.4,
           2.5,
           2.6,
           2.7,
           2.8,
           2.9,
           3,
           3.1,
           3.2,
           3.3,
           3.4,
           3.5,
           3.6,
           3.7,
           3.8,
           3.9,
           4,
           4.1,
           4.2,
           4.3,
           4.4,
           4.5,
           4.6,
           4.7,
           4.8,
           4.9,
           5,
           5.1,
           5.2,
           5.3,
           5.4,
           5.5,
           5.6,
           5.7,
           5.8,
           5.9,
           6,
           6.1,
           6.2,
           6.3,
           6.4,
           6.5,
           6.6,
           6.7,
           6.8,
           6.9,
           7,
           7.1,
           7.2,
           7.3,
           7.4,
           7.5,
           7.6,
           7.7,
           7.8,
           7.9,
           8,
           8.1,
           8.2,
           8.3,
           8.4,
           8.5,
           8.6,
           8.7,
           8.8,
           8.9,
           9,
           9.1,
           9.2,
           9.3,
           9.4,
           9.5,
           9.6,
           9.7,
           9.8,
           9.9,
           10,
           10.1,
           10.2,
           10.3,
           10.4,
           10.5,
           10.6,
           10.7,
           10.8,
           10.9,
           11,
           11.1,
           11.2,
           11.3,
           11.4,
           11.5,
           11.6,
           11.7,
           11.8,
           11.9,
           12,
           12.1,
           12.2,
           12.3,
           12.4,
           12.5,
           12.6,
           12.7,
           12.8
          ]
         },
         "mode": "lines+markers",
         "name": "actual",
         "text": [
          0,
          1,
          2,
          3,
          4,
          5,
          6,
          7,
          8,
          9,
          10,
          11,
          12,
          13,
          14,
          15,
          16,
          17,
          18,
          19,
          20,
          21,
          22,
          23,
          24,
          25,
          26,
          27,
          28,
          29,
          30,
          31,
          32,
          33,
          34,
          35,
          36,
          37,
          38,
          39,
          40,
          41,
          42,
          43,
          44,
          45,
          46,
          47,
          48,
          49,
          50,
          51,
          52,
          53,
          54,
          55,
          56,
          57,
          58,
          59,
          60,
          61,
          62,
          63,
          64,
          65,
          66,
          67,
          68,
          69,
          70,
          71,
          72,
          73,
          74,
          75,
          76,
          77,
          78,
          79,
          80,
          81,
          82,
          83,
          84,
          85,
          86,
          87,
          88,
          89,
          90,
          91,
          92,
          93,
          94,
          95,
          96,
          97,
          98,
          99,
          100,
          101,
          102,
          103,
          104,
          105,
          106,
          107,
          108,
          109,
          110,
          111,
          112,
          113,
          114,
          115,
          116,
          117,
          118,
          119,
          120,
          121,
          122,
          123,
          124,
          125,
          126,
          127,
          128
         ],
         "type": "scattermapbox"
        },
        {
         "hoverinfo": "text",
         "lat": [
          33.688122,
          33.696722,
          33.697676,
          33.698136,
          33.698499,
          33.698438,
          33.699419,
          33.700585,
          33.700773,
          33.698811,
          33.699044,
          33.699912,
          33.698739,
          33.698034,
          33.697719,
          33.69866,
          33.698277,
          33.698225,
          33.698522,
          33.698043,
          33.698996,
          33.699325,
          33.701027,
          33.700465,
          33.700167,
          33.700992,
          33.70143,
          33.700085,
          33.700365,
          33.696174,
          33.696469,
          33.695962,
          33.695949,
          33.697261,
          33.69642,
          33.696213,
          33.696636,
          33.697332,
          33.698163,
          33.69679,
          33.69664,
          33.696365,
          33.695759,
          33.694984,
          33.693516,
          33.692714,
          33.693255,
          33.693568,
          33.692919,
          33.693435,
          33.694411,
          33.694121,
          33.696365,
          33.697386,
          33.697053,
          33.69676,
          33.697295,
          33.69748,
          33.69748,
          33.698287,
          33.698719,
          33.698307,
          33.697341,
          33.697917,
          33.695761,
          33.695692,
          33.694687,
          33.694776,
          33.694056,
          33.694998,
          33.695009,
          33.694807,
          33.699352,
          33.69862,
          33.698956,
          33.699326,
          33.699345,
          33.70017,
          33.70013,
          33.69965,
          33.698299,
          33.700073,
          33.69999,
          33.702769,
          33.703835,
          33.70321,
          33.702904,
          33.70217,
          33.699812,
          33.698144,
          33.697891,
          33.697697,
          33.699133,
          33.698838,
          33.697026,
          33.696805,
          33.697627,
          33.697313,
          33.697907,
          33.698602,
          33.699181,
          33.699406,
          33.69958,
          33.699773,
          33.70026,
          33.701217,
          33.700404,
          33.700416,
          33.699631,
          33.699051,
          33.699787,
          33.698572,
          33.700111,
          33.699758,
          33.699084,
          33.699223,
          33.69946,
          33.700671,
          33.698993,
          33.698247,
          33.696822,
          33.696976,
          33.696386,
          33.695691,
          33.696117,
          33.695687,
          33.695126,
          33.69553,
          33.696054
         ],
         "line": {
          "width": 4
         },
         "lon": [
          -117.847178,
          -117.729916,
          -117.729143,
          -117.730206,
          -117.729391,
          -117.730265,
          -117.728693,
          -117.728753,
          -117.728426,
          -117.728645,
          -117.728193,
          -117.727216,
          -117.725651,
          -117.725801,
          -117.725359,
          -117.724734,
          -117.724189,
          -117.722741,
          -117.722445,
          -117.721818,
          -117.720866,
          -117.72054,
          -117.724273,
          -117.724253,
          -117.724568,
          -117.723709,
          -117.72218,
          -117.722027,
          -117.722441,
          -117.725343,
          -117.725632,
          -117.726672,
          -117.727433,
          -117.727156,
          -117.724259,
          -117.724084,
          -117.723242,
          -117.724196,
          -117.720737,
          -117.719938,
          -117.721427,
          -117.719313,
          -117.718875,
          -117.719055,
          -117.716135,
          -117.715226,
          -117.714293,
          -117.714304,
          -117.713745,
          -117.713809,
          -117.715302,
          -117.716148,
          -117.717885,
          -117.717273,
          -117.717198,
          -117.716759,
          -117.716595,
          -117.716411,
          -117.716969,
          -117.718118,
          -117.718733,
          -117.719528,
          -117.718101,
          -117.718541,
          -117.719658,
          -117.718171,
          -117.717057,
          -117.716438,
          -117.715021,
          -117.715256,
          -117.715097,
          -117.701055,
          -117.711561,
          -117.710877,
          -117.711329,
          -117.711394,
          -117.710998,
          -117.711688,
          -117.712246,
          -117.71267,
          -117.712306,
          -117.71066,
          -117.71054,
          -117.713395,
          -117.71421,
          -117.714018,
          -117.714444,
          -117.713339,
          -117.714323,
          -117.715862,
          -117.714222,
          -117.713777,
          -117.71348,
          -117.713727,
          -117.712912,
          -117.712607,
          -117.712708,
          -117.713637,
          -117.714732,
          -117.714998,
          -117.713988,
          -117.715758,
          -117.715581,
          -117.716154,
          -117.716533,
          -117.715081,
          -117.71615,
          -117.717427,
          -117.717711,
          -117.716971,
          -117.716993,
          -117.716875,
          -117.723347,
          -117.723231,
          -117.723369,
          -117.724538,
          -117.724887,
          -117.72493,
          -117.726002,
          -117.731085,
          -117.732407,
          -117.731203,
          -117.730924,
          -117.732679,
          -117.73261,
          -117.732198,
          -117.731006,
          -117.730663,
          -117.730658
         ],
         "marker": {
          "size": [
           0,
           0.1,
           0.2,
           0.3,
           0.4,
           0.5,
           0.6,
           0.7,
           0.8,
           0.9,
           1,
           1.1,
           1.2,
           1.3,
           1.4,
           1.5,
           1.6,
           1.7,
           1.8,
           1.9,
           2,
           2.1,
           2.2,
           2.3,
           2.4,
           2.5,
           2.6,
           2.7,
           2.8,
           2.9,
           3,
           3.1,
           3.2,
           3.3,
           3.4,
           3.5,
           3.6,
           3.7,
           3.8,
           3.9,
           4,
           4.1,
           4.2,
           4.3,
           4.4,
           4.5,
           4.6,
           4.7,
           4.8,
           4.9,
           5,
           5.1,
           5.2,
           5.3,
           5.4,
           5.5,
           5.6,
           5.7,
           5.8,
           5.9,
           6,
           6.1,
           6.2,
           6.3,
           6.4,
           6.5,
           6.6,
           6.7,
           6.8,
           6.9,
           7,
           7.1,
           7.2,
           7.3,
           7.4,
           7.5,
           7.6,
           7.7,
           7.8,
           7.9,
           8,
           8.1,
           8.2,
           8.3,
           8.4,
           8.5,
           8.6,
           8.7,
           8.8,
           8.9,
           9,
           9.1,
           9.2,
           9.3,
           9.4,
           9.5,
           9.6,
           9.7,
           9.8,
           9.9,
           10,
           10.1,
           10.2,
           10.3,
           10.4,
           10.5,
           10.6,
           10.7,
           10.8,
           10.9,
           11,
           11.1,
           11.2,
           11.3,
           11.4,
           11.5,
           11.6,
           11.7,
           11.8,
           11.9,
           12,
           12.1,
           12.2,
           12.3,
           12.4,
           12.5,
           12.6,
           12.7,
           12.8
          ]
         },
         "mode": "lines+markers",
         "name": "ortools",
         "text": [
          0,
          1,
          2,
          3,
          4,
          5,
          6,
          7,
          8,
          9,
          10,
          11,
          12,
          13,
          14,
          15,
          16,
          17,
          18,
          19,
          20,
          21,
          22,
          23,
          24,
          25,
          26,
          27,
          28,
          29,
          30,
          31,
          32,
          33,
          34,
          35,
          36,
          37,
          38,
          39,
          40,
          41,
          42,
          43,
          44,
          45,
          46,
          47,
          48,
          49,
          50,
          51,
          52,
          53,
          54,
          55,
          56,
          57,
          58,
          59,
          60,
          61,
          62,
          63,
          64,
          65,
          66,
          67,
          68,
          69,
          70,
          71,
          72,
          73,
          74,
          75,
          76,
          77,
          78,
          79,
          80,
          81,
          82,
          83,
          84,
          85,
          86,
          87,
          88,
          89,
          90,
          91,
          92,
          93,
          94,
          95,
          96,
          97,
          98,
          99,
          100,
          101,
          102,
          103,
          104,
          105,
          106,
          107,
          108,
          109,
          110,
          111,
          112,
          113,
          114,
          115,
          116,
          117,
          118,
          119,
          120,
          121,
          122,
          123,
          124,
          125,
          126,
          127,
          128
         ],
         "type": "scattermapbox"
        },
        {
         "hoverinfo": "text",
         "lat": [
          33.688122,
          33.698993,
          33.696386,
          33.696117,
          33.695691,
          33.695687,
          33.695126,
          33.69553,
          33.696054,
          33.696976,
          33.696822,
          33.698247,
          33.696722,
          33.697676,
          33.698136,
          33.698499,
          33.698438,
          33.699419,
          33.700585,
          33.700773,
          33.698811,
          33.699044,
          33.699912,
          33.69946,
          33.699223,
          33.699084,
          33.699758,
          33.700111,
          33.700465,
          33.700167,
          33.700671,
          33.701027,
          33.700992,
          33.70143,
          33.700365,
          33.700085,
          33.698277,
          33.69866,
          33.698739,
          33.697719,
          33.698034,
          33.697261,
          33.695949,
          33.695962,
          33.696174,
          33.696469,
          33.69642,
          33.696213,
          33.696636,
          33.697332,
          33.698225,
          33.698522,
          33.698996,
          33.699325,
          33.698043,
          33.698163,
          33.695761,
          33.69679,
          33.69664,
          33.696365,
          33.695692,
          33.695759,
          33.694984,
          33.694121,
          33.693516,
          33.694411,
          33.692714,
          33.693255,
          33.693568,
          33.693435,
          33.692919,
          33.694056,
          33.695009,
          33.694998,
          33.694776,
          33.694687,
          33.696365,
          33.697341,
          33.697917,
          33.698307,
          33.698719,
          33.698287,
          33.69748,
          33.697386,
          33.697053,
          33.69676,
          33.697295,
          33.69748,
          33.699773,
          33.700404,
          33.70026,
          33.699787,
          33.699051,
          33.698572,
          33.699631,
          33.700416,
          33.701217,
          33.699406,
          33.69958,
          33.69999,
          33.700073,
          33.70217,
          33.702904,
          33.70321,
          33.703835,
          33.702769,
          33.699812,
          33.699181,
          33.698602,
          33.698144,
          33.697907,
          33.697697,
          33.698838,
          33.699133,
          33.697891,
          33.697313,
          33.697026,
          33.696805,
          33.697627,
          33.698299,
          33.70013,
          33.69862,
          33.698956,
          33.699345,
          33.699326,
          33.699352,
          33.70017,
          33.69965,
          33.694807
         ],
         "line": {
          "width": 4
         },
         "lon": [
          -117.847178,
          -117.726002,
          -117.730924,
          -117.73261,
          -117.732679,
          -117.732198,
          -117.731006,
          -117.730663,
          -117.730658,
          -117.731203,
          -117.732407,
          -117.731085,
          -117.729916,
          -117.729143,
          -117.730206,
          -117.729391,
          -117.730265,
          -117.728693,
          -117.728753,
          -117.728426,
          -117.728645,
          -117.728193,
          -117.727216,
          -117.724887,
          -117.724538,
          -117.723369,
          -117.723231,
          -117.723347,
          -117.724253,
          -117.724568,
          -117.72493,
          -117.724273,
          -117.723709,
          -117.72218,
          -117.722441,
          -117.722027,
          -117.724189,
          -117.724734,
          -117.725651,
          -117.725359,
          -117.725801,
          -117.727156,
          -117.727433,
          -117.726672,
          -117.725343,
          -117.725632,
          -117.724259,
          -117.724084,
          -117.723242,
          -117.724196,
          -117.722741,
          -117.722445,
          -117.720866,
          -117.72054,
          -117.721818,
          -117.720737,
          -117.719658,
          -117.719938,
          -117.721427,
          -117.719313,
          -117.718171,
          -117.718875,
          -117.719055,
          -117.716148,
          -117.716135,
          -117.715302,
          -117.715226,
          -117.714293,
          -117.714304,
          -117.713809,
          -117.713745,
          -117.715021,
          -117.715097,
          -117.715256,
          -117.716438,
          -117.717057,
          -117.717885,
          -117.718101,
          -117.718541,
          -117.719528,
          -117.718733,
          -117.718118,
          -117.716969,
          -117.717273,
          -117.717198,
          -117.716759,
          -117.716595,
          -117.716411,
          -117.716154,
          -117.71615,
          -117.716533,
          -117.716993,
          -117.716971,
          -117.716875,
          -117.717711,
          -117.717427,
          -117.715081,
          -117.715758,
          -117.715581,
          -117.71054,
          -117.71066,
          -117.713339,
          -117.714444,
          -117.714018,
          -117.71421,
          -117.713395,
          -117.714323,
          -117.713988,
          -117.714998,
          -117.715862,
          -117.714732,
          -117.713777,
          -117.713727,
          -117.71348,
          -117.714222,
          -117.713637,
          -117.712912,
          -117.712607,
          -117.712708,
          -117.712306,
          -117.712246,
          -117.710877,
          -117.711329,
          -117.710998,
          -117.711394,
          -117.711561,
          -117.711688,
          -117.71267,
          -117.701055
         ],
         "marker": {
          "size": [
           0,
           0.1,
           0.2,
           0.3,
           0.4,
           0.5,
           0.6,
           0.7,
           0.8,
           0.9,
           1,
           1.1,
           1.2,
           1.3,
           1.4,
           1.5,
           1.6,
           1.7,
           1.8,
           1.9,
           2,
           2.1,
           2.2,
           2.3,
           2.4,
           2.5,
           2.6,
           2.7,
           2.8,
           2.9,
           3,
           3.1,
           3.2,
           3.3,
           3.4,
           3.5,
           3.6,
           3.7,
           3.8,
           3.9,
           4,
           4.1,
           4.2,
           4.3,
           4.4,
           4.5,
           4.6,
           4.7,
           4.8,
           4.9,
           5,
           5.1,
           5.2,
           5.3,
           5.4,
           5.5,
           5.6,
           5.7,
           5.8,
           5.9,
           6,
           6.1,
           6.2,
           6.3,
           6.4,
           6.5,
           6.6,
           6.7,
           6.8,
           6.9,
           7,
           7.1,
           7.2,
           7.3,
           7.4,
           7.5,
           7.6,
           7.7,
           7.8,
           7.9,
           8,
           8.1,
           8.2,
           8.3,
           8.4,
           8.5,
           8.6,
           8.7,
           8.8,
           8.9,
           9,
           9.1,
           9.2,
           9.3,
           9.4,
           9.5,
           9.6,
           9.7,
           9.8,
           9.9,
           10,
           10.1,
           10.2,
           10.3,
           10.4,
           10.5,
           10.6,
           10.7,
           10.8,
           10.9,
           11,
           11.1,
           11.2,
           11.3,
           11.4,
           11.5,
           11.6,
           11.7,
           11.8,
           11.9,
           12,
           12.1,
           12.2,
           12.3,
           12.4,
           12.5,
           12.6,
           12.7,
           12.8
          ]
         },
         "mode": "lines+markers",
         "name": "ors_otools",
         "text": [
          0,
          1,
          2,
          3,
          4,
          5,
          6,
          7,
          8,
          9,
          10,
          11,
          12,
          13,
          14,
          15,
          16,
          17,
          18,
          19,
          20,
          21,
          22,
          23,
          24,
          25,
          26,
          27,
          28,
          29,
          30,
          31,
          32,
          33,
          34,
          35,
          36,
          37,
          38,
          39,
          40,
          41,
          42,
          43,
          44,
          45,
          46,
          47,
          48,
          49,
          50,
          51,
          52,
          53,
          54,
          55,
          56,
          57,
          58,
          59,
          60,
          61,
          62,
          63,
          64,
          65,
          66,
          67,
          68,
          69,
          70,
          71,
          72,
          73,
          74,
          75,
          76,
          77,
          78,
          79,
          80,
          81,
          82,
          83,
          84,
          85,
          86,
          87,
          88,
          89,
          90,
          91,
          92,
          93,
          94,
          95,
          96,
          97,
          98,
          99,
          100,
          101,
          102,
          103,
          104,
          105,
          106,
          107,
          108,
          109,
          110,
          111,
          112,
          113,
          114,
          115,
          116,
          117,
          118,
          119,
          120,
          121,
          122,
          123,
          124,
          125,
          126,
          127,
          128
         ],
         "type": "scattermapbox"
        }
       ],
       "layout": {
        "height": 600,
        "hovermode": "closest",
        "mapbox": {
         "accesstoken": "pk.eyJ1IjoibWF4LXNjaHJhZGVyIiwiYSI6ImNrOHQxZ2s3bDAwdXQzbG81NjZpZm96bDEifQ.etUi4OK4ozzaP_P8foZn_A",
         "bearing": 0,
         "center": {
          "lat": 33.69793215503876,
          "lon": -117.7209567984496
         },
         "pitch": 0,
         "style": "mapbox://styles/max-schrader/cl6lhvrfw001516pkh3s6iv7l",
         "zoom": 12
        },
        "template": {
         "data": {
          "bar": [
           {
            "error_x": {
             "color": "#2a3f5f"
            },
            "error_y": {
             "color": "#2a3f5f"
            },
            "marker": {
             "line": {
              "color": "#E5ECF6",
              "width": 0.5
             },
             "pattern": {
              "fillmode": "overlay",
              "size": 10,
              "solidity": 0.2
             }
            },
            "type": "bar"
           }
          ],
          "barpolar": [
           {
            "marker": {
             "line": {
              "color": "#E5ECF6",
              "width": 0.5
             },
             "pattern": {
              "fillmode": "overlay",
              "size": 10,
              "solidity": 0.2
             }
            },
            "type": "barpolar"
           }
          ],
          "carpet": [
           {
            "aaxis": {
             "endlinecolor": "#2a3f5f",
             "gridcolor": "white",
             "linecolor": "white",
             "minorgridcolor": "white",
             "startlinecolor": "#2a3f5f"
            },
            "baxis": {
             "endlinecolor": "#2a3f5f",
             "gridcolor": "white",
             "linecolor": "white",
             "minorgridcolor": "white",
             "startlinecolor": "#2a3f5f"
            },
            "type": "carpet"
           }
          ],
          "choropleth": [
           {
            "colorbar": {
             "outlinewidth": 0,
             "ticks": ""
            },
            "type": "choropleth"
           }
          ],
          "contour": [
           {
            "colorbar": {
             "outlinewidth": 0,
             "ticks": ""
            },
            "colorscale": [
             [
              0,
              "#0d0887"
             ],
             [
              0.1111111111111111,
              "#46039f"
             ],
             [
              0.2222222222222222,
              "#7201a8"
             ],
             [
              0.3333333333333333,
              "#9c179e"
             ],
             [
              0.4444444444444444,
              "#bd3786"
             ],
             [
              0.5555555555555556,
              "#d8576b"
             ],
             [
              0.6666666666666666,
              "#ed7953"
             ],
             [
              0.7777777777777778,
              "#fb9f3a"
             ],
             [
              0.8888888888888888,
              "#fdca26"
             ],
             [
              1,
              "#f0f921"
             ]
            ],
            "type": "contour"
           }
          ],
          "contourcarpet": [
           {
            "colorbar": {
             "outlinewidth": 0,
             "ticks": ""
            },
            "type": "contourcarpet"
           }
          ],
          "heatmap": [
           {
            "colorbar": {
             "outlinewidth": 0,
             "ticks": ""
            },
            "colorscale": [
             [
              0,
              "#0d0887"
             ],
             [
              0.1111111111111111,
              "#46039f"
             ],
             [
              0.2222222222222222,
              "#7201a8"
             ],
             [
              0.3333333333333333,
              "#9c179e"
             ],
             [
              0.4444444444444444,
              "#bd3786"
             ],
             [
              0.5555555555555556,
              "#d8576b"
             ],
             [
              0.6666666666666666,
              "#ed7953"
             ],
             [
              0.7777777777777778,
              "#fb9f3a"
             ],
             [
              0.8888888888888888,
              "#fdca26"
             ],
             [
              1,
              "#f0f921"
             ]
            ],
            "type": "heatmap"
           }
          ],
          "heatmapgl": [
           {
            "colorbar": {
             "outlinewidth": 0,
             "ticks": ""
            },
            "colorscale": [
             [
              0,
              "#0d0887"
             ],
             [
              0.1111111111111111,
              "#46039f"
             ],
             [
              0.2222222222222222,
              "#7201a8"
             ],
             [
              0.3333333333333333,
              "#9c179e"
             ],
             [
              0.4444444444444444,
              "#bd3786"
             ],
             [
              0.5555555555555556,
              "#d8576b"
             ],
             [
              0.6666666666666666,
              "#ed7953"
             ],
             [
              0.7777777777777778,
              "#fb9f3a"
             ],
             [
              0.8888888888888888,
              "#fdca26"
             ],
             [
              1,
              "#f0f921"
             ]
            ],
            "type": "heatmapgl"
           }
          ],
          "histogram": [
           {
            "marker": {
             "pattern": {
              "fillmode": "overlay",
              "size": 10,
              "solidity": 0.2
             }
            },
            "type": "histogram"
           }
          ],
          "histogram2d": [
           {
            "colorbar": {
             "outlinewidth": 0,
             "ticks": ""
            },
            "colorscale": [
             [
              0,
              "#0d0887"
             ],
             [
              0.1111111111111111,
              "#46039f"
             ],
             [
              0.2222222222222222,
              "#7201a8"
             ],
             [
              0.3333333333333333,
              "#9c179e"
             ],
             [
              0.4444444444444444,
              "#bd3786"
             ],
             [
              0.5555555555555556,
              "#d8576b"
             ],
             [
              0.6666666666666666,
              "#ed7953"
             ],
             [
              0.7777777777777778,
              "#fb9f3a"
             ],
             [
              0.8888888888888888,
              "#fdca26"
             ],
             [
              1,
              "#f0f921"
             ]
            ],
            "type": "histogram2d"
           }
          ],
          "histogram2dcontour": [
           {
            "colorbar": {
             "outlinewidth": 0,
             "ticks": ""
            },
            "colorscale": [
             [
              0,
              "#0d0887"
             ],
             [
              0.1111111111111111,
              "#46039f"
             ],
             [
              0.2222222222222222,
              "#7201a8"
             ],
             [
              0.3333333333333333,
              "#9c179e"
             ],
             [
              0.4444444444444444,
              "#bd3786"
             ],
             [
              0.5555555555555556,
              "#d8576b"
             ],
             [
              0.6666666666666666,
              "#ed7953"
             ],
             [
              0.7777777777777778,
              "#fb9f3a"
             ],
             [
              0.8888888888888888,
              "#fdca26"
             ],
             [
              1,
              "#f0f921"
             ]
            ],
            "type": "histogram2dcontour"
           }
          ],
          "mesh3d": [
           {
            "colorbar": {
             "outlinewidth": 0,
             "ticks": ""
            },
            "type": "mesh3d"
           }
          ],
          "parcoords": [
           {
            "line": {
             "colorbar": {
              "outlinewidth": 0,
              "ticks": ""
             }
            },
            "type": "parcoords"
           }
          ],
          "pie": [
           {
            "automargin": true,
            "type": "pie"
           }
          ],
          "scatter": [
           {
            "fillpattern": {
             "fillmode": "overlay",
             "size": 10,
             "solidity": 0.2
            },
            "type": "scatter"
           }
          ],
          "scatter3d": [
           {
            "line": {
             "colorbar": {
              "outlinewidth": 0,
              "ticks": ""
             }
            },
            "marker": {
             "colorbar": {
              "outlinewidth": 0,
              "ticks": ""
             }
            },
            "type": "scatter3d"
           }
          ],
          "scattercarpet": [
           {
            "marker": {
             "colorbar": {
              "outlinewidth": 0,
              "ticks": ""
             }
            },
            "type": "scattercarpet"
           }
          ],
          "scattergeo": [
           {
            "marker": {
             "colorbar": {
              "outlinewidth": 0,
              "ticks": ""
             }
            },
            "type": "scattergeo"
           }
          ],
          "scattergl": [
           {
            "marker": {
             "colorbar": {
              "outlinewidth": 0,
              "ticks": ""
             }
            },
            "type": "scattergl"
           }
          ],
          "scattermapbox": [
           {
            "marker": {
             "colorbar": {
              "outlinewidth": 0,
              "ticks": ""
             }
            },
            "type": "scattermapbox"
           }
          ],
          "scatterpolar": [
           {
            "marker": {
             "colorbar": {
              "outlinewidth": 0,
              "ticks": ""
             }
            },
            "type": "scatterpolar"
           }
          ],
          "scatterpolargl": [
           {
            "marker": {
             "colorbar": {
              "outlinewidth": 0,
              "ticks": ""
             }
            },
            "type": "scatterpolargl"
           }
          ],
          "scatterternary": [
           {
            "marker": {
             "colorbar": {
              "outlinewidth": 0,
              "ticks": ""
             }
            },
            "type": "scatterternary"
           }
          ],
          "surface": [
           {
            "colorbar": {
             "outlinewidth": 0,
             "ticks": ""
            },
            "colorscale": [
             [
              0,
              "#0d0887"
             ],
             [
              0.1111111111111111,
              "#46039f"
             ],
             [
              0.2222222222222222,
              "#7201a8"
             ],
             [
              0.3333333333333333,
              "#9c179e"
             ],
             [
              0.4444444444444444,
              "#bd3786"
             ],
             [
              0.5555555555555556,
              "#d8576b"
             ],
             [
              0.6666666666666666,
              "#ed7953"
             ],
             [
              0.7777777777777778,
              "#fb9f3a"
             ],
             [
              0.8888888888888888,
              "#fdca26"
             ],
             [
              1,
              "#f0f921"
             ]
            ],
            "type": "surface"
           }
          ],
          "table": [
           {
            "cells": {
             "fill": {
              "color": "#EBF0F8"
             },
             "line": {
              "color": "white"
             }
            },
            "header": {
             "fill": {
              "color": "#C8D4E3"
             },
             "line": {
              "color": "white"
             }
            },
            "type": "table"
           }
          ]
         },
         "layout": {
          "annotationdefaults": {
           "arrowcolor": "#2a3f5f",
           "arrowhead": 0,
           "arrowwidth": 1
          },
          "autotypenumbers": "strict",
          "coloraxis": {
           "colorbar": {
            "outlinewidth": 0,
            "ticks": ""
           }
          },
          "colorscale": {
           "diverging": [
            [
             0,
             "#8e0152"
            ],
            [
             0.1,
             "#c51b7d"
            ],
            [
             0.2,
             "#de77ae"
            ],
            [
             0.3,
             "#f1b6da"
            ],
            [
             0.4,
             "#fde0ef"
            ],
            [
             0.5,
             "#f7f7f7"
            ],
            [
             0.6,
             "#e6f5d0"
            ],
            [
             0.7,
             "#b8e186"
            ],
            [
             0.8,
             "#7fbc41"
            ],
            [
             0.9,
             "#4d9221"
            ],
            [
             1,
             "#276419"
            ]
           ],
           "sequential": [
            [
             0,
             "#0d0887"
            ],
            [
             0.1111111111111111,
             "#46039f"
            ],
            [
             0.2222222222222222,
             "#7201a8"
            ],
            [
             0.3333333333333333,
             "#9c179e"
            ],
            [
             0.4444444444444444,
             "#bd3786"
            ],
            [
             0.5555555555555556,
             "#d8576b"
            ],
            [
             0.6666666666666666,
             "#ed7953"
            ],
            [
             0.7777777777777778,
             "#fb9f3a"
            ],
            [
             0.8888888888888888,
             "#fdca26"
            ],
            [
             1,
             "#f0f921"
            ]
           ],
           "sequentialminus": [
            [
             0,
             "#0d0887"
            ],
            [
             0.1111111111111111,
             "#46039f"
            ],
            [
             0.2222222222222222,
             "#7201a8"
            ],
            [
             0.3333333333333333,
             "#9c179e"
            ],
            [
             0.4444444444444444,
             "#bd3786"
            ],
            [
             0.5555555555555556,
             "#d8576b"
            ],
            [
             0.6666666666666666,
             "#ed7953"
            ],
            [
             0.7777777777777778,
             "#fb9f3a"
            ],
            [
             0.8888888888888888,
             "#fdca26"
            ],
            [
             1,
             "#f0f921"
            ]
           ]
          },
          "colorway": [
           "#636efa",
           "#EF553B",
           "#00cc96",
           "#ab63fa",
           "#FFA15A",
           "#19d3f3",
           "#FF6692",
           "#B6E880",
           "#FF97FF",
           "#FECB52"
          ],
          "font": {
           "color": "#2a3f5f"
          },
          "geo": {
           "bgcolor": "white",
           "lakecolor": "white",
           "landcolor": "#E5ECF6",
           "showlakes": true,
           "showland": true,
           "subunitcolor": "white"
          },
          "hoverlabel": {
           "align": "left"
          },
          "hovermode": "closest",
          "mapbox": {
           "style": "light"
          },
          "paper_bgcolor": "white",
          "plot_bgcolor": "#E5ECF6",
          "polar": {
           "angularaxis": {
            "gridcolor": "white",
            "linecolor": "white",
            "ticks": ""
           },
           "bgcolor": "#E5ECF6",
           "radialaxis": {
            "gridcolor": "white",
            "linecolor": "white",
            "ticks": ""
           }
          },
          "scene": {
           "xaxis": {
            "backgroundcolor": "#E5ECF6",
            "gridcolor": "white",
            "gridwidth": 2,
            "linecolor": "white",
            "showbackground": true,
            "ticks": "",
            "zerolinecolor": "white"
           },
           "yaxis": {
            "backgroundcolor": "#E5ECF6",
            "gridcolor": "white",
            "gridwidth": 2,
            "linecolor": "white",
            "showbackground": true,
            "ticks": "",
            "zerolinecolor": "white"
           },
           "zaxis": {
            "backgroundcolor": "#E5ECF6",
            "gridcolor": "white",
            "gridwidth": 2,
            "linecolor": "white",
            "showbackground": true,
            "ticks": "",
            "zerolinecolor": "white"
           }
          },
          "shapedefaults": {
           "line": {
            "color": "#2a3f5f"
           }
          },
          "ternary": {
           "aaxis": {
            "gridcolor": "white",
            "linecolor": "white",
            "ticks": ""
           },
           "baxis": {
            "gridcolor": "white",
            "linecolor": "white",
            "ticks": ""
           },
           "bgcolor": "#E5ECF6",
           "caxis": {
            "gridcolor": "white",
            "linecolor": "white",
            "ticks": ""
           }
          },
          "title": {
           "x": 0.05
          },
          "xaxis": {
           "automargin": true,
           "gridcolor": "white",
           "linecolor": "white",
           "ticks": "",
           "title": {
            "standoff": 15
           },
           "zerolinecolor": "white",
           "zerolinewidth": 2
          },
          "yaxis": {
           "automargin": true,
           "gridcolor": "white",
           "linecolor": "white",
           "ticks": "",
           "title": {
            "standoff": 15
           },
           "zerolinecolor": "white",
           "zerolinewidth": 2
          }
         }
        },
        "width": 1000
       }
      }
     },
     "metadata": {},
     "output_type": "display_data"
    }
   ],
   "source": [
    "import numpy as np\n",
    "\n",
    "# color_bar = go.ColorBar(\n",
    "#     title=\"Order\",\n",
    "    \n",
    "# )\n",
    "\n",
    "fig = go.Figure(\n",
    "    data=[go.Scattermapbox(\n",
    "        lat=sequence_df[\"actual_lat\"],\n",
    "        lon=sequence_df[\"actual_lon\"],\n",
    "        mode=\"lines+markers\",\n",
    "        name=\"actual\",\n",
    "        line=dict(width=4),\n",
    "        marker=go.scattermapbox.Marker(\n",
    "            # size=new_df['cum_time'] * 10,\n",
    "            # size=np.log(sequence_df.index.values + 1) * 10,\n",
    "            size=sequence_df.index.values / 10,\n",
    "            # colorbar=color_bar,\n",
    "        ),\n",
    "        # text=new_df[\"cum_time\"],\n",
    "        hoverinfo=\"text\",\n",
    "        text=sequence_df.index.values,\n",
    "    ), \n",
    "    go.Scattermapbox(\n",
    "        lat=sequence_df[\"ortools_lat\"],\n",
    "        lon=sequence_df[\"ortools_lon\"],\n",
    "        mode=\"lines+markers\",\n",
    "        name=\"ortools\",\n",
    "        line=dict(width=4),\n",
    "        marker=go.scattermapbox.Marker(\n",
    "            # size=new_df['cum_time'] * 10,\n",
    "            # size=np.log(sequence_df.index.values + 1) * 10,\n",
    "            size=sequence_df.index.values / 10\n",
    "            # colorbar=color_bar,\n",
    "        ),\n",
    "        hoverinfo=\"text\",\n",
    "        text=sequence_df.index.values,\n",
    "    ),\n",
    "    go.Scattermapbox(\n",
    "        lat=sequence_df[\"ors_ortools_lat\"],\n",
    "        lon=sequence_df[\"ors_ortools_lon\"],\n",
    "        mode=\"lines+markers\",\n",
    "        name=\"ors_otools\",\n",
    "        line=dict(width=4),\n",
    "        marker=go.scattermapbox.Marker(\n",
    "            # size=new_df['cum_time'] * 10,\n",
    "            # size=np.log(sequence_df.index.values + 1) * 10,\n",
    "            size=sequence_df.index.values / 10\n",
    "            # colorbar=color_bar,\n",
    "        ),\n",
    "        hoverinfo=\"text\",\n",
    "        text=sequence_df.index.values,\n",
    "    )\n",
    "    ]\n",
    ")\n",
    "\n",
    "fig.update_layout(\n",
    "    # autosize=True,\n",
    "    height=600,\n",
    "    width=1000,\n",
    "    hovermode=\"closest\",\n",
    "    mapbox=go.layout.Mapbox(\n",
    "        accesstoken=os.environ[\"MAPBOX_KEY\"],\n",
    "        # style=\"mapbox://styles/max-schrader/ck8t1cmmc02wk1it9rv28iyte\",\n",
    "        style=\"mapbox://styles/max-schrader/cl6lhvrfw001516pkh3s6iv7l\",\n",
    "        bearing=0,\n",
    "        center=go.layout.mapbox.Center(\n",
    "            lat=sequence_df[\"ortools_lat\"].mean(), lon=sequence_df[\"ortools_lon\"].mean()\n",
    "        ),\n",
    "        pitch=0,\n",
    "        zoom=12,\n",
    "        \n",
    "    ),\n",
    "    # margin=go.layout.Margin(l=0, r=0, t=0, b=0),\n",
    ")\n",
    "fig.show()\n"
   ]
  },
  {
   "cell_type": "code",
   "execution_count": 39,
   "metadata": {},
   "outputs": [
    {
     "data": {
      "application/vnd.plotly.v1+json": {
       "config": {
        "plotlyServerURL": "https://plot.ly"
       },
       "data": [
        {
         "mode": "lines",
         "name": "actual",
         "type": "scatter",
         "x": [
          421479.081160102,
          433732.84947339725,
          433633.1571666961,
          433597.5523934367,
          433514.8222469718,
          433487.8979890315,
          433556.030547311,
          433554.5583205964,
          433632.30124461185,
          433668.71819209895,
          433685.2552979706,
          433564.55864978017,
          433606.7201197586,
          433050.1172855733,
          433088.26710169273,
          433075.1309886101,
          432933.09431462554,
          432880.8539588425,
          432819.6906962007,
          432852.8463270493,
          432882.27035448654,
          432965.9576545539,
          432976.4336999628,
          432963.12113553385,
          432854.892132625,
          432822.73305604694,
          432607.24669856427,
          432516.02532037324,
          432473.9538667567,
          432495.78436547815,
          432465.33308859094,
          432469.9811646721,
          432323.52725869435,
          432404.5736777474,
          432328.7583519502,
          432426.9129390131,
          432354.5262657514,
          432123.7448769596,
          432235.44954625267,
          432247.38316871854,
          432260.843517544,
          432285.2354205915,
          432284.36096366926,
          432252.2550186536,
          432142.22222393064,
          432104.3767946327,
          432097.64688141475,
          432610.73733700893,
          432777.6346603872,
          432751.3678386536,
          432736.91711068363,
          432584.0410938839,
          432654.5795346334,
          432777.91426010267,
          432751.36009203497,
          432894.62641674816,
          432878.5687072497,
          432972.98987556517,
          432885.11654458626,
          432719.0367602533,
          432836.28973836766,
          432886.5000817233,
          433106.0533202107,
          433225.4852794804,
          433195.0186502017,
          433048.31692928966,
          433020.65445897327,
          433206.3291048813,
          433442.23039607983,
          433469.25521114835,
          433449.9892818513,
          433533.454729764,
          433526.76039284613,
          433555.0065093414,
          433449.1431836823,
          433392.48090766295,
          433318.485656532,
          433409.65583477676,
          433279.31592278153,
          433141.202948457,
          433304.47054391773,
          433336.91112208675,
          433377.0363341874,
          433359.7558870824,
          433573.91452938516,
          433589.5252641274,
          433602.13791264204,
          433544.7007085386,
          433628.5113986048,
          433629.25109772885,
          433707.1416551634,
          433732.912221797,
          433712.88228798396,
          433799.76929010206,
          433798.98982382903,
          433844.76494797645,
          433850.30114676646,
          433832.5798084572,
          433958.7458505046,
          433863.67734856915,
          433809.90461783804,
          433856.5050907162,
          433879.6218707021,
          433850.9968746541,
          433762.6520025452,
          433658.1100026703,
          433738.5336745295,
          433802.0177048902,
          433890.28454801906,
          433815.5752466184,
          433832.88863931835,
          433793.1762208365,
          433895.0152866233,
          434152.7399462434,
          434141.6824045774,
          433950.01444537664,
          433930.64840031555,
          433987.78436090285,
          433955.08417621086,
          433994.74519888475,
          434046.4877682099,
          434057.63235271623,
          434078.8304185921,
          434120.4630953312,
          434073.08916239184,
          434109.80284711503,
          435027.85096228955,
          433711.85569796956,
          433726.60016371333
         ],
         "y": [
          3727898.4452264765,
          3729257.771857814,
          3729168.316269132,
          3729152.596363929,
          3729170.468293039,
          3729083.6135462276,
          3729018.829072824,
          3729100.447940262,
          3729098.3561030384,
          3729057.4101725523,
          3729076.5889014183,
          3728965.657722262,
          3728844.2827711045,
          3729168.053349787,
          3729136.739706483,
          3729285.9671348757,
          3729238.3955112966,
          3729242.6426521945,
          3729203.5980415917,
          3729147.481042436,
          3729180.317307033,
          3729140.4786431347,
          3729101.264102173,
          3729026.62324366,
          3729042.7945502745,
          3729069.299166666,
          3729120.932772071,
          3729025.330427336,
          3728999.7917946125,
          3729217.18747331,
          3729196.556595397,
          3729067.2358362176,
          3728959.495581282,
          3728965.6865511974,
          3728925.9723412106,
          3728874.2732406226,
          3728769.003592154,
          3728781.7257448817,
          3728798.0099193347,
          3728938.8559734756,
          3728732.40999952,
          3728695.424699851,
          3728637.328938036,
          3728592.7599887527,
          3728655.744067287,
          3728703.6915714955,
          3728656.503740981,
          3728826.961212036,
          3728876.571169153,
          3728989.8548413534,
          3728911.7849377063,
          3728681.672682465,
          3728682.617529243,
          3728705.2573318765,
          3728738.1539125955,
          3728708.7626567134,
          3728731.8277172935,
          3728755.1163599556,
          3728832.905672129,
          3729018.246001167,
          3728980.4988130867,
          3728937.6789476364,
          3728910.195488756,
          3729051.5113396593,
          3729015.2439989317,
          3728963.7114425357,
          3728930.9732280066,
          3728922.8008517823,
          3728647.1695920303,
          3728721.6047890494,
          3728829.9588789023,
          3728797.4450269383,
          3728834.4149878253,
          3728844.6416757083,
          3728934.8584818863,
          3728983.153428878,
          3728937.9856210537,
          3728894.107076256,
          3728770.05162315,
          3728754.383277736,
          3728655.779410759,
          3728722.5257080444,
          3728655.0522365626,
          3728569.239543718,
          3728764.675906626,
          3728823.8890423197,
          3728544.4916904666,
          3728535.021892759,
          3728471.6815787423,
          3728404.593329363,
          3728503.2921915776,
          3728463.750917685,
          3728315.087097628,
          3728374.4724743604,
          3728409.1836616956,
          3728394.1199811967,
          3728336.8670605025,
          3729031.327481072,
          3728767.002269927,
          3728823.986412424,
          3728888.4475077,
          3728993.129822404,
          3729025.6800316246,
          3728866.652431477,
          3728890.548542373,
          3728917.5515435496,
          3728967.777967484,
          3729101.504915322,
          3729428.77059518,
          3729547.4865548913,
          3729478.065986642,
          3729444.411013629,
          3729362.3200248517,
          3729118.8219872722,
          3729128.10121906,
          3728858.206845793,
          3728791.70093767,
          3728932.458391325,
          3729082.484510162,
          3729135.43384255,
          3729139.512326917,
          3729048.7347113923,
          3729004.6797178844,
          3728967.136951194,
          3729045.745302014,
          3729047.599183827,
          3728538.144588484,
          3728568.346797563,
          3728569.4643833186
         ]
        },
        {
         "mode": "lines",
         "name": "ortools",
         "type": "scatter",
         "x": [
          421479.081160102,
          432354.5262657514,
          432426.9129390131,
          432328.7583519502,
          432404.5736777474,
          432323.52725869435,
          432469.9811646721,
          432465.33308859094,
          432495.78436547815,
          432473.9538667567,
          432516.02532037324,
          432607.24669856427,
          432751.3678386536,
          432736.91711068363,
          432777.6346603872,
          432836.28973836766,
          432886.5000817233,
          433020.65445897327,
          433048.31692928966,
          433106.0533202107,
          433195.0186502017,
          433225.4852794804,
          432880.8539588425,
          432882.27035448654,
          432852.8463270493,
          432933.09431462554,
          433075.1309886101,
          433088.26710169273,
          433050.1172855733,
          432777.91426010267,
          432751.36009203497,
          432654.5795346334,
          432584.0410938839,
          432610.73733700893,
          432878.5687072497,
          432894.62641674816,
          432972.98987556517,
          432885.11654458626,
          433206.3291048813,
          433279.31592278153,
          433141.202948457,
          433336.91112208675,
          433377.0363341874,
          433359.7558870824,
          433629.25109772885,
          433712.88228798396,
          433799.76929010206,
          433798.98982382903,
          433850.30114676646,
          433844.76494797645,
          433707.1416551634,
          433628.5113986048,
          433469.25521114835,
          433526.76039284613,
          433533.454729764,
          433573.91452938516,
          433589.5252641274,
          433606.7201197586,
          433555.0065093414,
          433449.1431836823,
          433392.48090766295,
          433318.485656532,
          433449.9892818513,
          433409.65583477676,
          433304.47054391773,
          433442.23039607983,
          433544.7007085386,
          433602.13791264204,
          433732.912221797,
          433711.85569796956,
          433726.60016371333,
          435027.85096228955,
          434057.63235271623,
          434120.4630953312,
          434078.8304185921,
          434073.08916239184,
          434109.80284711503,
          434046.4877682099,
          433994.74519888475,
          433955.08417621086,
          433987.78436090285,
          434141.6824045774,
          434152.7399462434,
          433890.28454801906,
          433815.5752466184,
          433832.88863931835,
          433793.1762208365,
          433895.0152866233,
          433802.0177048902,
          433658.1100026703,
          433809.90461783804,
          433850.9968746541,
          433879.6218707021,
          433856.5050907162,
          433930.64840031555,
          433958.7458505046,
          433950.01444537664,
          433863.67734856915,
          433762.6520025452,
          433738.5336745295,
          433832.5798084572,
          433668.71819209895,
          433685.2552979706,
          433632.30124461185,
          433597.5523934367,
          433732.84947339725,
          433633.1571666961,
          433514.8222469718,
          433487.8979890315,
          433556.030547311,
          433554.5583205964,
          433564.55864978017,
          432965.9576545539,
          432976.4336999628,
          432963.12113553385,
          432854.892132625,
          432822.73305604694,
          432819.6906962007,
          432719.0367602533,
          432247.38316871854,
          432123.7448769596,
          432235.44954625267,
          432260.843517544,
          432097.64688141475,
          432104.3767946327,
          432142.22222393064,
          432252.2550186536,
          432284.36096366926,
          432285.2354205915
         ],
         "y": [
          3727898.4452264765,
          3728769.003592154,
          3728874.2732406226,
          3728925.9723412106,
          3728965.6865511974,
          3728959.495581282,
          3729067.2358362176,
          3729196.556595397,
          3729217.18747331,
          3728999.7917946125,
          3729025.330427336,
          3729120.932772071,
          3728989.8548413534,
          3728911.7849377063,
          3728876.571169153,
          3728980.4988130867,
          3728937.6789476364,
          3728930.9732280066,
          3728963.7114425357,
          3728910.195488756,
          3729015.2439989317,
          3729051.5113396593,
          3729242.6426521945,
          3729180.317307033,
          3729147.481042436,
          3729238.3955112966,
          3729285.9671348757,
          3729136.739706483,
          3729168.053349787,
          3728705.2573318765,
          3728738.1539125955,
          3728682.617529243,
          3728681.672682465,
          3728826.961212036,
          3728731.8277172935,
          3728708.7626567134,
          3728755.1163599556,
          3728832.905672129,
          3728922.8008517823,
          3728770.05162315,
          3728754.383277736,
          3728722.5257080444,
          3728655.0522365626,
          3728569.239543718,
          3728404.593329363,
          3728315.087097628,
          3728374.4724743604,
          3728409.1836616956,
          3728336.8670605025,
          3728394.1199811967,
          3728503.2921915776,
          3728471.6815787423,
          3728721.6047890494,
          3728834.4149878253,
          3728797.4450269383,
          3728764.675906626,
          3728823.8890423197,
          3728844.2827711045,
          3728844.6416757083,
          3728934.8584818863,
          3728983.153428878,
          3728937.9856210537,
          3728829.9588789023,
          3728894.107076256,
          3728655.779410759,
          3728647.1695920303,
          3728535.021892759,
          3728544.4916904666,
          3728463.750917685,
          3728568.346797563,
          3728569.4643833186,
          3728538.144588484,
          3729048.7347113923,
          3728967.136951194,
          3729004.6797178844,
          3729045.745302014,
          3729047.599183827,
          3729139.512326917,
          3729135.43384255,
          3729082.484510162,
          3728932.458391325,
          3729128.10121906,
          3729118.8219872722,
          3729428.77059518,
          3729547.4865548913,
          3729478.065986642,
          3729444.411013629,
          3729362.3200248517,
          3729101.504915322,
          3728917.5515435496,
          3728888.4475077,
          3728866.652431477,
          3729025.6800316246,
          3728993.129822404,
          3728791.70093767,
          3728767.002269927,
          3728858.206845793,
          3728823.986412424,
          3728890.548542373,
          3728967.777967484,
          3729031.327481072,
          3729057.4101725523,
          3729076.5889014183,
          3729098.3561030384,
          3729152.596363929,
          3729257.771857814,
          3729168.316269132,
          3729170.468293039,
          3729083.6135462276,
          3729018.829072824,
          3729100.447940262,
          3728965.657722262,
          3729140.4786431347,
          3729101.264102173,
          3729026.62324366,
          3729042.7945502745,
          3729069.299166666,
          3729203.5980415917,
          3729018.246001167,
          3728938.8559734756,
          3728781.7257448817,
          3728798.0099193347,
          3728732.40999952,
          3728656.503740981,
          3728703.6915714955,
          3728655.744067287,
          3728592.7599887527,
          3728637.328938036,
          3728695.424699851
         ]
        },
        {
         "mode": "lines",
         "name": "ors_ortools",
         "type": "scatter",
         "x": [
          421479.081160102,
          432719.0367602533,
          432260.843517544,
          432104.3767946327,
          432097.64688141475,
          432142.22222393064,
          432252.2550186536,
          432284.36096366926,
          432285.2354205915,
          432235.44954625267,
          432123.7448769596,
          432247.38316871854,
          432354.5262657514,
          432426.9129390131,
          432328.7583519502,
          432404.5736777474,
          432323.52725869435,
          432469.9811646721,
          432465.33308859094,
          432495.78436547815,
          432473.9538667567,
          432516.02532037324,
          432607.24669856427,
          432822.73305604694,
          432854.892132625,
          432963.12113553385,
          432976.4336999628,
          432965.9576545539,
          432882.27035448654,
          432852.8463270493,
          432819.6906962007,
          432880.8539588425,
          432933.09431462554,
          433075.1309886101,
          433050.1172855733,
          433088.26710169273,
          432886.5000817233,
          432836.28973836766,
          432751.3678386536,
          432777.6346603872,
          432736.91711068363,
          432610.73733700893,
          432584.0410938839,
          432654.5795346334,
          432777.91426010267,
          432751.36009203497,
          432878.5687072497,
          432894.62641674816,
          432972.98987556517,
          432885.11654458626,
          433020.65445897327,
          433048.31692928966,
          433195.0186502017,
          433225.4852794804,
          433106.0533202107,
          433206.3291048813,
          433304.47054391773,
          433279.31592278153,
          433141.202948457,
          433336.91112208675,
          433442.23039607983,
          433377.0363341874,
          433359.7558870824,
          433628.5113986048,
          433629.25109772885,
          433707.1416551634,
          433712.88228798396,
          433799.76929010206,
          433798.98982382903,
          433844.76494797645,
          433850.30114676646,
          433732.912221797,
          433726.60016371333,
          433711.85569796956,
          433602.13791264204,
          433544.7007085386,
          433469.25521114835,
          433449.9892818513,
          433409.65583477676,
          433318.485656532,
          433392.48090766295,
          433449.1431836823,
          433555.0065093414,
          433526.76039284613,
          433533.454729764,
          433573.91452938516,
          433589.5252641274,
          433606.7201197586,
          433632.30124461185,
          433633.1571666961,
          433597.5523934367,
          433554.5583205964,
          433556.030547311,
          433564.55864978017,
          433487.8979890315,
          433514.8222469718,
          433732.84947339725,
          433668.71819209895,
          433685.2552979706,
          434152.7399462434,
          434141.6824045774,
          433895.0152866233,
          433793.1762208365,
          433832.88863931835,
          433815.5752466184,
          433890.28454801906,
          433802.0177048902,
          433832.5798084572,
          433738.5336745295,
          433658.1100026703,
          433762.6520025452,
          433850.9968746541,
          433856.5050907162,
          433879.6218707021,
          433809.90461783804,
          433863.67734856915,
          433930.64840031555,
          433958.7458505046,
          433950.01444537664,
          433987.78436090285,
          433994.74519888475,
          434120.4630953312,
          434078.8304185921,
          434109.80284711503,
          434073.08916239184,
          434057.63235271623,
          434046.4877682099,
          433955.08417621086,
          435027.85096228955
         ],
         "y": [
          3727898.4452264765,
          3729018.246001167,
          3728732.40999952,
          3728703.6915714955,
          3728656.503740981,
          3728655.744067287,
          3728592.7599887527,
          3728637.328938036,
          3728695.424699851,
          3728798.0099193347,
          3728781.7257448817,
          3728938.8559734756,
          3728769.003592154,
          3728874.2732406226,
          3728925.9723412106,
          3728965.6865511974,
          3728959.495581282,
          3729067.2358362176,
          3729196.556595397,
          3729217.18747331,
          3728999.7917946125,
          3729025.330427336,
          3729120.932772071,
          3729069.299166666,
          3729042.7945502745,
          3729026.62324366,
          3729101.264102173,
          3729140.4786431347,
          3729180.317307033,
          3729147.481042436,
          3729203.5980415917,
          3729242.6426521945,
          3729238.3955112966,
          3729285.9671348757,
          3729168.053349787,
          3729136.739706483,
          3728937.6789476364,
          3728980.4988130867,
          3728989.8548413534,
          3728876.571169153,
          3728911.7849377063,
          3728826.961212036,
          3728681.672682465,
          3728682.617529243,
          3728705.2573318765,
          3728738.1539125955,
          3728731.8277172935,
          3728708.7626567134,
          3728755.1163599556,
          3728832.905672129,
          3728930.9732280066,
          3728963.7114425357,
          3729015.2439989317,
          3729051.5113396593,
          3728910.195488756,
          3728922.8008517823,
          3728655.779410759,
          3728770.05162315,
          3728754.383277736,
          3728722.5257080444,
          3728647.1695920303,
          3728655.0522365626,
          3728569.239543718,
          3728471.6815787423,
          3728404.593329363,
          3728503.2921915776,
          3728315.087097628,
          3728374.4724743604,
          3728409.1836616956,
          3728394.1199811967,
          3728336.8670605025,
          3728463.750917685,
          3728569.4643833186,
          3728568.346797563,
          3728544.4916904666,
          3728535.021892759,
          3728721.6047890494,
          3728829.9588789023,
          3728894.107076256,
          3728937.9856210537,
          3728983.153428878,
          3728934.8584818863,
          3728844.6416757083,
          3728834.4149878253,
          3728797.4450269383,
          3728764.675906626,
          3728823.8890423197,
          3728844.2827711045,
          3729098.3561030384,
          3729168.316269132,
          3729152.596363929,
          3729100.447940262,
          3729018.829072824,
          3728965.657722262,
          3729083.6135462276,
          3729170.468293039,
          3729257.771857814,
          3729057.4101725523,
          3729076.5889014183,
          3729118.8219872722,
          3729128.10121906,
          3729362.3200248517,
          3729444.411013629,
          3729478.065986642,
          3729547.4865548913,
          3729428.77059518,
          3729101.504915322,
          3729031.327481072,
          3728967.777967484,
          3728917.5515435496,
          3728890.548542373,
          3728866.652431477,
          3728993.129822404,
          3729025.6800316246,
          3728888.4475077,
          3728823.986412424,
          3728791.70093767,
          3728767.002269927,
          3728858.206845793,
          3728932.458391325,
          3729135.43384255,
          3728967.136951194,
          3729004.6797178844,
          3729047.599183827,
          3729045.745302014,
          3729048.7347113923,
          3729139.512326917,
          3729082.484510162,
          3728538.144588484
         ]
        }
       ],
       "layout": {
        "template": {
         "data": {
          "bar": [
           {
            "error_x": {
             "color": "#2a3f5f"
            },
            "error_y": {
             "color": "#2a3f5f"
            },
            "marker": {
             "line": {
              "color": "#E5ECF6",
              "width": 0.5
             },
             "pattern": {
              "fillmode": "overlay",
              "size": 10,
              "solidity": 0.2
             }
            },
            "type": "bar"
           }
          ],
          "barpolar": [
           {
            "marker": {
             "line": {
              "color": "#E5ECF6",
              "width": 0.5
             },
             "pattern": {
              "fillmode": "overlay",
              "size": 10,
              "solidity": 0.2
             }
            },
            "type": "barpolar"
           }
          ],
          "carpet": [
           {
            "aaxis": {
             "endlinecolor": "#2a3f5f",
             "gridcolor": "white",
             "linecolor": "white",
             "minorgridcolor": "white",
             "startlinecolor": "#2a3f5f"
            },
            "baxis": {
             "endlinecolor": "#2a3f5f",
             "gridcolor": "white",
             "linecolor": "white",
             "minorgridcolor": "white",
             "startlinecolor": "#2a3f5f"
            },
            "type": "carpet"
           }
          ],
          "choropleth": [
           {
            "colorbar": {
             "outlinewidth": 0,
             "ticks": ""
            },
            "type": "choropleth"
           }
          ],
          "contour": [
           {
            "colorbar": {
             "outlinewidth": 0,
             "ticks": ""
            },
            "colorscale": [
             [
              0,
              "#0d0887"
             ],
             [
              0.1111111111111111,
              "#46039f"
             ],
             [
              0.2222222222222222,
              "#7201a8"
             ],
             [
              0.3333333333333333,
              "#9c179e"
             ],
             [
              0.4444444444444444,
              "#bd3786"
             ],
             [
              0.5555555555555556,
              "#d8576b"
             ],
             [
              0.6666666666666666,
              "#ed7953"
             ],
             [
              0.7777777777777778,
              "#fb9f3a"
             ],
             [
              0.8888888888888888,
              "#fdca26"
             ],
             [
              1,
              "#f0f921"
             ]
            ],
            "type": "contour"
           }
          ],
          "contourcarpet": [
           {
            "colorbar": {
             "outlinewidth": 0,
             "ticks": ""
            },
            "type": "contourcarpet"
           }
          ],
          "heatmap": [
           {
            "colorbar": {
             "outlinewidth": 0,
             "ticks": ""
            },
            "colorscale": [
             [
              0,
              "#0d0887"
             ],
             [
              0.1111111111111111,
              "#46039f"
             ],
             [
              0.2222222222222222,
              "#7201a8"
             ],
             [
              0.3333333333333333,
              "#9c179e"
             ],
             [
              0.4444444444444444,
              "#bd3786"
             ],
             [
              0.5555555555555556,
              "#d8576b"
             ],
             [
              0.6666666666666666,
              "#ed7953"
             ],
             [
              0.7777777777777778,
              "#fb9f3a"
             ],
             [
              0.8888888888888888,
              "#fdca26"
             ],
             [
              1,
              "#f0f921"
             ]
            ],
            "type": "heatmap"
           }
          ],
          "heatmapgl": [
           {
            "colorbar": {
             "outlinewidth": 0,
             "ticks": ""
            },
            "colorscale": [
             [
              0,
              "#0d0887"
             ],
             [
              0.1111111111111111,
              "#46039f"
             ],
             [
              0.2222222222222222,
              "#7201a8"
             ],
             [
              0.3333333333333333,
              "#9c179e"
             ],
             [
              0.4444444444444444,
              "#bd3786"
             ],
             [
              0.5555555555555556,
              "#d8576b"
             ],
             [
              0.6666666666666666,
              "#ed7953"
             ],
             [
              0.7777777777777778,
              "#fb9f3a"
             ],
             [
              0.8888888888888888,
              "#fdca26"
             ],
             [
              1,
              "#f0f921"
             ]
            ],
            "type": "heatmapgl"
           }
          ],
          "histogram": [
           {
            "marker": {
             "pattern": {
              "fillmode": "overlay",
              "size": 10,
              "solidity": 0.2
             }
            },
            "type": "histogram"
           }
          ],
          "histogram2d": [
           {
            "colorbar": {
             "outlinewidth": 0,
             "ticks": ""
            },
            "colorscale": [
             [
              0,
              "#0d0887"
             ],
             [
              0.1111111111111111,
              "#46039f"
             ],
             [
              0.2222222222222222,
              "#7201a8"
             ],
             [
              0.3333333333333333,
              "#9c179e"
             ],
             [
              0.4444444444444444,
              "#bd3786"
             ],
             [
              0.5555555555555556,
              "#d8576b"
             ],
             [
              0.6666666666666666,
              "#ed7953"
             ],
             [
              0.7777777777777778,
              "#fb9f3a"
             ],
             [
              0.8888888888888888,
              "#fdca26"
             ],
             [
              1,
              "#f0f921"
             ]
            ],
            "type": "histogram2d"
           }
          ],
          "histogram2dcontour": [
           {
            "colorbar": {
             "outlinewidth": 0,
             "ticks": ""
            },
            "colorscale": [
             [
              0,
              "#0d0887"
             ],
             [
              0.1111111111111111,
              "#46039f"
             ],
             [
              0.2222222222222222,
              "#7201a8"
             ],
             [
              0.3333333333333333,
              "#9c179e"
             ],
             [
              0.4444444444444444,
              "#bd3786"
             ],
             [
              0.5555555555555556,
              "#d8576b"
             ],
             [
              0.6666666666666666,
              "#ed7953"
             ],
             [
              0.7777777777777778,
              "#fb9f3a"
             ],
             [
              0.8888888888888888,
              "#fdca26"
             ],
             [
              1,
              "#f0f921"
             ]
            ],
            "type": "histogram2dcontour"
           }
          ],
          "mesh3d": [
           {
            "colorbar": {
             "outlinewidth": 0,
             "ticks": ""
            },
            "type": "mesh3d"
           }
          ],
          "parcoords": [
           {
            "line": {
             "colorbar": {
              "outlinewidth": 0,
              "ticks": ""
             }
            },
            "type": "parcoords"
           }
          ],
          "pie": [
           {
            "automargin": true,
            "type": "pie"
           }
          ],
          "scatter": [
           {
            "fillpattern": {
             "fillmode": "overlay",
             "size": 10,
             "solidity": 0.2
            },
            "type": "scatter"
           }
          ],
          "scatter3d": [
           {
            "line": {
             "colorbar": {
              "outlinewidth": 0,
              "ticks": ""
             }
            },
            "marker": {
             "colorbar": {
              "outlinewidth": 0,
              "ticks": ""
             }
            },
            "type": "scatter3d"
           }
          ],
          "scattercarpet": [
           {
            "marker": {
             "colorbar": {
              "outlinewidth": 0,
              "ticks": ""
             }
            },
            "type": "scattercarpet"
           }
          ],
          "scattergeo": [
           {
            "marker": {
             "colorbar": {
              "outlinewidth": 0,
              "ticks": ""
             }
            },
            "type": "scattergeo"
           }
          ],
          "scattergl": [
           {
            "marker": {
             "colorbar": {
              "outlinewidth": 0,
              "ticks": ""
             }
            },
            "type": "scattergl"
           }
          ],
          "scattermapbox": [
           {
            "marker": {
             "colorbar": {
              "outlinewidth": 0,
              "ticks": ""
             }
            },
            "type": "scattermapbox"
           }
          ],
          "scatterpolar": [
           {
            "marker": {
             "colorbar": {
              "outlinewidth": 0,
              "ticks": ""
             }
            },
            "type": "scatterpolar"
           }
          ],
          "scatterpolargl": [
           {
            "marker": {
             "colorbar": {
              "outlinewidth": 0,
              "ticks": ""
             }
            },
            "type": "scatterpolargl"
           }
          ],
          "scatterternary": [
           {
            "marker": {
             "colorbar": {
              "outlinewidth": 0,
              "ticks": ""
             }
            },
            "type": "scatterternary"
           }
          ],
          "surface": [
           {
            "colorbar": {
             "outlinewidth": 0,
             "ticks": ""
            },
            "colorscale": [
             [
              0,
              "#0d0887"
             ],
             [
              0.1111111111111111,
              "#46039f"
             ],
             [
              0.2222222222222222,
              "#7201a8"
             ],
             [
              0.3333333333333333,
              "#9c179e"
             ],
             [
              0.4444444444444444,
              "#bd3786"
             ],
             [
              0.5555555555555556,
              "#d8576b"
             ],
             [
              0.6666666666666666,
              "#ed7953"
             ],
             [
              0.7777777777777778,
              "#fb9f3a"
             ],
             [
              0.8888888888888888,
              "#fdca26"
             ],
             [
              1,
              "#f0f921"
             ]
            ],
            "type": "surface"
           }
          ],
          "table": [
           {
            "cells": {
             "fill": {
              "color": "#EBF0F8"
             },
             "line": {
              "color": "white"
             }
            },
            "header": {
             "fill": {
              "color": "#C8D4E3"
             },
             "line": {
              "color": "white"
             }
            },
            "type": "table"
           }
          ]
         },
         "layout": {
          "annotationdefaults": {
           "arrowcolor": "#2a3f5f",
           "arrowhead": 0,
           "arrowwidth": 1
          },
          "autotypenumbers": "strict",
          "coloraxis": {
           "colorbar": {
            "outlinewidth": 0,
            "ticks": ""
           }
          },
          "colorscale": {
           "diverging": [
            [
             0,
             "#8e0152"
            ],
            [
             0.1,
             "#c51b7d"
            ],
            [
             0.2,
             "#de77ae"
            ],
            [
             0.3,
             "#f1b6da"
            ],
            [
             0.4,
             "#fde0ef"
            ],
            [
             0.5,
             "#f7f7f7"
            ],
            [
             0.6,
             "#e6f5d0"
            ],
            [
             0.7,
             "#b8e186"
            ],
            [
             0.8,
             "#7fbc41"
            ],
            [
             0.9,
             "#4d9221"
            ],
            [
             1,
             "#276419"
            ]
           ],
           "sequential": [
            [
             0,
             "#0d0887"
            ],
            [
             0.1111111111111111,
             "#46039f"
            ],
            [
             0.2222222222222222,
             "#7201a8"
            ],
            [
             0.3333333333333333,
             "#9c179e"
            ],
            [
             0.4444444444444444,
             "#bd3786"
            ],
            [
             0.5555555555555556,
             "#d8576b"
            ],
            [
             0.6666666666666666,
             "#ed7953"
            ],
            [
             0.7777777777777778,
             "#fb9f3a"
            ],
            [
             0.8888888888888888,
             "#fdca26"
            ],
            [
             1,
             "#f0f921"
            ]
           ],
           "sequentialminus": [
            [
             0,
             "#0d0887"
            ],
            [
             0.1111111111111111,
             "#46039f"
            ],
            [
             0.2222222222222222,
             "#7201a8"
            ],
            [
             0.3333333333333333,
             "#9c179e"
            ],
            [
             0.4444444444444444,
             "#bd3786"
            ],
            [
             0.5555555555555556,
             "#d8576b"
            ],
            [
             0.6666666666666666,
             "#ed7953"
            ],
            [
             0.7777777777777778,
             "#fb9f3a"
            ],
            [
             0.8888888888888888,
             "#fdca26"
            ],
            [
             1,
             "#f0f921"
            ]
           ]
          },
          "colorway": [
           "#636efa",
           "#EF553B",
           "#00cc96",
           "#ab63fa",
           "#FFA15A",
           "#19d3f3",
           "#FF6692",
           "#B6E880",
           "#FF97FF",
           "#FECB52"
          ],
          "font": {
           "color": "#2a3f5f"
          },
          "geo": {
           "bgcolor": "white",
           "lakecolor": "white",
           "landcolor": "#E5ECF6",
           "showlakes": true,
           "showland": true,
           "subunitcolor": "white"
          },
          "hoverlabel": {
           "align": "left"
          },
          "hovermode": "closest",
          "mapbox": {
           "style": "light"
          },
          "paper_bgcolor": "white",
          "plot_bgcolor": "#E5ECF6",
          "polar": {
           "angularaxis": {
            "gridcolor": "white",
            "linecolor": "white",
            "ticks": ""
           },
           "bgcolor": "#E5ECF6",
           "radialaxis": {
            "gridcolor": "white",
            "linecolor": "white",
            "ticks": ""
           }
          },
          "scene": {
           "xaxis": {
            "backgroundcolor": "#E5ECF6",
            "gridcolor": "white",
            "gridwidth": 2,
            "linecolor": "white",
            "showbackground": true,
            "ticks": "",
            "zerolinecolor": "white"
           },
           "yaxis": {
            "backgroundcolor": "#E5ECF6",
            "gridcolor": "white",
            "gridwidth": 2,
            "linecolor": "white",
            "showbackground": true,
            "ticks": "",
            "zerolinecolor": "white"
           },
           "zaxis": {
            "backgroundcolor": "#E5ECF6",
            "gridcolor": "white",
            "gridwidth": 2,
            "linecolor": "white",
            "showbackground": true,
            "ticks": "",
            "zerolinecolor": "white"
           }
          },
          "shapedefaults": {
           "line": {
            "color": "#2a3f5f"
           }
          },
          "ternary": {
           "aaxis": {
            "gridcolor": "white",
            "linecolor": "white",
            "ticks": ""
           },
           "baxis": {
            "gridcolor": "white",
            "linecolor": "white",
            "ticks": ""
           },
           "bgcolor": "#E5ECF6",
           "caxis": {
            "gridcolor": "white",
            "linecolor": "white",
            "ticks": ""
           }
          },
          "title": {
           "x": 0.05
          },
          "xaxis": {
           "automargin": true,
           "gridcolor": "white",
           "linecolor": "white",
           "ticks": "",
           "title": {
            "standoff": 15
           },
           "zerolinecolor": "white",
           "zerolinewidth": 2
          },
          "yaxis": {
           "automargin": true,
           "gridcolor": "white",
           "linecolor": "white",
           "ticks": "",
           "title": {
            "standoff": 15
           },
           "zerolinecolor": "white",
           "zerolinewidth": 2
          }
         }
        }
       }
      }
     },
     "metadata": {},
     "output_type": "display_data"
    }
   ],
   "source": [
    "fig = go.Figure(data=[\n",
    "    go.Scatter(x=sequence_df.actual_utm_x, y=sequence_df.actual_utm_y, mode='lines', name=\"actual\"),\n",
    "    go.Scatter(x=sequence_df.ortools_utm_x, y=sequence_df.ortools_utm_y, mode='lines', name='ortools'),\n",
    "    go.Scatter(x=sequence_df.ors_ortools_utm_x, y=sequence_df.ors_ortools_utm_y, mode='lines', name='ors_ortools')\n",
    "    ]\n",
    ")\n",
    "\n",
    "fig.show()"
   ]
  }
 ],
 "metadata": {
  "kernelspec": {
   "display_name": "Python 3.9.10 64-bit ('airport-harper-sumo')",
   "language": "python",
   "name": "python3"
  },
  "language_info": {
   "codemirror_mode": {
    "name": "ipython",
    "version": 3
   },
   "file_extension": ".py",
   "mimetype": "text/x-python",
   "name": "python",
   "nbconvert_exporter": "python",
   "pygments_lexer": "ipython3",
   "version": "3.9.10"
  },
  "orig_nbformat": 4,
  "vscode": {
   "interpreter": {
    "hash": "d4e2f986950c568193e98ea937a3c3ca76d11bb59ba8dfd907e0c5dd0c77470f"
   }
  }
 },
 "nbformat": 4,
 "nbformat_minor": 2
}
