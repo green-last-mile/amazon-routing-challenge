{
 "cells": [
  {
   "cell_type": "code",
   "execution_count": 14,
   "metadata": {},
   "outputs": [],
   "source": [
    "import os\n",
    "import json\n",
    "import pandas as pd\n",
    "import plotly.graph_objects as go"
   ]
  },
  {
   "cell_type": "code",
   "execution_count": 15,
   "metadata": {},
   "outputs": [],
   "source": [
    "ROOT = !pwd\n",
    "data_path = os.path.join(ROOT[0], '../', \"data\", \"almrrc2021-data-training\", \"model_apply_inputs\",)"
   ]
  },
  {
   "cell_type": "code",
   "execution_count": 33,
   "metadata": {},
   "outputs": [],
   "source": [
    "with open(os.path.join(data_path, \"new_route_data.json\"), \"r\") as f:\n",
    "    data = json.load(f)\n",
    "with open(os.path.join(data_path, \"new_travel_times.json\"), \"r\") as f:\n",
    "    time_data = json.load(f)"
   ]
  },
  {
   "cell_type": "code",
   "execution_count": 34,
   "metadata": {},
   "outputs": [
    {
     "data": {
      "text/plain": [
       "dict_keys(['RouteID_15baae2d-bf07-4967-956a-173d4036613f', 'RouteID_3f166f0e-fd2e-47ab-96a0-6cbc99cc6eef', 'RouteID_5486294a-503f-4346-b8a9-862e988cbe7c', 'RouteID_693060a6-88bb-4324-9e9c-925d5240263c', 'RouteID_7f5d87f0-c39f-434f-bf3f-b159ef321909', 'RouteID_9475872b-287f-4c2c-8e29-887766a4e090', 'RouteID_a8f0009d-e50a-49c9-84d3-f9885ad14a54', 'RouteID_bcc07fea-86d2-41e4-9a58-cfc78956dcc7', 'RouteID_d1a8c3dd-fa67-455c-a68d-af2fd6aa5d91', 'RouteID_e6687a05-2453-4edc-b86c-7558ab6d93f6', 'RouteID_2b8df66d-fcd4-438e-931c-3b84b36a5c6b', 'RouteID_f3261fad-5f97-44f6-ae7f-cf169f5d6452', 'RouteID_fffd257c-3041-4736-be7a-5efea8af1173'])"
      ]
     },
     "execution_count": 34,
     "metadata": {},
     "output_type": "execute_result"
    }
   ],
   "source": [
    "data.keys()"
   ]
  },
  {
   "cell_type": "code",
   "execution_count": 29,
   "metadata": {},
   "outputs": [],
   "source": [
    "df = pd.DataFrame.from_records(\n",
    "    ({\"stop_id\": k, **v} for k, v in data['RouteID_15baae2d-bf07-4967-956a-173d4036613f']['stops'].items()))\n",
    "\n"
   ]
  },
  {
   "cell_type": "code",
   "execution_count": 30,
   "metadata": {},
   "outputs": [
    {
     "data": {
      "text/html": [
       "<div>\n",
       "<style scoped>\n",
       "    .dataframe tbody tr th:only-of-type {\n",
       "        vertical-align: middle;\n",
       "    }\n",
       "\n",
       "    .dataframe tbody tr th {\n",
       "        vertical-align: top;\n",
       "    }\n",
       "\n",
       "    .dataframe thead th {\n",
       "        text-align: right;\n",
       "    }\n",
       "</style>\n",
       "<table border=\"1\" class=\"dataframe\">\n",
       "  <thead>\n",
       "    <tr style=\"text-align: right;\">\n",
       "      <th></th>\n",
       "      <th>stop_id</th>\n",
       "      <th>lat</th>\n",
       "      <th>lng</th>\n",
       "      <th>type</th>\n",
       "      <th>zone_id</th>\n",
       "    </tr>\n",
       "  </thead>\n",
       "  <tbody>\n",
       "    <tr>\n",
       "      <th>0</th>\n",
       "      <td>AH</td>\n",
       "      <td>42.129085</td>\n",
       "      <td>-88.027485</td>\n",
       "      <td>Dropoff</td>\n",
       "      <td>D-8.3E</td>\n",
       "    </tr>\n",
       "    <tr>\n",
       "      <th>1</th>\n",
       "      <td>AK</td>\n",
       "      <td>42.133454</td>\n",
       "      <td>-88.043144</td>\n",
       "      <td>Dropoff</td>\n",
       "      <td>D-8.2H</td>\n",
       "    </tr>\n",
       "    <tr>\n",
       "      <th>2</th>\n",
       "      <td>AN</td>\n",
       "      <td>42.129422</td>\n",
       "      <td>-88.037895</td>\n",
       "      <td>Dropoff</td>\n",
       "      <td>D-8.2H</td>\n",
       "    </tr>\n",
       "    <tr>\n",
       "      <th>3</th>\n",
       "      <td>AU</td>\n",
       "      <td>42.107882</td>\n",
       "      <td>-88.035445</td>\n",
       "      <td>Dropoff</td>\n",
       "      <td>D-8.1C</td>\n",
       "    </tr>\n",
       "    <tr>\n",
       "      <th>4</th>\n",
       "      <td>AV</td>\n",
       "      <td>42.138752</td>\n",
       "      <td>-88.041745</td>\n",
       "      <td>Dropoff</td>\n",
       "      <td>D-7.1J</td>\n",
       "    </tr>\n",
       "  </tbody>\n",
       "</table>\n",
       "</div>"
      ],
      "text/plain": [
       "  stop_id        lat        lng     type zone_id\n",
       "0      AH  42.129085 -88.027485  Dropoff  D-8.3E\n",
       "1      AK  42.133454 -88.043144  Dropoff  D-8.2H\n",
       "2      AN  42.129422 -88.037895  Dropoff  D-8.2H\n",
       "3      AU  42.107882 -88.035445  Dropoff  D-8.1C\n",
       "4      AV  42.138752 -88.041745  Dropoff  D-7.1J"
      ]
     },
     "execution_count": 30,
     "metadata": {},
     "output_type": "execute_result"
    }
   ],
   "source": [
    "df.head()"
   ]
  },
  {
   "cell_type": "code",
   "execution_count": 37,
   "metadata": {},
   "outputs": [],
   "source": [
    "travel_times = pd.DataFrame.from_records(\n",
    "    ({\"stop_id\": k, \"time\": v} for k, v in time_data['RouteID_15baae2d-bf07-4967-956a-173d4036613f']['AH'].items()))\n"
   ]
  },
  {
   "cell_type": "code",
   "execution_count": 40,
   "metadata": {},
   "outputs": [
    {
     "data": {
      "text/html": [
       "<div>\n",
       "<style scoped>\n",
       "    .dataframe tbody tr th:only-of-type {\n",
       "        vertical-align: middle;\n",
       "    }\n",
       "\n",
       "    .dataframe tbody tr th {\n",
       "        vertical-align: top;\n",
       "    }\n",
       "\n",
       "    .dataframe thead th {\n",
       "        text-align: right;\n",
       "    }\n",
       "</style>\n",
       "<table border=\"1\" class=\"dataframe\">\n",
       "  <thead>\n",
       "    <tr style=\"text-align: right;\">\n",
       "      <th></th>\n",
       "      <th>stop_id</th>\n",
       "      <th>lat</th>\n",
       "      <th>lng</th>\n",
       "      <th>type</th>\n",
       "      <th>zone_id</th>\n",
       "      <th>time</th>\n",
       "    </tr>\n",
       "  </thead>\n",
       "  <tbody>\n",
       "    <tr>\n",
       "      <th>0</th>\n",
       "      <td>AH</td>\n",
       "      <td>42.129085</td>\n",
       "      <td>-88.027485</td>\n",
       "      <td>Dropoff</td>\n",
       "      <td>D-8.3E</td>\n",
       "      <td>0.0</td>\n",
       "    </tr>\n",
       "    <tr>\n",
       "      <th>1</th>\n",
       "      <td>AK</td>\n",
       "      <td>42.133454</td>\n",
       "      <td>-88.043144</td>\n",
       "      <td>Dropoff</td>\n",
       "      <td>D-8.2H</td>\n",
       "      <td>287.4</td>\n",
       "    </tr>\n",
       "    <tr>\n",
       "      <th>2</th>\n",
       "      <td>AN</td>\n",
       "      <td>42.129422</td>\n",
       "      <td>-88.037895</td>\n",
       "      <td>Dropoff</td>\n",
       "      <td>D-8.2H</td>\n",
       "      <td>249.4</td>\n",
       "    </tr>\n",
       "    <tr>\n",
       "      <th>3</th>\n",
       "      <td>AU</td>\n",
       "      <td>42.107882</td>\n",
       "      <td>-88.035445</td>\n",
       "      <td>Dropoff</td>\n",
       "      <td>D-8.1C</td>\n",
       "      <td>476.9</td>\n",
       "    </tr>\n",
       "    <tr>\n",
       "      <th>4</th>\n",
       "      <td>AV</td>\n",
       "      <td>42.138752</td>\n",
       "      <td>-88.041745</td>\n",
       "      <td>Dropoff</td>\n",
       "      <td>D-7.1J</td>\n",
       "      <td>421.2</td>\n",
       "    </tr>\n",
       "  </tbody>\n",
       "</table>\n",
       "</div>"
      ],
      "text/plain": [
       "  stop_id        lat        lng     type zone_id   time\n",
       "0      AH  42.129085 -88.027485  Dropoff  D-8.3E    0.0\n",
       "1      AK  42.133454 -88.043144  Dropoff  D-8.2H  287.4\n",
       "2      AN  42.129422 -88.037895  Dropoff  D-8.2H  249.4\n",
       "3      AU  42.107882 -88.035445  Dropoff  D-8.1C  476.9\n",
       "4      AV  42.138752 -88.041745  Dropoff  D-7.1J  421.2"
      ]
     },
     "execution_count": 40,
     "metadata": {},
     "output_type": "execute_result"
    }
   ],
   "source": [
    "new_df = df.merge(travel_times, on='stop_id')\n",
    "new_df.head()"
   ]
  },
  {
   "cell_type": "code",
   "execution_count": 59,
   "metadata": {},
   "outputs": [],
   "source": [
    "d = {z: i for i, z in enumerate(df['zone_id'].unique())}\n",
    "new_df['zone_int'] = new_df['zone_id'].map(d)"
   ]
  },
  {
   "cell_type": "code",
   "execution_count": 60,
   "metadata": {},
   "outputs": [],
   "source": [
    "new_df['cum_time'] = new_df['time'].cumsum()\n",
    "new_df['cum_time'] /= 60"
   ]
  },
  {
   "cell_type": "code",
   "execution_count": 65,
   "metadata": {},
   "outputs": [],
   "source": [
    "down_sampled_df = new_df.groupby('zone_id').agg({'cum_time': 'first', 'lat': 'mean', 'lng': 'mean', 'zone_int': 'first'}).reset_index()"
   ]
  },
  {
   "cell_type": "code",
   "execution_count": null,
   "metadata": {},
   "outputs": [],
   "source": [
    "# create a zone bounding box\n",
    "for group in new_df.groupby('zone_id'):\n",
    "    zone_id = group[0]\n",
    "    df = group[1]\n",
    "    lat_min = df['lat'].min()\n",
    "    lat_max = df['lat'].max()\n",
    "    lng_min = df['lng'].min()\n",
    "    lng_max = df['lng'].max()\n",
    "    print(zone_id, lat_min, lat_max, lng_min, lng_max)\n",
    "    # create a bounding box for the zone\n",
    "    bbox = go.layout.Shape(\n",
    "        type=\"rect\",\n",
    "        x0=lng_min,\n",
    "        y0=lat_min,\n",
    "        x1=lng_max,\n",
    "        y1=lat_max,\n",
    "        line=dict(\n",
    "            color=\"black\",\n",
    "            width=1\n",
    "        )\n",
    "    )\n",
    "    # add the bounding box to the map\n",
    "    fig.add_shape(bbox)"
   ]
  },
  {
   "cell_type": "code",
   "execution_count": 79,
   "metadata": {},
   "outputs": [
    {
     "data": {
      "application/vnd.plotly.v1+json": {
       "config": {
        "plotlyServerURL": "https://plot.ly"
       },
       "data": [
        {
         "lat": [
          42.13542909090909,
          42.134768,
          42.145782125,
          42.108577375,
          42.109277625,
          42.11758666666667,
          42.1223955,
          42.134232,
          42.129302333333335,
          42.138199625,
          42.10818928571428,
          42.1113338,
          42.112557833333334,
          42.12715025,
          42.135119399999994,
          42.131292538461544,
          42.13743633333333,
          42.114306444444445,
          42.115390142857144,
          42.12824166666667,
          42.131754111111114,
          42.133064999999995,
          42.13437785714286
         ],
         "lon": [
          -88.040988,
          -88.034508,
          -88.034350375,
          -88.030802625,
          -88.0369315,
          -88.033563,
          -88.03191333333332,
          -88.0308802,
          -88.03558041666668,
          -88.047624,
          -88.024752,
          -88.0402698,
          -88.02929549999999,
          -88.034158625,
          -88.02752480000001,
          -88.04153792307693,
          -88.05064216666666,
          -88.04138777777777,
          -88.03639585714286,
          -88.026188,
          -88.02703355555555,
          -88.04668733333334,
          -88.04825657142858
         ],
         "marker": {
          "color": [
           0,
           1,
           1,
           2,
           3,
           4,
           0,
           5,
           6,
           7,
           2,
           8,
           9,
           5,
           10,
           0,
           4,
           4,
           11,
           3,
           12,
           13,
           14,
           4,
           1,
           9,
           2,
           15,
           9,
           0,
           2,
           9,
           5,
           15,
           12,
           7,
           16,
           15,
           7,
           17,
           1,
           18,
           15,
           5,
           15,
           15,
           13,
           11,
           0,
           4,
           8,
           17,
           4,
           17,
           2,
           10,
           13,
           19,
           16,
           20,
           1,
           19,
           20,
           18,
           6,
           9,
           3,
           20,
           17,
           4,
           0,
           21,
           11,
           13,
           21,
           17,
           14,
           22,
           3,
           18,
           1,
           12,
           17,
           17,
           0,
           12,
           19,
           11,
           0,
           9,
           18,
           12,
           10,
           12,
           0,
           8,
           16,
           10,
           1,
           7,
           10,
           15,
           1,
           9,
           3,
           3,
           21,
           3,
           4,
           6,
           9,
           14,
           22,
           22,
           7,
           12,
           5,
           19,
           12,
           18,
           2,
           22,
           12,
           11,
           5,
           7,
           3,
           0,
           1,
           20,
           12,
           13,
           22,
           0,
           12,
           3,
           19,
           9,
           10,
           19,
           6,
           15,
           12,
           9,
           15,
           0,
           10,
           5,
           15,
           13,
           17,
           1,
           22,
           20,
           2,
           8,
           9,
           3,
           5,
           20,
           22,
           6,
           20,
           23,
           15,
           8,
           11,
           3,
           10,
           6,
           23,
           15,
           14,
           23,
           9,
           15,
           7,
           1,
           1,
           20,
           7,
           18,
           2,
           6,
           21,
           14,
           17,
           21,
           15,
           1,
           10,
           22,
           19
          ]
         },
         "mode": "lines+markers",
         "text": [
          0,
          4.79,
          8.946666666666665,
          16.895,
          23.915,
          29.259999999999998,
          30.716666666666665,
          38.74166666666667,
          45.38166666666667,
          48.776666666666664,
          56.635,
          60.51166666666666,
          62.70666666666666,
          70.12833333333333,
          71.56166666666667,
          72.58833333333334,
          76.08500000000001,
          79.00333333333334,
          82.15833333333335,
          86.26666666666668,
          90.74166666666669,
          96.49333333333335,
          105.09333333333335,
          113.77000000000002,
          117.8216666666667,
          121.7666666666667,
          129.13666666666668,
          135.23333333333338,
          138.31000000000003,
          139.71500000000003,
          148.12,
          151.6216666666667,
          158.83166666666668,
          165.60500000000002,
          169.81,
          172.28333333333333,
          178.55333333333334,
          184.99833333333336,
          186.38666666666668,
          193.64333333333335,
          198.70166666666668,
          206.785,
          213.35166666666666,
          220.33833333333334,
          226.53000000000003,
          233.00500000000002,
          239.25500000000002,
          244.47500000000002,
          245.6816666666667,
          276.5816666666667,
          279.30833333333334,
          286.76500000000004,
          290.195,
          297.93333333333334,
          305.52000000000004,
          306.87166666666667,
          312.85,
          318.615,
          323.6983333333334,
          329.63500000000005,
          334.43666666666667,
          340.2816666666667,
          346.6183333333334,
          353.9716666666667,
          360.45333333333343,
          362.19833333333344,
          367.41166666666675,
          373.72666666666674,
          381.26833333333343,
          386.02166666666676,
          387.4666666666668,
          391.9900000000001,
          396.6166666666668,
          402.60333333333347,
          406.1933333333335,
          413.8200000000001,
          422.0800000000001,
          429.4266666666668,
          434.47166666666675,
          442.0050000000001,
          446.7516666666668,
          450.94500000000005,
          457.6866666666667,
          465.1900000000001,
          465.6733333333334,
          469.54166666666674,
          475.84333333333336,
          480.83000000000004,
          481.3816666666667,
          485.51666666666665,
          493.0516666666666,
          498.2316666666666,
          500.11999999999995,
          505.7216666666666,
          507.49999999999994,
          510.25833333333327,
          516.5583333333333,
          518.6133333333332,
          522.675,
          524.9166666666666,
          527.2266666666666,
          534.8899999999999,
          539.7616666666665,
          542.8933333333332,
          548.7983333333333,
          553.9449999999999,
          557.95,
          562.3033333333333,
          566.6783333333333,
          573.3299999999999,
          576.4616666666666,
          584.9316666666666,
          592.1766666666665,
          599.0066666666665,
          602.6399999999999,
          606.5583333333332,
          613.7733333333332,
          619.9866666666666,
          625.3349999999999,
          631.8,
          639.5849999999999,
          647.2033333333333,
          651.7883333333333,
          656.5183333333333,
          664.3783333333333,
          666.8133333333333,
          671.61,
          672.625,
          677.76,
          683.4416666666667,
          687.7233333333334,
          693.695,
          701.515,
          702.2166666666667,
          707.3633333333333,
          714.1966666666667,
          720.5550000000001,
          724.3866666666668,
          726.5366666666667,
          732.9433333333334,
          739.6800000000001,
          745.08,
          749.6983333333334,
          753.5483333333334,
          758.99,
          760.7,
          763.515,
          770.9066666666666,
          778.1133333333333,
          783.355,
          791.3733333333333,
          795.8666666666667,
          802.7416666666667,
          808.9466666666667,
          816.765,
          819.7683333333333,
          823.5716666666666,
          829.7383333333332,
          835.6716666666666,
          841.7299999999999,
          847.8966666666666,
          854.5733333333333,
          860.6349999999999,
          865.6966666666665,
          872.6799999999998,
          876.9149999999997,
          880.7216666666665,
          885.5316666666664,
          887.1033333333331,
          893.8033333333332,
          899.2499999999999,
          906.1783333333332,
          913.7966666666665,
          918.6733333333331,
          920.3199999999998,
          925.0583333333332,
          927.8199999999998,
          932.6249999999999,
          937.7899999999998,
          944.5833333333333,
          947.8666666666666,
          954.6583333333332,
          963.4866666666665,
          969.8866666666665,
          973.7766666666665,
          982.0249999999999,
          989.6399999999999,
          992.7499999999999,
          999.7183333333331,
          1005.4349999999998,
          1007.5116666666665,
          1015.4433333333332,
          1022.0633333333332
         ],
         "type": "scattermapbox"
        },
        {
         "fill": "toself",
         "lat": [
          42.138752,
          42.138752,
          42.133052,
          42.133052
         ],
         "lon": [
          -88.04313,
          -88.039383,
          -88.039383,
          -88.04313
         ],
         "marker": {
          "color": [
           3,
           3,
           3,
           3,
           3,
           3,
           3,
           3,
           3,
           3,
           3
          ],
          "size": 10
         },
         "showlegend": false,
         "text": "D-7.1J",
         "type": "scattermapbox"
        },
        {
         "fill": "toself",
         "lat": [
          42.136914,
          42.136914,
          42.132907,
          42.132907
         ],
         "lon": [
          -88.03754,
          -88.031328,
          -88.031328,
          -88.03754
         ],
         "marker": {
          "color": [
           11,
           11,
           11,
           11,
           11,
           11
          ],
          "size": 10
         },
         "showlegend": false,
         "text": "D-7.2J",
         "type": "scattermapbox"
        },
        {
         "fill": "toself",
         "lat": [
          42.150791,
          42.150791,
          42.144327,
          42.144327
         ],
         "lon": [
          -88.037819,
          -88.031799,
          -88.031799,
          -88.037819
         ],
         "marker": {
          "color": [
           20,
           20,
           20,
           20,
           20,
           20,
           20,
           20
          ],
          "size": 10
         },
         "showlegend": false,
         "text": "D-7.3J",
         "type": "scattermapbox"
        },
        {
         "fill": "toself",
         "lat": [
          42.110255,
          42.110255,
          42.107161,
          42.107161
         ],
         "lon": [
          -88.032347,
          -88.02907,
          -88.02907,
          -88.032347
         ],
         "marker": {
          "color": [
           5,
           5,
           5,
           5,
           5,
           5,
           5,
           5
          ],
          "size": 10
         },
         "showlegend": false,
         "text": "D-8.1B",
         "type": "scattermapbox"
        },
        {
         "fill": "toself",
         "lat": [
          42.110313,
          42.110313,
          42.107882,
          42.107882
         ],
         "lon": [
          -88.038667,
          -88.035197,
          -88.035197,
          -88.038667
         ],
         "marker": {
          "color": [
           2,
           2,
           2,
           2,
           2,
           2,
           2,
           2
          ],
          "size": 10
         },
         "showlegend": false,
         "text": "D-8.1C",
         "type": "scattermapbox"
        },
        {
         "fill": "toself",
         "lat": [
          42.121971,
          42.121971,
          42.114927,
          42.114927
         ],
         "lon": [
          -88.03801,
          -88.031135,
          -88.031135,
          -88.03801
         ],
         "marker": {
          "color": [
           16,
           16,
           16
          ],
          "size": 10
         },
         "showlegend": false,
         "text": "D-8.1D",
         "type": "scattermapbox"
        },
        {
         "fill": "toself",
         "lat": [
          42.124254,
          42.124254,
          42.119086,
          42.119086
         ],
         "lon": [
          -88.035043,
          -88.029611,
          -88.029611,
          -88.035043
         ],
         "marker": {
          "color": [
           12,
           12,
           12,
           12,
           12,
           12,
           12,
           12,
           12,
           12,
           12,
           12
          ],
          "size": 10
         },
         "showlegend": false,
         "text": "D-8.1E",
         "type": "scattermapbox"
        },
        {
         "fill": "toself",
         "lat": [
          42.135233,
          42.135233,
          42.133213,
          42.133213
         ],
         "lon": [
          -88.032575,
          -88.02878,
          -88.02878,
          -88.032575
         ],
         "marker": {
          "color": [
           8,
           8,
           8,
           8,
           8
          ],
          "size": 10
         },
         "showlegend": false,
         "text": "D-8.1G",
         "type": "scattermapbox"
        },
        {
         "fill": "toself",
         "lat": [
          42.132696,
          42.132696,
          42.125684,
          42.125684
         ],
         "lon": [
          -88.039367,
          -88.029694,
          -88.029694,
          -88.039367
         ],
         "marker": {
          "color": [
           9,
           9,
           9,
           9,
           9,
           9,
           9,
           9,
           9,
           9,
           9,
           9
          ],
          "size": 10
         },
         "showlegend": false,
         "text": "D-8.1H",
         "type": "scattermapbox"
        },
        {
         "fill": "toself",
         "lat": [
          42.138865,
          42.138865,
          42.137251,
          42.137251
         ],
         "lon": [
          -88.052893,
          -88.044311,
          -88.044311,
          -88.052893
         ],
         "marker": {
          "color": [
           22,
           22,
           22,
           22,
           22,
           22,
           22,
           22
          ],
          "size": 10
         },
         "showlegend": false,
         "text": "D-8.1J",
         "type": "scattermapbox"
        },
        {
         "fill": "toself",
         "lat": [
          42.112436,
          42.112436,
          42.105136,
          42.105136
         ],
         "lon": [
          -88.027437,
          -88.020213,
          -88.020213,
          -88.027437
         ],
         "marker": {
          "color": [
           15,
           15,
           15,
           15,
           15,
           15,
           15,
           15,
           15,
           15,
           15,
           15,
           15,
           15
          ],
          "size": 10
         },
         "showlegend": false,
         "text": "D-8.2B",
         "type": "scattermapbox"
        },
        {
         "fill": "toself",
         "lat": [
          42.112258,
          42.112258,
          42.110331,
          42.110331
         ],
         "lon": [
          -88.04133,
          -88.03888,
          -88.03888,
          -88.04133
         ],
         "marker": {
          "color": [
           14,
           14,
           14,
           14,
           14
          ],
          "size": 10
         },
         "showlegend": false,
         "text": "D-8.2C",
         "type": "scattermapbox"
        },
        {
         "fill": "toself",
         "lat": [
          42.114245,
          42.114245,
          42.110978,
          42.110978
         ],
         "lon": [
          -88.03114,
          -88.027422,
          -88.027422,
          -88.03114
         ],
         "marker": {
          "color": [
           13,
           13,
           13,
           13,
           13,
           13
          ],
          "size": 10
         },
         "showlegend": false,
         "text": "D-8.2D",
         "type": "scattermapbox"
        },
        {
         "fill": "toself",
         "lat": [
          42.129273,
          42.129273,
          42.125669,
          42.125669
         ],
         "lon": [
          -88.036894,
          -88.031892,
          -88.031892,
          -88.036894
         ],
         "marker": {
          "color": [
           7,
           7,
           7,
           7,
           7,
           7,
           7,
           7
          ],
          "size": 10
         },
         "showlegend": false,
         "text": "D-8.2E",
         "type": "scattermapbox"
        },
        {
         "fill": "toself",
         "lat": [
          42.135986,
          42.135986,
          42.133905,
          42.133905
         ],
         "lon": [
          -88.028705,
          -88.02642,
          -88.02642,
          -88.028705
         ],
         "marker": {
          "color": [
           21,
           21,
           21,
           21,
           21
          ],
          "size": 10
         },
         "showlegend": false,
         "text": "D-8.2G",
         "type": "scattermapbox"
        },
        {
         "fill": "toself",
         "lat": [
          42.134282,
          42.134282,
          42.128874,
          42.128874
         ],
         "lon": [
          -88.04375,
          -88.037884,
          -88.037884,
          -88.04375
         ],
         "marker": {
          "color": [
           1,
           1,
           1,
           1,
           1,
           1,
           1,
           1,
           1,
           1,
           1,
           1,
           1
          ],
          "size": 10
         },
         "showlegend": false,
         "text": "D-8.2H",
         "type": "scattermapbox"
        },
        {
         "fill": "toself",
         "lat": [
          42.138841,
          42.138841,
          42.136177,
          42.136177
         ],
         "lon": [
          -88.052998,
          -88.049033,
          -88.049033,
          -88.052998
         ],
         "marker": {
          "color": [
           18,
           18,
           18,
           18,
           18,
           18
          ],
          "size": 10
         },
         "showlegend": false,
         "text": "D-8.2J",
         "type": "scattermapbox"
        },
        {
         "fill": "toself",
         "lat": [
          42.116606,
          42.116606,
          42.113068,
          42.113068
         ],
         "lon": [
          -88.043764,
          -88.039517,
          -88.039517,
          -88.043764
         ],
         "marker": {
          "color": [
           17,
           17,
           17,
           17,
           17,
           17,
           17,
           17,
           17
          ],
          "size": 10
         },
         "showlegend": false,
         "text": "D-8.3C",
         "type": "scattermapbox"
        },
        {
         "fill": "toself",
         "lat": [
          42.116358,
          42.116358,
          42.114021,
          42.114021
         ],
         "lon": [
          -88.038798,
          -88.035184,
          -88.035184,
          -88.038798
         ],
         "marker": {
          "color": [
           6,
           6,
           6,
           6,
           6,
           6,
           6
          ],
          "size": 10
         },
         "showlegend": false,
         "text": "D-8.3D",
         "type": "scattermapbox"
        },
        {
         "fill": "toself",
         "lat": [
          42.130132,
          42.130132,
          42.126468,
          42.126468
         ],
         "lon": [
          -88.028331,
          -88.024085,
          -88.024085,
          -88.028331
         ],
         "marker": {
          "color": [
           0,
           0,
           0,
           0,
           0,
           0,
           0,
           0,
           0,
           0,
           0,
           0
          ],
          "size": 10
         },
         "showlegend": false,
         "text": "D-8.3E",
         "type": "scattermapbox"
        },
        {
         "fill": "toself",
         "lat": [
          42.13282,
          42.13282,
          42.131001,
          42.131001
         ],
         "lon": [
          -88.031215,
          -88.024397,
          -88.024397,
          -88.031215
         ],
         "marker": {
          "color": [
           10,
           10,
           10,
           10,
           10,
           10,
           10,
           10,
           10
          ],
          "size": 10
         },
         "showlegend": false,
         "text": "D-8.3G",
         "type": "scattermapbox"
        },
        {
         "fill": "toself",
         "lat": [
          42.134075,
          42.134075,
          42.13207,
          42.13207
         ],
         "lon": [
          -88.047957,
          -88.044372,
          -88.044372,
          -88.047957
         ],
         "marker": {
          "color": [
           23,
           23,
           23
          ],
          "size": 10
         },
         "showlegend": false,
         "text": "D-8.3H",
         "type": "scattermapbox"
        },
        {
         "fill": "toself",
         "lat": [
          42.13589,
          42.13589,
          42.132521,
          42.132521
         ],
         "lon": [
          -88.050275,
          -88.045655,
          -88.045655,
          -88.050275
         ],
         "marker": {
          "color": [
           19,
           19,
           19,
           19,
           19,
           19,
           19
          ],
          "size": 10
         },
         "showlegend": false,
         "text": "D-8.3J",
         "type": "scattermapbox"
        }
       ],
       "layout": {
        "hovermode": "closest",
        "mapbox": {
         "accesstoken": "pk.eyJ1IjoibWF4LXNjaHJhZGVyIiwiYSI6ImNrOHQxZ2s3bDAwdXQzbG81NjZpZm96bDEifQ.etUi4OK4ozzaP_P8foZn_A",
         "bearing": 0,
         "center": {
          "lat": 42.126281611398966,
          "lon": -88.03518170466323
         },
         "pitch": 0,
         "style": "mapbox://styles/max-schrader/ck8t1cmmc02wk1it9rv28iyte",
         "zoom": 12
        },
        "template": {
         "data": {
          "bar": [
           {
            "error_x": {
             "color": "#2a3f5f"
            },
            "error_y": {
             "color": "#2a3f5f"
            },
            "marker": {
             "line": {
              "color": "#E5ECF6",
              "width": 0.5
             },
             "pattern": {
              "fillmode": "overlay",
              "size": 10,
              "solidity": 0.2
             }
            },
            "type": "bar"
           }
          ],
          "barpolar": [
           {
            "marker": {
             "line": {
              "color": "#E5ECF6",
              "width": 0.5
             },
             "pattern": {
              "fillmode": "overlay",
              "size": 10,
              "solidity": 0.2
             }
            },
            "type": "barpolar"
           }
          ],
          "carpet": [
           {
            "aaxis": {
             "endlinecolor": "#2a3f5f",
             "gridcolor": "white",
             "linecolor": "white",
             "minorgridcolor": "white",
             "startlinecolor": "#2a3f5f"
            },
            "baxis": {
             "endlinecolor": "#2a3f5f",
             "gridcolor": "white",
             "linecolor": "white",
             "minorgridcolor": "white",
             "startlinecolor": "#2a3f5f"
            },
            "type": "carpet"
           }
          ],
          "choropleth": [
           {
            "colorbar": {
             "outlinewidth": 0,
             "ticks": ""
            },
            "type": "choropleth"
           }
          ],
          "contour": [
           {
            "colorbar": {
             "outlinewidth": 0,
             "ticks": ""
            },
            "colorscale": [
             [
              0,
              "#0d0887"
             ],
             [
              0.1111111111111111,
              "#46039f"
             ],
             [
              0.2222222222222222,
              "#7201a8"
             ],
             [
              0.3333333333333333,
              "#9c179e"
             ],
             [
              0.4444444444444444,
              "#bd3786"
             ],
             [
              0.5555555555555556,
              "#d8576b"
             ],
             [
              0.6666666666666666,
              "#ed7953"
             ],
             [
              0.7777777777777778,
              "#fb9f3a"
             ],
             [
              0.8888888888888888,
              "#fdca26"
             ],
             [
              1,
              "#f0f921"
             ]
            ],
            "type": "contour"
           }
          ],
          "contourcarpet": [
           {
            "colorbar": {
             "outlinewidth": 0,
             "ticks": ""
            },
            "type": "contourcarpet"
           }
          ],
          "heatmap": [
           {
            "colorbar": {
             "outlinewidth": 0,
             "ticks": ""
            },
            "colorscale": [
             [
              0,
              "#0d0887"
             ],
             [
              0.1111111111111111,
              "#46039f"
             ],
             [
              0.2222222222222222,
              "#7201a8"
             ],
             [
              0.3333333333333333,
              "#9c179e"
             ],
             [
              0.4444444444444444,
              "#bd3786"
             ],
             [
              0.5555555555555556,
              "#d8576b"
             ],
             [
              0.6666666666666666,
              "#ed7953"
             ],
             [
              0.7777777777777778,
              "#fb9f3a"
             ],
             [
              0.8888888888888888,
              "#fdca26"
             ],
             [
              1,
              "#f0f921"
             ]
            ],
            "type": "heatmap"
           }
          ],
          "heatmapgl": [
           {
            "colorbar": {
             "outlinewidth": 0,
             "ticks": ""
            },
            "colorscale": [
             [
              0,
              "#0d0887"
             ],
             [
              0.1111111111111111,
              "#46039f"
             ],
             [
              0.2222222222222222,
              "#7201a8"
             ],
             [
              0.3333333333333333,
              "#9c179e"
             ],
             [
              0.4444444444444444,
              "#bd3786"
             ],
             [
              0.5555555555555556,
              "#d8576b"
             ],
             [
              0.6666666666666666,
              "#ed7953"
             ],
             [
              0.7777777777777778,
              "#fb9f3a"
             ],
             [
              0.8888888888888888,
              "#fdca26"
             ],
             [
              1,
              "#f0f921"
             ]
            ],
            "type": "heatmapgl"
           }
          ],
          "histogram": [
           {
            "marker": {
             "pattern": {
              "fillmode": "overlay",
              "size": 10,
              "solidity": 0.2
             }
            },
            "type": "histogram"
           }
          ],
          "histogram2d": [
           {
            "colorbar": {
             "outlinewidth": 0,
             "ticks": ""
            },
            "colorscale": [
             [
              0,
              "#0d0887"
             ],
             [
              0.1111111111111111,
              "#46039f"
             ],
             [
              0.2222222222222222,
              "#7201a8"
             ],
             [
              0.3333333333333333,
              "#9c179e"
             ],
             [
              0.4444444444444444,
              "#bd3786"
             ],
             [
              0.5555555555555556,
              "#d8576b"
             ],
             [
              0.6666666666666666,
              "#ed7953"
             ],
             [
              0.7777777777777778,
              "#fb9f3a"
             ],
             [
              0.8888888888888888,
              "#fdca26"
             ],
             [
              1,
              "#f0f921"
             ]
            ],
            "type": "histogram2d"
           }
          ],
          "histogram2dcontour": [
           {
            "colorbar": {
             "outlinewidth": 0,
             "ticks": ""
            },
            "colorscale": [
             [
              0,
              "#0d0887"
             ],
             [
              0.1111111111111111,
              "#46039f"
             ],
             [
              0.2222222222222222,
              "#7201a8"
             ],
             [
              0.3333333333333333,
              "#9c179e"
             ],
             [
              0.4444444444444444,
              "#bd3786"
             ],
             [
              0.5555555555555556,
              "#d8576b"
             ],
             [
              0.6666666666666666,
              "#ed7953"
             ],
             [
              0.7777777777777778,
              "#fb9f3a"
             ],
             [
              0.8888888888888888,
              "#fdca26"
             ],
             [
              1,
              "#f0f921"
             ]
            ],
            "type": "histogram2dcontour"
           }
          ],
          "mesh3d": [
           {
            "colorbar": {
             "outlinewidth": 0,
             "ticks": ""
            },
            "type": "mesh3d"
           }
          ],
          "parcoords": [
           {
            "line": {
             "colorbar": {
              "outlinewidth": 0,
              "ticks": ""
             }
            },
            "type": "parcoords"
           }
          ],
          "pie": [
           {
            "automargin": true,
            "type": "pie"
           }
          ],
          "scatter": [
           {
            "fillpattern": {
             "fillmode": "overlay",
             "size": 10,
             "solidity": 0.2
            },
            "type": "scatter"
           }
          ],
          "scatter3d": [
           {
            "line": {
             "colorbar": {
              "outlinewidth": 0,
              "ticks": ""
             }
            },
            "marker": {
             "colorbar": {
              "outlinewidth": 0,
              "ticks": ""
             }
            },
            "type": "scatter3d"
           }
          ],
          "scattercarpet": [
           {
            "marker": {
             "colorbar": {
              "outlinewidth": 0,
              "ticks": ""
             }
            },
            "type": "scattercarpet"
           }
          ],
          "scattergeo": [
           {
            "marker": {
             "colorbar": {
              "outlinewidth": 0,
              "ticks": ""
             }
            },
            "type": "scattergeo"
           }
          ],
          "scattergl": [
           {
            "marker": {
             "colorbar": {
              "outlinewidth": 0,
              "ticks": ""
             }
            },
            "type": "scattergl"
           }
          ],
          "scattermapbox": [
           {
            "marker": {
             "colorbar": {
              "outlinewidth": 0,
              "ticks": ""
             }
            },
            "type": "scattermapbox"
           }
          ],
          "scatterpolar": [
           {
            "marker": {
             "colorbar": {
              "outlinewidth": 0,
              "ticks": ""
             }
            },
            "type": "scatterpolar"
           }
          ],
          "scatterpolargl": [
           {
            "marker": {
             "colorbar": {
              "outlinewidth": 0,
              "ticks": ""
             }
            },
            "type": "scatterpolargl"
           }
          ],
          "scatterternary": [
           {
            "marker": {
             "colorbar": {
              "outlinewidth": 0,
              "ticks": ""
             }
            },
            "type": "scatterternary"
           }
          ],
          "surface": [
           {
            "colorbar": {
             "outlinewidth": 0,
             "ticks": ""
            },
            "colorscale": [
             [
              0,
              "#0d0887"
             ],
             [
              0.1111111111111111,
              "#46039f"
             ],
             [
              0.2222222222222222,
              "#7201a8"
             ],
             [
              0.3333333333333333,
              "#9c179e"
             ],
             [
              0.4444444444444444,
              "#bd3786"
             ],
             [
              0.5555555555555556,
              "#d8576b"
             ],
             [
              0.6666666666666666,
              "#ed7953"
             ],
             [
              0.7777777777777778,
              "#fb9f3a"
             ],
             [
              0.8888888888888888,
              "#fdca26"
             ],
             [
              1,
              "#f0f921"
             ]
            ],
            "type": "surface"
           }
          ],
          "table": [
           {
            "cells": {
             "fill": {
              "color": "#EBF0F8"
             },
             "line": {
              "color": "white"
             }
            },
            "header": {
             "fill": {
              "color": "#C8D4E3"
             },
             "line": {
              "color": "white"
             }
            },
            "type": "table"
           }
          ]
         },
         "layout": {
          "annotationdefaults": {
           "arrowcolor": "#2a3f5f",
           "arrowhead": 0,
           "arrowwidth": 1
          },
          "autotypenumbers": "strict",
          "coloraxis": {
           "colorbar": {
            "outlinewidth": 0,
            "ticks": ""
           }
          },
          "colorscale": {
           "diverging": [
            [
             0,
             "#8e0152"
            ],
            [
             0.1,
             "#c51b7d"
            ],
            [
             0.2,
             "#de77ae"
            ],
            [
             0.3,
             "#f1b6da"
            ],
            [
             0.4,
             "#fde0ef"
            ],
            [
             0.5,
             "#f7f7f7"
            ],
            [
             0.6,
             "#e6f5d0"
            ],
            [
             0.7,
             "#b8e186"
            ],
            [
             0.8,
             "#7fbc41"
            ],
            [
             0.9,
             "#4d9221"
            ],
            [
             1,
             "#276419"
            ]
           ],
           "sequential": [
            [
             0,
             "#0d0887"
            ],
            [
             0.1111111111111111,
             "#46039f"
            ],
            [
             0.2222222222222222,
             "#7201a8"
            ],
            [
             0.3333333333333333,
             "#9c179e"
            ],
            [
             0.4444444444444444,
             "#bd3786"
            ],
            [
             0.5555555555555556,
             "#d8576b"
            ],
            [
             0.6666666666666666,
             "#ed7953"
            ],
            [
             0.7777777777777778,
             "#fb9f3a"
            ],
            [
             0.8888888888888888,
             "#fdca26"
            ],
            [
             1,
             "#f0f921"
            ]
           ],
           "sequentialminus": [
            [
             0,
             "#0d0887"
            ],
            [
             0.1111111111111111,
             "#46039f"
            ],
            [
             0.2222222222222222,
             "#7201a8"
            ],
            [
             0.3333333333333333,
             "#9c179e"
            ],
            [
             0.4444444444444444,
             "#bd3786"
            ],
            [
             0.5555555555555556,
             "#d8576b"
            ],
            [
             0.6666666666666666,
             "#ed7953"
            ],
            [
             0.7777777777777778,
             "#fb9f3a"
            ],
            [
             0.8888888888888888,
             "#fdca26"
            ],
            [
             1,
             "#f0f921"
            ]
           ]
          },
          "colorway": [
           "#636efa",
           "#EF553B",
           "#00cc96",
           "#ab63fa",
           "#FFA15A",
           "#19d3f3",
           "#FF6692",
           "#B6E880",
           "#FF97FF",
           "#FECB52"
          ],
          "font": {
           "color": "#2a3f5f"
          },
          "geo": {
           "bgcolor": "white",
           "lakecolor": "white",
           "landcolor": "#E5ECF6",
           "showlakes": true,
           "showland": true,
           "subunitcolor": "white"
          },
          "hoverlabel": {
           "align": "left"
          },
          "hovermode": "closest",
          "mapbox": {
           "style": "light"
          },
          "paper_bgcolor": "white",
          "plot_bgcolor": "#E5ECF6",
          "polar": {
           "angularaxis": {
            "gridcolor": "white",
            "linecolor": "white",
            "ticks": ""
           },
           "bgcolor": "#E5ECF6",
           "radialaxis": {
            "gridcolor": "white",
            "linecolor": "white",
            "ticks": ""
           }
          },
          "scene": {
           "xaxis": {
            "backgroundcolor": "#E5ECF6",
            "gridcolor": "white",
            "gridwidth": 2,
            "linecolor": "white",
            "showbackground": true,
            "ticks": "",
            "zerolinecolor": "white"
           },
           "yaxis": {
            "backgroundcolor": "#E5ECF6",
            "gridcolor": "white",
            "gridwidth": 2,
            "linecolor": "white",
            "showbackground": true,
            "ticks": "",
            "zerolinecolor": "white"
           },
           "zaxis": {
            "backgroundcolor": "#E5ECF6",
            "gridcolor": "white",
            "gridwidth": 2,
            "linecolor": "white",
            "showbackground": true,
            "ticks": "",
            "zerolinecolor": "white"
           }
          },
          "shapedefaults": {
           "line": {
            "color": "#2a3f5f"
           }
          },
          "ternary": {
           "aaxis": {
            "gridcolor": "white",
            "linecolor": "white",
            "ticks": ""
           },
           "baxis": {
            "gridcolor": "white",
            "linecolor": "white",
            "ticks": ""
           },
           "bgcolor": "#E5ECF6",
           "caxis": {
            "gridcolor": "white",
            "linecolor": "white",
            "ticks": ""
           }
          },
          "title": {
           "x": 0.05
          },
          "xaxis": {
           "automargin": true,
           "gridcolor": "white",
           "linecolor": "white",
           "ticks": "",
           "title": {
            "standoff": 15
           },
           "zerolinecolor": "white",
           "zerolinewidth": 2
          },
          "yaxis": {
           "automargin": true,
           "gridcolor": "white",
           "linecolor": "white",
           "ticks": "",
           "title": {
            "standoff": 15
           },
           "zerolinecolor": "white",
           "zerolinewidth": 2
          }
         }
        }
       }
      }
     },
     "metadata": {},
     "output_type": "display_data"
    }
   ],
   "source": [
    "mapbox_access_token = \"pk.eyJ1IjoibWF4LXNjaHJhZGVyIiwiYSI6ImNrOHQxZ2s3bDAwdXQzbG81NjZpZm96bDEifQ.etUi4OK4ozzaP_P8foZn_A\"\n",
    "\n",
    "fig = go.Figure(\n",
    "    data=go.Scattermapbox(\n",
    "        lat=down_sampled_df[\"lat\"],\n",
    "        lon=down_sampled_df[\"lng\"],\n",
    "        mode=\"lines+markers\",\n",
    "        marker=go.scattermapbox.Marker(\n",
    "            # size=new_df['cum_time'] * 10,\n",
    "            color=new_df[\"zone_int\"],\n",
    "            # colorbar=go.ColorBar(\n",
    "            #     title='Time (minutes)'\n",
    "            # ),\n",
    "        ),\n",
    "        text=new_df[\"cum_time\"],\n",
    "    )\n",
    ")\n",
    "\n",
    "# create a zone bounding box\n",
    "for zone_id, df in new_df.groupby(\"zone_id\"):\n",
    "    fig.add_trace(\n",
    "        go.Scattermapbox(\n",
    "            fill=\"toself\",\n",
    "            lon=[df[\"lng\"].min(), df[\"lng\"].max(), df[\"lng\"].max(), df[\"lng\"].min()] ,\n",
    "            lat=[df[\"lat\"].max(), ] *2 + [df[\"lat\"].min(), ] * 2,\n",
    "            marker={\"size\": 10, \"color\": df[\"zone_int\"]},\n",
    "            text=zone_id,\n",
    "            showlegend=False\n",
    "        )\n",
    "    )\n",
    "\n",
    "    # add the bounding box to the map\n",
    "    # fig.add_shape(bbox)\n",
    "\n",
    "fig.update_layout(\n",
    "    # autosize=True,\n",
    "    hovermode=\"closest\",\n",
    "    mapbox=go.layout.Mapbox(\n",
    "        accesstoken=mapbox_access_token,\n",
    "        style=\"mapbox://styles/max-schrader/ck8t1cmmc02wk1it9rv28iyte\",\n",
    "        bearing=0,\n",
    "        center=go.layout.mapbox.Center(\n",
    "            lat=new_df[\"lat\"].mean(), lon=new_df[\"lng\"].mean()\n",
    "        ),\n",
    "        pitch=0,\n",
    "        zoom=12,\n",
    "    ),\n",
    ")\n",
    "fig.show()\n"
   ]
  }
 ],
 "metadata": {
  "kernelspec": {
   "display_name": "Python 3.9.10 64-bit ('airport-harper-sumo')",
   "language": "python",
   "name": "python3"
  },
  "language_info": {
   "codemirror_mode": {
    "name": "ipython",
    "version": 3
   },
   "file_extension": ".py",
   "mimetype": "text/x-python",
   "name": "python",
   "nbconvert_exporter": "python",
   "pygments_lexer": "ipython3",
   "version": "3.9.10"
  },
  "orig_nbformat": 4,
  "vscode": {
   "interpreter": {
    "hash": "d4e2f986950c568193e98ea937a3c3ca76d11bb59ba8dfd907e0c5dd0c77470f"
   }
  }
 },
 "nbformat": 4,
 "nbformat_minor": 2
}
