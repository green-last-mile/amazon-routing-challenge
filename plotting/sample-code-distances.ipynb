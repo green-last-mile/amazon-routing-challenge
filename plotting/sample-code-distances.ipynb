{
 "cells": [
  {
   "cell_type": "code",
   "execution_count": null,
   "id": "66ea73a1-eff7-4cb6-af2e-b0a8a0725c18",
   "metadata": {},
   "outputs": [],
   "source": [
    "%load_ext autoreload\n",
    "%autoreload 2"
   ]
  },
  {
   "cell_type": "code",
   "execution_count": null,
   "id": "cdfbde33",
   "metadata": {},
   "outputs": [],
   "source": []
  },
  {
   "cell_type": "code",
   "execution_count": 1,
   "id": "85603c5f-e911-47be-baf9-b27669b45d57",
   "metadata": {},
   "outputs": [],
   "source": [
    "# import googlemaps\n",
    "# gmaps = googlemaps.Client(key=keys.gmaps_key)\n",
    "# import pgeocode as pg\n",
    "\n",
    "from geopy.geocoders import Nominatim, GoogleV3\n",
    "from geopy.extra.rate_limiter import RateLimiter\n",
    "\n",
    "import openrouteservice as ors\n",
    "ors_client = ors.Client(key=\"5b3ce3597851110001cf6248df561ad4f30343faa8615b35dc108efe\")\n",
    "\n",
    "import osmnx as ox\n",
    "import networkx as nx\n",
    "import h3"
   ]
  },
  {
   "cell_type": "markdown",
   "id": "f58e9ac8-a34c-429b-8f23-0f7d2da81124",
   "metadata": {},
   "source": [
    "# get geolocation from address name\n",
    "## geocode / nominatim"
   ]
  },
  {
   "cell_type": "code",
   "execution_count": 2,
   "id": "ce23bec5-34b1-4850-be07-3e5a84a10f50",
   "metadata": {},
   "outputs": [
    {
     "data": {
      "text/plain": [
       "Location(27, Hedemannstraße, Kreuzberg, Friedrichshain-Kreuzberg, Berlin, 10963, Deutschland, (52.5029479, 13.3874993, 0.0))"
      ]
     },
     "execution_count": 2,
     "metadata": {},
     "output_type": "execute_result"
    }
   ],
   "source": [
    "geolocator = Nominatim(user_agent=\"xxx\")\n",
    "geocode = RateLimiter(geolocator.geocode, min_delay_seconds=1)\n",
    "\n",
    "test = {'street':'27 Hedemannstraße', 'postalcode':'10963', 'city':'Berlin'}\n",
    "geocode(test, country_codes='de')"
   ]
  },
  {
   "cell_type": "code",
   "execution_count": 3,
   "id": "b639a1ce-940f-401f-9e49-b1de32f6980f",
   "metadata": {},
   "outputs": [],
   "source": [
    "# test_batch = clean_df.apply(lambda x: x['Pick_Up_Housenr']+' '+x['Pick_Up_Street'] \\\n",
    "#                                         +\", \"+ str(x['Pick_Up_Zipcode'])+', '+'Berlin' , axis=1).drop_duplicates().values"
   ]
  },
  {
   "cell_type": "markdown",
   "id": "89bbc9a0-9fcd-4b5e-a461-9bbbd52dd774",
   "metadata": {},
   "source": [
    "## gmaps"
   ]
  },
  {
   "cell_type": "code",
   "execution_count": null,
   "id": "f198bac1-1026-4ffb-b85c-c5246d96ee4e",
   "metadata": {},
   "outputs": [],
   "source": [
    "# gmaps_locator = GoogleV3(api_key=keys.gmaps_key)\n",
    "# gmaps_geocode = RateLimiter(gmaps_locator.geocode, min_delay_seconds=1)\n",
    "# gmaps_geocode(query=test_batch[0])"
   ]
  },
  {
   "cell_type": "markdown",
   "id": "c576ecee-4f32-422a-85a2-7e1a82042716",
   "metadata": {},
   "source": [
    "# openrouteservice code"
   ]
  },
  {
   "cell_type": "code",
   "execution_count": null,
   "id": "5c55c104-6290-4add-98b2-22c3a592f665",
   "metadata": {},
   "outputs": [],
   "source": [
    "def get_route_ors(\n",
    "    route, ors_client=ors_client, return_to_depot=False, profile=\"driving-car\"\n",
    "):\n",
    "    \"\"\" \"cycling-electric\" / driving-car\"\"\"\n",
    "    if return_to_depot:\n",
    "        route = np.concatenate([route, [route[0]]])\n",
    "\n",
    "    coords = tuple(map(tuple, np.flip(route)))\n",
    "    geo_json = ors_client.directions(coords, format=\"geojson\", profile=profile)\n",
    "    return geo_json\n",
    "\n",
    "def ors_directions(coords, ors_client=ors_client, profile=\"driving-car\"):\n",
    "    \"\"\" \"cycling-electric\" / driving-car\"\"\"\n",
    "    return ors_client.directions(coords, format=\"geojson\", profile=profile)\n"
   ]
  },
  {
   "cell_type": "markdown",
   "id": "8ad134a2-0c34-4480-ad13-9ab84de6c909",
   "metadata": {},
   "source": [
    "## OSMNx code"
   ]
  },
  {
   "cell_type": "code",
   "execution_count": null,
   "id": "7768c499-15ff-4560-93ce-8c5b41175b3a",
   "metadata": {},
   "outputs": [],
   "source": [
    "def osmnx_route_dist(init_coords, dest_coords, G):\n",
    "    # get nearest node\n",
    "    start_node = ox.distance.nearest_nodes(G, *np.flip(init_coords))\n",
    "    finish_node = ox.distance.nearest_nodes(G, *np.flip(dest_coords))\n",
    "    route = nx.shortest_path_length(G, start_node, finish_node, weight=\"length\")\n",
    "    return route\n",
    "\n",
    "\n",
    "def osmnx_all_route_dist(task_coords_arr, G):\n",
    "    tot_dist = sum(\n",
    "        [\n",
    "            get_route_dist(ori, dest)\n",
    "            for ori, dest in zip(task_coords_arr[:-1], task_coords_arr[1:])\n",
    "        ]\n",
    "    )\n",
    "    return tot_dist"
   ]
  },
  {
   "cell_type": "markdown",
   "id": "76cdce8f-0f24-454e-a89f-96b27d8e59d2",
   "metadata": {},
   "source": [
    "### plotting"
   ]
  },
  {
   "cell_type": "code",
   "execution_count": null,
   "id": "e1f8fb5d-bf65-4616-a2c0-4965352c2743",
   "metadata": {},
   "outputs": [],
   "source": [
    "location_point = tuple(pickup_df[['pu_lat','pu_long']].drop_duplicates().mean(axis=0).values)\n",
    "Gbike = ox.graph_from_point(location_point, dist=13000, network_type='bike', retain_all=True)\n",
    "Gdrive = ox.graph_from_point(location_point, dist=20000, network_type='drive', retain_all=True)"
   ]
  },
  {
   "cell_type": "code",
   "execution_count": null,
   "id": "06e8b6ef-759f-41f3-a531-22925b2c49e4",
   "metadata": {},
   "outputs": [],
   "source": [
    "fig1, ax1 = ox.plot_graph(Gbike, figsize=(36,36), bgcolor='#ffffff',\n",
    "                        show=False, close=False, \n",
    "                        edge_color=(220/255,220/255,220/255), node_color='none')"
   ]
  },
  {
   "cell_type": "markdown",
   "id": "3263104d-a89f-4884-b53a-b1204e8478f8",
   "metadata": {},
   "source": [
    "# other "
   ]
  },
  {
   "cell_type": "code",
   "execution_count": null,
   "id": "176d6f20-f9e1-4752-9ee3-ab57303beb65",
   "metadata": {},
   "outputs": [],
   "source": [
    "def haversine_np(lat1, lon1, lat2, lon2):\n",
    "    \"\"\"\n",
    "    Calculate the great circle distance between two points\n",
    "    on the earth (specified in decimal degrees)\n",
    "\n",
    "    All args must be of equal length.\n",
    "\n",
    "    \"\"\"\n",
    "    lon1, lat1, lon2, lat2 = map(np.radians, [lon1, lat1, lon2, lat2])\n",
    "\n",
    "    dlon = lon2 - lon1\n",
    "    dlat = lat2 - lat1\n",
    "\n",
    "    a = np.sin(dlat / 2.0) ** 2 + np.cos(lat1) * np.cos(lat2) * np.sin(dlon / 2.0) ** 2\n",
    "\n",
    "    c = 2 * np.arcsin(np.sqrt(a))\n",
    "    km = 6367 * c\n",
    "    return km"
   ]
  }
 ],
 "metadata": {
  "kernelspec": {
   "display_name": "Python 3.9.10 64-bit ('airport-harper-sumo')",
   "language": "python",
   "name": "python3"
  },
  "language_info": {
   "codemirror_mode": {
    "name": "ipython",
    "version": 3
   },
   "file_extension": ".py",
   "mimetype": "text/x-python",
   "name": "python",
   "nbconvert_exporter": "python",
   "pygments_lexer": "ipython3",
   "version": "3.9.10"
  },
  "vscode": {
   "interpreter": {
    "hash": "d4e2f986950c568193e98ea937a3c3ca76d11bb59ba8dfd907e0c5dd0c77470f"
   }
  }
 },
 "nbformat": 4,
 "nbformat_minor": 5
}
