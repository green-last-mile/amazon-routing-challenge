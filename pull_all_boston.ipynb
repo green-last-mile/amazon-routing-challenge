{
 "cells": [
  {
   "cell_type": "markdown",
   "metadata": {},
   "source": [
    "# Create H3 for the Data and Pull Tags for all H3\n"
   ]
  },
  {
   "cell_type": "code",
   "execution_count": null,
   "metadata": {},
   "outputs": [],
   "source": [
    "# !pip install alphashape\n",
    "# !pip install openpyxl"
   ]
  },
  {
   "cell_type": "code",
   "execution_count": 1,
   "metadata": {},
   "outputs": [],
   "source": [
    "import sys\n",
    "import pathlib\n",
    "import os\n",
    "\n",
    "sys.path.insert(0, f\"{os.environ['HOME']}/Development/green-last-mile/hex2vec\")\n",
    "sys.path.insert(0, f\"{os.environ['HOME']}/Development/green-last-mile/amazon-routing-challenge\")\n",
    "# sys.path.insert(0, f\"/gcsmount-notebook/codebase/urban_tools\")\n",
    "\n",
    "\n",
    "import json\n",
    "import alphashape\n",
    "import h3\n",
    "import pandas as pd\n",
    "import geopandas as gpd\n",
    "# import dtale as dt\n",
    "# import arc_tools\n",
    "# import hex_tools as ht\n",
    "\n",
    "from pathlib import Path\n",
    "# from almrcc_tools.notebook_setup import GLMFileHandler, MapboxPlot, ORSClient\n",
    "from src.utils.tesselate_amazon_data import cover_point_array_w_hex, pull_tags_for_hex_gdf\n",
    "from src.data.utils import TOP_LEVEL_OSM_TAGS"
   ]
  },
  {
   "cell_type": "code",
   "execution_count": 2,
   "metadata": {},
   "outputs": [],
   "source": [
    "data_path = Path(f\"{os.environ['HOME']}/Development/green-last-mile/amazon-routing-challenge/data/almrrc2021-data-training/model_build_inputs\")\n"
   ]
  },
  {
   "cell_type": "markdown",
   "metadata": {},
   "source": [
    "## Open the Route File\n"
   ]
  },
  {
   "cell_type": "code",
   "execution_count": null,
   "metadata": {},
   "outputs": [],
   "source": [
    "# route_df = arc_tools.get_route_dataframe((data_path / \"route_data.json\").absolute())\n",
    "route_df = pd.read_pickle(\n",
    "    \"/Users/max/Development/green-last-mile/amazon-routing-challenge/data/almrrc2021-data-training/model_build_inputs/route_df_merged_augmented.pkl\"\n",
    ")"
   ]
  },
  {
   "cell_type": "markdown",
   "metadata": {},
   "source": [
    "## Find the Bounding Box of Boston"
   ]
  },
  {
   "cell_type": "code",
   "execution_count": null,
   "metadata": {},
   "outputs": [],
   "source": [
    "route_df = route_df.loc[route_df.station_code.str.contains(\"BO\")].reset_index()\n",
    "route_df = gpd.GeoDataFrame(\n",
    "    route_df,\n",
    "    geometry=gpd.points_from_xy(route_df.lng, route_df.lat),\n",
    "    crs=\"EPSG:4326\",\n",
    ")\n"
   ]
  },
  {
   "cell_type": "code",
   "execution_count": null,
   "metadata": {},
   "outputs": [],
   "source": [
    "unique_lat_lon = route_df[\"geometry\"].unique()"
   ]
  },
  {
   "cell_type": "markdown",
   "metadata": {},
   "source": [
    "### Cover the Area of Boston Deliveries with H3 - level 5 hexagons\n",
    "\n",
    "Level 6 on cluster b.c. it can't handle 5"
   ]
  },
  {
   "cell_type": "code",
   "execution_count": null,
   "metadata": {},
   "outputs": [],
   "source": [
    "LEVEL = 5"
   ]
  },
  {
   "cell_type": "code",
   "execution_count": null,
   "metadata": {},
   "outputs": [],
   "source": [
    "def geometry_series_to_xy(geometry_series, epgs=32633):\n",
    "    g = geometry_series.to_crs(epsg=epgs).copy()\n",
    "    return list(zip(g.x, g.y))\n"
   ]
  },
  {
   "cell_type": "code",
   "execution_count": null,
   "metadata": {},
   "outputs": [],
   "source": [
    "route_df[\"geometry\"].apply(lambda x: h3.geo_to_h3(x.y, x.x, LEVEL)).unique()"
   ]
  },
  {
   "cell_type": "code",
   "execution_count": null,
   "metadata": {},
   "outputs": [],
   "source": [
    "from shapely.geometry import mapping\n",
    "\n",
    "xy = geometry_series_to_xy(unique_lat_lon,)\n",
    "print(\"computing alpha shape, this may take a while...\")\n",
    "res = alphashape.alphashape(xy, )\n",
    "new_res = res.buffer(2 * h3.edge_length(resolution=LEVEL, unit=\"m\"))\n",
    "convex_hull_df = gpd.GeoDataFrame(\n",
    "    geometry=gpd.GeoSeries(new_res),\n",
    "    crs=f\"EPSG:{32633}\",\n",
    ")\n",
    "convex_hull_df = convex_hull_df.to_crs(epsg=4326)\n",
    "feature = mapping(convex_hull_df)\n",
    "\n",
    "# reverse coordinates in geojson\n",
    "for feature in feature[\"features\"]:\n",
    "    geom = feature[\"geometry\"]\n",
    "    geom[\"coordinates\"] = [[j[::-1] for j in i] for i in geom[\"coordinates\"]]\n",
    "    hexes = list(h3.polyfill(geom, LEVEL))\n",
    "    break\n"
   ]
  },
  {
   "cell_type": "code",
   "execution_count": null,
   "metadata": {},
   "outputs": [],
   "source": [
    "res"
   ]
  },
  {
   "cell_type": "code",
   "execution_count": null,
   "metadata": {},
   "outputs": [],
   "source": [
    "new_res"
   ]
  },
  {
   "cell_type": "code",
   "execution_count": null,
   "metadata": {},
   "outputs": [],
   "source": [
    "hex_gdf = cover_point_array_w_hex(unique_lat_lon, LEVEL)"
   ]
  },
  {
   "cell_type": "code",
   "execution_count": null,
   "metadata": {},
   "outputs": [],
   "source": [
    "hex_gdf.head()"
   ]
  },
  {
   "cell_type": "code",
   "execution_count": null,
   "metadata": {},
   "outputs": [],
   "source": [
    "hex_gdf['tmp'] = 1\n",
    "# could cast to UTM crs here but meh, doesn't need to be that accurate\n",
    "center = hex_gdf.centroid.y.mean(), hex_gdf.centroid.x.mean()\n",
    "fig = ht.plot_hexagons(hex_gdf, center, value_field=\"tmp\", geometry_field='geometry', show=False )\n",
    "hex_gdf.drop('tmp', axis=1, inplace=True)\n",
    "fig.show()"
   ]
  },
  {
   "cell_type": "code",
   "execution_count": null,
   "metadata": {},
   "outputs": [],
   "source": [
    "# hex_gdf.head()"
   ]
  },
  {
   "cell_type": "markdown",
   "metadata": {},
   "source": [
    "## Pull the Tags Asynchronously (speeds up dramatically)"
   ]
  },
  {
   "cell_type": "code",
   "execution_count": null,
   "metadata": {},
   "outputs": [],
   "source": [
    "data_dir = pathlib.Path(\"/gcsmount-research-data-staging/osmnx-cities/hexed-raw/Boston, MA\")\n",
    "data_dir.mkdir(exist_ok=True, parents=True)"
   ]
  },
  {
   "cell_type": "code",
   "execution_count": null,
   "metadata": {},
   "outputs": [],
   "source": [
    "# _ = await pull_tags_for_hex_gdf(data_dir, hex_gdf, TOP_LEVEL_OSM_TAGS, LEVEL)"
   ]
  },
  {
   "cell_type": "markdown",
   "metadata": {},
   "source": [
    "### Investigating the Raw Data"
   ]
  },
  {
   "cell_type": "code",
   "execution_count": null,
   "metadata": {},
   "outputs": [],
   "source": [
    "Boston_Center = 42.34950116575089, -71.12349065689138\n",
    "center_h3 = h3.geo_to_h3(*Boston_Center, LEVEL)\n",
    "center_h3"
   ]
  },
  {
   "cell_type": "markdown",
   "metadata": {},
   "source": [
    "#### Pull complete Building DF"
   ]
  },
  {
   "cell_type": "code",
   "execution_count": 4,
   "metadata": {},
   "outputs": [],
   "source": [
    "from src.utils.tesselate_amazon_data import pull_tags_for_hex\n",
    "from src.data.make_dataset import h3_to_polygon"
   ]
  },
  {
   "cell_type": "code",
   "execution_count": 5,
   "metadata": {},
   "outputs": [],
   "source": [
    "hexes = [\"862a30667ffffff\", \"862a3066fffffff\", \"862a3074fffffff\", \"862a33927ffffff\", \"862a33937ffffff\"]"
   ]
  },
  {
   "cell_type": "code",
   "execution_count": 6,
   "metadata": {},
   "outputs": [
    {
     "name": "stdout",
     "output_type": "stream",
     "text": [
      "running for hex 862a30667ffffff\n",
      "running for hex 862a3066fffffff\n",
      "natural already exists\n",
      "running for hex 862a3074fffffff\n",
      "running for hex 862a33927ffffff\n",
      "running for hex 862a33937ffffff\n"
     ]
    },
    {
     "name": "stderr",
     "output_type": "stream",
     "text": [
      "/Users/max/.pyenv/versions/3.9.10/envs/airport-harper-sumo/lib/python3.9/site-packages/geopandas/array.py:150: ShapelyDeprecationWarning: The array interface is deprecated and will no longer work in Shapely 2.0. Convert the '.coords' to a numpy array instead.\n",
      "  return GeometryArray(vectorized.from_shapely(data), crs=crs)\n",
      "/Users/max/.pyenv/versions/3.9.10/envs/airport-harper-sumo/lib/python3.9/site-packages/geopandas/_vectorized.py:146: ShapelyDeprecationWarning: __len__ for multi-part geometries is deprecated and will be removed in Shapely 2.0. Check the length of the `geoms` property instead to get the  number of parts of a multi-part geometry.\n",
      "  aout[:] = out\n"
     ]
    },
    {
     "data": {
      "text/plain": [
       "[None, None, None, None, None]"
      ]
     },
     "execution_count": 6,
     "metadata": {},
     "output_type": "execute_result"
    }
   ],
   "source": [
    "from collections import namedtuple\n",
    "import asyncio\n",
    "\n",
    "row = namedtuple(\"row\", [\"h3\", \"geometry\"])\n",
    "await asyncio.gather(*(pull_tags_for_hex(row(target_hex, h3_to_polygon(target_hex))._asdict(), Path(f\"{os.environ['HOME']}/Development/green-last-mile\"), ['natural']) for target_hex in hexes))"
   ]
  },
  {
   "cell_type": "code",
   "execution_count": null,
   "metadata": {},
   "outputs": [],
   "source": [
    "hex_gdf.set_index('h3', drop=False, inplace=True)\n",
    "\n",
    "await pull_tags_for_hex(\n",
    "    hex_gdf.loc[center_h3],\n",
    "    data_dir,\n",
    "    ['building', 'amenity'],\n",
    "    simplify_data=False,  # keep extra columns per Nico request\n",
    "    force_pull=True\n",
    ")\n",
    "hex_gdf.reset_index(drop=True, inplace=True)"
   ]
  },
  {
   "cell_type": "code",
   "execution_count": null,
   "metadata": {},
   "outputs": [],
   "source": [
    "building_df = pd.read_pickle(data_dir / center_h3 / \"building.pkl\")\n",
    "building_df.head()"
   ]
  },
  {
   "cell_type": "code",
   "execution_count": null,
   "metadata": {},
   "outputs": [],
   "source": [
    "building_df = building_df.loc[building_df['element_type'] == 'way']"
   ]
  },
  {
   "cell_type": "code",
   "execution_count": null,
   "metadata": {},
   "outputs": [],
   "source": [
    "# filter out all the junk in height\n",
    "def keep_dig(char):\n",
    "    return char == \".\" or str.isdigit(char)\n",
    "\n",
    "building_df['height_filt'] = building_df['height'].fillna(\"0\").apply(lambda x: float(''.join(filter(keep_dig, x))))"
   ]
  },
  {
   "cell_type": "code",
   "execution_count": null,
   "metadata": {},
   "outputs": [],
   "source": [
    "import plotly.graph_objects as go\n",
    "\n",
    "fig = go.Figure()\n",
    "fig.add_trace(\n",
    "    go.Histogram(\n",
    "        x=building_df.loc[~(building_df['height_filt'] == 0), 'height_filt'].astype(float)\n",
    "    )\n",
    ")\n"
   ]
  },
  {
   "cell_type": "markdown",
   "metadata": {},
   "source": [
    "#### Percent of Buildings without Height?"
   ]
  },
  {
   "cell_type": "code",
   "execution_count": null,
   "metadata": {},
   "outputs": [],
   "source": [
    "sum(building_df['height'].isna()) / len(building_df['height'])"
   ]
  },
  {
   "cell_type": "code",
   "execution_count": null,
   "metadata": {},
   "outputs": [],
   "source": [
    "sum(building_df['access'].isna()) / len(building_df['access'])"
   ]
  },
  {
   "cell_type": "code",
   "execution_count": null,
   "metadata": {},
   "outputs": [],
   "source": [
    "sum(building_df['building'].isna()) / len(building_df['building'])"
   ]
  },
  {
   "cell_type": "code",
   "execution_count": null,
   "metadata": {},
   "outputs": [],
   "source": [
    "building_df.sample(n=2000).to_excel(\n",
    "    f\"{center_h3}_building.xlsx\"\n",
    ")"
   ]
  },
  {
   "cell_type": "code",
   "execution_count": null,
   "metadata": {},
   "outputs": [],
   "source": []
  },
  {
   "cell_type": "code",
   "execution_count": null,
   "metadata": {},
   "outputs": [],
   "source": [
    "list_columns = building_df.columns[building_df.applymap(lambda x: isinstance(x,list)).any()]\n",
    "building_df[building_df.columns.difference(list_columns)].to_file(f\"keplergl_data/{center_h3}_building.geojson\", driver=\"GeoJSON\", )  "
   ]
  },
  {
   "cell_type": "markdown",
   "metadata": {},
   "source": [
    "### Amenity Tag"
   ]
  },
  {
   "cell_type": "code",
   "execution_count": null,
   "metadata": {},
   "outputs": [],
   "source": [
    "amenity_df = pd.read_pickle(data_dir / center_h3 / \"amenity.pkl\")\n",
    "amenity_df.head()"
   ]
  },
  {
   "cell_type": "code",
   "execution_count": null,
   "metadata": {},
   "outputs": [],
   "source": [
    "sum(amenity_df['access'].isna()) / len(amenity_df['access'])"
   ]
  },
  {
   "cell_type": "code",
   "execution_count": null,
   "metadata": {},
   "outputs": [],
   "source": [
    "list_columns = amenity_df.columns[amenity_df.applymap(lambda x: isinstance(x,list)).any()]\n",
    "amenity_df[amenity_df.columns.difference(list_columns)].to_file(f\"{center_h3}_amenity.geojson\", driver=\"GeoJSON\", )  "
   ]
  },
  {
   "cell_type": "markdown",
   "metadata": {},
   "source": [
    "## Map Tags to Little Hexes inside of Big Hexes "
   ]
  },
  {
   "cell_type": "code",
   "execution_count": null,
   "metadata": {},
   "outputs": [],
   "source": [
    "from src.utils.tesselate_amazon_data import join_hex_dfs"
   ]
  },
  {
   "cell_type": "code",
   "execution_count": null,
   "metadata": {},
   "outputs": [],
   "source": [
    "interim_path = pathlib.Path(\"/gcsmount-research-data-staging/osmnx-cities/hexed-interim/Boston, MA\")\n",
    "interim_path.mkdir(exist_ok=True, parents=True)"
   ]
  },
  {
   "cell_type": "code",
   "execution_count": null,
   "metadata": {},
   "outputs": [],
   "source": [
    "# join_hex_dfs(\n",
    "#     data_dir.joinpath(\"resolution_5\"),\n",
    "#     TOP_LEVEL_OSM_TAGS,\n",
    "#     target_resolution=9,\n",
    "#     output_dir=interim_path,\n",
    "# )"
   ]
  },
  {
   "cell_type": "markdown",
   "metadata": {},
   "source": [
    "## Join Tags for Each Hexagon"
   ]
  },
  {
   "cell_type": "code",
   "execution_count": null,
   "metadata": {},
   "outputs": [],
   "source": [
    "from src.utils.tesselate_amazon_data import group_hex_tags, iterate_hex_dir\n",
    "from src.data.load_data import load_filter, load_city_tag_h3"
   ]
  },
  {
   "cell_type": "code",
   "execution_count": null,
   "metadata": {},
   "outputs": [],
   "source": [
    "# from pathlib import Path\n",
    "\n",
    "# group_hex_tags(\n",
    "#     interim_path,\n",
    "#     TOP_LEVEL_OSM_TAGS,\n",
    "#     output_dir=interim_path,\n",
    "#     resolution=9,\n",
    "#     filter_values=load_filter(Path(f\"{os.environ['HOME']}/hex2vec/filters/from_wiki.json\")),    \n",
    "# )"
   ]
  },
  {
   "cell_type": "markdown",
   "metadata": {},
   "source": [
    "## Join Hexagons into a Big City GDF"
   ]
  },
  {
   "cell_type": "code",
   "execution_count": null,
   "metadata": {},
   "outputs": [],
   "source": [
    "from src.utils.tesselate_amazon_data import create_city_from_hex"
   ]
  },
  {
   "cell_type": "code",
   "execution_count": null,
   "metadata": {},
   "outputs": [],
   "source": [
    "city_output_dir = pathlib.Path(\"/gcsmount-research-data-staging/osmnx-cities/hexed-complete/Boston, MA\")\n",
    "city_output_dir.mkdir(exist_ok=True, parents=True)"
   ]
  },
  {
   "cell_type": "code",
   "execution_count": null,
   "metadata": {},
   "outputs": [],
   "source": [
    "df = create_city_from_hex(\n",
    "    interim_path,\n",
    "    output_dir=city_output_dir,\n",
    "    resolution=9,\n",
    "    drop_all_zero=True,\n",
    ")"
   ]
  },
  {
   "cell_type": "code",
   "execution_count": null,
   "metadata": {},
   "outputs": [],
   "source": [
    "# df.head()"
   ]
  },
  {
   "cell_type": "code",
   "execution_count": null,
   "metadata": {},
   "outputs": [],
   "source": [
    "# drop all zero columns\n",
    "df.loc[:, (df != 0).any(axis=0)]"
   ]
  },
  {
   "cell_type": "code",
   "execution_count": null,
   "metadata": {},
   "outputs": [],
   "source": [
    "df.to_pickle(city_output_dir.joinpath(\"city.pkl\"))"
   ]
  }
 ],
 "metadata": {
  "kernelspec": {
   "display_name": "Python 3.9.10 64-bit ('airport-harper-sumo')",
   "language": "python",
   "name": "python3"
  },
  "language_info": {
   "codemirror_mode": {
    "name": "ipython",
    "version": 3
   },
   "file_extension": ".py",
   "mimetype": "text/x-python",
   "name": "python",
   "nbconvert_exporter": "python",
   "pygments_lexer": "ipython3",
   "version": "3.9.10"
  },
  "orig_nbformat": 4,
  "vscode": {
   "interpreter": {
    "hash": "d4e2f986950c568193e98ea937a3c3ca76d11bb59ba8dfd907e0c5dd0c77470f"
   }
  }
 },
 "nbformat": 4,
 "nbformat_minor": 2
}
