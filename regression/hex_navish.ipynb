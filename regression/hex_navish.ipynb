{
 "cells": [
  {
   "cell_type": "code",
   "execution_count": 2,
   "metadata": {},
   "outputs": [],
   "source": [
    "import matplotlib.pyplot as plt\n",
    "import seaborn as sns\n",
    "import numpy as np\n",
    "import plotly.graph_objects as go\n",
    "\n",
    "import pandas as pd\n",
    "\n",
    "# reading the hex2vec dataframe\n",
    "tagged_df = pd.read_pickle(\n",
    "    '/gcsmount-notebook/navish/dataframes/ALL_Boston_all_loc_route_w_tags.pkl')\n",
    "\n",
    "drop_list = []\n",
    "for col in tagged_df.columns:\n",
    "    try:\n",
    "        if tagged_df[col].sum() == 0:\n",
    "            drop_list.append(col)\n",
    "    except:\n",
    "        pass\n",
    "\n",
    "tagged_df = tagged_df.drop(drop_list, axis=1)\n",
    "\n",
    "\n",
    "# reading in the saved dataframe\n",
    "# tagged_df = pd.read_pickle(\n",
    "#     '/gcsmount-notebook/navish/dataframes/hexagonal_regression_pred_df.pkl')\n"
   ]
  },
  {
   "cell_type": "code",
   "execution_count": 3,
   "metadata": {},
   "outputs": [
    {
     "data": {
      "text/plain": [
       "(139304, 713)"
      ]
     },
     "execution_count": 3,
     "metadata": {},
     "output_type": "execute_result"
    }
   ],
   "source": [
    "tagged_df.shape"
   ]
  },
  {
   "cell_type": "code",
   "execution_count": 100,
   "metadata": {},
   "outputs": [
    {
     "data": {
      "text/html": [
       "<div>\n",
       "<style scoped>\n",
       "    .dataframe tbody tr th:only-of-type {\n",
       "        vertical-align: middle;\n",
       "    }\n",
       "\n",
       "    .dataframe tbody tr th {\n",
       "        vertical-align: top;\n",
       "    }\n",
       "\n",
       "    .dataframe thead th {\n",
       "        text-align: right;\n",
       "    }\n",
       "</style>\n",
       "<table border=\"1\" class=\"dataframe\">\n",
       "  <thead>\n",
       "    <tr style=\"text-align: right;\">\n",
       "      <th></th>\n",
       "      <th>tourism_guest_house</th>\n",
       "      <th>tourism_hostel</th>\n",
       "      <th>tourism_motel</th>\n",
       "      <th>tourism_yes</th>\n",
       "      <th>water_basin</th>\n",
       "      <th>water_lake</th>\n",
       "      <th>water_pond</th>\n",
       "      <th>water_reservoir</th>\n",
       "      <th>water_river</th>\n",
       "      <th>water_canal</th>\n",
       "      <th>...</th>\n",
       "      <th>waterway_dam</th>\n",
       "      <th>waterway_dock</th>\n",
       "      <th>waterway_drain</th>\n",
       "      <th>waterway_river</th>\n",
       "      <th>waterway_stream</th>\n",
       "      <th>waterway_waterfall</th>\n",
       "      <th>waterway_weir</th>\n",
       "      <th>waterway_ditch</th>\n",
       "      <th>waterway_boatyard</th>\n",
       "      <th>waterway_fuel</th>\n",
       "    </tr>\n",
       "  </thead>\n",
       "  <tbody>\n",
       "    <tr>\n",
       "      <th>0</th>\n",
       "      <td>0</td>\n",
       "      <td>0</td>\n",
       "      <td>0</td>\n",
       "      <td>0</td>\n",
       "      <td>0</td>\n",
       "      <td>0</td>\n",
       "      <td>0</td>\n",
       "      <td>0</td>\n",
       "      <td>0</td>\n",
       "      <td>0</td>\n",
       "      <td>...</td>\n",
       "      <td>0</td>\n",
       "      <td>0</td>\n",
       "      <td>0</td>\n",
       "      <td>0</td>\n",
       "      <td>0</td>\n",
       "      <td>0</td>\n",
       "      <td>0</td>\n",
       "      <td>0</td>\n",
       "      <td>0</td>\n",
       "      <td>0</td>\n",
       "    </tr>\n",
       "    <tr>\n",
       "      <th>1</th>\n",
       "      <td>0</td>\n",
       "      <td>0</td>\n",
       "      <td>0</td>\n",
       "      <td>0</td>\n",
       "      <td>0</td>\n",
       "      <td>0</td>\n",
       "      <td>0</td>\n",
       "      <td>0</td>\n",
       "      <td>0</td>\n",
       "      <td>0</td>\n",
       "      <td>...</td>\n",
       "      <td>0</td>\n",
       "      <td>0</td>\n",
       "      <td>0</td>\n",
       "      <td>0</td>\n",
       "      <td>0</td>\n",
       "      <td>0</td>\n",
       "      <td>0</td>\n",
       "      <td>0</td>\n",
       "      <td>0</td>\n",
       "      <td>0</td>\n",
       "    </tr>\n",
       "    <tr>\n",
       "      <th>2</th>\n",
       "      <td>0</td>\n",
       "      <td>0</td>\n",
       "      <td>0</td>\n",
       "      <td>0</td>\n",
       "      <td>0</td>\n",
       "      <td>0</td>\n",
       "      <td>0</td>\n",
       "      <td>0</td>\n",
       "      <td>0</td>\n",
       "      <td>0</td>\n",
       "      <td>...</td>\n",
       "      <td>0</td>\n",
       "      <td>0</td>\n",
       "      <td>0</td>\n",
       "      <td>0</td>\n",
       "      <td>0</td>\n",
       "      <td>0</td>\n",
       "      <td>0</td>\n",
       "      <td>0</td>\n",
       "      <td>0</td>\n",
       "      <td>0</td>\n",
       "    </tr>\n",
       "    <tr>\n",
       "      <th>3</th>\n",
       "      <td>0</td>\n",
       "      <td>0</td>\n",
       "      <td>0</td>\n",
       "      <td>0</td>\n",
       "      <td>0</td>\n",
       "      <td>0</td>\n",
       "      <td>0</td>\n",
       "      <td>0</td>\n",
       "      <td>0</td>\n",
       "      <td>0</td>\n",
       "      <td>...</td>\n",
       "      <td>0</td>\n",
       "      <td>0</td>\n",
       "      <td>0</td>\n",
       "      <td>0</td>\n",
       "      <td>0</td>\n",
       "      <td>0</td>\n",
       "      <td>0</td>\n",
       "      <td>0</td>\n",
       "      <td>0</td>\n",
       "      <td>0</td>\n",
       "    </tr>\n",
       "    <tr>\n",
       "      <th>4</th>\n",
       "      <td>0</td>\n",
       "      <td>0</td>\n",
       "      <td>0</td>\n",
       "      <td>0</td>\n",
       "      <td>0</td>\n",
       "      <td>0</td>\n",
       "      <td>0</td>\n",
       "      <td>0</td>\n",
       "      <td>0</td>\n",
       "      <td>0</td>\n",
       "      <td>...</td>\n",
       "      <td>0</td>\n",
       "      <td>0</td>\n",
       "      <td>0</td>\n",
       "      <td>0</td>\n",
       "      <td>0</td>\n",
       "      <td>0</td>\n",
       "      <td>0</td>\n",
       "      <td>0</td>\n",
       "      <td>0</td>\n",
       "      <td>0</td>\n",
       "    </tr>\n",
       "  </tbody>\n",
       "</table>\n",
       "<p>5 rows × 25 columns</p>\n",
       "</div>"
      ],
      "text/plain": [
       "   tourism_guest_house  tourism_hostel  tourism_motel  tourism_yes  \\\n",
       "0                    0               0              0            0   \n",
       "1                    0               0              0            0   \n",
       "2                    0               0              0            0   \n",
       "3                    0               0              0            0   \n",
       "4                    0               0              0            0   \n",
       "\n",
       "   water_basin  water_lake  water_pond  water_reservoir  water_river  \\\n",
       "0            0           0           0                0            0   \n",
       "1            0           0           0                0            0   \n",
       "2            0           0           0                0            0   \n",
       "3            0           0           0                0            0   \n",
       "4            0           0           0                0            0   \n",
       "\n",
       "   water_canal  ...  waterway_dam  waterway_dock  waterway_drain  \\\n",
       "0            0  ...             0              0               0   \n",
       "1            0  ...             0              0               0   \n",
       "2            0  ...             0              0               0   \n",
       "3            0  ...             0              0               0   \n",
       "4            0  ...             0              0               0   \n",
       "\n",
       "   waterway_river  waterway_stream  waterway_waterfall  waterway_weir  \\\n",
       "0               0                0                   0              0   \n",
       "1               0                0                   0              0   \n",
       "2               0                0                   0              0   \n",
       "3               0                0                   0              0   \n",
       "4               0                0                   0              0   \n",
       "\n",
       "   waterway_ditch  waterway_boatyard  waterway_fuel  \n",
       "0               0                  0              0  \n",
       "1               0                  0              0  \n",
       "2               0                  0              0  \n",
       "3               0                  0              0  \n",
       "4               0                  0              0  \n",
       "\n",
       "[5 rows x 25 columns]"
      ]
     },
     "execution_count": 100,
     "metadata": {},
     "output_type": "execute_result"
    }
   ],
   "source": [
    "tagged_df.iloc[:, -25:][:5]"
   ]
  },
  {
   "cell_type": "code",
   "execution_count": 132,
   "metadata": {},
   "outputs": [],
   "source": [
    "tagged_df['planned_service_time_sum'] = np.log(tagged_df['planned_service_time_sum'])"
   ]
  },
  {
   "cell_type": "code",
   "execution_count": 133,
   "metadata": {},
   "outputs": [],
   "source": [
    "tagged_df_hex_avg = tagged_df.groupby('h3').mean().reset_index()\n",
    "# tagged_df_hex_sum = tagged_df.groupby('h3').sum().reset_index()\n",
    "# tagged_df = tagged_df.join(tagged_df.groupby('h3')['planned_service_time_sum'].mean(), on='h3', rsuffix='_grp_avg')\n",
    "# tagged_df = tagged_df.join(tagged_df.groupby('h3')['planned_service_time_sum'].sum(), on='h3', rsuffix='_grp_sum')"
   ]
  },
  {
   "cell_type": "code",
   "execution_count": 134,
   "metadata": {},
   "outputs": [
    {
     "data": {
      "text/html": [
       "<div>\n",
       "<style scoped>\n",
       "    .dataframe tbody tr th:only-of-type {\n",
       "        vertical-align: middle;\n",
       "    }\n",
       "\n",
       "    .dataframe tbody tr th {\n",
       "        vertical-align: top;\n",
       "    }\n",
       "\n",
       "    .dataframe thead th {\n",
       "        text-align: right;\n",
       "    }\n",
       "</style>\n",
       "<table border=\"1\" class=\"dataframe\">\n",
       "  <thead>\n",
       "    <tr style=\"text-align: right;\">\n",
       "      <th></th>\n",
       "      <th>h3</th>\n",
       "      <th>lat</th>\n",
       "      <th>lng</th>\n",
       "      <th>package_id_nunique</th>\n",
       "      <th>volume_mean</th>\n",
       "      <th>volume_sum</th>\n",
       "      <th>width_mean</th>\n",
       "      <th>height_mean</th>\n",
       "      <th>planned_service_time_mean</th>\n",
       "      <th>planned_service_time_sum</th>\n",
       "      <th>...</th>\n",
       "      <th>waterway_dam</th>\n",
       "      <th>waterway_dock</th>\n",
       "      <th>waterway_drain</th>\n",
       "      <th>waterway_river</th>\n",
       "      <th>waterway_stream</th>\n",
       "      <th>waterway_waterfall</th>\n",
       "      <th>waterway_weir</th>\n",
       "      <th>waterway_ditch</th>\n",
       "      <th>waterway_boatyard</th>\n",
       "      <th>waterway_fuel</th>\n",
       "    </tr>\n",
       "  </thead>\n",
       "  <tbody>\n",
       "    <tr>\n",
       "      <th>0</th>\n",
       "      <td>892a302812bffff</td>\n",
       "      <td>42.305579</td>\n",
       "      <td>-70.896692</td>\n",
       "      <td>1.00</td>\n",
       "      <td>6668.281333</td>\n",
       "      <td>6668.281333</td>\n",
       "      <td>22.866667</td>\n",
       "      <td>7.600000</td>\n",
       "      <td>43.00</td>\n",
       "      <td>3.721406</td>\n",
       "      <td>...</td>\n",
       "      <td>0.0</td>\n",
       "      <td>0.0</td>\n",
       "      <td>0.0</td>\n",
       "      <td>0.0</td>\n",
       "      <td>0.0</td>\n",
       "      <td>0.0</td>\n",
       "      <td>0.0</td>\n",
       "      <td>0.0</td>\n",
       "      <td>0.0</td>\n",
       "      <td>0.0</td>\n",
       "    </tr>\n",
       "    <tr>\n",
       "      <th>1</th>\n",
       "      <td>892a3028133ffff</td>\n",
       "      <td>42.307587</td>\n",
       "      <td>-70.890112</td>\n",
       "      <td>2.60</td>\n",
       "      <td>23786.687460</td>\n",
       "      <td>58294.755800</td>\n",
       "      <td>29.591333</td>\n",
       "      <td>12.896000</td>\n",
       "      <td>67.16</td>\n",
       "      <td>4.800839</td>\n",
       "      <td>...</td>\n",
       "      <td>0.0</td>\n",
       "      <td>0.0</td>\n",
       "      <td>0.0</td>\n",
       "      <td>0.0</td>\n",
       "      <td>1.0</td>\n",
       "      <td>0.0</td>\n",
       "      <td>0.0</td>\n",
       "      <td>0.0</td>\n",
       "      <td>0.0</td>\n",
       "      <td>0.0</td>\n",
       "    </tr>\n",
       "    <tr>\n",
       "      <th>2</th>\n",
       "      <td>892a302813bffff</td>\n",
       "      <td>42.305793</td>\n",
       "      <td>-70.895615</td>\n",
       "      <td>1.00</td>\n",
       "      <td>1370.250000</td>\n",
       "      <td>1370.250000</td>\n",
       "      <td>29.000000</td>\n",
       "      <td>1.500000</td>\n",
       "      <td>28.00</td>\n",
       "      <td>3.332205</td>\n",
       "      <td>...</td>\n",
       "      <td>0.0</td>\n",
       "      <td>0.0</td>\n",
       "      <td>0.0</td>\n",
       "      <td>0.0</td>\n",
       "      <td>0.0</td>\n",
       "      <td>0.0</td>\n",
       "      <td>0.0</td>\n",
       "      <td>0.0</td>\n",
       "      <td>0.0</td>\n",
       "      <td>0.0</td>\n",
       "    </tr>\n",
       "    <tr>\n",
       "      <th>3</th>\n",
       "      <td>892a3028163ffff</td>\n",
       "      <td>42.306509</td>\n",
       "      <td>-70.904697</td>\n",
       "      <td>1.40</td>\n",
       "      <td>13348.216133</td>\n",
       "      <td>16343.518400</td>\n",
       "      <td>25.800000</td>\n",
       "      <td>11.626667</td>\n",
       "      <td>57.86</td>\n",
       "      <td>4.060508</td>\n",
       "      <td>...</td>\n",
       "      <td>0.0</td>\n",
       "      <td>0.0</td>\n",
       "      <td>0.0</td>\n",
       "      <td>0.0</td>\n",
       "      <td>0.0</td>\n",
       "      <td>0.0</td>\n",
       "      <td>0.0</td>\n",
       "      <td>0.0</td>\n",
       "      <td>0.0</td>\n",
       "      <td>0.0</td>\n",
       "    </tr>\n",
       "    <tr>\n",
       "      <th>4</th>\n",
       "      <td>892a3028167ffff</td>\n",
       "      <td>42.304425</td>\n",
       "      <td>-70.903967</td>\n",
       "      <td>1.25</td>\n",
       "      <td>19198.032500</td>\n",
       "      <td>28031.593500</td>\n",
       "      <td>26.937500</td>\n",
       "      <td>15.675000</td>\n",
       "      <td>41.75</td>\n",
       "      <td>3.875570</td>\n",
       "      <td>...</td>\n",
       "      <td>0.0</td>\n",
       "      <td>0.0</td>\n",
       "      <td>0.0</td>\n",
       "      <td>0.0</td>\n",
       "      <td>0.0</td>\n",
       "      <td>0.0</td>\n",
       "      <td>0.0</td>\n",
       "      <td>0.0</td>\n",
       "      <td>0.0</td>\n",
       "      <td>0.0</td>\n",
       "    </tr>\n",
       "  </tbody>\n",
       "</table>\n",
       "<p>5 rows × 707 columns</p>\n",
       "</div>"
      ],
      "text/plain": [
       "                h3        lat        lng  package_id_nunique   volume_mean  \\\n",
       "0  892a302812bffff  42.305579 -70.896692                1.00   6668.281333   \n",
       "1  892a3028133ffff  42.307587 -70.890112                2.60  23786.687460   \n",
       "2  892a302813bffff  42.305793 -70.895615                1.00   1370.250000   \n",
       "3  892a3028163ffff  42.306509 -70.904697                1.40  13348.216133   \n",
       "4  892a3028167ffff  42.304425 -70.903967                1.25  19198.032500   \n",
       "\n",
       "     volume_sum  width_mean  height_mean  planned_service_time_mean  \\\n",
       "0   6668.281333   22.866667     7.600000                      43.00   \n",
       "1  58294.755800   29.591333    12.896000                      67.16   \n",
       "2   1370.250000   29.000000     1.500000                      28.00   \n",
       "3  16343.518400   25.800000    11.626667                      57.86   \n",
       "4  28031.593500   26.937500    15.675000                      41.75   \n",
       "\n",
       "   planned_service_time_sum  ...  waterway_dam  waterway_dock  waterway_drain  \\\n",
       "0                  3.721406  ...           0.0            0.0             0.0   \n",
       "1                  4.800839  ...           0.0            0.0             0.0   \n",
       "2                  3.332205  ...           0.0            0.0             0.0   \n",
       "3                  4.060508  ...           0.0            0.0             0.0   \n",
       "4                  3.875570  ...           0.0            0.0             0.0   \n",
       "\n",
       "   waterway_river  waterway_stream  waterway_waterfall  waterway_weir  \\\n",
       "0             0.0              0.0                 0.0            0.0   \n",
       "1             0.0              1.0                 0.0            0.0   \n",
       "2             0.0              0.0                 0.0            0.0   \n",
       "3             0.0              0.0                 0.0            0.0   \n",
       "4             0.0              0.0                 0.0            0.0   \n",
       "\n",
       "   waterway_ditch  waterway_boatyard  waterway_fuel  \n",
       "0             0.0                0.0            0.0  \n",
       "1             0.0                0.0            0.0  \n",
       "2             0.0                0.0            0.0  \n",
       "3             0.0                0.0            0.0  \n",
       "4             0.0                0.0            0.0  \n",
       "\n",
       "[5 rows x 707 columns]"
      ]
     },
     "execution_count": 134,
     "metadata": {},
     "output_type": "execute_result"
    }
   ],
   "source": [
    "tagged_df_hex_avg.head()"
   ]
  },
  {
   "cell_type": "code",
   "execution_count": 135,
   "metadata": {},
   "outputs": [
    {
     "data": {
      "text/plain": [
       "Index(['h3', 'lat', 'lng', 'package_id_nunique', 'volume_mean', 'volume_sum',\n",
       "       'width_mean', 'height_mean', 'planned_service_time_mean',\n",
       "       'planned_service_time_sum', 'planned_service_time_min',\n",
       "       'planned_service_time_max', 'has_window_max', 'executor_capacity_cm3',\n",
       "       'aeroway_aerodrome', 'aeroway_apron', 'aeroway_helipad',\n",
       "       'aeroway_runway', 'aeroway_hangar', 'aeroway_taxiway'],\n",
       "      dtype='object')"
      ]
     },
     "execution_count": 135,
     "metadata": {},
     "output_type": "execute_result"
    }
   ],
   "source": [
    "tagged_df_hex_avg.columns[:20]"
   ]
  },
  {
   "cell_type": "markdown",
   "metadata": {},
   "source": [
    "## Regression Model"
   ]
  },
  {
   "cell_type": "code",
   "execution_count": 136,
   "metadata": {},
   "outputs": [
    {
     "data": {
      "text/plain": [
       "True"
      ]
     },
     "execution_count": 136,
     "metadata": {},
     "output_type": "execute_result"
    }
   ],
   "source": [
    "'planned_service_time_sum' in tagged_df_hex_avg.columns"
   ]
  },
  {
   "cell_type": "code",
   "execution_count": 137,
   "metadata": {},
   "outputs": [],
   "source": [
    "from sklearn.model_selection import train_test_split\n",
    "\n",
    "np.random.seed(0)\n",
    "\n",
    "# -----------------------------------------\n",
    "type='avg'\n",
    "\n",
    "# getting rid of all the non-numeral data\n",
    "df_train, df_test = train_test_split(tagged_df_hex_avg.drop(['lat', 'lng', 'package_id_nunique', 'volume_mean', 'volume_sum',\n",
    "                                     'width_mean', 'height_mean', 'has_window_max', 'executor_capacity_cm3',\n",
    "                                     'h3', 'planned_service_time_min', 'planned_service_time_max', 'planned_service_time_mean'], axis=1), train_size=0.8, test_size=0.2, random_state=100)\n",
    "\n",
    "# -----------------------------------------\n",
    "# type='sum'\n",
    "\n",
    "# # getting rid of all the non-numeral data\n",
    "# df_train, df_test = train_test_split(tagged_df_hex_sum.drop(['lat', 'lng', 'package_id_nunique', 'volume_mean', 'volume_sum',\n",
    "                                    #  'width_mean', 'height_mean', 'has_window_max', 'executor_capacity_cm3',\n",
    "                                    #  'h3', 'planned_service_time_min', 'planned_service_time_max', 'planned_service_time_mean', \n",
    "                                    #  'planned_service_time_sum','planned_service_time_sum_grp_avg',\n",
    "                                    # 'hex_predicted_service_time_sum', 'hex_predicted_service_time_avg',\n",
    "                                    # 'h3_predicted_service_time_sum', 'h3_predicted_service_time_avg',\n",
    "                                    # 'pca-one', 'pca-two', 'pca-three', 'hex_discrepency_sum',\n",
    "                                    # 'hex_discrepency_avg', 'h3_discrepency_avg'], axis=1), train_size=0.8, test_size=0.2, random_state=100)\n"
   ]
  },
  {
   "cell_type": "code",
   "execution_count": 138,
   "metadata": {},
   "outputs": [],
   "source": [
    "from sklearn.preprocessing import StandardScaler\n",
    "\n",
    "def scaled_df(df):\n",
    "    \n",
    "    scaler = StandardScaler()\n",
    "    scaler.fit(df)\n",
    "\n",
    "    return pd.DataFrame(scaler.fit_transform(df),\n",
    "                        index=df.index, columns=df.columns)\n",
    "\n",
    "df_train = scaled_df(df_train)\n"
   ]
  },
  {
   "cell_type": "code",
   "execution_count": 139,
   "metadata": {},
   "outputs": [],
   "source": [
    "# Dividing data into X and y variables\n",
    "y_train = df_train.pop('planned_service_time_sum')\n",
    "X_train = df_train"
   ]
  },
  {
   "cell_type": "code",
   "execution_count": 140,
   "metadata": {},
   "outputs": [],
   "source": [
    "# RFE\n",
    "from sklearn.feature_selection import RFE\n",
    "from sklearn.linear_model import LinearRegression\n",
    "import statsmodels.api as sm\n",
    "from statsmodels.stats.outliers_influence import variance_inflation_factor\n"
   ]
  },
  {
   "cell_type": "code",
   "execution_count": 141,
   "metadata": {},
   "outputs": [],
   "source": [
    "from statsmodels.tools.tools import pinv_extended  \n",
    "def build_model(X, y):\n",
    "    X = sm.add_constant(X)  # Adding the constant\n",
    "    model = sm.OLS(y, X)\n",
    "    lm = model.fit()\n",
    "    # lm = model.fit_regularized(L1_wt=1)  # fitting the l1 model\n",
    "    # pinv_wexog,_ = pinv_extended(model.wexog)\n",
    "    # normalized_cov_params = np.dot(pinv_wexog, np.transpose(pinv_wexog))\n",
    "    # summary = sm.regression.linear_model.OLSResults(model,lm.params,normalized_cov_params)\n",
    "    # print(lm.summary())  # model summary\n",
    "    print(lm.summary())\n",
    "    return X, lm.pvalues\n",
    "\n",
    "\n",
    "def checkVIF(X):\n",
    "    vif = pd.DataFrame()\n",
    "    vif['Features'] = X.columns\n",
    "    vif['VIF'] = [variance_inflation_factor(\n",
    "        X.values, i) for i in range(X.shape[1])]\n",
    "    vif['VIF'] = round(vif['VIF'], 2)\n",
    "    vif = vif.sort_values(by=\"VIF\", ascending=False)\n",
    "    return(vif)\n"
   ]
  },
  {
   "cell_type": "code",
   "execution_count": 142,
   "metadata": {},
   "outputs": [
    {
     "name": "stdout",
     "output_type": "stream",
     "text": [
      "                               OLS Regression Results                               \n",
      "====================================================================================\n",
      "Dep. Variable:     planned_service_time_sum   R-squared:                       0.190\n",
      "Model:                                  OLS   Adj. R-squared:                  0.157\n",
      "Method:                       Least Squares   F-statistic:                     5.779\n",
      "Date:                      Tue, 06 Sep 2022   Prob (F-statistic):               0.00\n",
      "Time:                              18:00:41   Log-Likelihood:                -22436.\n",
      "No. Observations:                     17080   AIC:                         4.621e+04\n",
      "Df Residuals:                         16413   BIC:                         5.137e+04\n",
      "Df Model:                               666                                         \n",
      "Covariance Type:                  nonrobust                                         \n",
      "=====================================================================================================\n",
      "                                        coef    std err          t      P>|t|      [0.025      0.975]\n",
      "-----------------------------------------------------------------------------------------------------\n",
      "const                                -0.0002      0.007     -0.032      0.975      -0.014       0.014\n",
      "aeroway_aerodrome                     0.0080      0.010      0.791      0.429      -0.012       0.028\n",
      "aeroway_apron                         0.0220      0.026      0.841      0.400      -0.029       0.073\n",
      "aeroway_helipad                       0.0047      0.008      0.573      0.567      -0.011       0.021\n",
      "aeroway_runway                       -0.0075      0.009     -0.801      0.423      -0.026       0.011\n",
      "aeroway_hangar                        0.0218      0.007      2.968      0.003       0.007       0.036\n",
      "aeroway_taxiway                      -0.0067      0.023     -0.298      0.766      -0.051       0.038\n",
      "aeroway_terminal                      0.0195      0.011      1.750      0.080      -0.002       0.041\n",
      "amenity_arts_centre                   0.0192      0.010      1.834      0.067      -0.001       0.040\n",
      "amenity_atm                          -0.0011      0.011     -0.102      0.919      -0.022       0.020\n",
      "amenity_bank                         -0.0072      0.012     -0.615      0.538      -0.030       0.016\n",
      "amenity_bar                           0.0241      0.016      1.528      0.127      -0.007       0.055\n",
      "amenity_bbq                           0.0023      0.010      0.218      0.828      -0.018       0.023\n",
      "amenity_bench                         0.0169      0.015      1.124      0.261      -0.013       0.046\n",
      "amenity_bicycle_parking              -0.0220      0.015     -1.496      0.135      -0.051       0.007\n",
      "amenity_bicycle_repair_station        0.0034      0.009      0.354      0.723      -0.015       0.022\n",
      "amenity_cafe                         -0.0026      0.014     -0.185      0.853      -0.030       0.025\n",
      "amenity_car_wash                      0.0078      0.009      0.877      0.380      -0.010       0.025\n",
      "amenity_charging_station             -0.0351      0.010     -3.350      0.001      -0.056      -0.015\n",
      "amenity_cinema                       -0.0199      0.010     -1.980      0.048      -0.040      -0.000\n",
      "amenity_clinic                        0.0017      0.009      0.195      0.846      -0.015       0.018\n",
      "amenity_clock                         0.0010      0.011      0.089      0.929      -0.020       0.022\n",
      "amenity_college                      -0.0147      0.009     -1.603      0.109      -0.033       0.003\n",
      "amenity_conference_centre             0.0183      0.011      1.630      0.103      -0.004       0.040\n",
      "amenity_courthouse                    0.0067      0.009      0.723      0.470      -0.012       0.025\n",
      "amenity_dentist                       0.0075      0.011      0.674      0.500      -0.014       0.029\n",
      "amenity_dive_centre                1.297e+10    9.6e+09      1.351      0.177   -5.85e+09    3.18e+10\n",
      "amenity_doctors                       0.0047      0.010      0.485      0.628      -0.014       0.024\n",
      "amenity_driving_school               -0.0037      0.010     -0.383      0.702      -0.023       0.015\n",
      "amenity_events_venue                 -0.0036      0.010     -0.354      0.723      -0.023       0.016\n",
      "amenity_fast_food                    -0.0028      0.012     -0.236      0.813      -0.026       0.020\n",
      "amenity_fire_station                  0.0193      0.008      2.366      0.018       0.003       0.035\n",
      "amenity_food_court                   -0.0064      0.013     -0.478      0.633      -0.032       0.020\n",
      "amenity_fountain                     -0.0316      0.049     -0.641      0.522      -0.128       0.065\n",
      "amenity_fuel                         -0.0106      0.010     -1.046      0.296      -0.031       0.009\n",
      "amenity_grave_yard                    0.0097      0.010      0.975      0.330      -0.010       0.029\n",
      "amenity_hospital                      0.0352      0.012      2.988      0.003       0.012       0.058\n",
      "amenity_ice_cream                     0.0042      0.011      0.388      0.698      -0.017       0.026\n",
      "amenity_kindergarten                  0.0046      0.009      0.530      0.596      -0.012       0.022\n",
      "amenity_library                       0.0041      0.011      0.382      0.703      -0.017       0.025\n",
      "amenity_marketplace                   0.0090      0.008      1.086      0.278      -0.007       0.025\n",
      "amenity_music_school                 -0.0033      0.014     -0.239      0.811      -0.030       0.024\n",
      "amenity_nursing_home                 -0.0052      0.007     -0.715      0.475      -0.020       0.009\n",
      "amenity_parking                       0.0278      0.011      2.448      0.014       0.006       0.050\n",
      "amenity_parking_entrance              0.0045      0.017      0.263      0.793      -0.029       0.038\n",
      "amenity_parking_space                 0.0053      0.009      0.578      0.563      -0.013       0.023\n",
      "amenity_pharmacy                      0.0070      0.010      0.705      0.481      -0.013       0.027\n",
      "amenity_place_of_worship              0.0015      0.010      0.162      0.872      -0.017       0.020\n",
      "amenity_planetarium                   0.0177      0.050      0.352      0.725      -0.081       0.117\n",
      "amenity_police                       -0.0038      0.009     -0.453      0.651      -0.021       0.013\n",
      "amenity_post_box                      0.0028      0.013      0.217      0.828      -0.022       0.028\n",
      "amenity_post_depot                    0.0238      0.008      3.081      0.002       0.009       0.039\n",
      "amenity_post_office                   0.0114      0.009      1.312      0.190      -0.006       0.028\n",
      "amenity_prison                       -0.0071      0.007     -0.982      0.326      -0.021       0.007\n",
      "amenity_pub                           0.0105      0.012      0.898      0.369      -0.012       0.034\n",
      "amenity_recycling                     0.0025      0.019      0.130      0.897      -0.035       0.040\n",
      "amenity_restaurant                    0.0220      0.019      1.137      0.256      -0.016       0.060\n",
      "amenity_school                       -0.0075      0.009     -0.834      0.405      -0.025       0.010\n",
      "amenity_shelter                      -0.0132      0.010     -1.275      0.202      -0.034       0.007\n",
      "amenity_social_centre                -0.0121      0.011     -1.076      0.282      -0.034       0.010\n",
      "amenity_social_facility               0.0118      0.009      1.373      0.170      -0.005       0.029\n",
      "amenity_telephone                    -0.0006      0.013     -0.051      0.959      -0.025       0.024\n",
      "amenity_theatre                      -0.0063      0.015     -0.411      0.681      -0.037       0.024\n",
      "amenity_toilets                       0.0047      0.010      0.481      0.631      -0.015       0.024\n",
      "amenity_townhall                     -0.0051      0.009     -0.582      0.561      -0.022       0.012\n",
      "amenity_university                   -0.0103      0.010     -1.001      0.317      -0.031       0.010\n",
      "amenity_vending_machine              -0.0460      0.032     -1.423      0.155      -0.109       0.017\n",
      "amenity_waste_basket                 -0.0088      0.018     -0.476      0.634      -0.045       0.027\n",
      "amenity_waste_disposal               -0.0008      0.009     -0.082      0.934      -0.019       0.018\n",
      "amenity_biergarten                    0.0029      0.010      0.281      0.779      -0.017       0.023\n",
      "amenity_language_school               0.0091      0.017      0.519      0.604      -0.025       0.043\n",
      "amenity_bicycle_rental                0.0127      0.013      0.943      0.346      -0.014       0.039\n",
      "amenity_boat_rental                  -0.0020      0.007     -0.276      0.783      -0.016       0.012\n",
      "amenity_bus_station                  -0.0287      0.013     -2.206      0.027      -0.054      -0.003\n",
      "amenity_car_rental                   -0.0036      0.008     -0.445      0.656      -0.020       0.012\n",
      "amenity_car_sharing                  -0.0016      0.012     -0.132      0.895      -0.026       0.023\n",
      "amenity_vehicle_inspection           -0.0052      0.007     -0.733      0.463      -0.019       0.009\n",
      "amenity_ferry_terminal                0.0183      0.019      0.973      0.331      -0.019       0.055\n",
      "amenity_taxi                         -0.0021      0.009     -0.223      0.823      -0.020       0.016\n",
      "amenity_bureau_de_change              0.0616      0.028      2.233      0.026       0.008       0.116\n",
      "amenity_veterinary                    0.0006      0.008      0.073      0.942      -0.015       0.016\n",
      "amenity_casino                       -0.0059      0.007     -0.846      0.397      -0.020       0.008\n",
      "amenity_community_centre             -0.0018      0.009     -0.210      0.834      -0.019       0.015\n",
      "amenity_nightclub                     0.0015      0.018      0.085      0.933      -0.034       0.037\n",
      "amenity_public_bookcase              -0.0049      0.009     -0.534      0.594      -0.023       0.013\n",
      "amenity_stripclub                    -0.0404      0.017     -2.390      0.017      -0.074      -0.007\n",
      "amenity_studio                        0.0014      0.012      0.121      0.904      -0.021       0.024\n",
      "amenity_drinking_water               -0.0032      0.011     -0.276      0.782      -0.026       0.019\n",
      "amenity_shower                       -0.0111      0.007     -1.508      0.132      -0.025       0.003\n",
      "amenity_water_point                  -0.0022      0.007     -0.304      0.761      -0.016       0.012\n",
      "amenity_watering_place                0.0014      0.007      0.192      0.848      -0.012       0.015\n",
      "amenity_waste_transfer_station        0.0066      0.007      0.919      0.358      -0.007       0.021\n",
      "amenity_animal_boarding              -0.0034      0.009     -0.394      0.693      -0.020       0.013\n",
      "amenity_animal_shelter                0.0010      0.009      0.111      0.912      -0.016       0.018\n",
      "amenity_childcare                     0.0107      0.008      1.334      0.182      -0.005       0.026\n",
      "amenity_internet_cafe             -9.488e+11   7.02e+11     -1.351      0.177   -2.33e+12    4.28e+11\n",
      "amenity_lounger                       0.0070      0.008      0.905      0.365      -0.008       0.022\n",
      "amenity_monastery                     0.0122      0.008      1.604      0.109      -0.003       0.027\n",
      "barrier_block                        -0.0182      0.008     -2.305      0.021      -0.034      -0.003\n",
      "barrier_bollard                       0.0072      0.010      0.694      0.488      -0.013       0.027\n",
      "barrier_chain                        -0.0166      0.010     -1.661      0.097      -0.036       0.003\n",
      "barrier_entrance                     -0.0030      0.007     -0.401      0.689      -0.018       0.012\n",
      "barrier_fence                        -0.0351      0.012     -3.005      0.003      -0.058      -0.012\n",
      "barrier_gate                          0.0058      0.009      0.614      0.539      -0.013       0.024\n",
      "barrier_guard_rail                   -0.0154      0.009     -1.668      0.095      -0.034       0.003\n",
      "barrier_hedge                        -0.0232      0.011     -2.175      0.030      -0.044      -0.002\n",
      "barrier_jersey_barrier               -0.0055      0.009     -0.588      0.556      -0.024       0.013\n",
      "barrier_kerb                          0.0007      0.010      0.066      0.948      -0.019       0.020\n",
      "barrier_kissing_gate                 -0.0048      0.016     -0.302      0.762      -0.036       0.026\n",
      "barrier_lift_gate                     0.0179      0.009      1.989      0.047       0.000       0.036\n",
      "barrier_retaining_wall                0.0032      0.012      0.274      0.784      -0.020       0.026\n",
      "barrier_swing_gate                   -0.0006      0.008     -0.074      0.941      -0.017       0.015\n",
      "barrier_wall                         -0.0162      0.008     -1.922      0.055      -0.033       0.000\n",
      "barrier_yes                           0.0104      0.007      1.423      0.155      -0.004       0.025\n",
      "barrier_city_wall                  -3.38e+08    2.5e+08     -1.351      0.177   -8.28e+08    1.52e+08\n",
      "barrier_ditch                        -0.0005      0.007     -0.066      0.948      -0.014       0.013\n",
      "barrier_handrail                  -1.476e+10   1.09e+10     -1.351      0.177   -3.62e+10    6.65e+09\n",
      "barrier_cycle_barrier                -0.0050      0.007     -0.699      0.485      -0.019       0.009\n",
      "barrier_height_restrictor             0.0238      0.022      1.068      0.286      -0.020       0.068\n",
      "barrier_toll_booth                   -0.0012      0.009     -0.138      0.890      -0.018       0.016\n",
      "barrier_turnstile                     0.0036      0.029      0.123      0.902      -0.053       0.060\n",
      "boundary_administrative               0.0166      0.008      2.143      0.032       0.001       0.032\n",
      "boundary_protected_area               0.0043      0.011      0.395      0.693      -0.017       0.025\n",
      "boundary_national_park               -0.0047      0.007     -0.627      0.531      -0.019       0.010\n",
      "boundary_postal_code                  0.0183      0.008      2.400      0.016       0.003       0.033\n",
      "building_apartments                   0.0100      0.012      0.834      0.404      -0.014       0.034\n",
      "building_barn                         0.0030      0.008      0.373      0.709      -0.013       0.019\n",
      "building_church                       0.0049      0.010      0.513      0.608      -0.014       0.024\n",
      "building_civic                        0.0061      0.008      0.729      0.466      -0.010       0.022\n",
      "building_college                     -0.0341      0.016     -2.076      0.038      -0.066      -0.002\n",
      "building_commercial                   0.0222      0.010      2.150      0.032       0.002       0.042\n",
      "building_construction             -5.944e-05      0.009     -0.007      0.995      -0.018       0.017\n",
      "building_detached                     0.0150      0.010      1.433      0.152      -0.006       0.036\n",
      "building_dormitory                   -0.0027      0.011     -0.256      0.798      -0.024       0.018\n",
      "building_farm_auxiliary            -9.72e-05      0.007     -0.013      0.989      -0.014       0.014\n",
      "building_garage                       0.0148      0.011      1.378      0.168      -0.006       0.036\n",
      "building_garages                      0.0093      0.008      1.098      0.272      -0.007       0.026\n",
      "building_greenhouse                   0.0201      0.009      2.287      0.022       0.003       0.037\n",
      "building_hospital                    -0.0160      0.013     -1.216      0.224      -0.042       0.010\n",
      "building_house                       -0.0245      0.008     -2.902      0.004      -0.041      -0.008\n",
      "building_hut                         -0.0035      0.008     -0.444      0.657      -0.019       0.012\n",
      "building_industrial                   0.0120      0.009      1.318      0.188      -0.006       0.030\n",
      "building_office                       0.0192      0.012      1.624      0.104      -0.004       0.042\n",
      "building_parking                      0.0341      0.011      3.191      0.001       0.013       0.055\n",
      "building_pavilion                     0.0077      0.007      1.061      0.288      -0.007       0.022\n",
      "building_public                      -0.0005      0.008     -0.063      0.949      -0.017       0.016\n",
      "building_residential                 -0.0221      0.008     -2.830      0.005      -0.037      -0.007\n",
      "building_retail                       0.0043      0.012      0.356      0.722      -0.020       0.028\n",
      "building_roof                        -0.0048      0.010     -0.462      0.644      -0.025       0.015\n",
      "building_school                       0.0191      0.009      2.024      0.043       0.001       0.038\n",
      "building_service                      0.0069      0.009      0.736      0.462      -0.011       0.025\n",
      "building_shed                        -0.0119      0.010     -1.180      0.238      -0.032       0.008\n",
      "building_supermarket                 -0.0013      0.010     -0.121      0.903      -0.022       0.019\n",
      "building_terrace                      0.0127      0.010      1.232      0.218      -0.007       0.033\n",
      "building_train_station                0.0061      0.013      0.473      0.636      -0.019       0.031\n",
      "building_university                   0.0145      0.010      1.405      0.160      -0.006       0.035\n",
      "building_warehouse                   -0.0207      0.010     -1.981      0.048      -0.041      -0.000\n",
      "building_water_tower                 -0.0084      0.007     -1.179      0.239      -0.022       0.006\n",
      "building_yes                         -0.0413      0.012     -3.326      0.001      -0.066      -0.017\n",
      "building_bungalow                     0.0119      0.010      1.162      0.245      -0.008       0.032\n",
      "building_cabin                     6.866e-05      0.007      0.010      0.992      -0.014       0.014\n",
      "building_farm                        -0.0156      0.008     -1.890      0.059      -0.032       0.001\n",
      "building_hotel                        0.0018      0.013      0.136      0.892      -0.024       0.027\n",
      "building_semidetached_house           0.0146      0.013      1.116      0.265      -0.011       0.040\n",
      "building_static_caravan              -0.0060      0.007     -0.845      0.398      -0.020       0.008\n",
      "building_kiosk                       -0.0124      0.032     -0.386      0.699      -0.075       0.050\n",
      "building_cathedral                    0.1594      0.212      0.753      0.452      -0.256       0.574\n",
      "building_chapel                       0.0095      0.008      1.159      0.247      -0.007       0.026\n",
      "building_monastery                -5.301e+09   3.92e+09     -1.351      0.177    -1.3e+10    2.39e+09\n",
      "building_synagogue                   -0.0006      0.009     -0.066      0.948      -0.018       0.017\n",
      "building_temple                      -0.0073      0.008     -0.905      0.366      -0.023       0.009\n",
      "building_fire_station                -0.0144      0.010     -1.512      0.131      -0.033       0.004\n",
      "building_government                  -0.0158      0.013     -1.228      0.220      -0.041       0.009\n",
      "building_toilets                      0.0027      0.009      0.307      0.759      -0.015       0.020\n",
      "building_transportation               0.0139      0.010      1.348      0.178      -0.006       0.034\n",
      "building_kindergarten                 0.0070      0.007      0.941      0.347      -0.008       0.021\n",
      "building_stable                       0.0030      0.007      0.420      0.674      -0.011       0.017\n",
      "building_grandstand                   0.0246      0.010      2.542      0.011       0.006       0.044\n",
      "building_stadium                      0.0263      0.010      2.738      0.006       0.007       0.045\n",
      "building_hangar                      -0.0246      0.016     -1.512      0.131      -0.057       0.007\n",
      "building_carport                      0.0267      0.007      3.605      0.000       0.012       0.041\n",
      "building_bridge                       0.0176      0.007      2.443      0.015       0.003       0.032\n",
      "building_gatehouse                   -0.0102      0.010     -1.048      0.295      -0.029       0.009\n",
      "building_ruins                       -0.0027      0.008     -0.340      0.734      -0.018       0.013\n",
      "craft_brewery                         0.0117      0.008      1.404      0.160      -0.005       0.028\n",
      "craft_caterer                        -0.0403      0.055     -0.736      0.462      -0.147       0.067\n",
      "craft_upholsterer                  1.741e+10   1.29e+10      1.351      0.177   -7.85e+09    4.27e+10\n",
      "craft_beekeeper                    1.354e-05      0.011      0.001      0.999      -0.022       0.022\n",
      "craft_builder                         0.0057      0.008      0.734      0.463      -0.009       0.021\n",
      "craft_carpenter                    1.137e+10   8.41e+09      1.351      0.177   -5.12e+09    2.79e+10\n",
      "craft_confectionery                   0.0004      0.007      0.052      0.958      -0.013       0.014\n",
      "craft_distillery                     -0.0029      0.007     -0.409      0.683      -0.017       0.011\n",
      "craft_dressmaker                     -0.0051      0.007     -0.712      0.477      -0.019       0.009\n",
      "craft_electronics_repair              0.0238      0.014      1.705      0.088      -0.004       0.051\n",
      "craft_embroiderer                 -9.488e+11   7.02e+11     -1.351      0.177   -2.33e+12    4.28e+11\n",
      "craft_electrician                    -0.0026      0.009     -0.294      0.769      -0.020       0.015\n",
      "craft_gardener                        0.0035      0.009      0.406      0.685      -0.013       0.020\n",
      "craft_glaziery                       -0.0080      0.010     -0.794      0.427      -0.028       0.012\n",
      "craft_handicraft                     -0.0023      0.012     -0.195      0.845      -0.026       0.021\n",
      "craft_hvac                            0.0087      0.024      0.367      0.714      -0.038       0.055\n",
      "craft_locksmith                      -0.0051      0.013     -0.406      0.685      -0.030       0.020\n",
      "craft_organ_builder                  -0.0039      0.007     -0.552      0.581      -0.018       0.010\n",
      "craft_painter                         0.0109      0.009      1.259      0.208      -0.006       0.028\n",
      "craft_photographer                   -0.0090      0.014     -0.621      0.535      -0.037       0.019\n",
      "craft_photographic_laboratory        -0.0613      0.027     -2.305      0.021      -0.113      -0.009\n",
      "craft_plumber                         0.0011      0.008      0.136      0.892      -0.015       0.017\n",
      "craft_shoemaker                       0.0173      0.016      1.076      0.282      -0.014       0.049\n",
      "craft_signmaker                       0.0032      0.007      0.427      0.670      -0.011       0.018\n",
      "craft_stonemason                     -0.0070      0.008     -0.892      0.372      -0.022       0.008\n",
      "craft_tailor                      -5.513e+09   4.08e+09     -1.351      0.177   -1.35e+10    2.48e+09\n",
      "craft_window_construction            -0.0051      0.007     -0.726      0.468      -0.019       0.009\n",
      "craft_winery                          0.0034      0.016      0.210      0.834      -0.028       0.035\n",
      "emergency_fire_hydrant               -0.0111      0.012     -0.889      0.374      -0.035       0.013\n",
      "emergency_phone                      -0.0023      0.012     -0.189      0.850      -0.026       0.021\n",
      "emergency_ambulance_station          -0.0194      0.008     -2.567      0.010      -0.034      -0.005\n",
      "emergency_defibrillator            5.301e+09   3.92e+09      1.351      0.177   -2.39e+09     1.3e+10\n",
      "emergency_fire_alarm_box              0.0136      0.011      1.220      0.222      -0.008       0.035\n",
      "emergency_fire_extinguisher           0.0002      0.008      0.027      0.978      -0.016       0.016\n",
      "emergency_water_tank                 -0.0007      0.007     -0.105      0.916      -0.015       0.013\n",
      "emergency_lifeguard                   0.0050      0.009      0.530      0.596      -0.014       0.024\n",
      "healthcare_optometrist               -0.0132      0.012     -1.074      0.283      -0.037       0.011\n",
      "healthcare_alternative                0.0141      0.015      0.925      0.355      -0.016       0.044\n",
      "healthcare_audiologist               -0.0129      0.007     -1.756      0.079      -0.027       0.001\n",
      "healthcare_counselling             1.342e+12   9.93e+11      1.351      0.177   -6.05e+11    3.29e+12\n",
      "healthcare_laboratory                -0.0004      0.009     -0.050      0.960      -0.018       0.017\n",
      "healthcare_occupational_therapist  9.075e+09   6.72e+09      1.351      0.177   -4.09e+09    2.22e+10\n",
      "healthcare_physiotherapist           -0.0015      0.012     -0.129      0.897      -0.024       0.021\n",
      "healthcare_psychotherapist        -4.748e+09   3.51e+09     -1.351      0.177   -1.16e+10    2.14e+09\n",
      "healthcare_rehabilitation             0.0006      0.007      0.081      0.936      -0.013       0.014\n",
      "highway_bridleway                    -0.0075      0.007     -1.062      0.288      -0.021       0.006\n",
      "highway_bus_stop                      0.1111      0.061      1.834      0.067      -0.008       0.230\n",
      "highway_construction                  0.0130      0.008      1.620      0.105      -0.003       0.029\n",
      "highway_corridor                     -0.0147      0.032     -0.457      0.648      -0.078       0.048\n",
      "highway_crossing                     -0.0352      0.019     -1.853      0.064      -0.072       0.002\n",
      "highway_cycleway                      0.0127      0.010      1.313      0.189      -0.006       0.032\n",
      "highway_elevator                     -0.1322      0.050     -2.654      0.008      -0.230      -0.035\n",
      "highway_footway                       0.0665      0.019      3.456      0.001       0.029       0.104\n",
      "highway_give_way                     -0.0028      0.008     -0.342      0.732      -0.019       0.013\n",
      "highway_motorway                     -0.0028      0.009     -0.310      0.756      -0.020       0.015\n",
      "highway_motorway_junction             0.0008      0.009      0.085      0.933      -0.017       0.019\n",
      "highway_motorway_link                 0.0208      0.009      2.204      0.028       0.002       0.039\n",
      "highway_path                          0.0008      0.008      0.102      0.918      -0.015       0.017\n",
      "highway_pedestrian                -7.708e-05      0.015     -0.005      0.996      -0.030       0.030\n",
      "highway_primary                       0.0175      0.011      1.568      0.117      -0.004       0.039\n",
      "highway_primary_link                 -0.0085      0.010     -0.887      0.375      -0.027       0.010\n",
      "highway_residential                  -0.0182      0.012     -1.536      0.125      -0.041       0.005\n",
      "highway_road                         -0.0087      0.007     -1.195      0.232      -0.023       0.006\n",
      "highway_secondary                     0.0223      0.011      2.106      0.035       0.002       0.043\n",
      "highway_secondary_link                0.0059      0.009      0.676      0.499      -0.011       0.023\n",
      "highway_service                       0.1369      0.010     13.388      0.000       0.117       0.157\n",
      "highway_steps                        -0.0125      0.013     -0.942      0.346      -0.038       0.013\n",
      "highway_stop                          0.0066      0.009      0.754      0.451      -0.011       0.024\n",
      "highway_street_lamp                  -0.0285      0.021     -1.348      0.178      -0.070       0.013\n",
      "highway_tertiary                      0.0208      0.009      2.299      0.022       0.003       0.039\n",
      "highway_tertiary_link                -0.0052      0.009     -0.609      0.542      -0.022       0.012\n",
      "highway_track                         0.0020      0.008      0.260      0.795      -0.013       0.017\n",
      "highway_traffic_signals               0.0278      0.013      2.093      0.036       0.002       0.054\n",
      "highway_trunk                         0.0207      0.009      2.207      0.027       0.002       0.039\n",
      "highway_trunk_link                   -0.0169      0.010     -1.735      0.083      -0.036       0.002\n",
      "highway_turning_circle               -0.0498      0.007     -6.806      0.000      -0.064      -0.035\n",
      "highway_turning_loop                 -0.0055      0.007     -0.765      0.444      -0.019       0.009\n",
      "highway_unclassified                  0.0119      0.008      1.402      0.161      -0.005       0.028\n",
      "highway_living_street                -0.0053      0.009     -0.560      0.576      -0.024       0.013\n",
      "highway_raceway                   -2.293e+10    1.7e+10     -1.351      0.177   -5.62e+10    1.03e+10\n",
      "highway_proposed                      0.0086      0.007      1.193      0.233      -0.006       0.023\n",
      "highway_milestone                     0.0054      0.010      0.548      0.584      -0.014       0.025\n",
      "highway_mini_roundabout               0.0091      0.007      1.289      0.197      -0.005       0.023\n",
      "highway_rest_area                     0.0039      0.007      0.559      0.576      -0.010       0.018\n",
      "highway_services                      0.0023      0.011      0.210      0.834      -0.019       0.023\n",
      "highway_traffic_mirror               -0.0174      0.031     -0.570      0.569      -0.077       0.042\n",
      "highway_trailhead                    -0.0085      0.008     -1.065      0.287      -0.024       0.007\n",
      "highway_toll_gantry                  -0.0253      0.009     -2.790      0.005      -0.043      -0.008\n",
      "historic_building                     0.0083      0.012      0.667      0.505      -0.016       0.033\n",
      "historic_church                   -2.654e-05      0.009     -0.003      0.998      -0.018       0.018\n",
      "historic_memorial                    -0.0027      0.009     -0.288      0.773      -0.021       0.016\n",
      "historic_monument                    -0.0054      0.011     -0.514      0.607      -0.026       0.015\n",
      "historic_ruins                        0.0026      0.007      0.351      0.726      -0.012       0.017\n",
      "historic_yes                          0.0094      0.008      1.184      0.236      -0.006       0.025\n",
      "historic_archaeological_site         -0.0031      0.007     -0.428      0.668      -0.017       0.011\n",
      "historic_battlefield                  0.0121      0.007      1.652      0.098      -0.002       0.026\n",
      "historic_boundary_stone               0.0022      0.007      0.312      0.755      -0.012       0.016\n",
      "historic_castle                      -0.0051      0.010     -0.499      0.618      -0.025       0.015\n",
      "historic_farm                        -0.0100      0.007     -1.413      0.158      -0.024       0.004\n",
      "historic_manor                       -0.0054      0.010     -0.559      0.576      -0.024       0.013\n",
      "historic_milestone                    0.0202      0.010      2.106      0.035       0.001       0.039\n",
      "historic_railway_car                  0.0140      0.015      0.920      0.357      -0.016       0.044\n",
      "historic_tomb                         0.0390      0.228      0.171      0.865      -0.409       0.487\n",
      "landuse_basin                        -0.0030      0.008     -0.405      0.686      -0.018       0.012\n",
      "landuse_brownfield                    0.0147      0.007      1.975      0.048       0.000       0.029\n",
      "landuse_cemetery                     -0.0211      0.007     -2.837      0.005      -0.036      -0.007\n",
      "landuse_commercial                    0.0167      0.010      1.734      0.083      -0.002       0.036\n",
      "landuse_conservation                 -0.0224      0.009     -2.485      0.013      -0.040      -0.005\n",
      "landuse_construction                  0.0114      0.010      1.189      0.234      -0.007       0.030\n",
      "landuse_farmland                      0.0111      0.007      1.501      0.133      -0.003       0.026\n",
      "landuse_farmyard                     -0.0112      0.007     -1.517      0.129      -0.026       0.003\n",
      "landuse_forest                        0.0026      0.007      0.357      0.721      -0.012       0.017\n",
      "landuse_grass                         0.0428      0.013      3.195      0.001       0.017       0.069\n",
      "landuse_industrial                    0.0072      0.008      0.910      0.363      -0.008       0.023\n",
      "landuse_meadow                        0.0035      0.007      0.476      0.634      -0.011       0.018\n",
      "landuse_military                     -0.0111      0.010     -1.064      0.287      -0.031       0.009\n",
      "landuse_orchard                      -0.0080      0.007     -1.089      0.276      -0.022       0.006\n",
      "landuse_quarry                        0.0085      0.007      1.204      0.229      -0.005       0.022\n",
      "landuse_railway                      -0.0084      0.011     -0.787      0.431      -0.029       0.013\n",
      "landuse_recreation_ground            -0.0074      0.008     -0.871      0.384      -0.024       0.009\n",
      "landuse_religious                    -0.0025      0.008     -0.306      0.759      -0.019       0.014\n",
      "landuse_residential                   0.0341      0.011      3.152      0.002       0.013       0.055\n",
      "landuse_retail                       -0.0148      0.012     -1.247      0.213      -0.038       0.008\n",
      "landuse_allotments                    0.0223      0.008      2.803      0.005       0.007       0.038\n",
      "landuse_flowerbed                     0.0117      0.011      1.070      0.284      -0.010       0.033\n",
      "landuse_garages                       0.0007      0.007      0.098      0.922      -0.014       0.015\n",
      "landuse_greenfield                   -0.0026      0.011     -0.228      0.820      -0.025       0.019\n",
      "landuse_greenhouse_horticulture       0.0082      0.007      1.144      0.252      -0.006       0.022\n",
      "landuse_landfill                     -0.0018      0.007     -0.237      0.813      -0.016       0.013\n",
      "landuse_plant_nursery                -0.0032      0.008     -0.384      0.701      -0.020       0.013\n",
      "landuse_village_green                -0.0003      0.009     -0.031      0.975      -0.018       0.017\n",
      "landuse_winter_sports                -0.0004      0.007     -0.063      0.949      -0.014       0.013\n",
      "leisure_common                        0.0076      0.010      0.763      0.445      -0.012       0.027\n",
      "leisure_firepit                       0.0113      0.010      1.152      0.249      -0.008       0.030\n",
      "leisure_fitness_centre               -0.0079      0.012     -0.662      0.508      -0.031       0.015\n",
      "leisure_fitness_station               0.0180      0.029      0.623      0.533      -0.039       0.075\n",
      "leisure_garden                       -0.0245      0.012     -2.043      0.041      -0.048      -0.001\n",
      "leisure_ice_rink                      0.0054      0.018      0.301      0.763      -0.030       0.040\n",
      "leisure_nature_reserve               -0.0142      0.012     -1.185      0.236      -0.038       0.009\n",
      "leisure_park                          0.0345      0.010      3.622      0.000       0.016       0.053\n",
      "leisure_picnic_table                 -0.0041      0.009     -0.469      0.639      -0.021       0.013\n",
      "leisure_pitch                        -0.0339      0.036     -0.931      0.352      -0.105       0.037\n",
      "leisure_playground                    0.0128      0.009      1.387      0.165      -0.005       0.031\n",
      "leisure_slipway                      -0.0018      0.008     -0.234      0.815      -0.017       0.014\n",
      "leisure_sports_centre                -0.0042      0.009     -0.458      0.647      -0.022       0.014\n",
      "leisure_stadium                       0.0114      0.010      1.165      0.244      -0.008       0.031\n",
      "leisure_swimming_pool                -0.0055      0.008     -0.734      0.463      -0.020       0.009\n",
      "leisure_track                         0.0094      0.012      0.806      0.420      -0.013       0.032\n",
      "leisure_amusement_arcade             -0.0126      0.009     -1.337      0.181      -0.031       0.006\n",
      "leisure_bandstand                     0.0029      0.011      0.259      0.795      -0.019       0.025\n",
      "leisure_dance                         0.0012      0.012      0.102      0.919      -0.022       0.024\n",
      "leisure_disc_golf_course              0.0084      0.010      0.872      0.383      -0.011       0.027\n",
      "leisure_dog_park                     -0.0054      0.010     -0.547      0.584      -0.025       0.014\n",
      "leisure_hackerspace                   0.0016      0.012      0.134      0.893      -0.022       0.026\n",
      "leisure_horse_riding                  0.0013      0.007      0.177      0.860      -0.013       0.015\n",
      "leisure_marina                        0.0091      0.009      0.983      0.326      -0.009       0.027\n",
      "leisure_miniature_golf               -0.0043      0.009     -0.503      0.615      -0.021       0.012\n",
      "man_made_bridge                      -0.0006      0.014     -0.044      0.965      -0.027       0.026\n",
      "man_made_chimney                     -0.0077      0.008     -0.921      0.357      -0.024       0.009\n",
      "man_made_flagpole                     0.0275      0.010      2.880      0.004       0.009       0.046\n",
      "man_made_mast                         0.0117      0.009      1.328      0.184      -0.006       0.029\n",
      "man_made_observatory               -1.83e+09   1.35e+09     -1.351      0.177   -4.48e+09    8.25e+08\n",
      "man_made_pier                         0.0035      0.010      0.368      0.713      -0.015       0.022\n",
      "man_made_silo                        -0.0032      0.008     -0.388      0.698      -0.019       0.013\n",
      "man_made_storage_tank                 0.0046      0.008      0.589      0.556      -0.011       0.020\n",
      "man_made_street_cabinet               0.0285      0.017      1.646      0.100      -0.005       0.062\n",
      "man_made_surveillance                 0.0052      0.014      0.380      0.704      -0.021       0.032\n",
      "man_made_telescope                  1.83e+09   1.35e+09      1.351      0.177   -8.25e+08    4.48e+09\n",
      "man_made_tower                       -0.0015      0.008     -0.194      0.846      -0.017       0.014\n",
      "man_made_water_tower                  0.0034      0.007      0.473      0.636      -0.011       0.018\n",
      "man_made_breakwater                  -0.0081      0.008     -1.068      0.285      -0.023       0.007\n",
      "man_made_crane                     3.174e+09   2.35e+09      1.351      0.177   -1.43e+09    7.78e+09\n",
      "man_made_embankment                  -0.0011      0.008     -0.142      0.887      -0.016       0.014\n",
      "man_made_groyne                      -0.0032      0.009     -0.364      0.716      -0.020       0.014\n",
      "man_made_lighthouse                  -0.0019      0.008     -0.231      0.817      -0.018       0.014\n",
      "man_made_monitoring_station           0.0178      0.041      0.437      0.662      -0.062       0.098\n",
      "man_made_obelisk                     -0.0429      0.228     -0.188      0.851      -0.491       0.405\n",
      "man_made_pipeline                    -0.0005      0.007     -0.075      0.940      -0.015       0.014\n",
      "man_made_pumping_station              0.0101      0.009      1.100      0.271      -0.008       0.028\n",
      "man_made_reservoir_covered           -0.0058      0.007     -0.817      0.414      -0.020       0.008\n",
      "man_made_survey_point                -0.0023      0.007     -0.309      0.758      -0.017       0.012\n",
      "man_made_wastewater_plant             0.0192      0.008      2.440      0.015       0.004       0.035\n",
      "man_made_watermill                    0.0038      0.007      0.539      0.590      -0.010       0.018\n",
      "man_made_water_well                  -0.0077      0.007     -1.043      0.297      -0.022       0.007\n",
      "man_made_water_tap                    0.0540      0.050      1.079      0.280      -0.044       0.152\n",
      "man_made_water_works                  0.0026      0.008      0.333      0.739      -0.013       0.018\n",
      "man_made_works                       -0.0089      0.008     -1.181      0.237      -0.024       0.006\n",
      "man_made_yes                         -0.0088      0.009     -0.977      0.329      -0.027       0.009\n",
      "military_barracks                     0.0034      0.009      0.388      0.698      -0.014       0.020\n",
      "military_checkpoint                  -0.0610      0.054     -1.128      0.259      -0.167       0.045\n",
      "military_danger_area                  0.0038      0.010      0.386      0.699      -0.015       0.023\n",
      "military_office                       0.0101      0.011      0.957      0.338      -0.011       0.031\n",
      "natural_bay                           0.0336      0.010      3.391      0.001       0.014       0.053\n",
      "natural_beach                        -0.0123      0.010     -1.255      0.209      -0.031       0.007\n",
      "natural_cliff                        -0.0046      0.008     -0.603      0.546      -0.020       0.010\n",
      "natural_heath                         0.0046      0.007      0.653      0.514      -0.009       0.018\n",
      "natural_peak                         -0.0006      0.007     -0.089      0.929      -0.015       0.014\n",
      "natural_rock                         -0.0062      0.009     -0.667      0.505      -0.024       0.012\n",
      "natural_sand                         -0.0157      0.011     -1.395      0.163      -0.038       0.006\n",
      "natural_scrub                        -0.0115      0.009     -1.276      0.202      -0.029       0.006\n",
      "natural_tree                          0.0160      0.020      0.813      0.416      -0.023       0.054\n",
      "natural_tree_row                      0.0122      0.010      1.257      0.209      -0.007       0.031\n",
      "natural_water                     -8.034e-05      0.010     -0.008      0.994      -0.020       0.019\n",
      "natural_wetland                      -0.0198      0.008     -2.645      0.008      -0.035      -0.005\n",
      "natural_wood                         -0.0040      0.008     -0.499      0.618      -0.020       0.012\n",
      "natural_grassland                     0.0037      0.007      0.497      0.619      -0.011       0.018\n",
      "natural_bare_rock                     0.0025      0.008      0.321      0.748      -0.013       0.018\n",
      "natural_scree                        -0.0063      0.007     -0.880      0.379      -0.020       0.008\n",
      "natural_shingle                       0.0034      0.007      0.481      0.631      -0.010       0.017\n",
      "natural_mud                           0.0074      0.007      1.028      0.304      -0.007       0.022\n",
      "natural_strait                       -0.0008      0.007     -0.114      0.909      -0.015       0.013\n",
      "natural_cape                          0.0169      0.008      2.009      0.045       0.000       0.033\n",
      "natural_coastline                    -0.0163      0.011     -1.525      0.127      -0.037       0.005\n",
      "natural_reef                          0.0050      0.008      0.667      0.505      -0.010       0.020\n",
      "natural_spring                     -4.02e-07   2.98e-07     -1.351      0.177   -9.85e-07    1.81e-07\n",
      "natural_stone                        -0.0097      0.009     -1.126      0.260      -0.027       0.007\n",
      "office_accountant                    -0.0064      0.011     -0.591      0.554      -0.028       0.015\n",
      "office_association                    0.0149      0.016      0.909      0.363      -0.017       0.047\n",
      "office_government                     0.0059      0.008      0.723      0.470      -0.010       0.022\n",
      "office_insurance                     -0.0219      0.014     -1.532      0.126      -0.050       0.006\n",
      "office_lawyer                         0.0054      0.014      0.380      0.704      -0.022       0.033\n",
      "office_research                       0.0073      0.010      0.730      0.466      -0.012       0.027\n",
      "office_advertising_agency             0.0104      0.007      1.471      0.141      -0.003       0.024\n",
      "office_architect                     -0.0177      0.015     -1.192      0.233      -0.047       0.011\n",
      "office_charity                       -0.0036      0.010     -0.346      0.729      -0.024       0.017\n",
      "office_company                        0.0129      0.011      1.205      0.228      -0.008       0.034\n",
      "office_consulting                     0.0127      0.009      1.447      0.148      -0.005       0.030\n",
      "office_coworking                      0.0412      0.028      1.473      0.141      -0.014       0.096\n",
      "office_diplomatic                    -0.0053      0.016     -0.331      0.740      -0.036       0.026\n",
      "office_educational_institution        0.0069      0.008      0.840      0.401      -0.009       0.023\n",
      "office_employment_agency             -0.0134      0.012     -1.151      0.250      -0.036       0.009\n",
      "office_estate_agent                   0.0097      0.018      0.542      0.588      -0.025       0.045\n",
      "office_financial                      0.0178      0.009      2.092      0.036       0.001       0.034\n",
      "office_financial_advisor             -0.0063      0.024     -0.257      0.797      -0.054       0.042\n",
      "office_foundation                     0.0004      0.013      0.034      0.973      -0.024       0.025\n",
      "office_it                             0.0080      0.011      0.763      0.446      -0.013       0.029\n",
      "office_moving_company             -4.961e+09   3.67e+09     -1.351      0.177   -1.22e+10    2.24e+09\n",
      "office_newspaper                     -0.0019      0.010     -0.181      0.856      -0.022       0.018\n",
      "office_ngo                           -0.0032      0.011     -0.292      0.771      -0.025       0.018\n",
      "office_property_management           -0.0078      0.011     -0.710      0.478      -0.030       0.014\n",
      "office_religion                       0.0088      0.009      0.990      0.322      -0.009       0.026\n",
      "office_tax_advisor                   -0.0061      0.014     -0.432      0.666      -0.034       0.022\n",
      "office_telecommunication           1.212e-06   8.97e-07      1.351      0.177   -5.46e-07    2.97e-06\n",
      "office_yes                           -0.0231      0.010     -2.391      0.017      -0.042      -0.004\n",
      "place_city                            0.0218      0.009      2.306      0.021       0.003       0.040\n",
      "place_county                         -0.1930      0.070     -2.762      0.006      -0.330      -0.056\n",
      "place_hamlet                         -0.0084      0.007     -1.151      0.250      -0.023       0.006\n",
      "place_island                          0.0094      0.007      1.277      0.202      -0.005       0.024\n",
      "place_islet                          -0.0069      0.008     -0.810      0.418      -0.024       0.010\n",
      "place_neighbourhood                   0.0441      0.008      5.289      0.000       0.028       0.060\n",
      "place_town                           -0.0423      0.008     -5.403      0.000      -0.058      -0.027\n",
      "place_state                           0.1650      0.070      2.351      0.019       0.027       0.303\n",
      "place_suburb                          0.0948      0.010      9.069      0.000       0.074       0.115\n",
      "place_quarter                         0.0012      0.007      0.172      0.863      -0.013       0.015\n",
      "place_city_block                  -3.174e+09   2.35e+09     -1.351      0.177   -7.78e+09    1.43e+09\n",
      "place_plot                            0.0511      0.073      0.699      0.484      -0.092       0.194\n",
      "place_village                         0.0057      0.007      0.768      0.443      -0.009       0.020\n",
      "place_farm                           -0.0055      0.008     -0.721      0.471      -0.020       0.009\n",
      "place_square                          0.0154      0.014      1.080      0.280      -0.013       0.043\n",
      "place_locality                       -0.0055      0.007     -0.736      0.462      -0.020       0.009\n",
      "power_cable                           0.0190      0.008      2.269      0.023       0.003       0.035\n",
      "power_generator                       0.0050      0.008      0.646      0.518      -0.010       0.020\n",
      "power_line                           -0.0037      0.014     -0.262      0.793      -0.031       0.024\n",
      "power_minor_line                      0.0214      0.010      2.239      0.025       0.003       0.040\n",
      "power_plant                           0.0095      0.008      1.256      0.209      -0.005       0.024\n",
      "power_pole                           -0.0075      0.011     -0.663      0.508      -0.030       0.015\n",
      "power_substation                      0.0015      0.009      0.165      0.869      -0.017       0.020\n",
      "power_tower                          -0.0058      0.013     -0.430      0.667      -0.032       0.020\n",
      "power_portal                          0.0127      0.008      1.675      0.094      -0.002       0.027\n",
      "power_switch                          0.0204      0.040      0.513      0.608      -0.058       0.098\n",
      "power_transformer                     0.0076      0.010      0.735      0.462      -0.013       0.028\n",
      "public_transport_platform            -0.0707      0.049     -1.433      0.152      -0.167       0.026\n",
      "public_transport_stop_position       -0.0614      0.042     -1.462      0.144      -0.144       0.021\n",
      "public_transport_station             -0.0671      0.048     -1.395      0.163      -0.161       0.027\n",
      "public_transport_stop_area           -0.0055      0.008     -0.713      0.476      -0.021       0.010\n",
      "railway_abandoned                     0.0031      0.009      0.357      0.721      -0.014       0.020\n",
      "railway_buffer_stop                  -0.0071      0.008     -0.890      0.374      -0.023       0.009\n",
      "railway_disused                      -0.0104      0.008     -1.326      0.185      -0.026       0.005\n",
      "railway_level_crossing               -0.0020      0.012     -0.175      0.861      -0.025       0.021\n",
      "railway_narrow_gauge              -6.243e-07   4.62e-07     -1.351      0.177   -1.53e-06    2.81e-07\n",
      "railway_platform                      0.0140      0.025      0.554      0.580      -0.035       0.063\n",
      "railway_rail                          0.0310      0.010      3.181      0.001       0.012       0.050\n",
      "railway_switch                        0.0071      0.020      0.357      0.721      -0.032       0.046\n",
      "railway_construction                  0.0059      0.007      0.836      0.403      -0.008       0.020\n",
      "railway_light_rail                   -0.0061      0.018     -0.335      0.737      -0.042       0.029\n",
      "railway_subway                       -0.0125      0.013     -0.924      0.355      -0.039       0.014\n",
      "railway_halt                          0.0378      0.028      1.345      0.179      -0.017       0.093\n",
      "railway_station                       0.0553      0.037      1.490      0.136      -0.017       0.128\n",
      "railway_subway_entrance               0.0391      0.020      1.976      0.048       0.000       0.078\n",
      "railway_tram_stop                    -0.0051      0.012     -0.427      0.669      -0.029       0.018\n",
      "railway_crossing                      0.0191      0.014      1.409      0.159      -0.007       0.046\n",
      "railway_signal                       -0.0131      0.009     -1.404      0.160      -0.031       0.005\n",
      "railway_railway_crossing             -0.0168      0.013     -1.286      0.198      -0.043       0.009\n",
      "railway_wash                         -0.0009      0.011     -0.081      0.935      -0.022       0.021\n",
      "route_ferry                          -0.0026      0.015     -0.171      0.864      -0.032       0.027\n",
      "route_foot                            0.0091      0.007      1.246      0.213      -0.005       0.023\n",
      "shop_alcohol                         -0.0128      0.010     -1.262      0.207      -0.033       0.007\n",
      "shop_art                             -0.0172      0.013     -1.346      0.178      -0.042       0.008\n",
      "shop_bakery                           0.0337      0.013      2.691      0.007       0.009       0.058\n",
      "shop_beauty                          -0.0231      0.015     -1.522      0.128      -0.053       0.007\n",
      "shop_books                            0.0070      0.012      0.574      0.566      -0.017       0.031\n",
      "shop_butcher                         -0.0127      0.010     -1.328      0.184      -0.031       0.006\n",
      "shop_candles                          0.0116      0.022      0.534      0.594      -0.031       0.054\n",
      "shop_car                              0.0197      0.008      2.356      0.019       0.003       0.036\n",
      "shop_car_parts                       -0.0017      0.009     -0.188      0.851      -0.020       0.016\n",
      "shop_car_repair                      -0.0007      0.010     -0.065      0.948      -0.021       0.020\n",
      "shop_charity                         -0.0201      0.010     -2.107      0.035      -0.039      -0.001\n",
      "shop_chemist                         -0.0192      0.010     -1.933      0.053      -0.039       0.000\n",
      "shop_clothes                          0.0285      0.026      1.112      0.266      -0.022       0.079\n",
      "shop_confectionery                   -0.0101      0.012     -0.865      0.387      -0.033       0.013\n",
      "shop_convenience                      0.0130      0.010      1.254      0.210      -0.007       0.033\n",
      "shop_copyshop                        -0.0006      0.012     -0.053      0.958      -0.024       0.023\n",
      "shop_cosmetics                       -0.0672      0.042     -1.615      0.106      -0.149       0.014\n",
      "shop_craft                            0.0083      0.010      0.800      0.424      -0.012       0.029\n",
      "shop_department_store                 0.0305      0.009      3.303      0.001       0.012       0.049\n",
      "shop_doityourself                    -0.0014      0.008     -0.171      0.864      -0.018       0.015\n",
      "shop_dry_cleaning                     0.0061      0.012      0.524      0.601      -0.017       0.029\n",
      "shop_funeral_directors               -0.0110      0.008     -1.350      0.177      -0.027       0.005\n",
      "shop_furniture                        0.0187      0.011      1.672      0.095      -0.003       0.041\n",
      "shop_garden_centre                   -0.0029      0.008     -0.354      0.724      -0.019       0.013\n",
      "shop_gift                             0.0168      0.014      1.214      0.225      -0.010       0.044\n",
      "shop_hairdresser                      0.0039      0.015      0.254      0.800      -0.026       0.034\n",
      "shop_hairdresser_supply              -0.0097      0.012     -0.815      0.415      -0.033       0.014\n",
      "shop_hardware                         0.0015      0.009      0.163      0.870      -0.017       0.020\n",
      "shop_interior_decoration              0.0018      0.016      0.112      0.911      -0.030       0.033\n",
      "shop_jewelry                          0.0195      0.012      1.584      0.113      -0.005       0.044\n",
      "shop_mall                            -0.0005      0.010     -0.052      0.958      -0.020       0.019\n",
      "shop_medical_supply               -1.377e-06   1.02e-06     -1.351      0.177   -3.38e-06    6.21e-07\n",
      "shop_mobile_phone                    -0.0141      0.013     -1.054      0.292      -0.040       0.012\n",
      "shop_music                            0.0084      0.013      0.666      0.505      -0.016       0.033\n",
      "shop_nutrition_supplements            0.0291      0.013      2.173      0.030       0.003       0.055\n",
      "shop_optician                         0.0042      0.012      0.339      0.735      -0.020       0.028\n",
      "shop_pet                              0.0171      0.009      1.814      0.070      -0.001       0.036\n",
      "shop_scuba_diving                    -0.0025      0.007     -0.346      0.729      -0.017       0.012\n",
      "shop_seafood                         -0.0145      0.012     -1.161      0.246      -0.039       0.010\n",
      "shop_shoes                           -0.0021      0.015     -0.140      0.889      -0.032       0.028\n",
      "shop_sports                           0.0138      0.009      1.468      0.142      -0.005       0.032\n",
      "shop_stationery                      -0.0179      0.011     -1.558      0.119      -0.040       0.005\n",
      "shop_storage_rental                  -0.0185      0.010     -1.867      0.062      -0.038       0.001\n",
      "shop_supermarket                     -0.0005      0.009     -0.050      0.960      -0.019       0.018\n",
      "shop_tailor                           0.0055      0.011      0.495      0.620      -0.016       0.027\n",
      "shop_tattoo                           0.0277      0.015      1.830      0.067      -0.002       0.057\n",
      "shop_tiles                           -0.0124      0.008     -1.602      0.109      -0.028       0.003\n",
      "shop_tyres                           -0.0024      0.008     -0.296      0.767      -0.018       0.013\n",
      "shop_vacant                          -0.0115      0.022     -0.528      0.598      -0.054       0.031\n",
      "shop_variety_store                   -0.0097      0.009     -1.055      0.292      -0.028       0.008\n",
      "shop_wholesale                       -0.0238      0.008     -3.102      0.002      -0.039      -0.009\n",
      "shop_beverages                        0.0070      0.010      0.716      0.474      -0.012       0.026\n",
      "shop_cheese                           0.0103      0.013      0.770      0.441      -0.016       0.037\n",
      "shop_chocolate                       -0.0359      0.014     -2.518      0.012      -0.064      -0.008\n",
      "shop_coffee                          -0.0018      0.010     -0.177      0.859      -0.021       0.018\n",
      "shop_deli                            -0.0151      0.009     -1.600      0.110      -0.034       0.003\n",
      "shop_farm                             0.0075      0.009      0.864      0.388      -0.010       0.025\n",
      "shop_greengrocer                     -0.0084      0.009     -0.978      0.328      -0.025       0.008\n",
      "shop_health_food                      0.0066      0.013      0.495      0.620      -0.019       0.033\n",
      "shop_ice_cream                       -0.0048      0.009     -0.539      0.590      -0.022       0.013\n",
      "shop_organic                       1.718e-07   1.27e-07      1.351      0.177   -7.74e-08    4.21e-07\n",
      "shop_pastry                          -0.0130      0.010     -1.321      0.186      -0.032       0.006\n",
      "shop_spices                           0.0063      0.008      0.825      0.409      -0.009       0.021\n",
      "shop_tea                             -0.0025      0.013     -0.199      0.842      -0.027       0.022\n",
      "shop_wine                            -0.0119      0.011     -1.097      0.273      -0.033       0.009\n",
      "shop_general                          0.0158      0.013      1.171      0.242      -0.011       0.042\n",
      "shop_kiosk                            0.0149      0.014      1.090      0.276      -0.012       0.042\n",
      "shop_baby_goods                       0.0089      0.011      0.823      0.411      -0.012       0.030\n",
      "shop_bag                              0.0327      0.017      1.931      0.054      -0.000       0.066\n",
      "shop_boutique                        -0.0204      0.014     -1.415      0.157      -0.049       0.008\n",
      "shop_fashion                          0.0099      0.017      0.578      0.563      -0.024       0.044\n",
      "shop_fashion_accessories             -0.0240      0.026     -0.933      0.351      -0.074       0.026\n",
      "shop_leather                          0.0325      0.023      1.414      0.157      -0.013       0.078\n",
      "shop_watches                       1.653e-08   1.22e-08      1.351      0.177   -7.45e-09    4.05e-08\n",
      "shop_second_hand                     -0.0027      0.010     -0.270      0.787      -0.022       0.017\n",
      "shop_erotic                       -9.715e-05      0.009     -0.011      0.991      -0.017       0.017\n",
      "shop_massage                          0.0064      0.013      0.499      0.617      -0.019       0.032\n",
      "shop_appliance                       -0.0149      0.013     -1.163      0.245      -0.040       0.010\n",
      "shop_electrical                       0.0046      0.007      0.654      0.513      -0.009       0.018\n",
      "shop_fireplace                    -1.293e-08   9.57e-09     -1.351      0.177   -3.17e-08    5.83e-09\n",
      "shop_florist                         -0.0129      0.010     -1.228      0.220      -0.033       0.008\n",
      "shop_gas                              0.0038      0.007      0.527      0.598      -0.010       0.018\n",
      "shop_glaziery                        -0.0052      0.007     -0.704      0.482      -0.020       0.009\n",
      "shop_groundskeeping                  -0.0003      0.011     -0.032      0.974      -0.021       0.021\n",
      "shop_houseware                        0.0013      0.011      0.126      0.899      -0.019       0.022\n",
      "shop_locksmith                       -0.0077      0.021     -0.359      0.720      -0.050       0.034\n",
      "shop_paint                           -0.0088      0.010     -0.920      0.357      -0.028       0.010\n",
      "shop_antiques                        -0.0059      0.012     -0.502      0.616      -0.029       0.017\n",
      "shop_bed                             -0.0085      0.014     -0.626      0.531      -0.035       0.018\n",
      "shop_carpet                           0.0028      0.010      0.279      0.781      -0.017       0.022\n",
      "shop_curtain                          0.0052      0.009      0.591      0.554      -0.012       0.022\n",
      "shop_flooring                        -0.0075      0.012     -0.621      0.535      -0.031       0.016\n",
      "shop_kitchen                          0.0057      0.013      0.439      0.661      -0.020       0.031\n",
      "shop_lamps                           -0.1169      0.150     -0.780      0.435      -0.411       0.177\n",
      "shop_lighting                         0.0025      0.010      0.249      0.803      -0.017       0.022\n",
      "shop_window_blind                    -0.0074      0.013     -0.578      0.564      -0.033       0.018\n",
      "shop_computer                        -0.0214      0.016     -1.364      0.173      -0.052       0.009\n",
      "shop_electronics                      0.0310      0.009      3.450      0.001       0.013       0.049\n",
      "shop_hifi                            -0.0050      0.009     -0.541      0.588      -0.023       0.013\n",
      "shop_vacuum_cleaner                   0.0007      0.010      0.074      0.941      -0.018       0.020\n",
      "shop_bicycle                          0.0019      0.009      0.208      0.835      -0.016       0.019\n",
      "shop_boat                            -0.0002      0.008     -0.024      0.981      -0.015       0.015\n",
      "shop_fishing                          0.0050      0.008      0.594      0.552      -0.011       0.021\n",
      "shop_military_surplus             -1.245e+10   9.21e+09     -1.351      0.177   -3.05e+10    5.61e+09\n",
      "shop_motorcycle                      -0.0178      0.029     -0.613      0.540      -0.075       0.039\n",
      "shop_outdoor                          0.0279      0.010      2.926      0.003       0.009       0.047\n",
      "shop_swimming_pool                    0.0117      0.007      1.652      0.099      -0.002       0.026\n",
      "shop_frame                            0.0059      0.014      0.415      0.678      -0.022       0.034\n",
      "shop_model                           -0.0049      0.007     -0.667      0.505      -0.019       0.010\n",
      "shop_musical_instrument              -0.0287      0.016     -1.824      0.068      -0.060       0.002\n",
      "shop_photo                            0.0021      0.008      0.268      0.789      -0.014       0.018\n",
      "shop_video                            0.0302      0.019      1.619      0.105      -0.006       0.067\n",
      "shop_video_games                     -0.0002      0.009     -0.020      0.984      -0.018       0.017\n",
      "shop_newsagent                       -0.0013      0.013     -0.095      0.924      -0.027       0.025\n",
      "shop_ticket                           0.1213      0.053      2.272      0.023       0.017       0.226\n",
      "shop_bookmaker                        0.0039      0.007      0.534      0.594      -0.010       0.018\n",
      "shop_cannabis                         0.0267      0.010      2.806      0.005       0.008       0.045\n",
      "shop_laundry                         -0.0126      0.011     -1.143      0.253      -0.034       0.009\n",
      "shop_party                           -0.0094      0.009     -1.006      0.315      -0.028       0.009\n",
      "shop_pawnbroker                      -0.0022      0.009     -0.248      0.804      -0.020       0.015\n",
      "shop_pet_grooming                    -0.0354      0.015     -2.416      0.016      -0.064      -0.007\n",
      "shop_religion                        -0.0580      0.024     -2.466      0.014      -0.104      -0.012\n",
      "shop_tobacco                         -0.0011      0.012     -0.094      0.925      -0.025       0.023\n",
      "shop_toys                            -0.0120      0.010     -1.162      0.245      -0.032       0.008\n",
      "shop_travel_agency                   -0.0298      0.012     -2.561      0.010      -0.053      -0.007\n",
      "shop_weapons                          0.0132      0.019      0.679      0.497      -0.025       0.051\n",
      "sport_american_football              -0.0141      0.010     -1.417      0.156      -0.034       0.005\n",
      "sport_athletics                       0.0078      0.008      0.971      0.331      -0.008       0.024\n",
      "sport_baseball                        0.0163      0.018      0.926      0.354      -0.018       0.051\n",
      "sport_basketball                      0.0014      0.013      0.107      0.915      -0.024       0.027\n",
      "sport_field_hockey                   -0.0046      0.008     -0.575      0.565      -0.020       0.011\n",
      "sport_fitness                        -0.0248      0.030     -0.816      0.415      -0.084       0.035\n",
      "sport_ice_hockey                     -0.0111      0.019     -0.582      0.561      -0.048       0.026\n",
      "sport_ice_skating                     0.0078      0.016      0.487      0.626      -0.024       0.039\n",
      "sport_lacrosse                       -0.0070      0.008     -0.904      0.366      -0.022       0.008\n",
      "sport_multi                          -0.0019      0.008     -0.234      0.815      -0.018       0.014\n",
      "sport_racquet                        -0.1097      0.167     -0.657      0.511      -0.437       0.218\n",
      "sport_rowing                          0.0439      0.062      0.712      0.476      -0.077       0.165\n",
      "sport_running                        -0.0003      0.011     -0.027      0.979      -0.022       0.021\n",
      "sport_skateboard                     -0.0031      0.009     -0.351      0.725      -0.020       0.014\n",
      "sport_soccer                          0.0242      0.012      1.947      0.052      -0.000       0.049\n",
      "sport_swimming                        0.0068      0.008      0.835      0.404      -0.009       0.023\n",
      "sport_tennis                          0.0241      0.018      1.310      0.190      -0.012       0.060\n",
      "sport_volleyball                      0.0121      0.008      1.436      0.151      -0.004       0.029\n",
      "sport_10pin                          -0.0015      0.011     -0.138      0.890      -0.023       0.020\n",
      "sport_aikido                      -8.527e-18   4.28e-18     -1.993      0.046   -1.69e-17    -1.4e-19\n",
      "sport_archery                         0.0052      0.008      0.689      0.491      -0.010       0.020\n",
      "sport_beachvolleyball                 0.0125      0.008      1.564      0.118      -0.003       0.028\n",
      "sport_billiards                       0.0170      0.016      1.085      0.278      -0.014       0.048\n",
      "sport_bmx                            -0.0023      0.007     -0.319      0.750      -0.016       0.012\n",
      "sport_boules                          0.0013      0.008      0.168      0.867      -0.014       0.016\n",
      "sport_boxing                         -0.0085      0.013     -0.668      0.504      -0.033       0.016\n",
      "sport_chess                           0.0044      0.008      0.551      0.582      -0.011       0.020\n",
      "sport_climbing                        0.0163      0.009      1.907      0.057      -0.000       0.033\n",
      "sport_cricket                      3.165e-18   4.76e-18      0.665      0.506   -6.17e-18    1.25e-17\n",
      "sport_crossfit                     -5.66e-18   4.86e-18     -1.165      0.244   -1.52e-17    3.86e-18\n",
      "sport_curling                        -0.0059      0.010     -0.570      0.569      -0.026       0.014\n",
      "sport_cycling                        -0.0061      0.030     -0.201      0.841      -0.066       0.054\n",
      "sport_equestrian                     -0.0070      0.007     -0.965      0.335      -0.021       0.007\n",
      "sport_fencing                         0.0072      0.022      0.321      0.748      -0.037       0.051\n",
      "sport_golf                            0.0152      0.009      1.666      0.096      -0.003       0.033\n",
      "sport_gymnastics                     -0.0105      0.010     -1.035      0.301      -0.030       0.009\n",
      "sport_horseshoes                     -0.0068      0.007     -0.949      0.343      -0.021       0.007\n",
      "sport_karate                         -0.0082      0.010     -0.797      0.426      -0.028       0.012\n",
      "sport_karting                      2.293e+10    1.7e+10      1.351      0.177   -1.03e+10    5.62e+10\n",
      "sport_martial_arts                    0.0136      0.015      0.904      0.366      -0.016       0.043\n",
      "sport_pickleball                     -0.0002      0.007     -0.024      0.981      -0.014       0.014\n",
      "sport_roller_skating                  0.0016      0.007      0.229      0.819      -0.012       0.016\n",
      "sport_scuba_diving                    0.0084      0.012      0.719      0.472      -0.015       0.031\n",
      "sport_shooting                        0.0066      0.008      0.844      0.399      -0.009       0.022\n",
      "sport_squash                          0.0007      0.013      0.055      0.956      -0.025       0.027\n",
      "sport_table_tennis                    0.0096      0.014      0.673      0.501      -0.018       0.038\n",
      "sport_taekwondo                       0.0054      0.010      0.527      0.598      -0.015       0.026\n",
      "sport_weightlifting                  -0.0541      0.059     -0.917      0.359      -0.170       0.062\n",
      "sport_wrestling                       0.0120      0.012      0.969      0.332      -0.012       0.036\n",
      "sport_yoga                            0.0103      0.012      0.822      0.411      -0.014       0.035\n",
      "telecom_exchange                      0.0080      0.013      0.630      0.529      -0.017       0.033\n",
      "tourism_artwork                       0.0032      0.017      0.193      0.847      -0.029       0.036\n",
      "tourism_attraction                    0.0137      0.015      0.930      0.353      -0.015       0.043\n",
      "tourism_gallery                      -0.0006      0.013     -0.046      0.963      -0.025       0.024\n",
      "tourism_hotel                         0.0455      0.013      3.635      0.000       0.021       0.070\n",
      "tourism_information                  -0.0041      0.009     -0.461      0.645      -0.021       0.013\n",
      "tourism_museum                        0.0015      0.009      0.166      0.868      -0.017       0.020\n",
      "tourism_picnic_site                  -0.0117      0.008     -1.467      0.142      -0.027       0.004\n",
      "tourism_viewpoint                    -0.0069      0.008     -0.814      0.416      -0.023       0.010\n",
      "tourism_zoo                           0.0068      0.008      0.837      0.402      -0.009       0.023\n",
      "tourism_apartment                     0.0170      0.010      1.741      0.082      -0.002       0.036\n",
      "tourism_camp_site                    -0.0059      0.007     -0.811      0.417      -0.020       0.008\n",
      "tourism_caravan_site                 -0.0065      0.007     -0.923      0.356      -0.020       0.007\n",
      "tourism_guest_house                   0.0051      0.010      0.507      0.612      -0.015       0.025\n",
      "tourism_hostel                    -2.597e-19   7.88e-19     -0.330      0.742    -1.8e-18    1.28e-18\n",
      "tourism_motel                         0.0207      0.008      2.579      0.010       0.005       0.037\n",
      "tourism_yes                          -0.0448      0.028     -1.574      0.116      -0.101       0.011\n",
      "water_basin                           0.0131      0.008      1.701      0.089      -0.002       0.028\n",
      "water_lake                            0.0048      0.007      0.651      0.515      -0.010       0.019\n",
      "water_pond                           -0.0063      0.008     -0.780      0.435      -0.022       0.010\n",
      "water_reservoir                       0.0088      0.008      1.068      0.286      -0.007       0.025\n",
      "water_river                           0.0175      0.009      1.842      0.065      -0.001       0.036\n",
      "water_canal                          -0.0220      0.007     -2.967      0.003      -0.036      -0.007\n",
      "water_ditch                           0.0134      0.007      1.898      0.058      -0.000       0.027\n",
      "water_lagoon                          0.0364      0.020      1.810      0.070      -0.003       0.076\n",
      "water_stream_pool                          0          0        nan        nan           0           0\n",
      "water_wastewater                     -0.0154      0.008     -1.948      0.051      -0.031    9.91e-05\n",
      "waterway_canal                        0.0097      0.007      1.316      0.188      -0.005       0.024\n",
      "waterway_dam                          0.0094      0.008      1.219      0.223      -0.006       0.024\n",
      "waterway_dock                         0.0038      0.010      0.389      0.698      -0.015       0.023\n",
      "waterway_drain                        0.0322      0.007      4.373      0.000       0.018       0.047\n",
      "waterway_river                       -0.0014      0.009     -0.157      0.875      -0.018       0.016\n",
      "waterway_stream                       0.0027      0.007      0.362      0.717      -0.012       0.017\n",
      "waterway_waterfall                   -0.0102      0.008     -1.302      0.193      -0.026       0.005\n",
      "waterway_weir                        -0.0058      0.008     -0.757      0.449      -0.021       0.009\n",
      "waterway_ditch                        0.0110      0.007      1.469      0.142      -0.004       0.026\n",
      "waterway_boatyard                    -0.0009      0.008     -0.103      0.918      -0.017       0.016\n",
      "waterway_fuel                              0          0        nan        nan           0           0\n",
      "==============================================================================\n",
      "Omnibus:                     2237.547   Durbin-Watson:                   1.992\n",
      "Prob(Omnibus):                  0.000   Jarque-Bera (JB):             6716.304\n",
      "Skew:                           0.695   Prob(JB):                         0.00\n",
      "Kurtosis:                       5.740   Cond. No.                     3.37e+16\n",
      "==============================================================================\n",
      "\n",
      "Notes:\n",
      "[1] Standard Errors assume that the covariance matrix of the errors is correctly specified.\n",
      "[2] The smallest eigenvalue is 3.38e-28. This might indicate that there are\n",
      "strong multicollinearity problems or that the design matrix is singular.\n"
     ]
    }
   ],
   "source": [
    "X_train_new, pvalues = build_model(X_train, y_train)\n",
    "insig_columns = [ind for j, ind in enumerate(\n",
    "    pvalues.index) if pvalues[j] > 0.05]"
   ]
  },
  {
   "cell_type": "code",
   "execution_count": 143,
   "metadata": {},
   "outputs": [],
   "source": [
    "X_train_new = X_train.drop(insig_columns[1:], axis=1)"
   ]
  },
  {
   "cell_type": "code",
   "execution_count": 144,
   "metadata": {},
   "outputs": [
    {
     "name": "stdout",
     "output_type": "stream",
     "text": [
      "                               OLS Regression Results                               \n",
      "====================================================================================\n",
      "Dep. Variable:     planned_service_time_sum   R-squared:                       0.159\n",
      "Model:                                  OLS   Adj. R-squared:                  0.155\n",
      "Method:                       Least Squares   F-statistic:                     37.74\n",
      "Date:                      Tue, 06 Sep 2022   Prob (F-statistic):               0.00\n",
      "Time:                              18:00:43   Log-Likelihood:                -22759.\n",
      "No. Observations:                     17080   AIC:                         4.569e+04\n",
      "Df Residuals:                         16994   BIC:                         4.636e+04\n",
      "Df Model:                                85                                         \n",
      "Covariance Type:                  nonrobust                                         \n",
      "=================================================================================================\n",
      "                                    coef    std err          t      P>|t|      [0.025      0.975]\n",
      "-------------------------------------------------------------------------------------------------\n",
      "const                         -1.116e-15      0.007  -1.59e-13      1.000      -0.014       0.014\n",
      "aeroway_hangar                    0.0204      0.007      2.889      0.004       0.007       0.034\n",
      "amenity_charging_station         -0.0255      0.007     -3.469      0.001      -0.040      -0.011\n",
      "amenity_cinema                   -0.0159      0.008     -2.086      0.037      -0.031      -0.001\n",
      "amenity_fire_station              0.0148      0.007      2.031      0.042       0.001       0.029\n",
      "amenity_hospital                  0.0249      0.007      3.406      0.001       0.011       0.039\n",
      "amenity_parking                   0.0232      0.009      2.514      0.012       0.005       0.041\n",
      "amenity_post_depot                0.0245      0.007      3.466      0.001       0.011       0.038\n",
      "amenity_bus_station              -0.0192      0.007     -2.606      0.009      -0.034      -0.005\n",
      "amenity_bureau_de_change          0.0260      0.011      2.309      0.021       0.004       0.048\n",
      "amenity_stripclub                -0.0333      0.008     -4.148      0.000      -0.049      -0.018\n",
      "barrier_block                    -0.0132      0.007     -1.815      0.069      -0.027       0.001\n",
      "barrier_fence                    -0.0394      0.008     -4.969      0.000      -0.055      -0.024\n",
      "barrier_hedge                    -0.0203      0.007     -2.773      0.006      -0.035      -0.006\n",
      "barrier_lift_gate                 0.0140      0.008      1.786      0.074      -0.001       0.029\n",
      "boundary_administrative           0.0189      0.007      2.551      0.011       0.004       0.033\n",
      "boundary_postal_code              0.0216      0.007      2.979      0.003       0.007       0.036\n",
      "building_college                 -0.0114      0.008     -1.503      0.133      -0.026       0.003\n",
      "building_commercial               0.0211      0.008      2.614      0.009       0.005       0.037\n",
      "building_greenhouse               0.0192      0.007      2.732      0.006       0.005       0.033\n",
      "building_house                   -0.0203      0.007     -2.760      0.006      -0.035      -0.006\n",
      "building_parking                  0.0340      0.008      4.364      0.000       0.019       0.049\n",
      "building_residential             -0.0106      0.007     -1.486      0.137      -0.025       0.003\n",
      "building_school                   0.0190      0.007      2.620      0.009       0.005       0.033\n",
      "building_warehouse               -0.0049      0.007     -0.692      0.489      -0.019       0.009\n",
      "building_yes                     -0.0548      0.008     -6.622      0.000      -0.071      -0.039\n",
      "building_grandstand               0.0201      0.007      2.724      0.006       0.006       0.035\n",
      "building_stadium                  0.0315      0.007      4.266      0.000       0.017       0.046\n",
      "building_carport                  0.0258      0.007      3.647      0.000       0.012       0.040\n",
      "building_bridge                   0.0161      0.007      2.283      0.022       0.002       0.030\n",
      "craft_photographic_laboratory    -0.0097      0.008     -1.151      0.250      -0.026       0.007\n",
      "emergency_ambulance_station      -0.0192      0.007     -2.640      0.008      -0.033      -0.005\n",
      "highway_elevator                 -0.0589      0.016     -3.594      0.000      -0.091      -0.027\n",
      "highway_footway                   0.0656      0.010      6.392      0.000       0.045       0.086\n",
      "highway_motorway_link             0.0260      0.007      3.539      0.000       0.012       0.040\n",
      "highway_secondary                 0.0235      0.009      2.696      0.007       0.006       0.041\n",
      "highway_service                   0.1339      0.009     15.394      0.000       0.117       0.151\n",
      "highway_tertiary                  0.0232      0.008      2.933      0.003       0.008       0.039\n",
      "highway_traffic_signals           0.0370      0.010      3.613      0.000       0.017       0.057\n",
      "highway_trunk                     0.0209      0.008      2.761      0.006       0.006       0.036\n",
      "highway_turning_circle           -0.0549      0.007     -7.734      0.000      -0.069      -0.041\n",
      "highway_toll_gantry              -0.0179      0.008     -2.358      0.018      -0.033      -0.003\n",
      "historic_milestone                0.0207      0.008      2.709      0.007       0.006       0.036\n",
      "landuse_brownfield                0.0155      0.007      2.182      0.029       0.002       0.029\n",
      "landuse_cemetery                 -0.0204      0.007     -2.852      0.004      -0.034      -0.006\n",
      "landuse_conservation             -0.0291      0.007     -4.062      0.000      -0.043      -0.015\n",
      "landuse_grass                     0.0372      0.008      4.944      0.000       0.022       0.052\n",
      "landuse_residential               0.0306      0.008      3.631      0.000       0.014       0.047\n",
      "landuse_allotments                0.0239      0.007      3.304      0.001       0.010       0.038\n",
      "leisure_garden                   -0.0158      0.008     -2.063      0.039      -0.031      -0.001\n",
      "leisure_park                      0.0438      0.008      5.498      0.000       0.028       0.059\n",
      "man_made_flagpole                 0.0257      0.007      3.428      0.001       0.011       0.040\n",
      "man_made_wastewater_plant         0.0154      0.007      2.179      0.029       0.002       0.029\n",
      "natural_bay                       0.0216      0.007      2.993      0.003       0.007       0.036\n",
      "natural_wetland                  -0.0210      0.007     -2.899      0.004      -0.035      -0.007\n",
      "natural_cape                      0.0116      0.007      1.627      0.104      -0.002       0.026\n",
      "office_financial                  0.0186      0.007      2.588      0.010       0.005       0.033\n",
      "office_yes                       -0.0125      0.007     -1.685      0.092      -0.027       0.002\n",
      "place_city                        0.0263      0.009      3.013      0.003       0.009       0.043\n",
      "place_county                     -0.2175      0.069     -3.138      0.002      -0.353      -0.082\n",
      "place_neighbourhood               0.0457      0.008      6.003      0.000       0.031       0.061\n",
      "place_town                       -0.0409      0.008     -5.434      0.000      -0.056      -0.026\n",
      "place_state                       0.1887      0.069      2.717      0.007       0.053       0.325\n",
      "place_suburb                      0.1035      0.009     11.372      0.000       0.086       0.121\n",
      "power_cable                       0.0230      0.008      3.063      0.002       0.008       0.038\n",
      "power_minor_line                  0.0138      0.007      1.931      0.053      -0.000       0.028\n",
      "railway_rail                      0.0224      0.007      3.027      0.002       0.008       0.037\n",
      "railway_subway_entrance           0.0011      0.011      0.099      0.921      -0.021       0.023\n",
      "shop_bakery                       0.0189      0.008      2.307      0.021       0.003       0.035\n",
      "shop_car                          0.0097      0.007      1.324      0.185      -0.005       0.024\n",
      "shop_charity                     -0.0143      0.007     -1.982      0.047      -0.028      -0.000\n",
      "shop_department_store             0.0137      0.007      1.858      0.063      -0.001       0.028\n",
      "shop_nutrition_supplements        0.0103      0.007      1.387      0.166      -0.004       0.025\n",
      "shop_wholesale                   -0.0256      0.007     -3.472      0.001      -0.040      -0.011\n",
      "shop_chocolate                   -0.0119      0.007     -1.645      0.100      -0.026       0.002\n",
      "shop_electronics                  0.0253      0.007      3.481      0.001       0.011       0.040\n",
      "shop_outdoor                      0.0185      0.007      2.516      0.012       0.004       0.033\n",
      "shop_ticket                       0.0467      0.012      3.775      0.000       0.022       0.071\n",
      "shop_cannabis                     0.0266      0.007      3.646      0.000       0.012       0.041\n",
      "shop_pet_grooming                -0.0071      0.007     -0.968      0.333      -0.021       0.007\n",
      "shop_religion                    -0.0263      0.008     -3.217      0.001      -0.042      -0.010\n",
      "shop_travel_agency               -0.0079      0.007     -1.060      0.289      -0.022       0.007\n",
      "sport_aikido                   9.353e-19   2.94e-18      0.318      0.751   -4.84e-18    6.71e-18\n",
      "tourism_hotel                     0.0445      0.009      4.798      0.000       0.026       0.063\n",
      "tourism_motel                     0.0255      0.007      3.501      0.000       0.011       0.040\n",
      "water_canal                      -0.0188      0.007     -2.652      0.008      -0.033      -0.005\n",
      "water_stream_pool                      0          0        nan        nan           0           0\n",
      "waterway_drain                    0.0334      0.007      4.736      0.000       0.020       0.047\n",
      "waterway_fuel                          0          0        nan        nan           0           0\n",
      "==============================================================================\n",
      "Omnibus:                     2185.702   Durbin-Watson:                   1.988\n",
      "Prob(Omnibus):                  0.000   Jarque-Bera (JB):             6744.443\n",
      "Skew:                           0.671   Prob(JB):                         0.00\n",
      "Kurtosis:                       5.770   Cond. No.                     1.20e+16\n",
      "==============================================================================\n",
      "\n",
      "Notes:\n",
      "[1] Standard Errors assume that the covariance matrix of the errors is correctly specified.\n",
      "[2] The smallest eigenvalue is 6.01e-28. This might indicate that there are\n",
      "strong multicollinearity problems or that the design matrix is singular.\n"
     ]
    }
   ],
   "source": [
    "X_train_new, pvalues = build_model(X_train_new, y_train)\n",
    "insig_columns = [ind for j, ind in enumerate(\n",
    "    pvalues.index) if pvalues[j] > 0.05]\n"
   ]
  },
  {
   "cell_type": "code",
   "execution_count": 145,
   "metadata": {},
   "outputs": [],
   "source": [
    "X_train_new = X_train_new.drop(insig_columns[1:], axis=1)\n"
   ]
  },
  {
   "cell_type": "code",
   "execution_count": 146,
   "metadata": {},
   "outputs": [
    {
     "name": "stdout",
     "output_type": "stream",
     "text": [
      "                               OLS Regression Results                               \n",
      "====================================================================================\n",
      "Dep. Variable:     planned_service_time_sum   R-squared:                       0.157\n",
      "Model:                                  OLS   Adj. R-squared:                  0.154\n",
      "Method:                       Least Squares   F-statistic:                     45.95\n",
      "Date:                      Tue, 06 Sep 2022   Prob (F-statistic):               0.00\n",
      "Time:                              18:00:44   Log-Likelihood:                -22776.\n",
      "No. Observations:                     17080   AIC:                         4.569e+04\n",
      "Df Residuals:                         17010   BIC:                         4.623e+04\n",
      "Df Model:                                69                                         \n",
      "Covariance Type:                  nonrobust                                         \n",
      "===============================================================================================\n",
      "                                  coef    std err          t      P>|t|      [0.025      0.975]\n",
      "-----------------------------------------------------------------------------------------------\n",
      "const                       -1.144e-15      0.007  -1.62e-13      1.000      -0.014       0.014\n",
      "aeroway_hangar                  0.0202      0.007      2.865      0.004       0.006       0.034\n",
      "amenity_charging_station       -0.0254      0.007     -3.467      0.001      -0.040      -0.011\n",
      "amenity_cinema                 -0.0161      0.007     -2.179      0.029      -0.031      -0.002\n",
      "amenity_fire_station            0.0133      0.007      1.829      0.067      -0.001       0.027\n",
      "amenity_hospital                0.0266      0.007      3.671      0.000       0.012       0.041\n",
      "amenity_parking                 0.0245      0.009      2.687      0.007       0.007       0.042\n",
      "amenity_post_depot              0.0245      0.007      3.468      0.001       0.011       0.038\n",
      "amenity_bus_station            -0.0180      0.007     -2.453      0.014      -0.032      -0.004\n",
      "amenity_bureau_de_change        0.0259      0.011      2.410      0.016       0.005       0.047\n",
      "amenity_stripclub              -0.0326      0.008     -4.097      0.000      -0.048      -0.017\n",
      "barrier_fence                  -0.0409      0.008     -5.192      0.000      -0.056      -0.025\n",
      "barrier_hedge                  -0.0181      0.007     -2.491      0.013      -0.032      -0.004\n",
      "boundary_administrative         0.0201      0.007      2.714      0.007       0.006       0.035\n",
      "boundary_postal_code            0.0225      0.007      3.101      0.002       0.008       0.037\n",
      "building_commercial             0.0182      0.008      2.405      0.016       0.003       0.033\n",
      "building_greenhouse             0.0189      0.007      2.686      0.007       0.005       0.033\n",
      "building_house                 -0.0208      0.007     -2.844      0.004      -0.035      -0.006\n",
      "building_parking                0.0354      0.008      4.617      0.000       0.020       0.050\n",
      "building_school                 0.0182      0.007      2.515      0.012       0.004       0.032\n",
      "building_yes                   -0.0545      0.008     -6.606      0.000      -0.071      -0.038\n",
      "building_grandstand             0.0203      0.007      2.752      0.006       0.006       0.035\n",
      "building_stadium                0.0316      0.007      4.292      0.000       0.017       0.046\n",
      "building_carport                0.0258      0.007      3.654      0.000       0.012       0.040\n",
      "building_bridge                 0.0161      0.007      2.286      0.022       0.002       0.030\n",
      "emergency_ambulance_station    -0.0210      0.007     -2.955      0.003      -0.035      -0.007\n",
      "highway_elevator               -0.0581      0.015     -3.847      0.000      -0.088      -0.028\n",
      "highway_footway                 0.0633      0.010      6.259      0.000       0.044       0.083\n",
      "highway_motorway_link           0.0263      0.007      3.583      0.000       0.012       0.041\n",
      "highway_secondary               0.0243      0.009      2.786      0.005       0.007       0.041\n",
      "highway_service                 0.1364      0.009     15.903      0.000       0.120       0.153\n",
      "highway_tertiary                0.0241      0.008      3.049      0.002       0.009       0.040\n",
      "highway_traffic_signals         0.0350      0.010      3.469      0.001       0.015       0.055\n",
      "highway_trunk                   0.0214      0.008      2.852      0.004       0.007       0.036\n",
      "highway_turning_circle         -0.0552      0.007     -7.766      0.000      -0.069      -0.041\n",
      "highway_toll_gantry            -0.0178      0.008     -2.358      0.018      -0.033      -0.003\n",
      "historic_milestone              0.0204      0.008      2.673      0.008       0.005       0.035\n",
      "landuse_brownfield              0.0156      0.007      2.187      0.029       0.002       0.030\n",
      "landuse_cemetery               -0.0207      0.007     -2.888      0.004      -0.035      -0.007\n",
      "landuse_conservation           -0.0289      0.007     -4.026      0.000      -0.043      -0.015\n",
      "landuse_grass                   0.0363      0.008      4.830      0.000       0.022       0.051\n",
      "landuse_residential             0.0310      0.008      3.685      0.000       0.015       0.047\n",
      "landuse_allotments              0.0244      0.007      3.369      0.001       0.010       0.039\n",
      "leisure_garden                 -0.0127      0.008     -1.671      0.095      -0.028       0.002\n",
      "leisure_park                    0.0428      0.008      5.393      0.000       0.027       0.058\n",
      "man_made_flagpole               0.0255      0.007      3.429      0.001       0.011       0.040\n",
      "man_made_wastewater_plant       0.0151      0.007      2.141      0.032       0.001       0.029\n",
      "natural_bay                     0.0231      0.007      3.246      0.001       0.009       0.037\n",
      "natural_wetland                -0.0206      0.007     -2.838      0.005      -0.035      -0.006\n",
      "office_financial                0.0206      0.007      2.895      0.004       0.007       0.035\n",
      "place_city                      0.0274      0.009      3.143      0.002       0.010       0.044\n",
      "place_county                   -0.2195      0.069     -3.165      0.002      -0.355      -0.084\n",
      "place_neighbourhood             0.0449      0.008      5.935      0.000       0.030       0.060\n",
      "place_town                     -0.0417      0.008     -5.550      0.000      -0.056      -0.027\n",
      "place_state                     0.1914      0.070      2.754      0.006       0.055       0.328\n",
      "place_suburb                    0.1012      0.009     11.180      0.000       0.083       0.119\n",
      "power_cable                     0.0220      0.007      2.965      0.003       0.007       0.037\n",
      "railway_rail                    0.0227      0.007      3.075      0.002       0.008       0.037\n",
      "shop_bakery                     0.0159      0.008      2.034      0.042       0.001       0.031\n",
      "shop_charity                   -0.0142      0.007     -1.972      0.049      -0.028   -8.89e-05\n",
      "shop_wholesale                 -0.0254      0.007     -3.442      0.001      -0.040      -0.011\n",
      "shop_electronics                0.0263      0.007      3.633      0.000       0.012       0.041\n",
      "shop_outdoor                    0.0176      0.007      2.420      0.016       0.003       0.032\n",
      "shop_ticket                     0.0508      0.012      4.249      0.000       0.027       0.074\n",
      "shop_cannabis                   0.0269      0.007      3.688      0.000       0.013       0.041\n",
      "shop_religion                  -0.0250      0.008     -3.074      0.002      -0.041      -0.009\n",
      "tourism_hotel                   0.0461      0.009      5.075      0.000       0.028       0.064\n",
      "tourism_motel                   0.0265      0.007      3.677      0.000       0.012       0.041\n",
      "water_canal                    -0.0190      0.007     -2.674      0.007      -0.033      -0.005\n",
      "water_stream_pool                    0          0        nan        nan           0           0\n",
      "waterway_drain                  0.0334      0.007      4.730      0.000       0.020       0.047\n",
      "waterway_fuel                        0          0        nan        nan           0           0\n",
      "==============================================================================\n",
      "Omnibus:                     2193.225   Durbin-Watson:                   1.988\n",
      "Prob(Omnibus):                  0.000   Jarque-Bera (JB):             6901.010\n",
      "Skew:                           0.668   Prob(JB):                         0.00\n",
      "Kurtosis:                       5.813   Cond. No.                     1.21e+16\n",
      "==============================================================================\n",
      "\n",
      "Notes:\n",
      "[1] Standard Errors assume that the covariance matrix of the errors is correctly specified.\n",
      "[2] The smallest eigenvalue is 5.49e-28. This might indicate that there are\n",
      "strong multicollinearity problems or that the design matrix is singular.\n"
     ]
    }
   ],
   "source": [
    "X_train_new, pvalues = build_model(X_train_new, y_train)\n",
    "insig_columns = [ind for j, ind in enumerate(\n",
    "    pvalues.index) if pvalues[j] > 0.05]\n"
   ]
  },
  {
   "cell_type": "code",
   "execution_count": 147,
   "metadata": {},
   "outputs": [],
   "source": [
    "# Calculating the Variance Inflation Factor\n",
    "# checkVIF(X_train_new)\n"
   ]
  },
  {
   "cell_type": "code",
   "execution_count": 148,
   "metadata": {},
   "outputs": [
    {
     "data": {
      "application/vnd.plotly.v1+json": {
       "config": {
        "plotlyServerURL": "https://plot.ly"
       },
       "data": [
        {
         "orientation": "h",
         "type": "bar",
         "x": [
          1.5391216510866934e-56,
          6.44894574213133e-29,
          8.571072557473663e-15,
          4.0525019114605733e-11,
          3.9675187595959127e-10,
          2.99307145352295e-9,
          2.894952477649228e-8,
          7.005087830259258e-8,
          2.10824192571328e-7,
          3.910796986198617e-7,
          0.0000013771308409412507,
          null,
          0.000003929525591193402,
          0.000017829440576400264,
          0.000021559976539909922,
          0.00004198687233801665
         ],
         "y": [
          "highway_service",
          "place_suburb",
          "highway_turning_circle",
          "building_yes",
          "highway_footway",
          "place_neighbourhood",
          "place_town",
          "leisure_park",
          "barrier_fence",
          "tourism_hotel",
          "landuse_grass",
          "water_stream_pool",
          "building_parking",
          "building_stadium",
          "shop_ticket",
          "amenity_stripclub"
         ]
        }
       ],
       "layout": {
        "template": {
         "data": {
          "bar": [
           {
            "error_x": {
             "color": "#2a3f5f"
            },
            "error_y": {
             "color": "#2a3f5f"
            },
            "marker": {
             "line": {
              "color": "#E5ECF6",
              "width": 0.5
             },
             "pattern": {
              "fillmode": "overlay",
              "size": 10,
              "solidity": 0.2
             }
            },
            "type": "bar"
           }
          ],
          "barpolar": [
           {
            "marker": {
             "line": {
              "color": "#E5ECF6",
              "width": 0.5
             },
             "pattern": {
              "fillmode": "overlay",
              "size": 10,
              "solidity": 0.2
             }
            },
            "type": "barpolar"
           }
          ],
          "carpet": [
           {
            "aaxis": {
             "endlinecolor": "#2a3f5f",
             "gridcolor": "white",
             "linecolor": "white",
             "minorgridcolor": "white",
             "startlinecolor": "#2a3f5f"
            },
            "baxis": {
             "endlinecolor": "#2a3f5f",
             "gridcolor": "white",
             "linecolor": "white",
             "minorgridcolor": "white",
             "startlinecolor": "#2a3f5f"
            },
            "type": "carpet"
           }
          ],
          "choropleth": [
           {
            "colorbar": {
             "outlinewidth": 0,
             "ticks": ""
            },
            "type": "choropleth"
           }
          ],
          "contour": [
           {
            "colorbar": {
             "outlinewidth": 0,
             "ticks": ""
            },
            "colorscale": [
             [
              0,
              "#0d0887"
             ],
             [
              0.1111111111111111,
              "#46039f"
             ],
             [
              0.2222222222222222,
              "#7201a8"
             ],
             [
              0.3333333333333333,
              "#9c179e"
             ],
             [
              0.4444444444444444,
              "#bd3786"
             ],
             [
              0.5555555555555556,
              "#d8576b"
             ],
             [
              0.6666666666666666,
              "#ed7953"
             ],
             [
              0.7777777777777778,
              "#fb9f3a"
             ],
             [
              0.8888888888888888,
              "#fdca26"
             ],
             [
              1,
              "#f0f921"
             ]
            ],
            "type": "contour"
           }
          ],
          "contourcarpet": [
           {
            "colorbar": {
             "outlinewidth": 0,
             "ticks": ""
            },
            "type": "contourcarpet"
           }
          ],
          "heatmap": [
           {
            "colorbar": {
             "outlinewidth": 0,
             "ticks": ""
            },
            "colorscale": [
             [
              0,
              "#0d0887"
             ],
             [
              0.1111111111111111,
              "#46039f"
             ],
             [
              0.2222222222222222,
              "#7201a8"
             ],
             [
              0.3333333333333333,
              "#9c179e"
             ],
             [
              0.4444444444444444,
              "#bd3786"
             ],
             [
              0.5555555555555556,
              "#d8576b"
             ],
             [
              0.6666666666666666,
              "#ed7953"
             ],
             [
              0.7777777777777778,
              "#fb9f3a"
             ],
             [
              0.8888888888888888,
              "#fdca26"
             ],
             [
              1,
              "#f0f921"
             ]
            ],
            "type": "heatmap"
           }
          ],
          "heatmapgl": [
           {
            "colorbar": {
             "outlinewidth": 0,
             "ticks": ""
            },
            "colorscale": [
             [
              0,
              "#0d0887"
             ],
             [
              0.1111111111111111,
              "#46039f"
             ],
             [
              0.2222222222222222,
              "#7201a8"
             ],
             [
              0.3333333333333333,
              "#9c179e"
             ],
             [
              0.4444444444444444,
              "#bd3786"
             ],
             [
              0.5555555555555556,
              "#d8576b"
             ],
             [
              0.6666666666666666,
              "#ed7953"
             ],
             [
              0.7777777777777778,
              "#fb9f3a"
             ],
             [
              0.8888888888888888,
              "#fdca26"
             ],
             [
              1,
              "#f0f921"
             ]
            ],
            "type": "heatmapgl"
           }
          ],
          "histogram": [
           {
            "marker": {
             "pattern": {
              "fillmode": "overlay",
              "size": 10,
              "solidity": 0.2
             }
            },
            "type": "histogram"
           }
          ],
          "histogram2d": [
           {
            "colorbar": {
             "outlinewidth": 0,
             "ticks": ""
            },
            "colorscale": [
             [
              0,
              "#0d0887"
             ],
             [
              0.1111111111111111,
              "#46039f"
             ],
             [
              0.2222222222222222,
              "#7201a8"
             ],
             [
              0.3333333333333333,
              "#9c179e"
             ],
             [
              0.4444444444444444,
              "#bd3786"
             ],
             [
              0.5555555555555556,
              "#d8576b"
             ],
             [
              0.6666666666666666,
              "#ed7953"
             ],
             [
              0.7777777777777778,
              "#fb9f3a"
             ],
             [
              0.8888888888888888,
              "#fdca26"
             ],
             [
              1,
              "#f0f921"
             ]
            ],
            "type": "histogram2d"
           }
          ],
          "histogram2dcontour": [
           {
            "colorbar": {
             "outlinewidth": 0,
             "ticks": ""
            },
            "colorscale": [
             [
              0,
              "#0d0887"
             ],
             [
              0.1111111111111111,
              "#46039f"
             ],
             [
              0.2222222222222222,
              "#7201a8"
             ],
             [
              0.3333333333333333,
              "#9c179e"
             ],
             [
              0.4444444444444444,
              "#bd3786"
             ],
             [
              0.5555555555555556,
              "#d8576b"
             ],
             [
              0.6666666666666666,
              "#ed7953"
             ],
             [
              0.7777777777777778,
              "#fb9f3a"
             ],
             [
              0.8888888888888888,
              "#fdca26"
             ],
             [
              1,
              "#f0f921"
             ]
            ],
            "type": "histogram2dcontour"
           }
          ],
          "mesh3d": [
           {
            "colorbar": {
             "outlinewidth": 0,
             "ticks": ""
            },
            "type": "mesh3d"
           }
          ],
          "parcoords": [
           {
            "line": {
             "colorbar": {
              "outlinewidth": 0,
              "ticks": ""
             }
            },
            "type": "parcoords"
           }
          ],
          "pie": [
           {
            "automargin": true,
            "type": "pie"
           }
          ],
          "scatter": [
           {
            "fillpattern": {
             "fillmode": "overlay",
             "size": 10,
             "solidity": 0.2
            },
            "type": "scatter"
           }
          ],
          "scatter3d": [
           {
            "line": {
             "colorbar": {
              "outlinewidth": 0,
              "ticks": ""
             }
            },
            "marker": {
             "colorbar": {
              "outlinewidth": 0,
              "ticks": ""
             }
            },
            "type": "scatter3d"
           }
          ],
          "scattercarpet": [
           {
            "marker": {
             "colorbar": {
              "outlinewidth": 0,
              "ticks": ""
             }
            },
            "type": "scattercarpet"
           }
          ],
          "scattergeo": [
           {
            "marker": {
             "colorbar": {
              "outlinewidth": 0,
              "ticks": ""
             }
            },
            "type": "scattergeo"
           }
          ],
          "scattergl": [
           {
            "marker": {
             "colorbar": {
              "outlinewidth": 0,
              "ticks": ""
             }
            },
            "type": "scattergl"
           }
          ],
          "scattermapbox": [
           {
            "marker": {
             "colorbar": {
              "outlinewidth": 0,
              "ticks": ""
             }
            },
            "type": "scattermapbox"
           }
          ],
          "scatterpolar": [
           {
            "marker": {
             "colorbar": {
              "outlinewidth": 0,
              "ticks": ""
             }
            },
            "type": "scatterpolar"
           }
          ],
          "scatterpolargl": [
           {
            "marker": {
             "colorbar": {
              "outlinewidth": 0,
              "ticks": ""
             }
            },
            "type": "scatterpolargl"
           }
          ],
          "scatterternary": [
           {
            "marker": {
             "colorbar": {
              "outlinewidth": 0,
              "ticks": ""
             }
            },
            "type": "scatterternary"
           }
          ],
          "surface": [
           {
            "colorbar": {
             "outlinewidth": 0,
             "ticks": ""
            },
            "colorscale": [
             [
              0,
              "#0d0887"
             ],
             [
              0.1111111111111111,
              "#46039f"
             ],
             [
              0.2222222222222222,
              "#7201a8"
             ],
             [
              0.3333333333333333,
              "#9c179e"
             ],
             [
              0.4444444444444444,
              "#bd3786"
             ],
             [
              0.5555555555555556,
              "#d8576b"
             ],
             [
              0.6666666666666666,
              "#ed7953"
             ],
             [
              0.7777777777777778,
              "#fb9f3a"
             ],
             [
              0.8888888888888888,
              "#fdca26"
             ],
             [
              1,
              "#f0f921"
             ]
            ],
            "type": "surface"
           }
          ],
          "table": [
           {
            "cells": {
             "fill": {
              "color": "#EBF0F8"
             },
             "line": {
              "color": "white"
             }
            },
            "header": {
             "fill": {
              "color": "#C8D4E3"
             },
             "line": {
              "color": "white"
             }
            },
            "type": "table"
           }
          ]
         },
         "layout": {
          "annotationdefaults": {
           "arrowcolor": "#2a3f5f",
           "arrowhead": 0,
           "arrowwidth": 1
          },
          "autotypenumbers": "strict",
          "coloraxis": {
           "colorbar": {
            "outlinewidth": 0,
            "ticks": ""
           }
          },
          "colorscale": {
           "diverging": [
            [
             0,
             "#8e0152"
            ],
            [
             0.1,
             "#c51b7d"
            ],
            [
             0.2,
             "#de77ae"
            ],
            [
             0.3,
             "#f1b6da"
            ],
            [
             0.4,
             "#fde0ef"
            ],
            [
             0.5,
             "#f7f7f7"
            ],
            [
             0.6,
             "#e6f5d0"
            ],
            [
             0.7,
             "#b8e186"
            ],
            [
             0.8,
             "#7fbc41"
            ],
            [
             0.9,
             "#4d9221"
            ],
            [
             1,
             "#276419"
            ]
           ],
           "sequential": [
            [
             0,
             "#0d0887"
            ],
            [
             0.1111111111111111,
             "#46039f"
            ],
            [
             0.2222222222222222,
             "#7201a8"
            ],
            [
             0.3333333333333333,
             "#9c179e"
            ],
            [
             0.4444444444444444,
             "#bd3786"
            ],
            [
             0.5555555555555556,
             "#d8576b"
            ],
            [
             0.6666666666666666,
             "#ed7953"
            ],
            [
             0.7777777777777778,
             "#fb9f3a"
            ],
            [
             0.8888888888888888,
             "#fdca26"
            ],
            [
             1,
             "#f0f921"
            ]
           ],
           "sequentialminus": [
            [
             0,
             "#0d0887"
            ],
            [
             0.1111111111111111,
             "#46039f"
            ],
            [
             0.2222222222222222,
             "#7201a8"
            ],
            [
             0.3333333333333333,
             "#9c179e"
            ],
            [
             0.4444444444444444,
             "#bd3786"
            ],
            [
             0.5555555555555556,
             "#d8576b"
            ],
            [
             0.6666666666666666,
             "#ed7953"
            ],
            [
             0.7777777777777778,
             "#fb9f3a"
            ],
            [
             0.8888888888888888,
             "#fdca26"
            ],
            [
             1,
             "#f0f921"
            ]
           ]
          },
          "colorway": [
           "#636efa",
           "#EF553B",
           "#00cc96",
           "#ab63fa",
           "#FFA15A",
           "#19d3f3",
           "#FF6692",
           "#B6E880",
           "#FF97FF",
           "#FECB52"
          ],
          "font": {
           "color": "#2a3f5f"
          },
          "geo": {
           "bgcolor": "white",
           "lakecolor": "white",
           "landcolor": "#E5ECF6",
           "showlakes": true,
           "showland": true,
           "subunitcolor": "white"
          },
          "hoverlabel": {
           "align": "left"
          },
          "hovermode": "closest",
          "mapbox": {
           "style": "light"
          },
          "paper_bgcolor": "white",
          "plot_bgcolor": "#E5ECF6",
          "polar": {
           "angularaxis": {
            "gridcolor": "white",
            "linecolor": "white",
            "ticks": ""
           },
           "bgcolor": "#E5ECF6",
           "radialaxis": {
            "gridcolor": "white",
            "linecolor": "white",
            "ticks": ""
           }
          },
          "scene": {
           "xaxis": {
            "backgroundcolor": "#E5ECF6",
            "gridcolor": "white",
            "gridwidth": 2,
            "linecolor": "white",
            "showbackground": true,
            "ticks": "",
            "zerolinecolor": "white"
           },
           "yaxis": {
            "backgroundcolor": "#E5ECF6",
            "gridcolor": "white",
            "gridwidth": 2,
            "linecolor": "white",
            "showbackground": true,
            "ticks": "",
            "zerolinecolor": "white"
           },
           "zaxis": {
            "backgroundcolor": "#E5ECF6",
            "gridcolor": "white",
            "gridwidth": 2,
            "linecolor": "white",
            "showbackground": true,
            "ticks": "",
            "zerolinecolor": "white"
           }
          },
          "shapedefaults": {
           "line": {
            "color": "#2a3f5f"
           }
          },
          "ternary": {
           "aaxis": {
            "gridcolor": "white",
            "linecolor": "white",
            "ticks": ""
           },
           "baxis": {
            "gridcolor": "white",
            "linecolor": "white",
            "ticks": ""
           },
           "bgcolor": "#E5ECF6",
           "caxis": {
            "gridcolor": "white",
            "linecolor": "white",
            "ticks": ""
           }
          },
          "title": {
           "x": 0.05
          },
          "xaxis": {
           "automargin": true,
           "gridcolor": "white",
           "linecolor": "white",
           "ticks": "",
           "title": {
            "standoff": 15
           },
           "zerolinecolor": "white",
           "zerolinewidth": 2
          },
          "yaxis": {
           "automargin": true,
           "gridcolor": "white",
           "linecolor": "white",
           "ticks": "",
           "title": {
            "standoff": 15
           },
           "zerolinecolor": "white",
           "zerolinewidth": 2
          }
         }
        },
        "title": {
         "text": "Most Significant features for OLS Model"
        },
        "xaxis": {
         "title": {
          "text": "p-values"
         }
        },
        "yaxis": {
         "title": {
          "text": "Features"
         }
        }
       }
      },
      "text/html": [
       "<div>                            <div id=\"8923ff29-4c87-42e3-b240-dbebb11c9792\" class=\"plotly-graph-div\" style=\"height:525px; width:100%;\"></div>            <script type=\"text/javascript\">                require([\"plotly\"], function(Plotly) {                    window.PLOTLYENV=window.PLOTLYENV || {};                                    if (document.getElementById(\"8923ff29-4c87-42e3-b240-dbebb11c9792\")) {                    Plotly.newPlot(                        \"8923ff29-4c87-42e3-b240-dbebb11c9792\",                        [{\"orientation\":\"h\",\"x\":[1.5391216510866934e-56,6.44894574213133e-29,8.571072557473663e-15,4.0525019114605733e-11,3.9675187595959127e-10,2.99307145352295e-09,2.894952477649228e-08,7.005087830259258e-08,2.10824192571328e-07,3.910796986198617e-07,1.3771308409412507e-06,null,3.929525591193402e-06,1.7829440576400264e-05,2.1559976539909922e-05,4.198687233801665e-05],\"y\":[\"highway_service\",\"place_suburb\",\"highway_turning_circle\",\"building_yes\",\"highway_footway\",\"place_neighbourhood\",\"place_town\",\"leisure_park\",\"barrier_fence\",\"tourism_hotel\",\"landuse_grass\",\"water_stream_pool\",\"building_parking\",\"building_stadium\",\"shop_ticket\",\"amenity_stripclub\"],\"type\":\"bar\"}],                        {\"template\":{\"data\":{\"histogram2dcontour\":[{\"type\":\"histogram2dcontour\",\"colorbar\":{\"outlinewidth\":0,\"ticks\":\"\"},\"colorscale\":[[0.0,\"#0d0887\"],[0.1111111111111111,\"#46039f\"],[0.2222222222222222,\"#7201a8\"],[0.3333333333333333,\"#9c179e\"],[0.4444444444444444,\"#bd3786\"],[0.5555555555555556,\"#d8576b\"],[0.6666666666666666,\"#ed7953\"],[0.7777777777777778,\"#fb9f3a\"],[0.8888888888888888,\"#fdca26\"],[1.0,\"#f0f921\"]]}],\"choropleth\":[{\"type\":\"choropleth\",\"colorbar\":{\"outlinewidth\":0,\"ticks\":\"\"}}],\"histogram2d\":[{\"type\":\"histogram2d\",\"colorbar\":{\"outlinewidth\":0,\"ticks\":\"\"},\"colorscale\":[[0.0,\"#0d0887\"],[0.1111111111111111,\"#46039f\"],[0.2222222222222222,\"#7201a8\"],[0.3333333333333333,\"#9c179e\"],[0.4444444444444444,\"#bd3786\"],[0.5555555555555556,\"#d8576b\"],[0.6666666666666666,\"#ed7953\"],[0.7777777777777778,\"#fb9f3a\"],[0.8888888888888888,\"#fdca26\"],[1.0,\"#f0f921\"]]}],\"heatmap\":[{\"type\":\"heatmap\",\"colorbar\":{\"outlinewidth\":0,\"ticks\":\"\"},\"colorscale\":[[0.0,\"#0d0887\"],[0.1111111111111111,\"#46039f\"],[0.2222222222222222,\"#7201a8\"],[0.3333333333333333,\"#9c179e\"],[0.4444444444444444,\"#bd3786\"],[0.5555555555555556,\"#d8576b\"],[0.6666666666666666,\"#ed7953\"],[0.7777777777777778,\"#fb9f3a\"],[0.8888888888888888,\"#fdca26\"],[1.0,\"#f0f921\"]]}],\"heatmapgl\":[{\"type\":\"heatmapgl\",\"colorbar\":{\"outlinewidth\":0,\"ticks\":\"\"},\"colorscale\":[[0.0,\"#0d0887\"],[0.1111111111111111,\"#46039f\"],[0.2222222222222222,\"#7201a8\"],[0.3333333333333333,\"#9c179e\"],[0.4444444444444444,\"#bd3786\"],[0.5555555555555556,\"#d8576b\"],[0.6666666666666666,\"#ed7953\"],[0.7777777777777778,\"#fb9f3a\"],[0.8888888888888888,\"#fdca26\"],[1.0,\"#f0f921\"]]}],\"contourcarpet\":[{\"type\":\"contourcarpet\",\"colorbar\":{\"outlinewidth\":0,\"ticks\":\"\"}}],\"contour\":[{\"type\":\"contour\",\"colorbar\":{\"outlinewidth\":0,\"ticks\":\"\"},\"colorscale\":[[0.0,\"#0d0887\"],[0.1111111111111111,\"#46039f\"],[0.2222222222222222,\"#7201a8\"],[0.3333333333333333,\"#9c179e\"],[0.4444444444444444,\"#bd3786\"],[0.5555555555555556,\"#d8576b\"],[0.6666666666666666,\"#ed7953\"],[0.7777777777777778,\"#fb9f3a\"],[0.8888888888888888,\"#fdca26\"],[1.0,\"#f0f921\"]]}],\"surface\":[{\"type\":\"surface\",\"colorbar\":{\"outlinewidth\":0,\"ticks\":\"\"},\"colorscale\":[[0.0,\"#0d0887\"],[0.1111111111111111,\"#46039f\"],[0.2222222222222222,\"#7201a8\"],[0.3333333333333333,\"#9c179e\"],[0.4444444444444444,\"#bd3786\"],[0.5555555555555556,\"#d8576b\"],[0.6666666666666666,\"#ed7953\"],[0.7777777777777778,\"#fb9f3a\"],[0.8888888888888888,\"#fdca26\"],[1.0,\"#f0f921\"]]}],\"mesh3d\":[{\"type\":\"mesh3d\",\"colorbar\":{\"outlinewidth\":0,\"ticks\":\"\"}}],\"scatter\":[{\"fillpattern\":{\"fillmode\":\"overlay\",\"size\":10,\"solidity\":0.2},\"type\":\"scatter\"}],\"parcoords\":[{\"type\":\"parcoords\",\"line\":{\"colorbar\":{\"outlinewidth\":0,\"ticks\":\"\"}}}],\"scatterpolargl\":[{\"type\":\"scatterpolargl\",\"marker\":{\"colorbar\":{\"outlinewidth\":0,\"ticks\":\"\"}}}],\"bar\":[{\"error_x\":{\"color\":\"#2a3f5f\"},\"error_y\":{\"color\":\"#2a3f5f\"},\"marker\":{\"line\":{\"color\":\"#E5ECF6\",\"width\":0.5},\"pattern\":{\"fillmode\":\"overlay\",\"size\":10,\"solidity\":0.2}},\"type\":\"bar\"}],\"scattergeo\":[{\"type\":\"scattergeo\",\"marker\":{\"colorbar\":{\"outlinewidth\":0,\"ticks\":\"\"}}}],\"scatterpolar\":[{\"type\":\"scatterpolar\",\"marker\":{\"colorbar\":{\"outlinewidth\":0,\"ticks\":\"\"}}}],\"histogram\":[{\"marker\":{\"pattern\":{\"fillmode\":\"overlay\",\"size\":10,\"solidity\":0.2}},\"type\":\"histogram\"}],\"scattergl\":[{\"type\":\"scattergl\",\"marker\":{\"colorbar\":{\"outlinewidth\":0,\"ticks\":\"\"}}}],\"scatter3d\":[{\"type\":\"scatter3d\",\"line\":{\"colorbar\":{\"outlinewidth\":0,\"ticks\":\"\"}},\"marker\":{\"colorbar\":{\"outlinewidth\":0,\"ticks\":\"\"}}}],\"scattermapbox\":[{\"type\":\"scattermapbox\",\"marker\":{\"colorbar\":{\"outlinewidth\":0,\"ticks\":\"\"}}}],\"scatterternary\":[{\"type\":\"scatterternary\",\"marker\":{\"colorbar\":{\"outlinewidth\":0,\"ticks\":\"\"}}}],\"scattercarpet\":[{\"type\":\"scattercarpet\",\"marker\":{\"colorbar\":{\"outlinewidth\":0,\"ticks\":\"\"}}}],\"carpet\":[{\"aaxis\":{\"endlinecolor\":\"#2a3f5f\",\"gridcolor\":\"white\",\"linecolor\":\"white\",\"minorgridcolor\":\"white\",\"startlinecolor\":\"#2a3f5f\"},\"baxis\":{\"endlinecolor\":\"#2a3f5f\",\"gridcolor\":\"white\",\"linecolor\":\"white\",\"minorgridcolor\":\"white\",\"startlinecolor\":\"#2a3f5f\"},\"type\":\"carpet\"}],\"table\":[{\"cells\":{\"fill\":{\"color\":\"#EBF0F8\"},\"line\":{\"color\":\"white\"}},\"header\":{\"fill\":{\"color\":\"#C8D4E3\"},\"line\":{\"color\":\"white\"}},\"type\":\"table\"}],\"barpolar\":[{\"marker\":{\"line\":{\"color\":\"#E5ECF6\",\"width\":0.5},\"pattern\":{\"fillmode\":\"overlay\",\"size\":10,\"solidity\":0.2}},\"type\":\"barpolar\"}],\"pie\":[{\"automargin\":true,\"type\":\"pie\"}]},\"layout\":{\"autotypenumbers\":\"strict\",\"colorway\":[\"#636efa\",\"#EF553B\",\"#00cc96\",\"#ab63fa\",\"#FFA15A\",\"#19d3f3\",\"#FF6692\",\"#B6E880\",\"#FF97FF\",\"#FECB52\"],\"font\":{\"color\":\"#2a3f5f\"},\"hovermode\":\"closest\",\"hoverlabel\":{\"align\":\"left\"},\"paper_bgcolor\":\"white\",\"plot_bgcolor\":\"#E5ECF6\",\"polar\":{\"bgcolor\":\"#E5ECF6\",\"angularaxis\":{\"gridcolor\":\"white\",\"linecolor\":\"white\",\"ticks\":\"\"},\"radialaxis\":{\"gridcolor\":\"white\",\"linecolor\":\"white\",\"ticks\":\"\"}},\"ternary\":{\"bgcolor\":\"#E5ECF6\",\"aaxis\":{\"gridcolor\":\"white\",\"linecolor\":\"white\",\"ticks\":\"\"},\"baxis\":{\"gridcolor\":\"white\",\"linecolor\":\"white\",\"ticks\":\"\"},\"caxis\":{\"gridcolor\":\"white\",\"linecolor\":\"white\",\"ticks\":\"\"}},\"coloraxis\":{\"colorbar\":{\"outlinewidth\":0,\"ticks\":\"\"}},\"colorscale\":{\"sequential\":[[0.0,\"#0d0887\"],[0.1111111111111111,\"#46039f\"],[0.2222222222222222,\"#7201a8\"],[0.3333333333333333,\"#9c179e\"],[0.4444444444444444,\"#bd3786\"],[0.5555555555555556,\"#d8576b\"],[0.6666666666666666,\"#ed7953\"],[0.7777777777777778,\"#fb9f3a\"],[0.8888888888888888,\"#fdca26\"],[1.0,\"#f0f921\"]],\"sequentialminus\":[[0.0,\"#0d0887\"],[0.1111111111111111,\"#46039f\"],[0.2222222222222222,\"#7201a8\"],[0.3333333333333333,\"#9c179e\"],[0.4444444444444444,\"#bd3786\"],[0.5555555555555556,\"#d8576b\"],[0.6666666666666666,\"#ed7953\"],[0.7777777777777778,\"#fb9f3a\"],[0.8888888888888888,\"#fdca26\"],[1.0,\"#f0f921\"]],\"diverging\":[[0,\"#8e0152\"],[0.1,\"#c51b7d\"],[0.2,\"#de77ae\"],[0.3,\"#f1b6da\"],[0.4,\"#fde0ef\"],[0.5,\"#f7f7f7\"],[0.6,\"#e6f5d0\"],[0.7,\"#b8e186\"],[0.8,\"#7fbc41\"],[0.9,\"#4d9221\"],[1,\"#276419\"]]},\"xaxis\":{\"gridcolor\":\"white\",\"linecolor\":\"white\",\"ticks\":\"\",\"title\":{\"standoff\":15},\"zerolinecolor\":\"white\",\"automargin\":true,\"zerolinewidth\":2},\"yaxis\":{\"gridcolor\":\"white\",\"linecolor\":\"white\",\"ticks\":\"\",\"title\":{\"standoff\":15},\"zerolinecolor\":\"white\",\"automargin\":true,\"zerolinewidth\":2},\"scene\":{\"xaxis\":{\"backgroundcolor\":\"#E5ECF6\",\"gridcolor\":\"white\",\"linecolor\":\"white\",\"showbackground\":true,\"ticks\":\"\",\"zerolinecolor\":\"white\",\"gridwidth\":2},\"yaxis\":{\"backgroundcolor\":\"#E5ECF6\",\"gridcolor\":\"white\",\"linecolor\":\"white\",\"showbackground\":true,\"ticks\":\"\",\"zerolinecolor\":\"white\",\"gridwidth\":2},\"zaxis\":{\"backgroundcolor\":\"#E5ECF6\",\"gridcolor\":\"white\",\"linecolor\":\"white\",\"showbackground\":true,\"ticks\":\"\",\"zerolinecolor\":\"white\",\"gridwidth\":2}},\"shapedefaults\":{\"line\":{\"color\":\"#2a3f5f\"}},\"annotationdefaults\":{\"arrowcolor\":\"#2a3f5f\",\"arrowhead\":0,\"arrowwidth\":1},\"geo\":{\"bgcolor\":\"white\",\"landcolor\":\"#E5ECF6\",\"subunitcolor\":\"white\",\"showland\":true,\"showlakes\":true,\"lakecolor\":\"white\"},\"title\":{\"x\":0.05},\"mapbox\":{\"style\":\"light\"}}},\"xaxis\":{\"title\":{\"text\":\"p-values\"}},\"yaxis\":{\"title\":{\"text\":\"Features\"}},\"title\":{\"text\":\"Most Significant features for OLS Model\"}},                        {\"responsive\": true}                    ).then(function(){\n",
       "                            \n",
       "var gd = document.getElementById('8923ff29-4c87-42e3-b240-dbebb11c9792');\n",
       "var x = new MutationObserver(function (mutations, observer) {{\n",
       "        var display = window.getComputedStyle(gd).display;\n",
       "        if (!display || display === 'none') {{\n",
       "            console.log([gd, 'removed!']);\n",
       "            Plotly.purge(gd);\n",
       "            observer.disconnect();\n",
       "        }}\n",
       "}});\n",
       "\n",
       "// Listen for the removal of the full notebook cells\n",
       "var notebookContainer = gd.closest('#notebook-container');\n",
       "if (notebookContainer) {{\n",
       "    x.observe(notebookContainer, {childList: true});\n",
       "}}\n",
       "\n",
       "// Listen for the clearing of the current output cell\n",
       "var outputEl = gd.closest('.output');\n",
       "if (outputEl) {{\n",
       "    x.observe(outputEl, {childList: true});\n",
       "}}\n",
       "\n",
       "                        })                };                });            </script>        </div>"
      ]
     },
     "metadata": {},
     "output_type": "display_data"
    }
   ],
   "source": [
    "imp_pvalues = pvalues[pvalues.argsort()][:16]\n",
    "imp_features = pvalues.index[pvalues.argsort()][:16]\n",
    "\n",
    "fig = go.Figure(data = [go.Bar(y=imp_features, x=imp_pvalues, orientation='h')])\n",
    "fig.update_layout(xaxis_title = \"p-values\", yaxis_title = \"Features\", title ='Most Significant features for OLS Model')\n",
    "\n",
    "fig.show()\n",
    "# fig.update_layout(barmode='horizontal')"
   ]
  },
  {
   "cell_type": "code",
   "execution_count": 149,
   "metadata": {},
   "outputs": [
    {
     "data": {
      "text/plain": [
       "72"
      ]
     },
     "execution_count": 149,
     "metadata": {},
     "output_type": "execute_result"
    }
   ],
   "source": [
    "len(X_train_new.columns)\n"
   ]
  },
  {
   "cell_type": "code",
   "execution_count": 150,
   "metadata": {},
   "outputs": [],
   "source": [
    "lm = sm.OLS(y_train, X_train_new).fit()\n",
    "y_train_price = lm.predict(X_train_new)\n"
   ]
  },
  {
   "cell_type": "code",
   "execution_count": 151,
   "metadata": {},
   "outputs": [
    {
     "name": "stderr",
     "output_type": "stream",
     "text": [
      "/opt/conda/miniconda3/lib/python3.8/site-packages/seaborn/distributions.py:2619: FutureWarning:\n",
      "\n",
      "`distplot` is a deprecated function and will be removed in a future version. Please adapt your code to use either `displot` (a figure-level function with similar flexibility) or `histplot` (an axes-level function for histograms).\n",
      "\n"
     ]
    },
    {
     "data": {
      "text/plain": [
       "Text(0.5, 0, 'Errors')"
      ]
     },
     "execution_count": 151,
     "metadata": {},
     "output_type": "execute_result"
    },
    {
     "data": {
      "image/png": "[encoded data removed]",
      "text/plain": [
       "<Figure size 864x576 with 1 Axes>"
      ]
     },
     "metadata": {
      "needs_background": "light"
     },
     "output_type": "display_data"
    }
   ],
   "source": [
    "# Plot the histogram of the error terms\n",
    "fig = plt.figure()\n",
    "sns.distplot((y_train - y_train_price), bins=20)\n",
    "fig.suptitle('Error Terms', fontsize=20)                  # Plot heading\n",
    "plt.xlabel('Errors', fontsize=18)\n"
   ]
  },
  {
   "cell_type": "code",
   "execution_count": 152,
   "metadata": {},
   "outputs": [],
   "source": [
    "# if type=='sum':\n",
    "#     Full_data_h3 = tagged_df_hex_sum.drop(['lat', 'lng', 'route_id', 'package_id_nunique', 'volume_mean', 'volume_sum',\n",
    "#                                      'width_mean', 'height_mean', 'has_window_max', 'executor_capacity_cm3',\n",
    "#                                      'h3', 'planned_service_time_min', 'planned_service_time_max', 'planned_service_time_mean', \n",
    "#                                      'planned_service_time_sum', 'planned_service_time_sum_grp_avg', 'planned_service_time_sum_grp_sum',\n",
    "#                                     'hex_predicted_service_time_sum', 'hex_predicted_service_time_avg',\n",
    "#                                     'h3_predicted_service_time_sum', 'h3_predicted_service_time_avg',\n",
    "#                                     'pca-one', 'pca-two', 'pca-three', 'hex_discrepency_sum',\n",
    "#                                     'hex_discrepency_avg', 'h3_discrepency_avg'], axis=1)\n",
    "# else:\n",
    "#     Full_data_h3 = tagged_df_hex_avg.drop(['lat', 'lng', 'package_id_nunique', 'volume_mean', 'volume_sum',\n",
    "#                                      'width_mean', 'height_mean', 'has_window_max', 'executor_capacity_cm3',\n",
    "#                                      'h3', 'planned_service_time_min', 'planned_service_time_max', 'planned_service_time_mean', \n",
    "#                                      'planned_service_time_sum', 'planned_service_time_sum_grp_avg', 'planned_service_time_sum_grp_sum',\n",
    "#                                     'hex_predicted_service_time_sum', 'hex_predicted_service_time_avg',\n",
    "#                                     'h3_predicted_service_time_sum', 'h3_predicted_service_time_avg',\n",
    "#                                     'pca-one', 'pca-two', 'pca-three', 'hex_discrepency_sum',\n",
    "#                                     'hex_discrepency_avg', 'h3_discrepency_avg'], axis=1)\n",
    "\n",
    "# Scaling the test set\n",
    "\n",
    "df_test = scaled_df(df_test)\n",
    "# Full_data_h3 = scaled_df(Full_data_h3)\n"
   ]
  },
  {
   "cell_type": "code",
   "execution_count": 153,
   "metadata": {},
   "outputs": [],
   "source": [
    "# Dividing into X and y\n",
    "y_test = df_test.pop('planned_service_time_sum')\n",
    "X_test = df_test"
   ]
  },
  {
   "cell_type": "code",
   "execution_count": 154,
   "metadata": {},
   "outputs": [],
   "source": [
    "def get_sigf_cols_df(df):\n",
    "    # Now let's use our model to make predictions.\n",
    "    for_col_df = X_train_new.drop('const', axis=1)\n",
    "    # Creating X_test_new dataframe by dropping variables from X_test\n",
    "    df = df[for_col_df.columns]\n",
    "    df = sm.add_constant(df)\n",
    "    return df\n",
    "\n",
    "# Adding a constant variable\n",
    "X_test_new = get_sigf_cols_df(X_test) \n",
    "# Full_data_h3 = get_sigf_cols_df(Full_data_h3)"
   ]
  },
  {
   "cell_type": "code",
   "execution_count": 155,
   "metadata": {},
   "outputs": [],
   "source": [
    "# Making predictions\n",
    "y_pred = lm.predict(X_test_new)\n"
   ]
  },
  {
   "cell_type": "code",
   "execution_count": 156,
   "metadata": {},
   "outputs": [
    {
     "data": {
      "text/plain": [
       "0.08988153016016387"
      ]
     },
     "execution_count": 156,
     "metadata": {},
     "output_type": "execute_result"
    }
   ],
   "source": [
    "from sklearn.metrics import r2_score\n",
    "r2_score(y_test, y_pred)\n"
   ]
  },
  {
   "cell_type": "code",
   "execution_count": 157,
   "metadata": {},
   "outputs": [
    {
     "data": {
      "text/plain": [
       "Text(0, 0.5, 'y_pred')"
      ]
     },
     "execution_count": 157,
     "metadata": {},
     "output_type": "execute_result"
    },
    {
     "data": {
      "image/png": "[encoded data removed]",
      "text/plain": [
       "<Figure size 864x576 with 1 Axes>"
      ]
     },
     "metadata": {
      "needs_background": "light"
     },
     "output_type": "display_data"
    }
   ],
   "source": [
    "# EVALUATION OF THE MODEL\n",
    "# Plotting y_test and y_pred to understand the spread.\n",
    "plt.scatter(y_test, y_pred)\n",
    "plt.suptitle('OLS', fontsize=18)              # Plot heading\n",
    "plt.xlabel('y_test', fontsize=16)                          # X-label\n",
    "plt.ylabel('y_pred', fontsize=16)\n"
   ]
  },
  {
   "cell_type": "code",
   "execution_count": 178,
   "metadata": {},
   "outputs": [
    {
     "name": "stderr",
     "output_type": "stream",
     "text": [
      "/tmp/ipykernel_4528/1475980315.py:7: FutureWarning:\n",
      "\n",
      "As the xlwt package is no longer maintained, the xlwt engine will be removed in a future version of pandas. This is the only engine in pandas that supports writing in the xls format. Install openpyxl and write to an xlsx file instead. You can set the option io.excel.xls.writer to 'xlwt' to silence this warning. While this option is deprecated and will also raise a warning, it can be globally set and the warning suppressed.\n",
      "\n"
     ]
    }
   ],
   "source": [
    "sorted_pvalues = pvalues[pvalues.argsort()]\n",
    "sorted_features = lm.params[pvalues.argsort()]\n",
    "sorted_tvalues = lm.tvalues[pvalues.argsort()]\n",
    "\n",
    "df = pd.concat((sorted_features, sorted_tvalues, sorted_pvalues), axis=1)\n",
    "\n",
    "df.rename(columns={0: 'coefficients', 1: 't-stat', 2: 'p-values'}).to_excel('../output.xls', 'sheet1')"
   ]
  },
  {
   "cell_type": "markdown",
   "metadata": {},
   "source": [
    "* Creating the entire dataset for prediction:"
   ]
  },
  {
   "cell_type": "code",
   "execution_count": 97,
   "metadata": {},
   "outputs": [
    {
     "ename": "ValueError",
     "evalue": "No axis named 1 for object type Series",
     "output_type": "error",
     "traceback": [
      "\u001b[0;31m---------------------------------------------------------------------------\u001b[0m",
      "\u001b[0;31mKeyError\u001b[0m                                  Traceback (most recent call last)",
      "File \u001b[0;32m/opt/conda/miniconda3/lib/python3.8/site-packages/pandas/core/generic.py:550\u001b[0m, in \u001b[0;36mNDFrame._get_axis_number\u001b[0;34m(cls, axis)\u001b[0m\n\u001b[1;32m    549\u001b[0m \u001b[39mtry\u001b[39;00m:\n\u001b[0;32m--> 550\u001b[0m     \u001b[39mreturn\u001b[39;00m \u001b[39mcls\u001b[39;49m\u001b[39m.\u001b[39;49m_AXIS_TO_AXIS_NUMBER[axis]\n\u001b[1;32m    551\u001b[0m \u001b[39mexcept\u001b[39;00m \u001b[39mKeyError\u001b[39;00m:\n",
      "\u001b[0;31mKeyError\u001b[0m: 1",
      "\nDuring handling of the above exception, another exception occurred:\n",
      "\u001b[0;31mValueError\u001b[0m                                Traceback (most recent call last)",
      "\u001b[1;32m/gcsmount-notebook/navish/hexagonal_level_regression.ipynb Cell 32\u001b[0m in \u001b[0;36m<cell line: 4>\u001b[0;34m()\u001b[0m\n\u001b[1;32m      <a href='vscode-notebook-cell://ssh-remote%2Bdataproc-remote/gcsmount-notebook/navish/hexagonal_level_regression.ipynb#X40sdnNjb2RlLXJlbW90ZQ%3D%3D?line=0'>1</a>\u001b[0m np\u001b[39m.\u001b[39mrandom\u001b[39m.\u001b[39mseed(\u001b[39m0\u001b[39m)\n\u001b[1;32m      <a href='vscode-notebook-cell://ssh-remote%2Bdataproc-remote/gcsmount-notebook/navish/hexagonal_level_regression.ipynb#X40sdnNjb2RlLXJlbW90ZQ%3D%3D?line=2'>3</a>\u001b[0m \u001b[39m# getting rid of all the non-numeral data\u001b[39;00m\n\u001b[0;32m----> <a href='vscode-notebook-cell://ssh-remote%2Bdataproc-remote/gcsmount-notebook/navish/hexagonal_level_regression.ipynb#X40sdnNjb2RlLXJlbW90ZQ%3D%3D?line=3'>4</a>\u001b[0m tagged_df_test \u001b[39m=\u001b[39m tagged_df\u001b[39m.\u001b[39;49mdrop([\u001b[39m'\u001b[39;49m\u001b[39mlat\u001b[39;49m\u001b[39m'\u001b[39;49m, \u001b[39m'\u001b[39;49m\u001b[39mlng\u001b[39;49m\u001b[39m'\u001b[39;49m, \u001b[39m'\u001b[39;49m\u001b[39mroute_id\u001b[39;49m\u001b[39m'\u001b[39;49m,\u001b[39m'\u001b[39;49m\u001b[39mhas_window_max\u001b[39;49m\u001b[39m'\u001b[39;49m, \u001b[39m'\u001b[39;49m\u001b[39mcity\u001b[39;49m\u001b[39m'\u001b[39;49m,\u001b[39m'\u001b[39;49m\u001b[39mcity_zone\u001b[39;49m\u001b[39m'\u001b[39;49m, \u001b[39m'\u001b[39;49m\u001b[39mzone_id\u001b[39;49m\u001b[39m'\u001b[39;49m, \u001b[39m'\u001b[39;49m\u001b[39mstatus\u001b[39;49m\u001b[39m'\u001b[39;49m, \u001b[39m'\u001b[39;49m\u001b[39mdeparture_datetime_mean\u001b[39;49m\u001b[39m'\u001b[39;49m,\n\u001b[1;32m      <a href='vscode-notebook-cell://ssh-remote%2Bdataproc-remote/gcsmount-notebook/navish/hexagonal_level_regression.ipynb#X40sdnNjb2RlLXJlbW90ZQ%3D%3D?line=4'>5</a>\u001b[0m                                 \u001b[39m'\u001b[39;49m\u001b[39mh3\u001b[39;49m\u001b[39m'\u001b[39;49m, \u001b[39m'\u001b[39;49m\u001b[39mplanned_service_time_min\u001b[39;49m\u001b[39m'\u001b[39;49m, \u001b[39m'\u001b[39;49m\u001b[39mplanned_service_time_max\u001b[39;49m\u001b[39m'\u001b[39;49m, \u001b[39m'\u001b[39;49m\u001b[39mplanned_service_time_mean\u001b[39;49m\u001b[39m'\u001b[39;49m,\u001b[39m'\u001b[39;49m\u001b[39mplanned_service_time_sum\u001b[39;49m\u001b[39m'\u001b[39;49m,\n\u001b[1;32m      <a href='vscode-notebook-cell://ssh-remote%2Bdataproc-remote/gcsmount-notebook/navish/hexagonal_level_regression.ipynb#X40sdnNjb2RlLXJlbW90ZQ%3D%3D?line=5'>6</a>\u001b[0m                                 \u001b[39m'\u001b[39;49m\u001b[39mplanned_service_time_sum_grp_avg\u001b[39;49m\u001b[39m'\u001b[39;49m, \u001b[39m'\u001b[39;49m\u001b[39mplanned_service_time_sum_grp_avg\u001b[39;49m\u001b[39m'\u001b[39;49m, \u001b[39m'\u001b[39;49m\u001b[39mplanned_service_time_sum_grp_sum\u001b[39;49m\u001b[39m'\u001b[39;49m,\n\u001b[1;32m      <a href='vscode-notebook-cell://ssh-remote%2Bdataproc-remote/gcsmount-notebook/navish/hexagonal_level_regression.ipynb#X40sdnNjb2RlLXJlbW90ZQ%3D%3D?line=6'>7</a>\u001b[0m                                     \u001b[39m'\u001b[39;49m\u001b[39mhex_predicted_service_time_sum\u001b[39;49m\u001b[39m'\u001b[39;49m, \u001b[39m'\u001b[39;49m\u001b[39mhex_predicted_service_time_avg\u001b[39;49m\u001b[39m'\u001b[39;49m,\n\u001b[1;32m      <a href='vscode-notebook-cell://ssh-remote%2Bdataproc-remote/gcsmount-notebook/navish/hexagonal_level_regression.ipynb#X40sdnNjb2RlLXJlbW90ZQ%3D%3D?line=7'>8</a>\u001b[0m                                     \u001b[39m'\u001b[39;49m\u001b[39mh3_predicted_service_time_sum\u001b[39;49m\u001b[39m'\u001b[39;49m, \u001b[39m'\u001b[39;49m\u001b[39mh3_predicted_service_time_avg\u001b[39;49m\u001b[39m'\u001b[39;49m,\n\u001b[1;32m      <a href='vscode-notebook-cell://ssh-remote%2Bdataproc-remote/gcsmount-notebook/navish/hexagonal_level_regression.ipynb#X40sdnNjb2RlLXJlbW90ZQ%3D%3D?line=8'>9</a>\u001b[0m                                     \u001b[39m'\u001b[39;49m\u001b[39mpca-one\u001b[39;49m\u001b[39m'\u001b[39;49m, \u001b[39m'\u001b[39;49m\u001b[39mpca-two\u001b[39;49m\u001b[39m'\u001b[39;49m, \u001b[39m'\u001b[39;49m\u001b[39mpca-three\u001b[39;49m\u001b[39m'\u001b[39;49m, \u001b[39m'\u001b[39;49m\u001b[39mhex_discrepency_sum\u001b[39;49m\u001b[39m'\u001b[39;49m,\n\u001b[1;32m     <a href='vscode-notebook-cell://ssh-remote%2Bdataproc-remote/gcsmount-notebook/navish/hexagonal_level_regression.ipynb#X40sdnNjb2RlLXJlbW90ZQ%3D%3D?line=9'>10</a>\u001b[0m                                     \u001b[39m'\u001b[39;49m\u001b[39mhex_discrepency_avg\u001b[39;49m\u001b[39m'\u001b[39;49m, \u001b[39m'\u001b[39;49m\u001b[39mh3_discrepency_avg\u001b[39;49m\u001b[39m'\u001b[39;49m], axis\u001b[39m=\u001b[39;49m\u001b[39m1\u001b[39;49m)\n\u001b[1;32m     <a href='vscode-notebook-cell://ssh-remote%2Bdataproc-remote/gcsmount-notebook/navish/hexagonal_level_regression.ipynb#X40sdnNjb2RlLXJlbW90ZQ%3D%3D?line=10'>11</a>\u001b[0m tagged_df_test \u001b[39m=\u001b[39m scaled_df(tagged_df_test)\n\u001b[1;32m     <a href='vscode-notebook-cell://ssh-remote%2Bdataproc-remote/gcsmount-notebook/navish/hexagonal_level_regression.ipynb#X40sdnNjb2RlLXJlbW90ZQ%3D%3D?line=12'>13</a>\u001b[0m \u001b[39m# Adding a constant variable\u001b[39;00m\n",
      "File \u001b[0;32m/opt/conda/miniconda3/lib/python3.8/site-packages/pandas/util/_decorators.py:311\u001b[0m, in \u001b[0;36mdeprecate_nonkeyword_arguments.<locals>.decorate.<locals>.wrapper\u001b[0;34m(*args, **kwargs)\u001b[0m\n\u001b[1;32m    305\u001b[0m \u001b[39mif\u001b[39;00m \u001b[39mlen\u001b[39m(args) \u001b[39m>\u001b[39m num_allow_args:\n\u001b[1;32m    306\u001b[0m     warnings\u001b[39m.\u001b[39mwarn(\n\u001b[1;32m    307\u001b[0m         msg\u001b[39m.\u001b[39mformat(arguments\u001b[39m=\u001b[39marguments),\n\u001b[1;32m    308\u001b[0m         \u001b[39mFutureWarning\u001b[39;00m,\n\u001b[1;32m    309\u001b[0m         stacklevel\u001b[39m=\u001b[39mstacklevel,\n\u001b[1;32m    310\u001b[0m     )\n\u001b[0;32m--> 311\u001b[0m \u001b[39mreturn\u001b[39;00m func(\u001b[39m*\u001b[39;49margs, \u001b[39m*\u001b[39;49m\u001b[39m*\u001b[39;49mkwargs)\n",
      "File \u001b[0;32m/opt/conda/miniconda3/lib/python3.8/site-packages/pandas/core/series.py:4771\u001b[0m, in \u001b[0;36mSeries.drop\u001b[0;34m(self, labels, axis, index, columns, level, inplace, errors)\u001b[0m\n\u001b[1;32m   4674\u001b[0m \u001b[39m@deprecate_nonkeyword_arguments\u001b[39m(version\u001b[39m=\u001b[39m\u001b[39mNone\u001b[39;00m, allowed_args\u001b[39m=\u001b[39m[\u001b[39m\"\u001b[39m\u001b[39mself\u001b[39m\u001b[39m\"\u001b[39m, \u001b[39m\"\u001b[39m\u001b[39mlabels\u001b[39m\u001b[39m\"\u001b[39m])\n\u001b[1;32m   4675\u001b[0m \u001b[39mdef\u001b[39;00m \u001b[39mdrop\u001b[39m(\n\u001b[1;32m   4676\u001b[0m     \u001b[39mself\u001b[39m,\n\u001b[0;32m   (...)\u001b[0m\n\u001b[1;32m   4683\u001b[0m     errors\u001b[39m=\u001b[39m\u001b[39m\"\u001b[39m\u001b[39mraise\u001b[39m\u001b[39m\"\u001b[39m,\n\u001b[1;32m   4684\u001b[0m ) \u001b[39m-\u001b[39m\u001b[39m>\u001b[39m Series:\n\u001b[1;32m   4685\u001b[0m     \u001b[39m\"\"\"\u001b[39;00m\n\u001b[1;32m   4686\u001b[0m \u001b[39m    Return Series with specified index labels removed.\u001b[39;00m\n\u001b[1;32m   4687\u001b[0m \n\u001b[0;32m   (...)\u001b[0m\n\u001b[1;32m   4769\u001b[0m \u001b[39m    dtype: float64\u001b[39;00m\n\u001b[1;32m   4770\u001b[0m \u001b[39m    \"\"\"\u001b[39;00m\n\u001b[0;32m-> 4771\u001b[0m     \u001b[39mreturn\u001b[39;00m \u001b[39msuper\u001b[39;49m()\u001b[39m.\u001b[39;49mdrop(\n\u001b[1;32m   4772\u001b[0m         labels\u001b[39m=\u001b[39;49mlabels,\n\u001b[1;32m   4773\u001b[0m         axis\u001b[39m=\u001b[39;49maxis,\n\u001b[1;32m   4774\u001b[0m         index\u001b[39m=\u001b[39;49mindex,\n\u001b[1;32m   4775\u001b[0m         columns\u001b[39m=\u001b[39;49mcolumns,\n\u001b[1;32m   4776\u001b[0m         level\u001b[39m=\u001b[39;49mlevel,\n\u001b[1;32m   4777\u001b[0m         inplace\u001b[39m=\u001b[39;49minplace,\n\u001b[1;32m   4778\u001b[0m         errors\u001b[39m=\u001b[39;49merrors,\n\u001b[1;32m   4779\u001b[0m     )\n",
      "File \u001b[0;32m/opt/conda/miniconda3/lib/python3.8/site-packages/pandas/core/generic.py:4254\u001b[0m, in \u001b[0;36mNDFrame.drop\u001b[0;34m(self, labels, axis, index, columns, level, inplace, errors)\u001b[0m\n\u001b[1;32m   4252\u001b[0m     \u001b[39mif\u001b[39;00m index \u001b[39mis\u001b[39;00m \u001b[39mnot\u001b[39;00m \u001b[39mNone\u001b[39;00m \u001b[39mor\u001b[39;00m columns \u001b[39mis\u001b[39;00m \u001b[39mnot\u001b[39;00m \u001b[39mNone\u001b[39;00m:\n\u001b[1;32m   4253\u001b[0m         \u001b[39mraise\u001b[39;00m \u001b[39mValueError\u001b[39;00m(\u001b[39m\"\u001b[39m\u001b[39mCannot specify both \u001b[39m\u001b[39m'\u001b[39m\u001b[39mlabels\u001b[39m\u001b[39m'\u001b[39m\u001b[39m and \u001b[39m\u001b[39m'\u001b[39m\u001b[39mindex\u001b[39m\u001b[39m'\u001b[39m\u001b[39m/\u001b[39m\u001b[39m'\u001b[39m\u001b[39mcolumns\u001b[39m\u001b[39m'\u001b[39m\u001b[39m\"\u001b[39m)\n\u001b[0;32m-> 4254\u001b[0m     axis_name \u001b[39m=\u001b[39m \u001b[39mself\u001b[39;49m\u001b[39m.\u001b[39;49m_get_axis_name(axis)\n\u001b[1;32m   4255\u001b[0m     axes \u001b[39m=\u001b[39m {axis_name: labels}\n\u001b[1;32m   4256\u001b[0m \u001b[39melif\u001b[39;00m index \u001b[39mis\u001b[39;00m \u001b[39mnot\u001b[39;00m \u001b[39mNone\u001b[39;00m \u001b[39mor\u001b[39;00m columns \u001b[39mis\u001b[39;00m \u001b[39mnot\u001b[39;00m \u001b[39mNone\u001b[39;00m:\n",
      "File \u001b[0;32m/opt/conda/miniconda3/lib/python3.8/site-packages/pandas/core/generic.py:557\u001b[0m, in \u001b[0;36mNDFrame._get_axis_name\u001b[0;34m(cls, axis)\u001b[0m\n\u001b[1;32m    554\u001b[0m \u001b[39m@final\u001b[39m\n\u001b[1;32m    555\u001b[0m \u001b[39m@classmethod\u001b[39m\n\u001b[1;32m    556\u001b[0m \u001b[39mdef\u001b[39;00m \u001b[39m_get_axis_name\u001b[39m(\u001b[39mcls\u001b[39m, axis: Axis) \u001b[39m-\u001b[39m\u001b[39m>\u001b[39m \u001b[39mstr\u001b[39m:\n\u001b[0;32m--> 557\u001b[0m     axis_number \u001b[39m=\u001b[39m \u001b[39mcls\u001b[39;49m\u001b[39m.\u001b[39;49m_get_axis_number(axis)\n\u001b[1;32m    558\u001b[0m     \u001b[39mreturn\u001b[39;00m \u001b[39mcls\u001b[39m\u001b[39m.\u001b[39m_AXIS_ORDERS[axis_number]\n",
      "File \u001b[0;32m/opt/conda/miniconda3/lib/python3.8/site-packages/pandas/core/generic.py:552\u001b[0m, in \u001b[0;36mNDFrame._get_axis_number\u001b[0;34m(cls, axis)\u001b[0m\n\u001b[1;32m    550\u001b[0m     \u001b[39mreturn\u001b[39;00m \u001b[39mcls\u001b[39m\u001b[39m.\u001b[39m_AXIS_TO_AXIS_NUMBER[axis]\n\u001b[1;32m    551\u001b[0m \u001b[39mexcept\u001b[39;00m \u001b[39mKeyError\u001b[39;00m:\n\u001b[0;32m--> 552\u001b[0m     \u001b[39mraise\u001b[39;00m \u001b[39mValueError\u001b[39;00m(\u001b[39mf\u001b[39m\u001b[39m\"\u001b[39m\u001b[39mNo axis named \u001b[39m\u001b[39m{\u001b[39;00maxis\u001b[39m}\u001b[39;00m\u001b[39m for object type \u001b[39m\u001b[39m{\u001b[39;00m\u001b[39mcls\u001b[39m\u001b[39m.\u001b[39m\u001b[39m__name__\u001b[39m\u001b[39m}\u001b[39;00m\u001b[39m\"\u001b[39m)\n",
      "\u001b[0;31mValueError\u001b[0m: No axis named 1 for object type Series"
     ]
    }
   ],
   "source": [
    "np.random.seed(0)\n",
    "\n",
    "# getting rid of all the non-numeral data\n",
    "tagged_df_test = tagged_df.drop(['lat', 'lng', 'route_id','has_window_max', 'city','city_zone', 'zone_id', 'status', 'departure_datetime_mean',\n",
    "                                'h3', 'planned_service_time_min', 'planned_service_time_max', 'planned_service_time_mean','planned_service_time_sum',\n",
    "                                'planned_service_time_sum_grp_avg', 'planned_service_time_sum_grp_avg', 'planned_service_time_sum_grp_sum',\n",
    "                                    'hex_predicted_service_time_sum', 'hex_predicted_service_time_avg',\n",
    "                                    'h3_predicted_service_time_sum', 'h3_predicted_service_time_avg',\n",
    "                                    'pca-one', 'pca-two', 'pca-three', 'hex_discrepency_sum',\n",
    "                                    'hex_discrepency_avg', 'h3_discrepency_avg'], axis=1)\n",
    "tagged_df_test = scaled_df(tagged_df_test)\n",
    "\n",
    "# Adding a constant variable\n",
    "tagged_X_test_new = get_sigf_cols_df(tagged_df_test)\n",
    "\n",
    "\n",
    "# Making predictions\n",
    "tagged_df_hex_sum['h3_predicted_service_time_' + f'{type}'] = lm.predict(Full_data_h3)\n",
    "tagged_df['hex_predicted_service_time_'+ f'{type}'] = lm.predict(tagged_X_test_new)\n",
    "\n",
    "# For hexagonal level prediction by just using hexagonal fetaures which are summed and averaged\n",
    "tagged_df['h3_predicted_service_time_' + f'{type}'] = tagged_df['h3'].map(tagged_df_hex_sum.set_index('h3')['h3_predicted_service_time_' + f'{type}'])\n",
    "\n",
    "# save this dataframe\n",
    "pd.to_pickle(tagged_df, '/gcsmount-notebook/navish/dataframes/hexagonal_regression_pred_df.pkl')"
   ]
  },
  {
   "cell_type": "code",
   "execution_count": null,
   "metadata": {},
   "outputs": [
    {
     "data": {
      "image/png": "[encoded data removed]",
      "text/plain": [
       "<Figure size 720x1440 with 4 Axes>"
      ]
     },
     "metadata": {
      "needs_background": "light"
     },
     "output_type": "display_data"
    }
   ],
   "source": [
    "def scatter(x,y, fig):\n",
    "    plt.subplot(5,2,fig)\n",
    "    plt.scatter(tagged_df[x], tagged_df[y])\n",
    "    # plt.suptitle('OLS')              \n",
    "    plt.xlabel(x)                         \n",
    "    plt.ylabel(y)\n",
    "\n",
    "plt.figure(figsize=(10,20))\n",
    "\n",
    "scatter('h3_predicted_service_time_'+ f'{type}', 'planned_service_time_sum', 1)\n",
    "scatter('h3_predicted_service_time_'+ f'{type}', 'planned_service_time_sum_grp_'+ f'{type}', 2)\n",
    "scatter('hex_predicted_service_time_'+ f'{type}', 'planned_service_time_sum', 3)\n",
    "scatter('hex_predicted_service_time_'+ f'{type}', 'planned_service_time_sum_grp_'+ f'{type}', 4)\n",
    "\n",
    "\n",
    "plt.tight_layout()"
   ]
  },
  {
   "cell_type": "code",
   "execution_count": 154,
   "metadata": {},
   "outputs": [
    {
     "name": "stdout",
     "output_type": "stream",
     "text": [
      "                                   OLS Regression Results                                   \n",
      "============================================================================================\n",
      "Dep. Variable:     planned_service_time_sum_grp_avg   R-squared:                       0.453\n",
      "Model:                                          OLS   Adj. R-squared:                  0.450\n",
      "Method:                               Least Squares   F-statistic:                     137.9\n",
      "Date:                              Mon, 05 Sep 2022   Prob (F-statistic):               0.00\n",
      "Time:                                      13:47:28   Log-Likelihood:                -19082.\n",
      "No. Observations:                             17080   AIC:                         3.837e+04\n",
      "Df Residuals:                                 16977   BIC:                         3.917e+04\n",
      "Df Model:                                       102                                         \n",
      "Covariance Type:                          nonrobust                                         \n",
      "=====================================================================================================\n",
      "                                        coef    std err          t      P>|t|      [0.025      0.975]\n",
      "-----------------------------------------------------------------------------------------------------\n",
      "const                             -4.209e-16      0.006  -7.42e-14      1.000      -0.011       0.011\n",
      "package_id_nunique                    0.4539      0.008     54.775      0.000       0.438       0.470\n",
      "volume_sum                            0.0678      0.009      7.178      0.000       0.049       0.086\n",
      "height_mean                           0.0403      0.008      5.299      0.000       0.025       0.055\n",
      "executor_capacity_cm3                -0.0210      0.006     -3.598      0.000      -0.033      -0.010\n",
      "aeroway_hangar                        0.0234      0.006      4.116      0.000       0.012       0.035\n",
      "amenity_driving_school                0.0262      0.006      4.181      0.000       0.014       0.039\n",
      "amenity_fire_station                  0.0146      0.006      2.451      0.014       0.003       0.026\n",
      "amenity_hospital                      0.0188      0.006      2.948      0.003       0.006       0.031\n",
      "amenity_post_box                     -0.0236      0.007     -3.306      0.001      -0.038      -0.010\n",
      "amenity_vending_machine              -0.0559      0.016     -3.563      0.000      -0.087      -0.025\n",
      "amenity_waste_basket                  0.0286      0.007      3.876      0.000       0.014       0.043\n",
      "amenity_bureau_de_change              0.0600      0.012      4.856      0.000       0.036       0.084\n",
      "amenity_stripclub                    -0.0218      0.007     -3.318      0.001      -0.035      -0.009\n",
      "barrier_fence                        -0.0220      0.007     -3.131      0.002      -0.036      -0.008\n",
      "barrier_lift_gate                     0.0328      0.007      5.022      0.000       0.020       0.046\n",
      "barrier_city_wall                 -1.018e-15   1.74e-16     -5.847      0.000   -1.36e-15   -6.77e-16\n",
      "barrier_handrail                  -7.958e-16   1.08e-16     -7.373      0.000   -1.01e-15   -5.84e-16\n",
      "boundary_administrative               0.0136      0.006      2.312      0.021       0.002       0.025\n",
      "building_commercial                   0.0225      0.006      3.519      0.000       0.010       0.035\n",
      "building_garages                     -0.0155      0.006     -2.527      0.012      -0.028      -0.003\n",
      "building_house                       -0.0236      0.006     -3.973      0.000      -0.035      -0.012\n",
      "building_office                       0.0337      0.007      5.044      0.000       0.021       0.047\n",
      "building_parking                     -0.0202      0.007     -2.812      0.005      -0.034      -0.006\n",
      "building_university                  -0.0223      0.006     -3.558      0.000      -0.035      -0.010\n",
      "building_warehouse                   -0.0129      0.006     -2.183      0.029      -0.024      -0.001\n",
      "building_yes                         -0.0361      0.006     -5.603      0.000      -0.049      -0.023\n",
      "building_cathedral                    0.5303      0.084      6.300      0.000       0.365       0.695\n",
      "building_grandstand                   0.0300      0.006      4.775      0.000       0.018       0.042\n",
      "building_stadium                      0.0273      0.006      4.573      0.000       0.016       0.039\n",
      "building_bridge                      -0.0162      0.006     -2.828      0.005      -0.027      -0.005\n",
      "craft_caterer                        -0.1151      0.026     -4.430      0.000      -0.166      -0.064\n",
      "craft_upholsterer                    -0.0467      0.005    -10.018      0.000      -0.056      -0.038\n",
      "craft_carpenter                   -1.383e-16   9.46e-18    -14.623      0.000   -1.57e-16    -1.2e-16\n",
      "emergency_ambulance_station          -0.0147      0.006     -2.553      0.011      -0.026      -0.003\n",
      "healthcare_occupational_therapist -1.167e-16   8.86e-18    -13.182      0.000   -1.34e-16   -9.94e-17\n",
      "highway_corridor                     -0.0914      0.018     -5.073      0.000      -0.127      -0.056\n",
      "highway_elevator                     -0.1041      0.021     -4.945      0.000      -0.145      -0.063\n",
      "highway_footway                       0.0428      0.008      5.039      0.000       0.026       0.059\n",
      "highway_pedestrian                    0.0246      0.009      2.664      0.008       0.007       0.043\n",
      "highway_service                       0.0960      0.007     14.720      0.000       0.083       0.109\n",
      "highway_steps                        -0.0193      0.008     -2.428      0.015      -0.035      -0.004\n",
      "highway_traffic_signals               0.0529      0.008      7.044      0.000       0.038       0.068\n",
      "highway_turning_circle               -0.0289      0.006     -5.042      0.000      -0.040      -0.018\n",
      "highway_traffic_mirror                0.0715      0.009      7.748      0.000       0.053       0.090\n",
      "historic_milestone                    0.0237      0.006      3.849      0.000       0.012       0.036\n",
      "historic_railway_car                  0.0242      0.006      3.905      0.000       0.012       0.036\n",
      "landuse_brownfield                    0.0147      0.006      2.574      0.010       0.003       0.026\n",
      "landuse_commercial                    0.0269      0.006      4.408      0.000       0.015       0.039\n",
      "landuse_conservation                 -0.0172      0.006     -2.984      0.003      -0.029      -0.006\n",
      "leisure_park                          0.0274      0.006      4.243      0.000       0.015       0.040\n",
      "leisure_pitch                        -0.0333      0.016     -2.092      0.036      -0.064      -0.002\n",
      "man_made_flagpole                     0.0279      0.006      4.457      0.000       0.016       0.040\n",
      "man_made_crane                        0.0491      0.004     12.789      0.000       0.042       0.057\n",
      "man_made_water_tap                    0.0896      0.023      3.836      0.000       0.044       0.135\n",
      "military_checkpoint                  -0.0962      0.025     -3.815      0.000      -0.146      -0.047\n",
      "natural_bay                           0.0133      0.006      2.316      0.021       0.002       0.025\n",
      "natural_tree                         -0.0559      0.009     -6.496      0.000      -0.073      -0.039\n",
      "natural_wetland                      -0.0217      0.006     -3.712      0.000      -0.033      -0.010\n",
      "office_research                      -0.0299      0.007     -4.515      0.000      -0.043      -0.017\n",
      "office_financial                      0.0195      0.006      3.321      0.001       0.008       0.031\n",
      "office_foundation                     0.0312      0.009      3.537      0.000       0.014       0.048\n",
      "office_moving_company                -0.0467      0.005    -10.018      0.000      -0.056      -0.038\n",
      "place_neighbourhood                   0.0367      0.006      6.069      0.000       0.025       0.049\n",
      "place_town                           -0.0429      0.006     -7.212      0.000      -0.055      -0.031\n",
      "place_suburb                          0.0747      0.007     10.653      0.000       0.061       0.088\n",
      "place_city_block                      0.0491      0.004     12.789      0.000       0.042       0.057\n",
      "place_plot                            0.1710      0.034      5.046      0.000       0.105       0.237\n",
      "place_square                          0.0267      0.008      3.350      0.001       0.011       0.042\n",
      "power_cable                           0.0123      0.006      2.010      0.044       0.000       0.024\n",
      "power_switch                          0.0953      0.019      4.919      0.000       0.057       0.133\n",
      "railway_abandoned                    -0.0116      0.006     -1.943      0.052      -0.023       0.000\n",
      "railway_light_rail                   -0.0133      0.006     -2.234      0.026      -0.025      -0.002\n",
      "railway_tram_stop                    -0.0156      0.008     -1.953      0.051      -0.031    5.27e-05\n",
      "shop_bakery                           0.0234      0.007      3.476      0.001       0.010       0.037\n",
      "shop_beauty                          -0.0270      0.008     -3.568      0.000      -0.042      -0.012\n",
      "shop_candles                         -0.0434      0.009     -4.670      0.000      -0.062      -0.025\n",
      "shop_car                              0.0158      0.006      2.650      0.008       0.004       0.028\n",
      "shop_clothes                         -0.0467      0.011     -4.325      0.000      -0.068      -0.026\n",
      "shop_confectionery                    0.0203      0.007      3.015      0.003       0.007       0.034\n",
      "shop_cosmetics                        0.2005      0.017     11.597      0.000       0.167       0.234\n",
      "shop_mobile_phone                    -0.0226      0.007     -3.451      0.001      -0.035      -0.010\n",
      "shop_storage_rental                  -0.0168      0.006     -2.881      0.004      -0.028      -0.005\n",
      "shop_wholesale                       -0.0147      0.006     -2.477      0.013      -0.026      -0.003\n",
      "shop_chocolate                       -0.0153      0.006     -2.444      0.015      -0.028      -0.003\n",
      "shop_baby_goods                      -0.0280      0.006     -4.400      0.000      -0.040      -0.016\n",
      "shop_bag                              0.0732      0.009      8.129      0.000       0.056       0.091\n",
      "shop_leather                          0.0299      0.007      4.094      0.000       0.016       0.044\n",
      "shop_watches                        3.16e-17   3.58e-18      8.826      0.000    2.46e-17    3.86e-17\n",
      "shop_fireplace                    -3.756e-18   1.92e-18     -1.956      0.050   -7.52e-18     7.4e-21\n",
      "shop_gas                              0.0481      0.006      8.453      0.000       0.037       0.059\n",
      "shop_houseware                        0.0251      0.007      3.820      0.000       0.012       0.038\n",
      "shop_lamps                           -0.3741      0.060     -6.255      0.000      -0.491      -0.257\n",
      "shop_electronics                      0.0482      0.006      7.836      0.000       0.036       0.060\n",
      "shop_military_surplus                -0.0467      0.005    -10.018      0.000      -0.056      -0.038\n",
      "shop_outdoor                          0.0112      0.006      1.930      0.054      -0.000       0.023\n",
      "shop_ticket                           0.1965      0.020     10.020      0.000       0.158       0.235\n",
      "shop_cannabis                         0.0119      0.006      2.020      0.043       0.000       0.024\n",
      "shop_pet_grooming                    -0.0244      0.007     -3.610      0.000      -0.038      -0.011\n",
      "shop_religion                        -0.0304      0.007     -4.128      0.000      -0.045      -0.016\n",
      "sport_baseball                        0.0321      0.010      3.236      0.001       0.013       0.052\n",
      "sport_racquet                        -0.4077      0.066     -6.157      0.000      -0.537      -0.278\n",
      "sport_soccer                          0.0141      0.008      1.847      0.065      -0.001       0.029\n",
      "sport_tennis                          0.0166      0.010      1.666      0.096      -0.003       0.036\n",
      "sport_beachvolleyball                 0.0151      0.006      2.595      0.009       0.004       0.026\n",
      "sport_crossfit                     1.056e-45    2.9e-45      0.364      0.716   -4.64e-45    6.75e-45\n",
      "sport_golf                            0.0371      0.006      6.117      0.000       0.025       0.049\n",
      "tourism_hotel                         0.0212      0.008      2.687      0.007       0.006       0.037\n",
      "tourism_apartment                     0.0293      0.006      4.549      0.000       0.017       0.042\n",
      "tourism_motel                         0.0235      0.006      4.000      0.000       0.012       0.035\n",
      "tourism_yes                          -0.0805      0.011     -7.377      0.000      -0.102      -0.059\n",
      "water_ditch                           0.0160      0.006      2.812      0.005       0.005       0.027\n",
      "water_lagoon                          0.0710      0.007      9.749      0.000       0.057       0.085\n",
      "water_stream_pool                          0          0        nan        nan           0           0\n",
      "waterway_fuel                              0          0        nan        nan           0           0\n",
      "==============================================================================\n",
      "Omnibus:                    16114.666   Durbin-Watson:                   1.987\n",
      "Prob(Omnibus):                  0.000   Jarque-Bera (JB):          1702518.014\n",
      "Skew:                           4.246   Prob(JB):                         0.00\n",
      "Kurtosis:                      51.168   Cond. No.                     4.73e+16\n",
      "==============================================================================\n",
      "\n",
      "Notes:\n",
      "[1] Standard Errors assume that the covariance matrix of the errors is correctly specified.\n",
      "[2] The smallest eigenvalue is 5.05e-29. This might indicate that there are\n",
      "strong multicollinearity problems or that the design matrix is singular.\n"
     ]
    }
   ],
   "source": [
    "print(lm.summary())\n"
   ]
  },
  {
   "cell_type": "markdown",
   "metadata": {},
   "source": [
    "## Regression using other algorithms"
   ]
  },
  {
   "cell_type": "code",
   "execution_count": 91,
   "metadata": {},
   "outputs": [],
   "source": [
    "np.random.seed(0)\n",
    "\n",
    "# getting rid of all the non-numeral data\n",
    "df_train, df_test = train_test_split(tagged_df_hex.drop(['lat', 'lng', 'has_window_max',\n",
    "                                     'h3', 'planned_service_time_min', 'planned_service_time_max', 'planned_service_time_mean'], axis=1), train_size=0.8, test_size=0.2, random_state=100)\n",
    "\n",
    "scaler = StandardScaler()\n",
    "scaler.fit(df_train)\n",
    "\n",
    "# num_vars = ['height', 'width', 'volume', 'intraday_sec', 'planned_service_time']\n",
    "# df_train[num_vars] = scaler.fit_transform(df_train[num_vars])\n",
    "\n",
    "df_train = pd.DataFrame(\n",
    "    scaler.fit_transform(df_train), index=df_train.index, columns=df_train.columns)\n",
    "\n",
    "# Dividing data into X and y variables\n",
    "y_train = df_train.pop('planned_service_time_sum')\n",
    "X_train = df_train.reset_index(drop=True)\n"
   ]
  },
  {
   "cell_type": "code",
   "execution_count": 92,
   "metadata": {},
   "outputs": [],
   "source": [
    "# Scaling the test set\n",
    "\n",
    "# If we want to only scale certain features\n",
    "# num_vars = ['height','width', 'city_zone_2_num', 'month']\n",
    "# df_test[num_vars] = scaler.fit_transform(df_test[num_vars])\n",
    "\n",
    "df_test = pd.DataFrame(\n",
    "    scaler.fit_transform(df_test), index=df_test.index, columns=df_test.columns)\n",
    "\n",
    "# Dividing data into X and y variables\n",
    "y_test = df_test.pop('planned_service_time_sum')\n",
    "X_test = df_test.reset_index(drop=True)\n"
   ]
  },
  {
   "cell_type": "markdown",
   "metadata": {},
   "source": [
    "1. AdaBoost"
   ]
  },
  {
   "cell_type": "code",
   "execution_count": 58,
   "metadata": {},
   "outputs": [
    {
     "data": {
      "text/plain": [
       "AdaBoostRegressor(base_estimator=DecisionTreeRegressor(max_depth=3),\n",
       "                  n_estimators=2000, random_state=0)"
      ]
     },
     "execution_count": 58,
     "metadata": {},
     "output_type": "execute_result"
    }
   ],
   "source": [
    "from sklearn.tree import DecisionTreeRegressor\n",
    "from sklearn.ensemble import AdaBoostRegressor\n",
    "AdaBoost = AdaBoostRegressor(random_state=0, base_estimator=DecisionTreeRegressor(\n",
    "    max_depth=3), loss='linear', n_estimators=2000)\n",
    "AdaBoost.fit(X_train, y_train)\n"
   ]
  },
  {
   "cell_type": "code",
   "execution_count": 59,
   "metadata": {},
   "outputs": [
    {
     "data": {
      "text/plain": [
       "0.16921356594267467"
      ]
     },
     "execution_count": 59,
     "metadata": {},
     "output_type": "execute_result"
    }
   ],
   "source": [
    "AdaBoost.score(X_train, y_train)\n"
   ]
  },
  {
   "cell_type": "code",
   "execution_count": 60,
   "metadata": {},
   "outputs": [
    {
     "data": {
      "text/plain": [
       "0.0346116085899677"
      ]
     },
     "execution_count": 60,
     "metadata": {},
     "output_type": "execute_result"
    }
   ],
   "source": [
    "AdaBoost.score(X_test, y_test)\n"
   ]
  },
  {
   "cell_type": "code",
   "execution_count": 61,
   "metadata": {},
   "outputs": [
    {
     "data": {
      "text/plain": [
       "Text(0, 0.5, 'y_pred')"
      ]
     },
     "execution_count": 61,
     "metadata": {},
     "output_type": "execute_result"
    },
    {
     "data": {
      "image/png": "[encoded data removed]",
      "text/plain": [
       "<Figure size 432x288 with 1 Axes>"
      ]
     },
     "metadata": {
      "needs_background": "light"
     },
     "output_type": "display_data"
    }
   ],
   "source": [
    "# EVALUATION OF THE MODEL\n",
    "# Plotting y_test and y_pred to understand the spread.\n",
    "fig = plt.figure()\n",
    "plt.scatter(y_test, AdaBoost.predict(X_test))\n",
    "fig.suptitle('AdaBoost', fontsize=18)              # Plot heading\n",
    "plt.xlabel('y_test', fontsize=16)                          # X-label\n",
    "plt.ylabel('y_pred', fontsize=16)\n"
   ]
  },
  {
   "cell_type": "markdown",
   "metadata": {},
   "source": [
    "3. ExtraTrees"
   ]
  },
  {
   "cell_type": "code",
   "execution_count": 37,
   "metadata": {},
   "outputs": [
    {
     "ename": "",
     "evalue": "",
     "output_type": "error",
     "traceback": [
      "\u001b[1;31mCanceled future for execute_request message before replies were done"
     ]
    },
    {
     "ename": "",
     "evalue": "",
     "output_type": "error",
     "traceback": [
      "The Kernel crashed while executing code in the the current cell or a previous cell. Please review the code in the cell(s) to identify a possible cause of the failure. Click <a href='https://aka.ms/vscodeJupyterKernelCrash'>here</a> for more info. View Jupyter <a href='command:jupyter.viewOutput'>log</a> for further details."
     ]
    }
   ],
   "source": [
    "from sklearn.ensemble import ExtraTreesRegressor\n",
    "\n",
    "ET = ExtraTreesRegressor(random_state=0, n_estimators=200)\n",
    "ET.fit(X_train, y_train)\n"
   ]
  },
  {
   "cell_type": "code",
   "execution_count": null,
   "metadata": {},
   "outputs": [
    {
     "data": {
      "text/plain": [
       "0.7676745250783366"
      ]
     },
     "metadata": {},
     "output_type": "display_data"
    }
   ],
   "source": [
    "ET.score(X_train, y_train)\n"
   ]
  },
  {
   "cell_type": "code",
   "execution_count": null,
   "metadata": {},
   "outputs": [
    {
     "data": {
      "text/plain": [
       "-0.02392496209796291"
      ]
     },
     "metadata": {},
     "output_type": "display_data"
    }
   ],
   "source": [
    "ET.score(X_test, y_test)\n"
   ]
  },
  {
   "cell_type": "code",
   "execution_count": null,
   "metadata": {},
   "outputs": [],
   "source": [
    "# EVALUATION OF THE MODEL\n",
    "# Plotting y_test and y_pred to understand the spread.\n",
    "fig = plt.figure()\n",
    "plt.scatter(y_test, ET.predict(X_test))\n",
    "fig.suptitle('ExtraTrees', fontsize=18)              # Plot heading\n",
    "plt.xlabel('y_test', fontsize=16)                          # X-label\n",
    "plt.ylabel('y_pred', fontsize=16)\n"
   ]
  },
  {
   "cell_type": "markdown",
   "metadata": {},
   "source": [
    "4. GradientBoost"
   ]
  },
  {
   "cell_type": "code",
   "execution_count": null,
   "metadata": {},
   "outputs": [
    {
     "data": {
      "text/plain": [
       "GradientBoostingRegressor(loss='huber', n_estimators=20, random_state=0)"
      ]
     },
     "metadata": {},
     "output_type": "display_data"
    }
   ],
   "source": [
    "from sklearn.ensemble import GradientBoostingRegressor\n",
    "\n",
    "GB = GradientBoostingRegressor(\n",
    "    random_state=0, learning_rate=0.1, loss='huber', n_estimators=20)\n",
    "GB.fit(X_train, y_train)\n"
   ]
  },
  {
   "cell_type": "code",
   "execution_count": null,
   "metadata": {},
   "outputs": [
    {
     "data": {
      "text/plain": [
       "0.03117654669903558"
      ]
     },
     "metadata": {},
     "output_type": "display_data"
    }
   ],
   "source": [
    "GB.score(X_train, y_train)\n"
   ]
  },
  {
   "cell_type": "code",
   "execution_count": null,
   "metadata": {},
   "outputs": [
    {
     "data": {
      "text/plain": [
       "0.07078943044100616"
      ]
     },
     "metadata": {},
     "output_type": "display_data"
    }
   ],
   "source": [
    "GB.score(X_test, y_test)\n"
   ]
  },
  {
   "cell_type": "markdown",
   "metadata": {},
   "source": [
    "5. RandomForest"
   ]
  },
  {
   "cell_type": "code",
   "execution_count": null,
   "metadata": {},
   "outputs": [
    {
     "data": {
      "text/plain": [
       "RandomForestRegressor(n_estimators=20, random_state=0)"
      ]
     },
     "metadata": {},
     "output_type": "display_data"
    }
   ],
   "source": [
    "from sklearn.ensemble import RandomForestRegressor\n",
    "RF = RandomForestRegressor(random_state=0, n_estimators=20)\n",
    "RF.fit(X_train, y_train)\n"
   ]
  },
  {
   "cell_type": "code",
   "execution_count": null,
   "metadata": {},
   "outputs": [
    {
     "data": {
      "text/plain": [
       "0.6236968931395168"
      ]
     },
     "metadata": {},
     "output_type": "display_data"
    }
   ],
   "source": [
    "RF.score(X_train, y_train)\n"
   ]
  },
  {
   "cell_type": "code",
   "execution_count": null,
   "metadata": {},
   "outputs": [
    {
     "data": {
      "text/plain": [
       "-0.00940441784824908"
      ]
     },
     "metadata": {},
     "output_type": "display_data"
    }
   ],
   "source": [
    "RF.score(X_test, y_test)\n"
   ]
  },
  {
   "cell_type": "markdown",
   "metadata": {},
   "source": [
    "### Seeing the Feature Importance"
   ]
  },
  {
   "cell_type": "code",
   "execution_count": 63,
   "metadata": {},
   "outputs": [],
   "source": [
    "# !pip install shap"
   ]
  },
  {
   "cell_type": "code",
   "execution_count": 44,
   "metadata": {},
   "outputs": [],
   "source": [
    "import shap"
   ]
  },
  {
   "cell_type": "code",
   "execution_count": 80,
   "metadata": {},
   "outputs": [],
   "source": [
    "def plot_importance(name, regr):\n",
    "    sorted_idx = regr.feature_importances_.argsort()\n",
    "    plt.barh(X_train.columns[sorted_idx[-25:]],\n",
    "             regr.feature_importances_[sorted_idx[-25:]])\n",
    "    plt.xlabel(f\"{name} Feature Importance\")\n"
   ]
  },
  {
   "cell_type": "code",
   "execution_count": 73,
   "metadata": {},
   "outputs": [],
   "source": [
    "from sklearn.inspection import permutation_importance\n",
    "\n",
    "\n",
    "def perm_importance(name, regr):\n",
    "    perm_importance = permutation_importance(regr, X_test, y_test)\n",
    "    sorted_idx = perm_importance.importances_mean.argsort()\n",
    "    plt.barh(X_train.columns[sorted_idx[-20:]],\n",
    "             perm_importance.importances_mean[sorted_idx[-20:]])\n",
    "    plt.xlabel(f\"{name} Permutation Importance\")\n"
   ]
  },
  {
   "cell_type": "markdown",
   "metadata": {},
   "source": [
    "#### Visualisation using SHAP"
   ]
  },
  {
   "cell_type": "code",
   "execution_count": 74,
   "metadata": {},
   "outputs": [],
   "source": [
    "def shap_plots(name, regr, plot):\n",
    "\n",
    "    explainer = shap.TreeExplainer(regr, check_additivity=False)\n",
    "    shap_values = explainer.shap_values(X_test)\n",
    "\n",
    "    # Feature value ('dot') or just feature importance ('bar)\n",
    "    shap.summary_plot(shap_values[:20], X_test, plot_type=plot)\n"
   ]
  },
  {
   "cell_type": "markdown",
   "metadata": {},
   "source": [
    "#### Let's compare now!"
   ]
  },
  {
   "cell_type": "markdown",
   "metadata": {},
   "source": [
    "1. AdaBoost"
   ]
  },
  {
   "cell_type": "code",
   "execution_count": 81,
   "metadata": {},
   "outputs": [
    {
     "data": {
      "image/png": "[encoded data removed]",
      "text/plain": [
       "<Figure size 864x576 with 1 Axes>"
      ]
     },
     "metadata": {
      "needs_background": "light"
     },
     "output_type": "display_data"
    }
   ],
   "source": [
    "plot_importance('AdaBoost', AdaBoost)\n"
   ]
  },
  {
   "cell_type": "code",
   "execution_count": 82,
   "metadata": {},
   "outputs": [],
   "source": [
    "# perm_importance('AdaBoost', AdaBoost)"
   ]
  },
  {
   "cell_type": "code",
   "execution_count": null,
   "metadata": {},
   "outputs": [],
   "source": [
    "# shap_plots('AdaBoost', AdaBoost, 'dot')\n"
   ]
  },
  {
   "cell_type": "markdown",
   "metadata": {},
   "source": [
    "2. ExtraTrees"
   ]
  },
  {
   "cell_type": "code",
   "execution_count": null,
   "metadata": {},
   "outputs": [
    {
     "data": {
      "image/png": "[encoded data removed]",
      "text/plain": [
       "<Figure size 864x576 with 1 Axes>"
      ]
     },
     "metadata": {},
     "output_type": "display_data"
    }
   ],
   "source": [
    "plot_importance('ET', ET)\n"
   ]
  },
  {
   "cell_type": "code",
   "execution_count": null,
   "metadata": {},
   "outputs": [],
   "source": [
    "shap_plots('ET', ET, 'dot')\n"
   ]
  },
  {
   "cell_type": "markdown",
   "metadata": {},
   "source": [
    "3. GradientBoost"
   ]
  },
  {
   "cell_type": "code",
   "execution_count": null,
   "metadata": {},
   "outputs": [
    {
     "data": {
      "image/png": "[encoded data removed]",
      "text/plain": [
       "<Figure size 864x576 with 1 Axes>"
      ]
     },
     "metadata": {},
     "output_type": "display_data"
    }
   ],
   "source": [
    "plot_importance('GB', GB)\n"
   ]
  },
  {
   "cell_type": "code",
   "execution_count": null,
   "metadata": {},
   "outputs": [],
   "source": [
    "shap_plots('GB', GB, 'dot')\n"
   ]
  },
  {
   "cell_type": "markdown",
   "metadata": {},
   "source": [
    "4. RandomForest"
   ]
  },
  {
   "cell_type": "code",
   "execution_count": null,
   "metadata": {},
   "outputs": [
    {
     "data": {
      "image/png": "[encoded data removed]",
      "text/plain": [
       "<Figure size 864x576 with 1 Axes>"
      ]
     },
     "metadata": {},
     "output_type": "display_data"
    }
   ],
   "source": [
    "plot_importance('RF', RF)\n"
   ]
  },
  {
   "cell_type": "code",
   "execution_count": null,
   "metadata": {},
   "outputs": [],
   "source": [
    "# shap_plots('RF', RF, 'dot')"
   ]
  },
  {
   "cell_type": "markdown",
   "metadata": {},
   "source": [
    "##### Plotting the within zone discrepencies on Test Data"
   ]
  },
  {
   "cell_type": "code",
   "execution_count": 29,
   "metadata": {},
   "outputs": [
    {
     "data": {
      "text/html": [
       "<div>\n",
       "<style scoped>\n",
       "    .dataframe tbody tr th:only-of-type {\n",
       "        vertical-align: middle;\n",
       "    }\n",
       "\n",
       "    .dataframe tbody tr th {\n",
       "        vertical-align: top;\n",
       "    }\n",
       "\n",
       "    .dataframe thead th {\n",
       "        text-align: right;\n",
       "    }\n",
       "</style>\n",
       "<table border=\"1\" class=\"dataframe\">\n",
       "  <thead>\n",
       "    <tr style=\"text-align: right;\">\n",
       "      <th></th>\n",
       "      <th>package_id_nunique</th>\n",
       "      <th>volume_mean</th>\n",
       "      <th>volume_sum</th>\n",
       "      <th>width_mean</th>\n",
       "      <th>height_mean</th>\n",
       "      <th>executor_capacity_cm3</th>\n",
       "      <th>aeroway_aerodrome</th>\n",
       "      <th>aeroway_apron</th>\n",
       "      <th>aeroway_helipad</th>\n",
       "      <th>aeroway_runway</th>\n",
       "      <th>...</th>\n",
       "      <th>waterway_dam</th>\n",
       "      <th>waterway_dock</th>\n",
       "      <th>waterway_drain</th>\n",
       "      <th>waterway_river</th>\n",
       "      <th>waterway_stream</th>\n",
       "      <th>waterway_waterfall</th>\n",
       "      <th>waterway_weir</th>\n",
       "      <th>waterway_ditch</th>\n",
       "      <th>waterway_boatyard</th>\n",
       "      <th>waterway_fuel</th>\n",
       "    </tr>\n",
       "  </thead>\n",
       "  <tbody>\n",
       "    <tr>\n",
       "      <th>3812</th>\n",
       "      <td>-0.413960</td>\n",
       "      <td>0.112985</td>\n",
       "      <td>-0.189284</td>\n",
       "      <td>1.543347</td>\n",
       "      <td>-0.431557</td>\n",
       "      <td>0.691175</td>\n",
       "      <td>-0.029363</td>\n",
       "      <td>-0.005991</td>\n",
       "      <td>-0.030563</td>\n",
       "      <td>-0.010377</td>\n",
       "      <td>...</td>\n",
       "      <td>-0.082968</td>\n",
       "      <td>-0.019067</td>\n",
       "      <td>-0.023209</td>\n",
       "      <td>-0.179107</td>\n",
       "      <td>-0.356835</td>\n",
       "      <td>-0.008473</td>\n",
       "      <td>-0.049408</td>\n",
       "      <td>-0.033104</td>\n",
       "      <td>-0.008473</td>\n",
       "      <td>-0.010377</td>\n",
       "    </tr>\n",
       "    <tr>\n",
       "      <th>136240</th>\n",
       "      <td>0.363481</td>\n",
       "      <td>0.166806</td>\n",
       "      <td>0.314828</td>\n",
       "      <td>-0.743568</td>\n",
       "      <td>0.974231</td>\n",
       "      <td>0.691175</td>\n",
       "      <td>-0.029363</td>\n",
       "      <td>-0.005991</td>\n",
       "      <td>-0.030563</td>\n",
       "      <td>-0.010377</td>\n",
       "      <td>...</td>\n",
       "      <td>-0.082968</td>\n",
       "      <td>-0.019067</td>\n",
       "      <td>-0.023209</td>\n",
       "      <td>-0.179107</td>\n",
       "      <td>7.589520</td>\n",
       "      <td>-0.008473</td>\n",
       "      <td>-0.049408</td>\n",
       "      <td>-0.033104</td>\n",
       "      <td>-0.008473</td>\n",
       "      <td>-0.010377</td>\n",
       "    </tr>\n",
       "    <tr>\n",
       "      <th>93107</th>\n",
       "      <td>2.695803</td>\n",
       "      <td>-0.308315</td>\n",
       "      <td>0.586462</td>\n",
       "      <td>-0.496132</td>\n",
       "      <td>-0.078270</td>\n",
       "      <td>0.691175</td>\n",
       "      <td>-0.029363</td>\n",
       "      <td>-0.005991</td>\n",
       "      <td>-0.030563</td>\n",
       "      <td>-0.010377</td>\n",
       "      <td>...</td>\n",
       "      <td>-0.082968</td>\n",
       "      <td>-0.019067</td>\n",
       "      <td>-0.023209</td>\n",
       "      <td>-0.179107</td>\n",
       "      <td>2.291950</td>\n",
       "      <td>-0.008473</td>\n",
       "      <td>-0.049408</td>\n",
       "      <td>-0.033104</td>\n",
       "      <td>-0.008473</td>\n",
       "      <td>-0.010377</td>\n",
       "    </tr>\n",
       "    <tr>\n",
       "      <th>49299</th>\n",
       "      <td>-0.413960</td>\n",
       "      <td>0.859843</td>\n",
       "      <td>0.175952</td>\n",
       "      <td>1.153447</td>\n",
       "      <td>0.687185</td>\n",
       "      <td>-1.446811</td>\n",
       "      <td>-0.029363</td>\n",
       "      <td>-0.005991</td>\n",
       "      <td>-0.030563</td>\n",
       "      <td>-0.010377</td>\n",
       "      <td>...</td>\n",
       "      <td>-0.082968</td>\n",
       "      <td>-0.019067</td>\n",
       "      <td>-0.023209</td>\n",
       "      <td>-0.179107</td>\n",
       "      <td>-0.356835</td>\n",
       "      <td>-0.008473</td>\n",
       "      <td>-0.049408</td>\n",
       "      <td>-0.033104</td>\n",
       "      <td>-0.008473</td>\n",
       "      <td>-0.010377</td>\n",
       "    </tr>\n",
       "    <tr>\n",
       "      <th>80821</th>\n",
       "      <td>0.363481</td>\n",
       "      <td>1.221269</td>\n",
       "      <td>1.346158</td>\n",
       "      <td>0.598589</td>\n",
       "      <td>0.863828</td>\n",
       "      <td>-1.446811</td>\n",
       "      <td>-0.029363</td>\n",
       "      <td>-0.005991</td>\n",
       "      <td>-0.030563</td>\n",
       "      <td>-0.010377</td>\n",
       "      <td>...</td>\n",
       "      <td>-0.082968</td>\n",
       "      <td>-0.019067</td>\n",
       "      <td>-0.023209</td>\n",
       "      <td>-0.179107</td>\n",
       "      <td>-0.356835</td>\n",
       "      <td>-0.008473</td>\n",
       "      <td>-0.049408</td>\n",
       "      <td>-0.033104</td>\n",
       "      <td>-0.008473</td>\n",
       "      <td>-0.010377</td>\n",
       "    </tr>\n",
       "  </tbody>\n",
       "</table>\n",
       "<p>5 rows × 699 columns</p>\n",
       "</div>"
      ],
      "text/plain": [
       "        package_id_nunique  volume_mean  volume_sum  width_mean  height_mean  \\\n",
       "3812             -0.413960     0.112985   -0.189284    1.543347    -0.431557   \n",
       "136240            0.363481     0.166806    0.314828   -0.743568     0.974231   \n",
       "93107             2.695803    -0.308315    0.586462   -0.496132    -0.078270   \n",
       "49299            -0.413960     0.859843    0.175952    1.153447     0.687185   \n",
       "80821             0.363481     1.221269    1.346158    0.598589     0.863828   \n",
       "\n",
       "        executor_capacity_cm3  aeroway_aerodrome  aeroway_apron  \\\n",
       "3812                 0.691175          -0.029363      -0.005991   \n",
       "136240               0.691175          -0.029363      -0.005991   \n",
       "93107                0.691175          -0.029363      -0.005991   \n",
       "49299               -1.446811          -0.029363      -0.005991   \n",
       "80821               -1.446811          -0.029363      -0.005991   \n",
       "\n",
       "        aeroway_helipad  aeroway_runway  ...  waterway_dam  waterway_dock  \\\n",
       "3812          -0.030563       -0.010377  ...     -0.082968      -0.019067   \n",
       "136240        -0.030563       -0.010377  ...     -0.082968      -0.019067   \n",
       "93107         -0.030563       -0.010377  ...     -0.082968      -0.019067   \n",
       "49299         -0.030563       -0.010377  ...     -0.082968      -0.019067   \n",
       "80821         -0.030563       -0.010377  ...     -0.082968      -0.019067   \n",
       "\n",
       "        waterway_drain  waterway_river  waterway_stream  waterway_waterfall  \\\n",
       "3812         -0.023209       -0.179107        -0.356835           -0.008473   \n",
       "136240       -0.023209       -0.179107         7.589520           -0.008473   \n",
       "93107        -0.023209       -0.179107         2.291950           -0.008473   \n",
       "49299        -0.023209       -0.179107        -0.356835           -0.008473   \n",
       "80821        -0.023209       -0.179107        -0.356835           -0.008473   \n",
       "\n",
       "        waterway_weir  waterway_ditch  waterway_boatyard  waterway_fuel  \n",
       "3812        -0.049408       -0.033104          -0.008473      -0.010377  \n",
       "136240      -0.049408       -0.033104          -0.008473      -0.010377  \n",
       "93107       -0.049408       -0.033104          -0.008473      -0.010377  \n",
       "49299       -0.049408       -0.033104          -0.008473      -0.010377  \n",
       "80821       -0.049408       -0.033104          -0.008473      -0.010377  \n",
       "\n",
       "[5 rows x 699 columns]"
      ]
     },
     "execution_count": 29,
     "metadata": {},
     "output_type": "execute_result"
    }
   ],
   "source": [
    "df_test.head()"
   ]
  },
  {
   "cell_type": "code",
   "execution_count": null,
   "metadata": {},
   "outputs": [],
   "source": []
  }
 ],
 "metadata": {
  "kernelspec": {
   "display_name": "Python 3.9.10 64-bit ('airport-harper-sumo')",
   "language": "python",
   "name": "python3"
  },
  "language_info": {
   "codemirror_mode": {
    "name": "ipython",
    "version": 3
   },
   "file_extension": ".py",
   "mimetype": "text/x-python",
   "name": "python",
   "nbconvert_exporter": "python",
   "pygments_lexer": "ipython3",
   "version": "3.9.10"
  },
  "orig_nbformat": 4,
  "vscode": {
   "interpreter": {
    "hash": "d4e2f986950c568193e98ea937a3c3ca76d11bb59ba8dfd907e0c5dd0c77470f"
   }
  }
 },
 "nbformat": 4,
 "nbformat_minor": 2
}
